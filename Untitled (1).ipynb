{
 "cells": [
  {
   "cell_type": "code",
   "execution_count": 1,
   "id": "8d6a7728-4dbb-47a8-a63a-d6e1fc4d553c",
   "metadata": {
    "tags": []
   },
   "outputs": [],
   "source": [
    "%%capture captured_output\n",
    "!/home/ma-user/anaconda3/bin/conda create -n python-3.9.0 python=3.9.0 -y --override-channels --channel https://mirrors.tuna.tsinghua.edu.cn/anaconda/pkgs/main\n",
    "!/home/ma-user/anaconda3/envs/python-3.9.0/bin/pip install ipykernel"
   ]
  },
  {
   "cell_type": "code",
   "execution_count": 2,
   "id": "16344183-34f7-45fd-8551-2396f6e76900",
   "metadata": {},
   "outputs": [],
   "source": [
    "import json\n",
    "import os\n",
    "\n",
    "data = {\n",
    "   \"display_name\": \"python-3.9.0\",\n",
    "   \"env\": {\n",
    "      \"PATH\": \"/home/ma-user/anaconda3/envs/python-3.9.0/bin:/home/ma-user/anaconda3/envs/python-3.7.10/bin:/modelarts/authoring/notebook-conda/bin:/opt/conda/bin:/usr/local/nvidia/bin:/usr/local/cuda/bin:/usr/local/sbin:/usr/local/bin:/usr/sbin:/usr/bin:/sbin:/bin:/home/ma-user/modelarts/ma-cli/bin:/home/ma-user/modelarts/ma-cli/bin\"\n",
    "   },\n",
    "   \"language\": \"python\",\n",
    "   \"argv\": [\n",
    "      \"/home/ma-user/anaconda3/envs/python-3.9.0/bin/python\",\n",
    "      \"-m\",\n",
    "      \"ipykernel\",\n",
    "      \"-f\",\n",
    "      \"{connection_file}\"\n",
    "   ]\n",
    "}\n",
    "\n",
    "if not os.path.exists(\"/home/ma-user/anaconda3/share/jupyter/kernels/python-3.9.0/\"):\n",
    "    os.mkdir(\"/home/ma-user/anaconda3/share/jupyter/kernels/python-3.9.0/\")\n",
    "\n",
    "with open('/home/ma-user/anaconda3/share/jupyter/kernels/python-3.9.0/kernel.json', 'w') as f:\n",
    "    json.dump(data, f, indent=4)"
   ]
  },
  {
   "cell_type": "code",
   "execution_count": 2,
   "id": "48a512fc-f68f-4909-a1b9-cea13abd8dee",
   "metadata": {},
   "outputs": [
    {
     "name": "stdout",
     "output_type": "stream",
     "text": [
      "Looking in indexes: https://pypi.tuna.tsinghua.edu.cn/simple\n",
      "Collecting mindspore==2.2.13\n",
      "  Using cached https://ms-release.obs.cn-north-4.myhuaweicloud.com/2.2.13/MindSpore/unified/x86_64/mindspore-2.2.13-cp39-cp39-linux_x86_64.whl (756.2 MB)\n",
      "Collecting numpy>=1.17.0 (from mindspore==2.2.13)\n",
      "  Downloading https://pypi.tuna.tsinghua.edu.cn/packages/87/d3/74e627205462a170f39e7d7ddd2b4166a0d8ab163377592c7f4fa935cc8c/numpy-2.0.0-cp39-cp39-manylinux_2_17_x86_64.manylinux2014_x86_64.whl (19.3 MB)\n",
      "\u001b[2K     \u001b[90m━━━━━━━━━━━━━━━━━━━━━━━━━━━━━━━━━━━━━━━━\u001b[0m \u001b[32m19.3/19.3 MB\u001b[0m \u001b[31m10.5 MB/s\u001b[0m eta \u001b[36m0:00:00\u001b[0m00:01\u001b[0m00:01\u001b[0m\n",
      "\u001b[?25hCollecting protobuf>=3.13.0 (from mindspore==2.2.13)\n",
      "  Downloading https://pypi.tuna.tsinghua.edu.cn/packages/27/e4/8dc4546be46873f8950cb44cdfe19b79d66d26e53c4ee5e3440406257fcd/protobuf-5.27.2-cp38-abi3-manylinux2014_x86_64.whl (309 kB)\n",
      "\u001b[2K     \u001b[90m━━━━━━━━━━━━━━━━━━━━━━━━━━━━━━━━━━━━━━━\u001b[0m \u001b[32m309.3/309.3 kB\u001b[0m \u001b[31m6.1 MB/s\u001b[0m eta \u001b[36m0:00:00\u001b[0ma \u001b[36m0:00:01\u001b[0m\n",
      "\u001b[?25hRequirement already satisfied: asttokens>=2.0.4 in /home/ma-user/anaconda3/envs/python-3.9.0/lib/python3.9/site-packages (from mindspore==2.2.13) (2.4.1)\n",
      "Collecting pillow>=6.2.0 (from mindspore==2.2.13)\n",
      "  Downloading https://pypi.tuna.tsinghua.edu.cn/packages/32/3f/c02268d0c6fb6b3958bdda673c17b315c821d97df29ae6969f20fb49388a/pillow-10.4.0-cp39-cp39-manylinux_2_17_x86_64.manylinux2014_x86_64.whl (4.4 MB)\n",
      "\u001b[2K     \u001b[90m━━━━━━━━━━━━━━━━━━━━━━━━━━━━━━━━━━━━━━━━\u001b[0m \u001b[32m4.4/4.4 MB\u001b[0m \u001b[31m8.9 MB/s\u001b[0m eta \u001b[36m0:00:00\u001b[0m00:01\u001b[0m00:01\u001b[0mm\n",
      "\u001b[?25hCollecting scipy>=1.5.4 (from mindspore==2.2.13)\n",
      "  Downloading https://pypi.tuna.tsinghua.edu.cn/packages/35/f5/d0ad1a96f80962ba65e2ce1de6a1e59edecd1f0a7b55990ed208848012e0/scipy-1.13.1-cp39-cp39-manylinux_2_17_x86_64.manylinux2014_x86_64.whl (38.6 MB)\n",
      "\u001b[2K     \u001b[90m━━━━━━━━━━━━━━━━━━━━━━━━━━━━━━━━━━━━━━━━\u001b[0m \u001b[32m38.6/38.6 MB\u001b[0m \u001b[31m8.6 MB/s\u001b[0m eta \u001b[36m0:00:00\u001b[0m00:01\u001b[0m00:01\u001b[0m\n",
      "\u001b[?25hRequirement already satisfied: packaging>=20.0 in /home/ma-user/anaconda3/envs/python-3.9.0/lib/python3.9/site-packages (from mindspore==2.2.13) (24.1)\n",
      "Requirement already satisfied: psutil>=5.6.1 in /home/ma-user/anaconda3/envs/python-3.9.0/lib/python3.9/site-packages (from mindspore==2.2.13) (6.0.0)\n",
      "Collecting astunparse>=1.6.3 (from mindspore==2.2.13)\n",
      "  Downloading https://pypi.tuna.tsinghua.edu.cn/packages/2b/03/13dde6512ad7b4557eb792fbcf0c653af6076b81e5941d36ec61f7ce6028/astunparse-1.6.3-py2.py3-none-any.whl (12 kB)\n",
      "Requirement already satisfied: six>=1.12.0 in /home/ma-user/anaconda3/envs/python-3.9.0/lib/python3.9/site-packages (from asttokens>=2.0.4->mindspore==2.2.13) (1.16.0)\n",
      "Requirement already satisfied: wheel<1.0,>=0.23.0 in /home/ma-user/anaconda3/envs/python-3.9.0/lib/python3.9/site-packages (from astunparse>=1.6.3->mindspore==2.2.13) (0.43.0)\n",
      "Installing collected packages: protobuf, pillow, numpy, astunparse, scipy, mindspore\n",
      "Successfully installed astunparse-1.6.3 mindspore-2.2.13 numpy-2.0.0 pillow-10.4.0 protobuf-5.27.2 scipy-1.13.1\n"
     ]
    }
   ],
   "source": [
    "!pip install https://ms-release.obs.cn-north-4.myhuaweicloud.com/2.2.13/MindSpore/unified/x86_64/mindspore-2.2.13-cp39-cp39-linux_x86_64.whl --trusted-host ms-release.obs.cn-north-4.myhuaweicloud.com -i https://pypi.tuna.tsinghua.edu.cn/simple"
   ]
  },
  {
   "cell_type": "code",
   "execution_count": 4,
   "id": "aae80868-1543-41bc-8a0b-26cd7664c854",
   "metadata": {},
   "outputs": [
    {
     "name": "stdout",
     "output_type": "stream",
     "text": [
      "Looking in indexes: http://repo.myhuaweicloud.com/repository/pypi/simple\n",
      "Collecting matplotlib\n",
      "  Downloading http://repo.myhuaweicloud.com/repository/pypi/packages/d3/6d/45837c5b3d0005a5a9b04729b218a16bf3aa195701c6b33b2cc39ae943b6/matplotlib-3.9.0-cp39-cp39-manylinux_2_17_x86_64.manylinux2014_x86_64.whl (8.3 MB)\n",
      "\u001b[2K     \u001b[90m━━━━━━━━━━━━━━━━━━━━━━━━━━━━━━━━━━━━━━━━\u001b[0m \u001b[32m8.3/8.3 MB\u001b[0m \u001b[31m45.9 MB/s\u001b[0m eta \u001b[36m0:00:00\u001b[0m00:01\u001b[0m00:01\u001b[0m\n",
      "\u001b[?25hCollecting contourpy>=1.0.1 (from matplotlib)\n",
      "  Downloading http://repo.myhuaweicloud.com/repository/pypi/packages/31/a2/2f12e3a6e45935ff694654b710961b03310b0e1ec997ee9f416d3c873f87/contourpy-1.2.1-cp39-cp39-manylinux_2_17_x86_64.manylinux2014_x86_64.whl (304 kB)\n",
      "\u001b[2K     \u001b[90m━━━━━━━━━━━━━━━━━━━━━━━━━━━━━━━━━━━━━━\u001b[0m \u001b[32m305.0/305.0 kB\u001b[0m \u001b[31m15.2 MB/s\u001b[0m eta \u001b[36m0:00:00\u001b[0m\n",
      "\u001b[?25hCollecting cycler>=0.10 (from matplotlib)\n",
      "  Downloading http://repo.myhuaweicloud.com/repository/pypi/packages/e7/05/c19819d5e3d95294a6f5947fb9b9629efb316b96de511b418c53d245aae6/cycler-0.12.1-py3-none-any.whl (8.3 kB)\n",
      "Collecting fonttools>=4.22.0 (from matplotlib)\n",
      "  Downloading http://repo.myhuaweicloud.com/repository/pypi/packages/c1/cb/b1877d606dfa1daca70324bf37afec2b0a386138c467580027b9b51188a8/fonttools-4.53.0-cp39-cp39-manylinux_2_17_x86_64.manylinux2014_x86_64.whl (4.6 MB)\n",
      "\u001b[2K     \u001b[90m━━━━━━━━━━━━━━━━━━━━━━━━━━━━━━━━━━━━━━━━\u001b[0m \u001b[32m4.6/4.6 MB\u001b[0m \u001b[31m79.9 MB/s\u001b[0m eta \u001b[36m0:00:00\u001b[0mta \u001b[36m0:00:01\u001b[0m\n",
      "\u001b[?25hCollecting kiwisolver>=1.3.1 (from matplotlib)\n",
      "  Downloading http://repo.myhuaweicloud.com/repository/pypi/packages/c0/a8/841594f11d0b88d8aeb26991bc4dac38baa909dc58d0c4262a4f7893bcbf/kiwisolver-1.4.5-cp39-cp39-manylinux_2_12_x86_64.manylinux2010_x86_64.whl (1.6 MB)\n",
      "\u001b[2K     \u001b[90m━━━━━━━━━━━━━━━━━━━━━━━━━━━━━━━━━━━━━━━━\u001b[0m \u001b[32m1.6/1.6 MB\u001b[0m \u001b[31m26.5 MB/s\u001b[0m eta \u001b[36m0:00:00\u001b[0ma \u001b[36m0:00:01\u001b[0m\n",
      "\u001b[?25hRequirement already satisfied: numpy>=1.23 in /home/ma-user/anaconda3/envs/python-3.9.0/lib/python3.9/site-packages (from matplotlib) (2.0.0)\n",
      "Requirement already satisfied: packaging>=20.0 in /home/ma-user/anaconda3/envs/python-3.9.0/lib/python3.9/site-packages (from matplotlib) (24.1)\n",
      "Requirement already satisfied: pillow>=8 in /home/ma-user/anaconda3/envs/python-3.9.0/lib/python3.9/site-packages (from matplotlib) (10.4.0)\n",
      "Collecting pyparsing>=2.3.1 (from matplotlib)\n",
      "  Downloading http://repo.myhuaweicloud.com/repository/pypi/packages/9d/ea/6d76df31432a0e6fdf81681a895f009a4bb47b3c39036db3e1b528191d52/pyparsing-3.1.2-py3-none-any.whl (103 kB)\n",
      "\u001b[2K     \u001b[90m━━━━━━━━━━━━━━━━━━━━━━━━━━━━━━━━━━━━━━\u001b[0m \u001b[32m103.2/103.2 kB\u001b[0m \u001b[31m10.6 MB/s\u001b[0m eta \u001b[36m0:00:00\u001b[0m\n",
      "\u001b[?25hRequirement already satisfied: python-dateutil>=2.7 in /home/ma-user/anaconda3/envs/python-3.9.0/lib/python3.9/site-packages (from matplotlib) (2.9.0.post0)\n",
      "Collecting importlib-resources>=3.2.0 (from matplotlib)\n",
      "  Downloading http://repo.myhuaweicloud.com/repository/pypi/packages/75/06/4df55e1b7b112d183f65db9503bff189e97179b256e1ea450a3c365241e0/importlib_resources-6.4.0-py3-none-any.whl (38 kB)\n",
      "Requirement already satisfied: zipp>=3.1.0 in /home/ma-user/anaconda3/envs/python-3.9.0/lib/python3.9/site-packages (from importlib-resources>=3.2.0->matplotlib) (3.19.2)\n",
      "Requirement already satisfied: six>=1.5 in /home/ma-user/anaconda3/envs/python-3.9.0/lib/python3.9/site-packages (from python-dateutil>=2.7->matplotlib) (1.16.0)\n",
      "Installing collected packages: pyparsing, kiwisolver, importlib-resources, fonttools, cycler, contourpy, matplotlib\n",
      "Successfully installed contourpy-1.2.1 cycler-0.12.1 fonttools-4.53.0 importlib-resources-6.4.0 kiwisolver-1.4.5 matplotlib-3.9.0 pyparsing-3.1.2\n",
      "Note: you may need to restart the kernel to use updated packages.\n"
     ]
    }
   ],
   "source": [
    "pip install matplotlib"
   ]
  },
  {
   "cell_type": "code",
   "execution_count": 2,
   "id": "d64b3f10-0e9d-47da-984a-d7d6f1c3babc",
   "metadata": {},
   "outputs": [
    {
     "name": "stdout",
     "output_type": "stream",
     "text": [
      "chmod: cannot access '/tmp/ipykernel_235703/': No such file or directory\n"
     ]
    }
   ],
   "source": [
    "!chmod -R 755 /tmp/ipykernel_235703/"
   ]
  },
  {
   "cell_type": "code",
   "execution_count": 9,
   "id": "c3e82093-91bc-42ae-be6d-7d764eb2fa32",
   "metadata": {
    "tags": []
   },
   "outputs": [],
   "source": [
    "import mindspore as ms\n",
    "import matplotlib.pyplot as plt\n",
    "import mindspore.ops as ops\n",
    "import numpy as np\n",
    "\n",
    "def test(hn, hf, dataset, chunk_size=10, img_index=0, nb_bins=192, H=400, W=400):\n",
    "    ms.context.set_context(mode=ms.context.GRAPH_MODE,evice_target=\"GPU\")\n",
    "    \n",
    "    ray_origins = dataset[img_index * H * W: (img_index + 1) * H * W, :3]\n",
    "    ray_directions = dataset[img_index * H * W: (img_index + 1) * H * W, 3:6]\n",
    "\n",
    "    data = []\n",
    "    for i in range(int(np.ceil(H / chunk_size))):\n",
    "        ray_origins_ = ray_origins[i * W * chunk_size: (i + 1) * W * chunk_size]\n",
    "        ray_directions_ = ray_directions[i * W * chunk_size: (i + 1) * W * chunk_size]\n",
    "\n",
    "        regenerated_px_values = render_rays(model, ray_origins_, ray_directions_, hn=hn, hf=hf, nb_bins=nb_bins)\n",
    "        data.append(regenerated_px_values)\n",
    "    img = ops.cat(data).asnumpy().reshape(H, W, 3)\n",
    "\n",
    "    plt.figure()\n",
    "    plt.imshow(img)\n",
    "    plt.savefig(f'novel_views/img_{img_index}.png', bbox_inches='tight')\n",
    "    plt.close()"
   ]
  },
  {
   "cell_type": "code",
   "execution_count": 10,
   "id": "153cb138-b019-470d-960d-39f832a926b6",
   "metadata": {
    "tags": []
   },
   "outputs": [],
   "source": [
    "import mindspore.nn as nn\n",
    "import mindspore.ops as ops\n",
    "\n",
    "class NerfModel(nn.Cell):\n",
    "    def __init__(self, embedding_dim_pos=10, embedding_dim_direction=4, hidden_dim=128):\n",
    "        super(NerfModel, self).__init__()\n",
    "\n",
    "        self.block1 = nn.SequentialCell([\n",
    "            nn.Dense(embedding_dim_pos * 6 + 3, hidden_dim), nn.ReLU(),\n",
    "            nn.Dense(hidden_dim, hidden_dim), nn.ReLU(),\n",
    "            nn.Dense(hidden_dim, hidden_dim), nn.ReLU(),\n",
    "            nn.Dense(hidden_dim, hidden_dim), nn.ReLU()\n",
    "        ])\n",
    "\n",
    "        self.block2 = nn.SequentialCell([\n",
    "            nn.Dense(embedding_dim_pos * 6 + hidden_dim + 3, hidden_dim), nn.ReLU(),\n",
    "            nn.Dense(hidden_dim, hidden_dim), nn.ReLU(),\n",
    "            nn.Dense(hidden_dim, hidden_dim), nn.ReLU(),\n",
    "            nn.Dense(hidden_dim, hidden_dim + 1)\n",
    "        ])\n",
    "\n",
    "        self.block3 = nn.SequentialCell([\n",
    "            nn.Dense(embedding_dim_direction * 6 + hidden_dim + 3, hidden_dim // 2), nn.ReLU()\n",
    "        ])\n",
    "        self.block4 = nn.SequentialCell([\n",
    "            nn.Dense(hidden_dim // 2, 3), nn.Sigmoid()\n",
    "        ])\n",
    "\n",
    "        self.embedding_dim_pos = embedding_dim_pos\n",
    "        self.embedding_dim_direction = embedding_dim_direction\n",
    "        self.relu = nn.ReLU()\n",
    "\n",
    "    @staticmethod\n",
    "    def positional_encoding(x, L):\n",
    "        out = [x]\n",
    "        for j in range(L):\n",
    "            out.append(ops.sin(2 ** j * x))\n",
    "            out.append(ops.cos(2 ** j * x))\n",
    "        return ops.cat(out,axis=1)\n",
    "\n",
    "    def construct(self, o, d):\n",
    "        emb_x = self.positional_encoding(o, self.embedding_dim_pos)\n",
    "        emb_d = self.positional_encoding(d, self.embedding_dim_direction)\n",
    "        h = self.block1(emb_x)\n",
    "        tmp = self.block2(ops.cat((h, emb_x),axis = 1))\n",
    "        h, sigma = tmp[:, :-1], self.relu(tmp[:, -1])\n",
    "        h = self.block3(ops.cat((h, emb_d),axis=1))\n",
    "        c = self.block4(h)\n",
    "        return c, sigma\n"
   ]
  },
  {
   "cell_type": "code",
   "execution_count": 11,
   "id": "c83f31c3-8aef-40f3-ad4e-480b584e848a",
   "metadata": {
    "tags": []
   },
   "outputs": [],
   "source": [
    "# import mindspore.numpy as np\n",
    "\n",
    "def compute_accumulated_transmittance(alphas):\n",
    "    accumulated_transmittance = ops.cumprod(alphas, dim=1)\n",
    "    return ops.cat((ops.ones((accumulated_transmittance.shape[0], 1)), accumulated_transmittance[:, :-1]), axis=-1)\n"
   ]
  },
  {
   "cell_type": "code",
   "execution_count": 12,
   "id": "5c102c86-ddd9-4bee-8b2f-b81f67fb2e74",
   "metadata": {
    "tags": []
   },
   "outputs": [],
   "source": [
    "import mindspore as ms\n",
    "import numpy as np\n",
    "from mindspore import Tensor, ops\n",
    "\n",
    "def render_rays(nerf_model, ray_origins, ray_directions, hn=0, hf=0.5, nb_bins=192):\n",
    "    device = \"GPU\"\n",
    "    hn = Tensor(hn,dtype = ms.float32)\n",
    "    hf = Tensor(hf,dtype = ms.float32)\n",
    "    t = ops.LinSpace()(hn, hf, nb_bins)\n",
    "    t = ops.broadcast_to(t,(ray_origins.shape[0],nb_bins))\n",
    "    # Perturb sampling along each ray.\n",
    "    mid = (t[:, :-1] + t[:, 1:]) / 2.\n",
    "    lower = ops.cat((t[:, :1], mid), axis=-1)\n",
    "    upper = ops.cat((mid, t[:, -1:]), axis=-1)\n",
    "    u = ops.rand(t.shape)\n",
    "    t = lower + (upper - lower) * u  # [batch_size, nb_bins]\n",
    "    xx = ops.broadcast_to(Tensor([1e10]),(ray_origins.shape[0],1))\n",
    "    delta = ops.cat((t[:, 1:] - t[:, :-1],xx), axis=-1)\n",
    "\n",
    "    x = ops.unsqueeze(ray_origins,1) + ops.unsqueeze(t,2)*ops.unsqueeze(ray_directions,1) # [batch_size, nb_bins, 3]\n",
    "    # ray_directions.expand(nb_bins, ray_directions.shape[0], 3).transpose(0, 1)\n",
    "    ray_directions = ops.broadcast_to(ray_directions,(nb_bins, ray_directions.shape[0], 3))#可能会有改动\n",
    "    ray_directions = ops.transpose(ray_directions,(1,0,2))\n",
    "\n",
    "    colors, sigma = nerf_model(x.reshape(-1, 3), ray_directions.reshape(-1, 3))\n",
    "    colors = colors.reshape(x.shape)\n",
    "    sigma = sigma.reshape(x.shape[:-1])\n",
    "\n",
    "    alpha = 1 - ops.exp(-sigma * delta)  # [batch_size, nb_bins]\n",
    "    weights = compute_accumulated_transmittance(1 - alpha)#.expand_dims(2) * alpha.expand_dims(2)\n",
    "    weights = ops.unsqueeze(weights,2)*ops.unsqueeze(alpha,2)\n",
    "    print(\"weight=\",weights.shape)\n",
    "#     c = (weights * colors).sum(axis=1)  # Pixel values sum可能会有改动\n",
    "    c = ops.sum(weights * colors,dim = 1)\n",
    "    weight_sum = ops.sum(weights,dim=-1)\n",
    "    weight_sum = ops.sum(weight_sum,dim=-1)  # Regularization for white background\n",
    "    return c + 1 - ops.unsqueeze(weight_sum,-1)\n"
   ]
  },
  {
   "cell_type": "code",
   "execution_count": 13,
   "id": "acfa3b5d-3756-4669-a434-c68d9150f9dc",
   "metadata": {},
   "outputs": [],
   "source": [
    "# import mindspore.nn as nn\n",
    "# class myloss(nn.LossBase):\n",
    "#     def __init__(self):\n",
    "#         super(myloss,self).__init__()\n",
    "#     def construct(self,batch):\n",
    "#         batch = batch[0]\n",
    "#         # batch_np = batch.asnumpy()  # 将 batch 转换为 NumPy 数组\n",
    "#         ray_origins = batch[:, :3]\n",
    "#         ray_directions = batch[:, 3:6]\n",
    "#         ground_truth_px_values = batch[:, 6:]\n",
    "\n",
    "#         regenerated_px_values = render_rays(nerf_model, ray_origins, ray_directions, hn=2, hf=6, nb_bins=192)\n",
    "#         loss = ops.sum(((ground_truth_px_values - regenerated_px_values) ** 2))\n",
    "#         return self.get_loss(loss)\n",
    "\n",
    "def forward_fn(batch,nerf_model,hn, hf, nb_bins):\n",
    "    batch = batch[0],\n",
    "    # print(batch.shape)\n",
    "    batch = batch[0]\n",
    "    # batch_np = batch.asnumpy()  # 将 batch 转换为 NumPy 数组\n",
    "    ray_origins = batch[:, :3]\n",
    "    ray_directions = batch[:, 3:6]\n",
    "    ground_truth_px_values = batch[:, 6:]\n",
    "\n",
    "    regenerated_px_values = render_rays(nerf_model, ray_origins, ray_directions, hn=hn, hf=hf, nb_bins=nb_bins)\n",
    "    loss = ops.sum(((ground_truth_px_values - regenerated_px_values) ** 2))\n",
    "    return loss\n"
   ]
  },
  {
   "cell_type": "code",
   "execution_count": 14,
   "id": "668fc91d-d047-4fe2-803a-5422359efc98",
   "metadata": {
    "tags": []
   },
   "outputs": [],
   "source": [
    "import mindspore as ms\n",
    "import mindspore.nn as nn\n",
    "from mindspore import Tensor, ops\n",
    "from mindspore.dataset import GeneratorDataset\n",
    "import numpy\n",
    "\n",
    "def train(nerf_model, optimizer, scheduler, data_loader, device='cpu', hn=0, hf=1, nb_epochs=int(3), nb_bins=192, H=400, W=400):\n",
    "    training_loss = []\n",
    "    ms.context.set_context(mode=ms.context.GRAPH_MODE,device_target=\"GPU\")\n",
    "    count = 0\n",
    "    nerf_model.set_train()\n",
    "    # print(nerf_model)\n",
    "    grad_fn = ms.value_and_grad(forward_fn, None, optimizer.parameters, has_aux=False)\n",
    "    count = 0\n",
    "    for _ in range(nb_epochs):\n",
    "        time = 0\n",
    "        for batch in data_loader:\n",
    "            count+=1\n",
    "            print(count)\n",
    "            time+=1\n",
    "            if time ==100:\n",
    "                break\n",
    "            loss, grads = grad_fn(batch,nerf_model, hn, hf, nb_bins)\n",
    "            optimizer(grads)\n",
    "    return training_loss\n"
   ]
  },
  {
   "cell_type": "code",
   "execution_count": null,
   "id": "c18a774f-8284-4186-a7b1-b1b245fe9579",
   "metadata": {
    "tags": []
   },
   "outputs": [
    {
     "name": "stdout",
     "output_type": "stream",
     "text": [
      "<mindspore.dataset.engine.datasets.BatchDataset object at 0x7f3f4444e1f0>\n",
      "1\n"
     ]
    },
    {
     "name": "stderr",
     "output_type": "stream",
     "text": [
      "[ERROR] CORE(272366,7f4009669740,python):2024-07-04-20:35:24.414.592 [mindspore/core/utils/file_utils.cc:253] GetRealPath] Get realpath failed, path[/tmp/ipykernel_272366/1339986826.py]\n",
      "[ERROR] CORE(272366,7f4009669740,python):2024-07-04-20:35:24.415.617 [mindspore/core/utils/file_utils.cc:253] GetRealPath] Get realpath failed, path[/tmp/ipykernel_272366/1339986826.py]\n",
      "[ERROR] CORE(272366,7f4009669740,python):2024-07-04-20:35:24.419.267 [mindspore/core/utils/file_utils.cc:253] GetRealPath] Get realpath failed, path[/tmp/ipykernel_272366/1339986826.py]\n",
      "[ERROR] CORE(272366,7f4009669740,python):2024-07-04-20:35:25.659.142 [mindspore/core/utils/file_utils.cc:253] GetRealPath] Get realpath failed, path[/tmp/ipykernel_272366/3428476077.py]\n",
      "[ERROR] CORE(272366,7f4009669740,python):2024-07-04-20:35:25.659.202 [mindspore/core/utils/file_utils.cc:253] GetRealPath] Get realpath failed, path[/tmp/ipykernel_272366/3428476077.py]\n",
      "[ERROR] CORE(272366,7f4009669740,python):2024-07-04-20:35:25.659.222 [mindspore/core/utils/file_utils.cc:253] GetRealPath] Get realpath failed, path[/tmp/ipykernel_272366/3428476077.py]\n",
      "[ERROR] CORE(272366,7f4009669740,python):2024-07-04-20:35:25.659.865 [mindspore/core/utils/file_utils.cc:253] GetRealPath] Get realpath failed, path[/tmp/ipykernel_272366/3428476077.py]\n",
      "[ERROR] CORE(272366,7f4009669740,python):2024-07-04-20:35:25.659.903 [mindspore/core/utils/file_utils.cc:253] GetRealPath] Get realpath failed, path[/tmp/ipykernel_272366/3428476077.py]\n",
      "[ERROR] CORE(272366,7f4009669740,python):2024-07-04-20:35:25.660.545 [mindspore/core/utils/file_utils.cc:253] GetRealPath] Get realpath failed, path[/tmp/ipykernel_272366/3428476077.py]\n",
      "[ERROR] CORE(272366,7f4009669740,python):2024-07-04-20:35:25.660.587 [mindspore/core/utils/file_utils.cc:253] GetRealPath] Get realpath failed, path[/tmp/ipykernel_272366/3428476077.py]\n",
      "[ERROR] CORE(272366,7f4009669740,python):2024-07-04-20:35:25.660.605 [mindspore/core/utils/file_utils.cc:253] GetRealPath] Get realpath failed, path[/tmp/ipykernel_272366/3428476077.py]\n",
      "[ERROR] CORE(272366,7f4009669740,python):2024-07-04-20:35:25.660.622 [mindspore/core/utils/file_utils.cc:253] GetRealPath] Get realpath failed, path[/tmp/ipykernel_272366/1339986826.py]\n",
      "[ERROR] CORE(272366,7f4009669740,python):2024-07-04-20:35:25.660.684 [mindspore/core/utils/file_utils.cc:253] GetRealPath] Get realpath failed, path[/tmp/ipykernel_272366/3428476077.py]\n",
      "[ERROR] CORE(272366,7f4009669740,python):2024-07-04-20:35:25.670.773 [mindspore/core/utils/file_utils.cc:253] GetRealPath] Get realpath failed, path[/tmp/ipykernel_272366/1339986826.py]\n",
      "[ERROR] CORE(272366,7f4009669740,python):2024-07-04-20:35:25.675.768 [mindspore/core/utils/file_utils.cc:253] GetRealPath] Get realpath failed, path[/tmp/ipykernel_272366/1339986826.py]\n",
      "[ERROR] CORE(272366,7f4009669740,python):2024-07-04-20:35:25.676.850 [mindspore/core/utils/file_utils.cc:253] GetRealPath] Get realpath failed, path[/tmp/ipykernel_272366/1339986826.py]\n"
     ]
    },
    {
     "name": "stdout",
     "output_type": "stream",
     "text": [
      "weight=\n",
      "(1024,  192,    1)\n",
      "2\n"
     ]
    },
    {
     "name": "stderr",
     "output_type": "stream",
     "text": [
      "[ERROR] CORE(272366,7f4009669740,python):2024-07-04-20:35:26.645.673 [mindspore/core/utils/file_utils.cc:253] GetRealPath] Get realpath failed, path[/tmp/ipykernel_272366/1339986826.py]\n",
      "[ERROR] CORE(272366,7f4009669740,python):2024-07-04-20:35:26.646.732 [mindspore/core/utils/file_utils.cc:253] GetRealPath] Get realpath failed, path[/tmp/ipykernel_272366/1339986826.py]\n",
      "[ERROR] CORE(272366,7f4009669740,python):2024-07-04-20:35:26.650.282 [mindspore/core/utils/file_utils.cc:253] GetRealPath] Get realpath failed, path[/tmp/ipykernel_272366/1339986826.py]\n",
      "[ERROR] CORE(272366,7f4009669740,python):2024-07-04-20:35:27.911.282 [mindspore/core/utils/file_utils.cc:253] GetRealPath] Get realpath failed, path[/tmp/ipykernel_272366/3428476077.py]\n",
      "[ERROR] CORE(272366,7f4009669740,python):2024-07-04-20:35:27.911.341 [mindspore/core/utils/file_utils.cc:253] GetRealPath] Get realpath failed, path[/tmp/ipykernel_272366/3428476077.py]\n",
      "[ERROR] CORE(272366,7f4009669740,python):2024-07-04-20:35:27.911.360 [mindspore/core/utils/file_utils.cc:253] GetRealPath] Get realpath failed, path[/tmp/ipykernel_272366/3428476077.py]\n",
      "[ERROR] CORE(272366,7f4009669740,python):2024-07-04-20:35:27.912.042 [mindspore/core/utils/file_utils.cc:253] GetRealPath] Get realpath failed, path[/tmp/ipykernel_272366/3428476077.py]\n",
      "[ERROR] CORE(272366,7f4009669740,python):2024-07-04-20:35:27.912.099 [mindspore/core/utils/file_utils.cc:253] GetRealPath] Get realpath failed, path[/tmp/ipykernel_272366/3428476077.py]\n",
      "[ERROR] CORE(272366,7f4009669740,python):2024-07-04-20:35:27.912.712 [mindspore/core/utils/file_utils.cc:253] GetRealPath] Get realpath failed, path[/tmp/ipykernel_272366/3428476077.py]\n",
      "[ERROR] CORE(272366,7f4009669740,python):2024-07-04-20:35:27.912.754 [mindspore/core/utils/file_utils.cc:253] GetRealPath] Get realpath failed, path[/tmp/ipykernel_272366/3428476077.py]\n",
      "[ERROR] CORE(272366,7f4009669740,python):2024-07-04-20:35:27.912.773 [mindspore/core/utils/file_utils.cc:253] GetRealPath] Get realpath failed, path[/tmp/ipykernel_272366/3428476077.py]\n",
      "[ERROR] CORE(272366,7f4009669740,python):2024-07-04-20:35:27.912.790 [mindspore/core/utils/file_utils.cc:253] GetRealPath] Get realpath failed, path[/tmp/ipykernel_272366/1339986826.py]\n",
      "[ERROR] CORE(272366,7f4009669740,python):2024-07-04-20:35:27.912.848 [mindspore/core/utils/file_utils.cc:253] GetRealPath] Get realpath failed, path[/tmp/ipykernel_272366/3428476077.py]\n",
      "[ERROR] CORE(272366,7f4009669740,python):2024-07-04-20:35:27.927.155 [mindspore/core/utils/file_utils.cc:253] GetRealPath] Get realpath failed, path[/tmp/ipykernel_272366/1339986826.py]\n",
      "[ERROR] CORE(272366,7f4009669740,python):2024-07-04-20:35:27.927.178 [mindspore/core/utils/file_utils.cc:253] GetRealPath] Get realpath failed, path[/tmp/ipykernel_272366/1339986826.py]\n",
      "[ERROR] CORE(272366,7f4009669740,python):2024-07-04-20:35:27.929.784 [mindspore/core/utils/file_utils.cc:253] GetRealPath] Get realpath failed, path[/tmp/ipykernel_272366/1339986826.py]\n"
     ]
    },
    {
     "name": "stdout",
     "output_type": "stream",
     "text": [
      "weight=\n",
      "(1024,  192,    1)\n",
      "3\n"
     ]
    },
    {
     "name": "stderr",
     "output_type": "stream",
     "text": [
      "[ERROR] CORE(272366,7f4009669740,python):2024-07-04-20:35:28.655.387 [mindspore/core/utils/file_utils.cc:253] GetRealPath] Get realpath failed, path[/tmp/ipykernel_272366/1339986826.py]\n",
      "[ERROR] CORE(272366,7f4009669740,python):2024-07-04-20:35:28.656.430 [mindspore/core/utils/file_utils.cc:253] GetRealPath] Get realpath failed, path[/tmp/ipykernel_272366/1339986826.py]\n",
      "[ERROR] CORE(272366,7f4009669740,python):2024-07-04-20:35:28.660.121 [mindspore/core/utils/file_utils.cc:253] GetRealPath] Get realpath failed, path[/tmp/ipykernel_272366/1339986826.py]\n",
      "[ERROR] CORE(272366,7f4009669740,python):2024-07-04-20:35:29.885.642 [mindspore/core/utils/file_utils.cc:253] GetRealPath] Get realpath failed, path[/tmp/ipykernel_272366/3428476077.py]\n",
      "[ERROR] CORE(272366,7f4009669740,python):2024-07-04-20:35:29.885.716 [mindspore/core/utils/file_utils.cc:253] GetRealPath] Get realpath failed, path[/tmp/ipykernel_272366/3428476077.py]\n",
      "[ERROR] CORE(272366,7f4009669740,python):2024-07-04-20:35:29.885.735 [mindspore/core/utils/file_utils.cc:253] GetRealPath] Get realpath failed, path[/tmp/ipykernel_272366/3428476077.py]\n",
      "[ERROR] CORE(272366,7f4009669740,python):2024-07-04-20:35:29.886.429 [mindspore/core/utils/file_utils.cc:253] GetRealPath] Get realpath failed, path[/tmp/ipykernel_272366/3428476077.py]\n",
      "[ERROR] CORE(272366,7f4009669740,python):2024-07-04-20:35:29.886.473 [mindspore/core/utils/file_utils.cc:253] GetRealPath] Get realpath failed, path[/tmp/ipykernel_272366/3428476077.py]\n",
      "[ERROR] CORE(272366,7f4009669740,python):2024-07-04-20:35:29.887.147 [mindspore/core/utils/file_utils.cc:253] GetRealPath] Get realpath failed, path[/tmp/ipykernel_272366/3428476077.py]\n",
      "[ERROR] CORE(272366,7f4009669740,python):2024-07-04-20:35:29.887.193 [mindspore/core/utils/file_utils.cc:253] GetRealPath] Get realpath failed, path[/tmp/ipykernel_272366/3428476077.py]\n",
      "[ERROR] CORE(272366,7f4009669740,python):2024-07-04-20:35:29.887.213 [mindspore/core/utils/file_utils.cc:253] GetRealPath] Get realpath failed, path[/tmp/ipykernel_272366/3428476077.py]\n",
      "[ERROR] CORE(272366,7f4009669740,python):2024-07-04-20:35:29.887.231 [mindspore/core/utils/file_utils.cc:253] GetRealPath] Get realpath failed, path[/tmp/ipykernel_272366/1339986826.py]\n",
      "[ERROR] CORE(272366,7f4009669740,python):2024-07-04-20:35:29.887.294 [mindspore/core/utils/file_utils.cc:253] GetRealPath] Get realpath failed, path[/tmp/ipykernel_272366/3428476077.py]\n",
      "[ERROR] CORE(272366,7f4009669740,python):2024-07-04-20:35:29.901.636 [mindspore/core/utils/file_utils.cc:253] GetRealPath] Get realpath failed, path[/tmp/ipykernel_272366/1339986826.py]\n",
      "[ERROR] CORE(272366,7f4009669740,python):2024-07-04-20:35:29.903.269 [mindspore/core/utils/file_utils.cc:253] GetRealPath] Get realpath failed, path[/tmp/ipykernel_272366/1339986826.py]\n",
      "[ERROR] CORE(272366,7f4009669740,python):2024-07-04-20:35:29.905.534 [mindspore/core/utils/file_utils.cc:253] GetRealPath] Get realpath failed, path[/tmp/ipykernel_272366/1339986826.py]\n"
     ]
    },
    {
     "name": "stdout",
     "output_type": "stream",
     "text": [
      "weight=\n",
      "(1024,  192,    1)\n",
      "4\n"
     ]
    },
    {
     "name": "stderr",
     "output_type": "stream",
     "text": [
      "[ERROR] CORE(272366,7f4009669740,python):2024-07-04-20:35:30.643.606 [mindspore/core/utils/file_utils.cc:253] GetRealPath] Get realpath failed, path[/tmp/ipykernel_272366/1339986826.py]\n",
      "[ERROR] CORE(272366,7f4009669740,python):2024-07-04-20:35:30.644.939 [mindspore/core/utils/file_utils.cc:253] GetRealPath] Get realpath failed, path[/tmp/ipykernel_272366/1339986826.py]\n",
      "[ERROR] CORE(272366,7f4009669740,python):2024-07-04-20:35:30.648.555 [mindspore/core/utils/file_utils.cc:253] GetRealPath] Get realpath failed, path[/tmp/ipykernel_272366/1339986826.py]\n",
      "[ERROR] CORE(272366,7f4009669740,python):2024-07-04-20:35:31.897.956 [mindspore/core/utils/file_utils.cc:253] GetRealPath] Get realpath failed, path[/tmp/ipykernel_272366/3428476077.py]\n",
      "[ERROR] CORE(272366,7f4009669740,python):2024-07-04-20:35:31.898.031 [mindspore/core/utils/file_utils.cc:253] GetRealPath] Get realpath failed, path[/tmp/ipykernel_272366/3428476077.py]\n",
      "[ERROR] CORE(272366,7f4009669740,python):2024-07-04-20:35:31.898.074 [mindspore/core/utils/file_utils.cc:253] GetRealPath] Get realpath failed, path[/tmp/ipykernel_272366/3428476077.py]\n",
      "[ERROR] CORE(272366,7f4009669740,python):2024-07-04-20:35:31.898.710 [mindspore/core/utils/file_utils.cc:253] GetRealPath] Get realpath failed, path[/tmp/ipykernel_272366/3428476077.py]\n",
      "[ERROR] CORE(272366,7f4009669740,python):2024-07-04-20:35:31.898.748 [mindspore/core/utils/file_utils.cc:253] GetRealPath] Get realpath failed, path[/tmp/ipykernel_272366/3428476077.py]\n",
      "[ERROR] CORE(272366,7f4009669740,python):2024-07-04-20:35:31.899.396 [mindspore/core/utils/file_utils.cc:253] GetRealPath] Get realpath failed, path[/tmp/ipykernel_272366/3428476077.py]\n",
      "[ERROR] CORE(272366,7f4009669740,python):2024-07-04-20:35:31.899.448 [mindspore/core/utils/file_utils.cc:253] GetRealPath] Get realpath failed, path[/tmp/ipykernel_272366/3428476077.py]\n",
      "[ERROR] CORE(272366,7f4009669740,python):2024-07-04-20:35:31.899.468 [mindspore/core/utils/file_utils.cc:253] GetRealPath] Get realpath failed, path[/tmp/ipykernel_272366/3428476077.py]\n",
      "[ERROR] CORE(272366,7f4009669740,python):2024-07-04-20:35:31.899.484 [mindspore/core/utils/file_utils.cc:253] GetRealPath] Get realpath failed, path[/tmp/ipykernel_272366/1339986826.py]\n",
      "[ERROR] CORE(272366,7f4009669740,python):2024-07-04-20:35:31.899.540 [mindspore/core/utils/file_utils.cc:253] GetRealPath] Get realpath failed, path[/tmp/ipykernel_272366/3428476077.py]\n",
      "[ERROR] CORE(272366,7f4009669740,python):2024-07-04-20:35:31.909.270 [mindspore/core/utils/file_utils.cc:253] GetRealPath] Get realpath failed, path[/tmp/ipykernel_272366/1339986826.py]\n",
      "[ERROR] CORE(272366,7f4009669740,python):2024-07-04-20:35:31.912.681 [mindspore/core/utils/file_utils.cc:253] GetRealPath] Get realpath failed, path[/tmp/ipykernel_272366/1339986826.py]\n",
      "[ERROR] CORE(272366,7f4009669740,python):2024-07-04-20:35:31.915.287 [mindspore/core/utils/file_utils.cc:253] GetRealPath] Get realpath failed, path[/tmp/ipykernel_272366/1339986826.py]\n"
     ]
    },
    {
     "name": "stdout",
     "output_type": "stream",
     "text": [
      "weight=\n",
      "(1024,  192,    1)\n",
      "5\n"
     ]
    },
    {
     "name": "stderr",
     "output_type": "stream",
     "text": [
      "[ERROR] CORE(272366,7f4009669740,python):2024-07-04-20:35:32.626.530 [mindspore/core/utils/file_utils.cc:253] GetRealPath] Get realpath failed, path[/tmp/ipykernel_272366/1339986826.py]\n",
      "[ERROR] CORE(272366,7f4009669740,python):2024-07-04-20:35:32.627.638 [mindspore/core/utils/file_utils.cc:253] GetRealPath] Get realpath failed, path[/tmp/ipykernel_272366/1339986826.py]\n",
      "[ERROR] CORE(272366,7f4009669740,python):2024-07-04-20:35:32.631.385 [mindspore/core/utils/file_utils.cc:253] GetRealPath] Get realpath failed, path[/tmp/ipykernel_272366/1339986826.py]\n",
      "[ERROR] CORE(272366,7f4009669740,python):2024-07-04-20:35:33.842.155 [mindspore/core/utils/file_utils.cc:253] GetRealPath] Get realpath failed, path[/tmp/ipykernel_272366/3428476077.py]\n",
      "[ERROR] CORE(272366,7f4009669740,python):2024-07-04-20:35:33.842.225 [mindspore/core/utils/file_utils.cc:253] GetRealPath] Get realpath failed, path[/tmp/ipykernel_272366/3428476077.py]\n",
      "[ERROR] CORE(272366,7f4009669740,python):2024-07-04-20:35:33.842.247 [mindspore/core/utils/file_utils.cc:253] GetRealPath] Get realpath failed, path[/tmp/ipykernel_272366/3428476077.py]\n",
      "[ERROR] CORE(272366,7f4009669740,python):2024-07-04-20:35:33.842.880 [mindspore/core/utils/file_utils.cc:253] GetRealPath] Get realpath failed, path[/tmp/ipykernel_272366/3428476077.py]\n",
      "[ERROR] CORE(272366,7f4009669740,python):2024-07-04-20:35:33.842.919 [mindspore/core/utils/file_utils.cc:253] GetRealPath] Get realpath failed, path[/tmp/ipykernel_272366/3428476077.py]\n",
      "[ERROR] CORE(272366,7f4009669740,python):2024-07-04-20:35:33.843.559 [mindspore/core/utils/file_utils.cc:253] GetRealPath] Get realpath failed, path[/tmp/ipykernel_272366/3428476077.py]\n",
      "[ERROR] CORE(272366,7f4009669740,python):2024-07-04-20:35:33.843.600 [mindspore/core/utils/file_utils.cc:253] GetRealPath] Get realpath failed, path[/tmp/ipykernel_272366/3428476077.py]\n",
      "[ERROR] CORE(272366,7f4009669740,python):2024-07-04-20:35:33.843.619 [mindspore/core/utils/file_utils.cc:253] GetRealPath] Get realpath failed, path[/tmp/ipykernel_272366/3428476077.py]\n",
      "[ERROR] CORE(272366,7f4009669740,python):2024-07-04-20:35:33.843.638 [mindspore/core/utils/file_utils.cc:253] GetRealPath] Get realpath failed, path[/tmp/ipykernel_272366/1339986826.py]\n",
      "[ERROR] CORE(272366,7f4009669740,python):2024-07-04-20:35:33.843.696 [mindspore/core/utils/file_utils.cc:253] GetRealPath] Get realpath failed, path[/tmp/ipykernel_272366/3428476077.py]\n",
      "[ERROR] CORE(272366,7f4009669740,python):2024-07-04-20:35:33.855.034 [mindspore/core/utils/file_utils.cc:253] GetRealPath] Get realpath failed, path[/tmp/ipykernel_272366/1339986826.py]\n",
      "[ERROR] CORE(272366,7f4009669740,python):2024-07-04-20:35:33.860.942 [mindspore/core/utils/file_utils.cc:253] GetRealPath] Get realpath failed, path[/tmp/ipykernel_272366/1339986826.py]\n",
      "[ERROR] CORE(272366,7f4009669740,python):2024-07-04-20:35:33.860.960 [mindspore/core/utils/file_utils.cc:253] GetRealPath] Get realpath failed, path[/tmp/ipykernel_272366/1339986826.py]\n"
     ]
    },
    {
     "name": "stdout",
     "output_type": "stream",
     "text": [
      "weight=\n",
      "(1024,  192,    1)\n",
      "6\n"
     ]
    },
    {
     "name": "stderr",
     "output_type": "stream",
     "text": [
      "[ERROR] CORE(272366,7f4009669740,python):2024-07-04-20:35:34.571.240 [mindspore/core/utils/file_utils.cc:253] GetRealPath] Get realpath failed, path[/tmp/ipykernel_272366/1339986826.py]\n",
      "[ERROR] CORE(272366,7f4009669740,python):2024-07-04-20:35:34.572.273 [mindspore/core/utils/file_utils.cc:253] GetRealPath] Get realpath failed, path[/tmp/ipykernel_272366/1339986826.py]\n",
      "[ERROR] CORE(272366,7f4009669740,python):2024-07-04-20:35:34.575.917 [mindspore/core/utils/file_utils.cc:253] GetRealPath] Get realpath failed, path[/tmp/ipykernel_272366/1339986826.py]\n",
      "[ERROR] CORE(272366,7f4009669740,python):2024-07-04-20:35:35.765.996 [mindspore/core/utils/file_utils.cc:253] GetRealPath] Get realpath failed, path[/tmp/ipykernel_272366/3428476077.py]\n",
      "[ERROR] CORE(272366,7f4009669740,python):2024-07-04-20:35:35.766.074 [mindspore/core/utils/file_utils.cc:253] GetRealPath] Get realpath failed, path[/tmp/ipykernel_272366/3428476077.py]\n",
      "[ERROR] CORE(272366,7f4009669740,python):2024-07-04-20:35:35.766.096 [mindspore/core/utils/file_utils.cc:253] GetRealPath] Get realpath failed, path[/tmp/ipykernel_272366/3428476077.py]\n",
      "[ERROR] CORE(272366,7f4009669740,python):2024-07-04-20:35:35.766.752 [mindspore/core/utils/file_utils.cc:253] GetRealPath] Get realpath failed, path[/tmp/ipykernel_272366/3428476077.py]\n",
      "[ERROR] CORE(272366,7f4009669740,python):2024-07-04-20:35:35.766.789 [mindspore/core/utils/file_utils.cc:253] GetRealPath] Get realpath failed, path[/tmp/ipykernel_272366/3428476077.py]\n",
      "[ERROR] CORE(272366,7f4009669740,python):2024-07-04-20:35:35.767.410 [mindspore/core/utils/file_utils.cc:253] GetRealPath] Get realpath failed, path[/tmp/ipykernel_272366/3428476077.py]\n",
      "[ERROR] CORE(272366,7f4009669740,python):2024-07-04-20:35:35.767.461 [mindspore/core/utils/file_utils.cc:253] GetRealPath] Get realpath failed, path[/tmp/ipykernel_272366/3428476077.py]\n",
      "[ERROR] CORE(272366,7f4009669740,python):2024-07-04-20:35:35.767.481 [mindspore/core/utils/file_utils.cc:253] GetRealPath] Get realpath failed, path[/tmp/ipykernel_272366/3428476077.py]\n",
      "[ERROR] CORE(272366,7f4009669740,python):2024-07-04-20:35:35.767.497 [mindspore/core/utils/file_utils.cc:253] GetRealPath] Get realpath failed, path[/tmp/ipykernel_272366/1339986826.py]\n",
      "[ERROR] CORE(272366,7f4009669740,python):2024-07-04-20:35:35.767.556 [mindspore/core/utils/file_utils.cc:253] GetRealPath] Get realpath failed, path[/tmp/ipykernel_272366/3428476077.py]\n",
      "[ERROR] CORE(272366,7f4009669740,python):2024-07-04-20:35:35.783.260 [mindspore/core/utils/file_utils.cc:253] GetRealPath] Get realpath failed, path[/tmp/ipykernel_272366/1339986826.py]\n",
      "[ERROR] CORE(272366,7f4009669740,python):2024-07-04-20:35:35.783.277 [mindspore/core/utils/file_utils.cc:253] GetRealPath] Get realpath failed, path[/tmp/ipykernel_272366/1339986826.py]\n",
      "[ERROR] CORE(272366,7f4009669740,python):2024-07-04-20:35:35.784.353 [mindspore/core/utils/file_utils.cc:253] GetRealPath] Get realpath failed, path[/tmp/ipykernel_272366/1339986826.py]\n"
     ]
    },
    {
     "name": "stdout",
     "output_type": "stream",
     "text": [
      "weight=\n",
      "(1024,  192,    1)\n",
      "7\n"
     ]
    },
    {
     "name": "stderr",
     "output_type": "stream",
     "text": [
      "[ERROR] CORE(272366,7f4009669740,python):2024-07-04-20:35:36.503.839 [mindspore/core/utils/file_utils.cc:253] GetRealPath] Get realpath failed, path[/tmp/ipykernel_272366/1339986826.py]\n",
      "[ERROR] CORE(272366,7f4009669740,python):2024-07-04-20:35:36.504.892 [mindspore/core/utils/file_utils.cc:253] GetRealPath] Get realpath failed, path[/tmp/ipykernel_272366/1339986826.py]\n",
      "[ERROR] CORE(272366,7f4009669740,python):2024-07-04-20:35:36.508.627 [mindspore/core/utils/file_utils.cc:253] GetRealPath] Get realpath failed, path[/tmp/ipykernel_272366/1339986826.py]\n",
      "[ERROR] CORE(272366,7f4009669740,python):2024-07-04-20:35:37.760.158 [mindspore/core/utils/file_utils.cc:253] GetRealPath] Get realpath failed, path[/tmp/ipykernel_272366/3428476077.py]\n",
      "[ERROR] CORE(272366,7f4009669740,python):2024-07-04-20:35:37.760.215 [mindspore/core/utils/file_utils.cc:253] GetRealPath] Get realpath failed, path[/tmp/ipykernel_272366/3428476077.py]\n",
      "[ERROR] CORE(272366,7f4009669740,python):2024-07-04-20:35:37.760.234 [mindspore/core/utils/file_utils.cc:253] GetRealPath] Get realpath failed, path[/tmp/ipykernel_272366/3428476077.py]\n",
      "[ERROR] CORE(272366,7f4009669740,python):2024-07-04-20:35:37.760.861 [mindspore/core/utils/file_utils.cc:253] GetRealPath] Get realpath failed, path[/tmp/ipykernel_272366/3428476077.py]\n",
      "[ERROR] CORE(272366,7f4009669740,python):2024-07-04-20:35:37.760.897 [mindspore/core/utils/file_utils.cc:253] GetRealPath] Get realpath failed, path[/tmp/ipykernel_272366/3428476077.py]\n",
      "[ERROR] CORE(272366,7f4009669740,python):2024-07-04-20:35:37.761.530 [mindspore/core/utils/file_utils.cc:253] GetRealPath] Get realpath failed, path[/tmp/ipykernel_272366/3428476077.py]\n",
      "[ERROR] CORE(272366,7f4009669740,python):2024-07-04-20:35:37.761.574 [mindspore/core/utils/file_utils.cc:253] GetRealPath] Get realpath failed, path[/tmp/ipykernel_272366/3428476077.py]\n",
      "[ERROR] CORE(272366,7f4009669740,python):2024-07-04-20:35:37.761.594 [mindspore/core/utils/file_utils.cc:253] GetRealPath] Get realpath failed, path[/tmp/ipykernel_272366/3428476077.py]\n",
      "[ERROR] CORE(272366,7f4009669740,python):2024-07-04-20:35:37.761.611 [mindspore/core/utils/file_utils.cc:253] GetRealPath] Get realpath failed, path[/tmp/ipykernel_272366/1339986826.py]\n",
      "[ERROR] CORE(272366,7f4009669740,python):2024-07-04-20:35:37.761.667 [mindspore/core/utils/file_utils.cc:253] GetRealPath] Get realpath failed, path[/tmp/ipykernel_272366/3428476077.py]\n",
      "[ERROR] CORE(272366,7f4009669740,python):2024-07-04-20:35:37.773.625 [mindspore/core/utils/file_utils.cc:253] GetRealPath] Get realpath failed, path[/tmp/ipykernel_272366/1339986826.py]\n",
      "[ERROR] CORE(272366,7f4009669740,python):2024-07-04-20:35:37.773.644 [mindspore/core/utils/file_utils.cc:253] GetRealPath] Get realpath failed, path[/tmp/ipykernel_272366/1339986826.py]\n",
      "[ERROR] CORE(272366,7f4009669740,python):2024-07-04-20:35:37.773.656 [mindspore/core/utils/file_utils.cc:253] GetRealPath] Get realpath failed, path[/tmp/ipykernel_272366/1339986826.py]\n"
     ]
    },
    {
     "name": "stdout",
     "output_type": "stream",
     "text": [
      "weight=\n",
      "(1024,  192,    1)\n",
      "8\n"
     ]
    },
    {
     "name": "stderr",
     "output_type": "stream",
     "text": [
      "[ERROR] CORE(272366,7f4009669740,python):2024-07-04-20:35:38.509.695 [mindspore/core/utils/file_utils.cc:253] GetRealPath] Get realpath failed, path[/tmp/ipykernel_272366/1339986826.py]\n",
      "[ERROR] CORE(272366,7f4009669740,python):2024-07-04-20:35:38.510.746 [mindspore/core/utils/file_utils.cc:253] GetRealPath] Get realpath failed, path[/tmp/ipykernel_272366/1339986826.py]\n",
      "[ERROR] CORE(272366,7f4009669740,python):2024-07-04-20:35:38.514.382 [mindspore/core/utils/file_utils.cc:253] GetRealPath] Get realpath failed, path[/tmp/ipykernel_272366/1339986826.py]\n",
      "[ERROR] CORE(272366,7f4009669740,python):2024-07-04-20:35:39.782.511 [mindspore/core/utils/file_utils.cc:253] GetRealPath] Get realpath failed, path[/tmp/ipykernel_272366/3428476077.py]\n",
      "[ERROR] CORE(272366,7f4009669740,python):2024-07-04-20:35:39.782.569 [mindspore/core/utils/file_utils.cc:253] GetRealPath] Get realpath failed, path[/tmp/ipykernel_272366/3428476077.py]\n",
      "[ERROR] CORE(272366,7f4009669740,python):2024-07-04-20:35:39.782.587 [mindspore/core/utils/file_utils.cc:253] GetRealPath] Get realpath failed, path[/tmp/ipykernel_272366/3428476077.py]\n",
      "[ERROR] CORE(272366,7f4009669740,python):2024-07-04-20:35:39.783.281 [mindspore/core/utils/file_utils.cc:253] GetRealPath] Get realpath failed, path[/tmp/ipykernel_272366/3428476077.py]\n",
      "[ERROR] CORE(272366,7f4009669740,python):2024-07-04-20:35:39.783.321 [mindspore/core/utils/file_utils.cc:253] GetRealPath] Get realpath failed, path[/tmp/ipykernel_272366/3428476077.py]\n",
      "[ERROR] CORE(272366,7f4009669740,python):2024-07-04-20:35:39.783.925 [mindspore/core/utils/file_utils.cc:253] GetRealPath] Get realpath failed, path[/tmp/ipykernel_272366/3428476077.py]\n",
      "[ERROR] CORE(272366,7f4009669740,python):2024-07-04-20:35:39.783.968 [mindspore/core/utils/file_utils.cc:253] GetRealPath] Get realpath failed, path[/tmp/ipykernel_272366/3428476077.py]\n",
      "[ERROR] CORE(272366,7f4009669740,python):2024-07-04-20:35:39.783.987 [mindspore/core/utils/file_utils.cc:253] GetRealPath] Get realpath failed, path[/tmp/ipykernel_272366/3428476077.py]\n",
      "[ERROR] CORE(272366,7f4009669740,python):2024-07-04-20:35:39.784.005 [mindspore/core/utils/file_utils.cc:253] GetRealPath] Get realpath failed, path[/tmp/ipykernel_272366/1339986826.py]\n",
      "[ERROR] CORE(272366,7f4009669740,python):2024-07-04-20:35:39.784.084 [mindspore/core/utils/file_utils.cc:253] GetRealPath] Get realpath failed, path[/tmp/ipykernel_272366/3428476077.py]\n",
      "[ERROR] CORE(272366,7f4009669740,python):2024-07-04-20:35:39.794.275 [mindspore/core/utils/file_utils.cc:253] GetRealPath] Get realpath failed, path[/tmp/ipykernel_272366/1339986826.py]\n",
      "[ERROR] CORE(272366,7f4009669740,python):2024-07-04-20:35:39.800.300 [mindspore/core/utils/file_utils.cc:253] GetRealPath] Get realpath failed, path[/tmp/ipykernel_272366/1339986826.py]\n",
      "[ERROR] CORE(272366,7f4009669740,python):2024-07-04-20:35:39.801.379 [mindspore/core/utils/file_utils.cc:253] GetRealPath] Get realpath failed, path[/tmp/ipykernel_272366/1339986826.py]\n"
     ]
    },
    {
     "name": "stdout",
     "output_type": "stream",
     "text": [
      "weight=\n",
      "(1024,  192,    1)\n",
      "9\n"
     ]
    },
    {
     "name": "stderr",
     "output_type": "stream",
     "text": [
      "[ERROR] CORE(272366,7f4009669740,python):2024-07-04-20:35:40.534.533 [mindspore/core/utils/file_utils.cc:253] GetRealPath] Get realpath failed, path[/tmp/ipykernel_272366/1339986826.py]\n",
      "[ERROR] CORE(272366,7f4009669740,python):2024-07-04-20:35:40.535.651 [mindspore/core/utils/file_utils.cc:253] GetRealPath] Get realpath failed, path[/tmp/ipykernel_272366/1339986826.py]\n",
      "[ERROR] CORE(272366,7f4009669740,python):2024-07-04-20:35:40.539.694 [mindspore/core/utils/file_utils.cc:253] GetRealPath] Get realpath failed, path[/tmp/ipykernel_272366/1339986826.py]\n",
      "[ERROR] CORE(272366,7f4009669740,python):2024-07-04-20:35:41.778.507 [mindspore/core/utils/file_utils.cc:253] GetRealPath] Get realpath failed, path[/tmp/ipykernel_272366/3428476077.py]\n",
      "[ERROR] CORE(272366,7f4009669740,python):2024-07-04-20:35:41.778.567 [mindspore/core/utils/file_utils.cc:253] GetRealPath] Get realpath failed, path[/tmp/ipykernel_272366/3428476077.py]\n",
      "[ERROR] CORE(272366,7f4009669740,python):2024-07-04-20:35:41.778.586 [mindspore/core/utils/file_utils.cc:253] GetRealPath] Get realpath failed, path[/tmp/ipykernel_272366/3428476077.py]\n",
      "[ERROR] CORE(272366,7f4009669740,python):2024-07-04-20:35:41.779.285 [mindspore/core/utils/file_utils.cc:253] GetRealPath] Get realpath failed, path[/tmp/ipykernel_272366/3428476077.py]\n",
      "[ERROR] CORE(272366,7f4009669740,python):2024-07-04-20:35:41.779.326 [mindspore/core/utils/file_utils.cc:253] GetRealPath] Get realpath failed, path[/tmp/ipykernel_272366/3428476077.py]\n",
      "[ERROR] CORE(272366,7f4009669740,python):2024-07-04-20:35:41.779.930 [mindspore/core/utils/file_utils.cc:253] GetRealPath] Get realpath failed, path[/tmp/ipykernel_272366/3428476077.py]\n",
      "[ERROR] CORE(272366,7f4009669740,python):2024-07-04-20:35:41.779.973 [mindspore/core/utils/file_utils.cc:253] GetRealPath] Get realpath failed, path[/tmp/ipykernel_272366/3428476077.py]\n",
      "[ERROR] CORE(272366,7f4009669740,python):2024-07-04-20:35:41.779.992 [mindspore/core/utils/file_utils.cc:253] GetRealPath] Get realpath failed, path[/tmp/ipykernel_272366/3428476077.py]\n",
      "[ERROR] CORE(272366,7f4009669740,python):2024-07-04-20:35:41.780.008 [mindspore/core/utils/file_utils.cc:253] GetRealPath] Get realpath failed, path[/tmp/ipykernel_272366/1339986826.py]\n",
      "[ERROR] CORE(272366,7f4009669740,python):2024-07-04-20:35:41.780.087 [mindspore/core/utils/file_utils.cc:253] GetRealPath] Get realpath failed, path[/tmp/ipykernel_272366/3428476077.py]\n",
      "[ERROR] CORE(272366,7f4009669740,python):2024-07-04-20:35:41.790.215 [mindspore/core/utils/file_utils.cc:253] GetRealPath] Get realpath failed, path[/tmp/ipykernel_272366/1339986826.py]\n",
      "[ERROR] CORE(272366,7f4009669740,python):2024-07-04-20:35:41.790.236 [mindspore/core/utils/file_utils.cc:253] GetRealPath] Get realpath failed, path[/tmp/ipykernel_272366/1339986826.py]\n",
      "[ERROR] CORE(272366,7f4009669740,python):2024-07-04-20:35:41.795.344 [mindspore/core/utils/file_utils.cc:253] GetRealPath] Get realpath failed, path[/tmp/ipykernel_272366/1339986826.py]\n"
     ]
    },
    {
     "name": "stdout",
     "output_type": "stream",
     "text": [
      "weight=\n",
      "(1024,  192,    1)\n",
      "10\n"
     ]
    },
    {
     "name": "stderr",
     "output_type": "stream",
     "text": [
      "[ERROR] CORE(272366,7f4009669740,python):2024-07-04-20:35:42.525.911 [mindspore/core/utils/file_utils.cc:253] GetRealPath] Get realpath failed, path[/tmp/ipykernel_272366/1339986826.py]\n",
      "[ERROR] CORE(272366,7f4009669740,python):2024-07-04-20:35:42.527.128 [mindspore/core/utils/file_utils.cc:253] GetRealPath] Get realpath failed, path[/tmp/ipykernel_272366/1339986826.py]\n",
      "[ERROR] CORE(272366,7f4009669740,python):2024-07-04-20:35:42.530.912 [mindspore/core/utils/file_utils.cc:253] GetRealPath] Get realpath failed, path[/tmp/ipykernel_272366/1339986826.py]\n",
      "[ERROR] CORE(272366,7f4009669740,python):2024-07-04-20:35:43.745.188 [mindspore/core/utils/file_utils.cc:253] GetRealPath] Get realpath failed, path[/tmp/ipykernel_272366/3428476077.py]\n",
      "[ERROR] CORE(272366,7f4009669740,python):2024-07-04-20:35:43.745.250 [mindspore/core/utils/file_utils.cc:253] GetRealPath] Get realpath failed, path[/tmp/ipykernel_272366/3428476077.py]\n",
      "[ERROR] CORE(272366,7f4009669740,python):2024-07-04-20:35:43.745.268 [mindspore/core/utils/file_utils.cc:253] GetRealPath] Get realpath failed, path[/tmp/ipykernel_272366/3428476077.py]\n",
      "[ERROR] CORE(272366,7f4009669740,python):2024-07-04-20:35:43.745.901 [mindspore/core/utils/file_utils.cc:253] GetRealPath] Get realpath failed, path[/tmp/ipykernel_272366/3428476077.py]\n",
      "[ERROR] CORE(272366,7f4009669740,python):2024-07-04-20:35:43.745.937 [mindspore/core/utils/file_utils.cc:253] GetRealPath] Get realpath failed, path[/tmp/ipykernel_272366/3428476077.py]\n",
      "[ERROR] CORE(272366,7f4009669740,python):2024-07-04-20:35:43.746.561 [mindspore/core/utils/file_utils.cc:253] GetRealPath] Get realpath failed, path[/tmp/ipykernel_272366/3428476077.py]\n",
      "[ERROR] CORE(272366,7f4009669740,python):2024-07-04-20:35:43.746.603 [mindspore/core/utils/file_utils.cc:253] GetRealPath] Get realpath failed, path[/tmp/ipykernel_272366/3428476077.py]\n",
      "[ERROR] CORE(272366,7f4009669740,python):2024-07-04-20:35:43.746.622 [mindspore/core/utils/file_utils.cc:253] GetRealPath] Get realpath failed, path[/tmp/ipykernel_272366/3428476077.py]\n",
      "[ERROR] CORE(272366,7f4009669740,python):2024-07-04-20:35:43.746.640 [mindspore/core/utils/file_utils.cc:253] GetRealPath] Get realpath failed, path[/tmp/ipykernel_272366/1339986826.py]\n",
      "[ERROR] CORE(272366,7f4009669740,python):2024-07-04-20:35:43.746.702 [mindspore/core/utils/file_utils.cc:253] GetRealPath] Get realpath failed, path[/tmp/ipykernel_272366/3428476077.py]\n",
      "[ERROR] CORE(272366,7f4009669740,python):2024-07-04-20:35:43.757.420 [mindspore/core/utils/file_utils.cc:253] GetRealPath] Get realpath failed, path[/tmp/ipykernel_272366/1339986826.py]\n",
      "[ERROR] CORE(272366,7f4009669740,python):2024-07-04-20:35:43.762.540 [mindspore/core/utils/file_utils.cc:253] GetRealPath] Get realpath failed, path[/tmp/ipykernel_272366/1339986826.py]\n",
      "[ERROR] CORE(272366,7f4009669740,python):2024-07-04-20:35:43.764.824 [mindspore/core/utils/file_utils.cc:253] GetRealPath] Get realpath failed, path[/tmp/ipykernel_272366/1339986826.py]\n"
     ]
    },
    {
     "name": "stdout",
     "output_type": "stream",
     "text": [
      "weight=\n",
      "(1024,  192,    1)\n",
      "11\n"
     ]
    },
    {
     "name": "stderr",
     "output_type": "stream",
     "text": [
      "[ERROR] CORE(272366,7f4009669740,python):2024-07-04-20:35:44.479.286 [mindspore/core/utils/file_utils.cc:253] GetRealPath] Get realpath failed, path[/tmp/ipykernel_272366/1339986826.py]\n",
      "[ERROR] CORE(272366,7f4009669740,python):2024-07-04-20:35:44.480.321 [mindspore/core/utils/file_utils.cc:253] GetRealPath] Get realpath failed, path[/tmp/ipykernel_272366/1339986826.py]\n",
      "[ERROR] CORE(272366,7f4009669740,python):2024-07-04-20:35:44.483.929 [mindspore/core/utils/file_utils.cc:253] GetRealPath] Get realpath failed, path[/tmp/ipykernel_272366/1339986826.py]\n",
      "[ERROR] CORE(272366,7f4009669740,python):2024-07-04-20:35:45.717.128 [mindspore/core/utils/file_utils.cc:253] GetRealPath] Get realpath failed, path[/tmp/ipykernel_272366/3428476077.py]\n",
      "[ERROR] CORE(272366,7f4009669740,python):2024-07-04-20:35:45.717.188 [mindspore/core/utils/file_utils.cc:253] GetRealPath] Get realpath failed, path[/tmp/ipykernel_272366/3428476077.py]\n",
      "[ERROR] CORE(272366,7f4009669740,python):2024-07-04-20:35:45.717.207 [mindspore/core/utils/file_utils.cc:253] GetRealPath] Get realpath failed, path[/tmp/ipykernel_272366/3428476077.py]\n",
      "[ERROR] CORE(272366,7f4009669740,python):2024-07-04-20:35:45.717.841 [mindspore/core/utils/file_utils.cc:253] GetRealPath] Get realpath failed, path[/tmp/ipykernel_272366/3428476077.py]\n",
      "[ERROR] CORE(272366,7f4009669740,python):2024-07-04-20:35:45.717.877 [mindspore/core/utils/file_utils.cc:253] GetRealPath] Get realpath failed, path[/tmp/ipykernel_272366/3428476077.py]\n",
      "[ERROR] CORE(272366,7f4009669740,python):2024-07-04-20:35:45.718.513 [mindspore/core/utils/file_utils.cc:253] GetRealPath] Get realpath failed, path[/tmp/ipykernel_272366/3428476077.py]\n",
      "[ERROR] CORE(272366,7f4009669740,python):2024-07-04-20:35:45.718.556 [mindspore/core/utils/file_utils.cc:253] GetRealPath] Get realpath failed, path[/tmp/ipykernel_272366/3428476077.py]\n",
      "[ERROR] CORE(272366,7f4009669740,python):2024-07-04-20:35:45.718.574 [mindspore/core/utils/file_utils.cc:253] GetRealPath] Get realpath failed, path[/tmp/ipykernel_272366/3428476077.py]\n",
      "[ERROR] CORE(272366,7f4009669740,python):2024-07-04-20:35:45.718.591 [mindspore/core/utils/file_utils.cc:253] GetRealPath] Get realpath failed, path[/tmp/ipykernel_272366/1339986826.py]\n",
      "[ERROR] CORE(272366,7f4009669740,python):2024-07-04-20:35:45.718.646 [mindspore/core/utils/file_utils.cc:253] GetRealPath] Get realpath failed, path[/tmp/ipykernel_272366/3428476077.py]\n",
      "[ERROR] CORE(272366,7f4009669740,python):2024-07-04-20:35:45.733.595 [mindspore/core/utils/file_utils.cc:253] GetRealPath] Get realpath failed, path[/tmp/ipykernel_272366/1339986826.py]\n",
      "[ERROR] CORE(272366,7f4009669740,python):2024-07-04-20:35:45.734.675 [mindspore/core/utils/file_utils.cc:253] GetRealPath] Get realpath failed, path[/tmp/ipykernel_272366/1339986826.py]\n",
      "[ERROR] CORE(272366,7f4009669740,python):2024-07-04-20:35:45.735.749 [mindspore/core/utils/file_utils.cc:253] GetRealPath] Get realpath failed, path[/tmp/ipykernel_272366/1339986826.py]\n"
     ]
    },
    {
     "name": "stdout",
     "output_type": "stream",
     "text": [
      "weight=\n",
      "(1024,  192,    1)\n",
      "12\n"
     ]
    },
    {
     "name": "stderr",
     "output_type": "stream",
     "text": [
      "[ERROR] CORE(272366,7f4009669740,python):2024-07-04-20:35:46.454.957 [mindspore/core/utils/file_utils.cc:253] GetRealPath] Get realpath failed, path[/tmp/ipykernel_272366/1339986826.py]\n",
      "[ERROR] CORE(272366,7f4009669740,python):2024-07-04-20:35:46.456.011 [mindspore/core/utils/file_utils.cc:253] GetRealPath] Get realpath failed, path[/tmp/ipykernel_272366/1339986826.py]\n",
      "[ERROR] CORE(272366,7f4009669740,python):2024-07-04-20:35:46.459.669 [mindspore/core/utils/file_utils.cc:253] GetRealPath] Get realpath failed, path[/tmp/ipykernel_272366/1339986826.py]\n",
      "[ERROR] CORE(272366,7f4009669740,python):2024-07-04-20:35:47.680.734 [mindspore/core/utils/file_utils.cc:253] GetRealPath] Get realpath failed, path[/tmp/ipykernel_272366/3428476077.py]\n",
      "[ERROR] CORE(272366,7f4009669740,python):2024-07-04-20:35:47.680.796 [mindspore/core/utils/file_utils.cc:253] GetRealPath] Get realpath failed, path[/tmp/ipykernel_272366/3428476077.py]\n",
      "[ERROR] CORE(272366,7f4009669740,python):2024-07-04-20:35:47.680.817 [mindspore/core/utils/file_utils.cc:253] GetRealPath] Get realpath failed, path[/tmp/ipykernel_272366/3428476077.py]\n",
      "[ERROR] CORE(272366,7f4009669740,python):2024-07-04-20:35:47.681.498 [mindspore/core/utils/file_utils.cc:253] GetRealPath] Get realpath failed, path[/tmp/ipykernel_272366/3428476077.py]\n",
      "[ERROR] CORE(272366,7f4009669740,python):2024-07-04-20:35:47.681.550 [mindspore/core/utils/file_utils.cc:253] GetRealPath] Get realpath failed, path[/tmp/ipykernel_272366/3428476077.py]\n",
      "[ERROR] CORE(272366,7f4009669740,python):2024-07-04-20:35:47.682.183 [mindspore/core/utils/file_utils.cc:253] GetRealPath] Get realpath failed, path[/tmp/ipykernel_272366/3428476077.py]\n",
      "[ERROR] CORE(272366,7f4009669740,python):2024-07-04-20:35:47.682.226 [mindspore/core/utils/file_utils.cc:253] GetRealPath] Get realpath failed, path[/tmp/ipykernel_272366/3428476077.py]\n",
      "[ERROR] CORE(272366,7f4009669740,python):2024-07-04-20:35:47.682.245 [mindspore/core/utils/file_utils.cc:253] GetRealPath] Get realpath failed, path[/tmp/ipykernel_272366/3428476077.py]\n",
      "[ERROR] CORE(272366,7f4009669740,python):2024-07-04-20:35:47.682.262 [mindspore/core/utils/file_utils.cc:253] GetRealPath] Get realpath failed, path[/tmp/ipykernel_272366/1339986826.py]\n",
      "[ERROR] CORE(272366,7f4009669740,python):2024-07-04-20:35:47.682.322 [mindspore/core/utils/file_utils.cc:253] GetRealPath] Get realpath failed, path[/tmp/ipykernel_272366/3428476077.py]\n",
      "[ERROR] CORE(272366,7f4009669740,python):2024-07-04-20:35:47.697.190 [mindspore/core/utils/file_utils.cc:253] GetRealPath] Get realpath failed, path[/tmp/ipykernel_272366/1339986826.py]\n",
      "[ERROR] CORE(272366,7f4009669740,python):2024-07-04-20:35:47.697.339 [mindspore/core/utils/file_utils.cc:253] GetRealPath] Get realpath failed, path[/tmp/ipykernel_272366/1339986826.py]\n",
      "[ERROR] CORE(272366,7f4009669740,python):2024-07-04-20:35:47.699.459 [mindspore/core/utils/file_utils.cc:253] GetRealPath] Get realpath failed, path[/tmp/ipykernel_272366/1339986826.py]\n"
     ]
    },
    {
     "name": "stdout",
     "output_type": "stream",
     "text": [
      "weight=\n",
      "(1024,  192,    1)\n",
      "13\n"
     ]
    },
    {
     "name": "stderr",
     "output_type": "stream",
     "text": [
      "[ERROR] CORE(272366,7f4009669740,python):2024-07-04-20:35:48.424.422 [mindspore/core/utils/file_utils.cc:253] GetRealPath] Get realpath failed, path[/tmp/ipykernel_272366/1339986826.py]\n",
      "[ERROR] CORE(272366,7f4009669740,python):2024-07-04-20:35:48.425.523 [mindspore/core/utils/file_utils.cc:253] GetRealPath] Get realpath failed, path[/tmp/ipykernel_272366/1339986826.py]\n",
      "[ERROR] CORE(272366,7f4009669740,python):2024-07-04-20:35:48.429.175 [mindspore/core/utils/file_utils.cc:253] GetRealPath] Get realpath failed, path[/tmp/ipykernel_272366/1339986826.py]\n",
      "[ERROR] CORE(272366,7f4009669740,python):2024-07-04-20:35:49.708.105 [mindspore/core/utils/file_utils.cc:253] GetRealPath] Get realpath failed, path[/tmp/ipykernel_272366/3428476077.py]\n",
      "[ERROR] CORE(272366,7f4009669740,python):2024-07-04-20:35:49.708.166 [mindspore/core/utils/file_utils.cc:253] GetRealPath] Get realpath failed, path[/tmp/ipykernel_272366/3428476077.py]\n",
      "[ERROR] CORE(272366,7f4009669740,python):2024-07-04-20:35:49.708.186 [mindspore/core/utils/file_utils.cc:253] GetRealPath] Get realpath failed, path[/tmp/ipykernel_272366/3428476077.py]\n",
      "[ERROR] CORE(272366,7f4009669740,python):2024-07-04-20:35:49.708.843 [mindspore/core/utils/file_utils.cc:253] GetRealPath] Get realpath failed, path[/tmp/ipykernel_272366/3428476077.py]\n",
      "[ERROR] CORE(272366,7f4009669740,python):2024-07-04-20:35:49.708.881 [mindspore/core/utils/file_utils.cc:253] GetRealPath] Get realpath failed, path[/tmp/ipykernel_272366/3428476077.py]\n",
      "[ERROR] CORE(272366,7f4009669740,python):2024-07-04-20:35:49.709.502 [mindspore/core/utils/file_utils.cc:253] GetRealPath] Get realpath failed, path[/tmp/ipykernel_272366/3428476077.py]\n",
      "[ERROR] CORE(272366,7f4009669740,python):2024-07-04-20:35:49.709.554 [mindspore/core/utils/file_utils.cc:253] GetRealPath] Get realpath failed, path[/tmp/ipykernel_272366/3428476077.py]\n",
      "[ERROR] CORE(272366,7f4009669740,python):2024-07-04-20:35:49.709.573 [mindspore/core/utils/file_utils.cc:253] GetRealPath] Get realpath failed, path[/tmp/ipykernel_272366/3428476077.py]\n",
      "[ERROR] CORE(272366,7f4009669740,python):2024-07-04-20:35:49.709.590 [mindspore/core/utils/file_utils.cc:253] GetRealPath] Get realpath failed, path[/tmp/ipykernel_272366/1339986826.py]\n",
      "[ERROR] CORE(272366,7f4009669740,python):2024-07-04-20:35:49.709.648 [mindspore/core/utils/file_utils.cc:253] GetRealPath] Get realpath failed, path[/tmp/ipykernel_272366/3428476077.py]\n",
      "[ERROR] CORE(272366,7f4009669740,python):2024-07-04-20:35:49.720.814 [mindspore/core/utils/file_utils.cc:253] GetRealPath] Get realpath failed, path[/tmp/ipykernel_272366/1339986826.py]\n",
      "[ERROR] CORE(272366,7f4009669740,python):2024-07-04-20:35:49.725.481 [mindspore/core/utils/file_utils.cc:253] GetRealPath] Get realpath failed, path[/tmp/ipykernel_272366/1339986826.py]\n",
      "[ERROR] CORE(272366,7f4009669740,python):2024-07-04-20:35:49.725.498 [mindspore/core/utils/file_utils.cc:253] GetRealPath] Get realpath failed, path[/tmp/ipykernel_272366/1339986826.py]\n"
     ]
    },
    {
     "name": "stdout",
     "output_type": "stream",
     "text": [
      "weight=\n",
      "(1024,  192,    1)\n",
      "14\n"
     ]
    },
    {
     "name": "stderr",
     "output_type": "stream",
     "text": [
      "[ERROR] CORE(272366,7f4009669740,python):2024-07-04-20:35:50.443.459 [mindspore/core/utils/file_utils.cc:253] GetRealPath] Get realpath failed, path[/tmp/ipykernel_272366/1339986826.py]\n",
      "[ERROR] CORE(272366,7f4009669740,python):2024-07-04-20:35:50.444.477 [mindspore/core/utils/file_utils.cc:253] GetRealPath] Get realpath failed, path[/tmp/ipykernel_272366/1339986826.py]\n",
      "[ERROR] CORE(272366,7f4009669740,python):2024-07-04-20:35:50.448.043 [mindspore/core/utils/file_utils.cc:253] GetRealPath] Get realpath failed, path[/tmp/ipykernel_272366/1339986826.py]\n",
      "[ERROR] CORE(272366,7f4009669740,python):2024-07-04-20:35:51.662.074 [mindspore/core/utils/file_utils.cc:253] GetRealPath] Get realpath failed, path[/tmp/ipykernel_272366/3428476077.py]\n",
      "[ERROR] CORE(272366,7f4009669740,python):2024-07-04-20:35:51.662.146 [mindspore/core/utils/file_utils.cc:253] GetRealPath] Get realpath failed, path[/tmp/ipykernel_272366/3428476077.py]\n",
      "[ERROR] CORE(272366,7f4009669740,python):2024-07-04-20:35:51.662.167 [mindspore/core/utils/file_utils.cc:253] GetRealPath] Get realpath failed, path[/tmp/ipykernel_272366/3428476077.py]\n",
      "[ERROR] CORE(272366,7f4009669740,python):2024-07-04-20:35:51.662.818 [mindspore/core/utils/file_utils.cc:253] GetRealPath] Get realpath failed, path[/tmp/ipykernel_272366/3428476077.py]\n",
      "[ERROR] CORE(272366,7f4009669740,python):2024-07-04-20:35:51.662.855 [mindspore/core/utils/file_utils.cc:253] GetRealPath] Get realpath failed, path[/tmp/ipykernel_272366/3428476077.py]\n",
      "[ERROR] CORE(272366,7f4009669740,python):2024-07-04-20:35:51.663.471 [mindspore/core/utils/file_utils.cc:253] GetRealPath] Get realpath failed, path[/tmp/ipykernel_272366/3428476077.py]\n",
      "[ERROR] CORE(272366,7f4009669740,python):2024-07-04-20:35:51.663.515 [mindspore/core/utils/file_utils.cc:253] GetRealPath] Get realpath failed, path[/tmp/ipykernel_272366/3428476077.py]\n",
      "[ERROR] CORE(272366,7f4009669740,python):2024-07-04-20:35:51.663.548 [mindspore/core/utils/file_utils.cc:253] GetRealPath] Get realpath failed, path[/tmp/ipykernel_272366/3428476077.py]\n",
      "[ERROR] CORE(272366,7f4009669740,python):2024-07-04-20:35:51.663.566 [mindspore/core/utils/file_utils.cc:253] GetRealPath] Get realpath failed, path[/tmp/ipykernel_272366/1339986826.py]\n",
      "[ERROR] CORE(272366,7f4009669740,python):2024-07-04-20:35:51.663.626 [mindspore/core/utils/file_utils.cc:253] GetRealPath] Get realpath failed, path[/tmp/ipykernel_272366/3428476077.py]\n",
      "[ERROR] CORE(272366,7f4009669740,python):2024-07-04-20:35:51.676.383 [mindspore/core/utils/file_utils.cc:253] GetRealPath] Get realpath failed, path[/tmp/ipykernel_272366/1339986826.py]\n",
      "[ERROR] CORE(272366,7f4009669740,python):2024-07-04-20:35:51.678.826 [mindspore/core/utils/file_utils.cc:253] GetRealPath] Get realpath failed, path[/tmp/ipykernel_272366/1339986826.py]\n",
      "[ERROR] CORE(272366,7f4009669740,python):2024-07-04-20:35:51.681.669 [mindspore/core/utils/file_utils.cc:253] GetRealPath] Get realpath failed, path[/tmp/ipykernel_272366/1339986826.py]\n"
     ]
    },
    {
     "name": "stdout",
     "output_type": "stream",
     "text": [
      "weight=\n",
      "(1024,  192,    1)\n",
      "15\n"
     ]
    },
    {
     "name": "stderr",
     "output_type": "stream",
     "text": [
      "[ERROR] CORE(272366,7f4009669740,python):2024-07-04-20:35:52.419.379 [mindspore/core/utils/file_utils.cc:253] GetRealPath] Get realpath failed, path[/tmp/ipykernel_272366/1339986826.py]\n",
      "[ERROR] CORE(272366,7f4009669740,python):2024-07-04-20:35:52.420.414 [mindspore/core/utils/file_utils.cc:253] GetRealPath] Get realpath failed, path[/tmp/ipykernel_272366/1339986826.py]\n",
      "[ERROR] CORE(272366,7f4009669740,python):2024-07-04-20:35:52.424.156 [mindspore/core/utils/file_utils.cc:253] GetRealPath] Get realpath failed, path[/tmp/ipykernel_272366/1339986826.py]\n",
      "[ERROR] CORE(272366,7f4009669740,python):2024-07-04-20:35:53.655.722 [mindspore/core/utils/file_utils.cc:253] GetRealPath] Get realpath failed, path[/tmp/ipykernel_272366/3428476077.py]\n",
      "[ERROR] CORE(272366,7f4009669740,python):2024-07-04-20:35:53.655.783 [mindspore/core/utils/file_utils.cc:253] GetRealPath] Get realpath failed, path[/tmp/ipykernel_272366/3428476077.py]\n",
      "[ERROR] CORE(272366,7f4009669740,python):2024-07-04-20:35:53.655.803 [mindspore/core/utils/file_utils.cc:253] GetRealPath] Get realpath failed, path[/tmp/ipykernel_272366/3428476077.py]\n",
      "[ERROR] CORE(272366,7f4009669740,python):2024-07-04-20:35:53.656.487 [mindspore/core/utils/file_utils.cc:253] GetRealPath] Get realpath failed, path[/tmp/ipykernel_272366/3428476077.py]\n",
      "[ERROR] CORE(272366,7f4009669740,python):2024-07-04-20:35:53.656.527 [mindspore/core/utils/file_utils.cc:253] GetRealPath] Get realpath failed, path[/tmp/ipykernel_272366/3428476077.py]\n",
      "[ERROR] CORE(272366,7f4009669740,python):2024-07-04-20:35:53.657.149 [mindspore/core/utils/file_utils.cc:253] GetRealPath] Get realpath failed, path[/tmp/ipykernel_272366/3428476077.py]\n",
      "[ERROR] CORE(272366,7f4009669740,python):2024-07-04-20:35:53.657.192 [mindspore/core/utils/file_utils.cc:253] GetRealPath] Get realpath failed, path[/tmp/ipykernel_272366/3428476077.py]\n",
      "[ERROR] CORE(272366,7f4009669740,python):2024-07-04-20:35:53.657.211 [mindspore/core/utils/file_utils.cc:253] GetRealPath] Get realpath failed, path[/tmp/ipykernel_272366/3428476077.py]\n",
      "[ERROR] CORE(272366,7f4009669740,python):2024-07-04-20:35:53.657.228 [mindspore/core/utils/file_utils.cc:253] GetRealPath] Get realpath failed, path[/tmp/ipykernel_272366/1339986826.py]\n",
      "[ERROR] CORE(272366,7f4009669740,python):2024-07-04-20:35:53.657.287 [mindspore/core/utils/file_utils.cc:253] GetRealPath] Get realpath failed, path[/tmp/ipykernel_272366/3428476077.py]\n",
      "[ERROR] CORE(272366,7f4009669740,python):2024-07-04-20:35:53.668.840 [mindspore/core/utils/file_utils.cc:253] GetRealPath] Get realpath failed, path[/tmp/ipykernel_272366/1339986826.py]\n",
      "[ERROR] CORE(272366,7f4009669740,python):2024-07-04-20:35:53.669.000 [mindspore/core/utils/file_utils.cc:253] GetRealPath] Get realpath failed, path[/tmp/ipykernel_272366/1339986826.py]\n",
      "[ERROR] CORE(272366,7f4009669740,python):2024-07-04-20:35:53.672.319 [mindspore/core/utils/file_utils.cc:253] GetRealPath] Get realpath failed, path[/tmp/ipykernel_272366/1339986826.py]\n"
     ]
    },
    {
     "name": "stdout",
     "output_type": "stream",
     "text": [
      "weight=\n",
      "(1024,  192,    1)\n",
      "16\n"
     ]
    },
    {
     "name": "stderr",
     "output_type": "stream",
     "text": [
      "[ERROR] CORE(272366,7f4009669740,python):2024-07-04-20:35:54.403.848 [mindspore/core/utils/file_utils.cc:253] GetRealPath] Get realpath failed, path[/tmp/ipykernel_272366/1339986826.py]\n",
      "[ERROR] CORE(272366,7f4009669740,python):2024-07-04-20:35:54.404.914 [mindspore/core/utils/file_utils.cc:253] GetRealPath] Get realpath failed, path[/tmp/ipykernel_272366/1339986826.py]\n",
      "[ERROR] CORE(272366,7f4009669740,python):2024-07-04-20:35:54.408.679 [mindspore/core/utils/file_utils.cc:253] GetRealPath] Get realpath failed, path[/tmp/ipykernel_272366/1339986826.py]\n",
      "[ERROR] CORE(272366,7f4009669740,python):2024-07-04-20:35:55.636.959 [mindspore/core/utils/file_utils.cc:253] GetRealPath] Get realpath failed, path[/tmp/ipykernel_272366/3428476077.py]\n",
      "[ERROR] CORE(272366,7f4009669740,python):2024-07-04-20:35:55.637.016 [mindspore/core/utils/file_utils.cc:253] GetRealPath] Get realpath failed, path[/tmp/ipykernel_272366/3428476077.py]\n",
      "[ERROR] CORE(272366,7f4009669740,python):2024-07-04-20:35:55.637.035 [mindspore/core/utils/file_utils.cc:253] GetRealPath] Get realpath failed, path[/tmp/ipykernel_272366/3428476077.py]\n",
      "[ERROR] CORE(272366,7f4009669740,python):2024-07-04-20:35:55.637.727 [mindspore/core/utils/file_utils.cc:253] GetRealPath] Get realpath failed, path[/tmp/ipykernel_272366/3428476077.py]\n",
      "[ERROR] CORE(272366,7f4009669740,python):2024-07-04-20:35:55.637.767 [mindspore/core/utils/file_utils.cc:253] GetRealPath] Get realpath failed, path[/tmp/ipykernel_272366/3428476077.py]\n",
      "[ERROR] CORE(272366,7f4009669740,python):2024-07-04-20:35:55.638.391 [mindspore/core/utils/file_utils.cc:253] GetRealPath] Get realpath failed, path[/tmp/ipykernel_272366/3428476077.py]\n",
      "[ERROR] CORE(272366,7f4009669740,python):2024-07-04-20:35:55.638.435 [mindspore/core/utils/file_utils.cc:253] GetRealPath] Get realpath failed, path[/tmp/ipykernel_272366/3428476077.py]\n",
      "[ERROR] CORE(272366,7f4009669740,python):2024-07-04-20:35:55.638.454 [mindspore/core/utils/file_utils.cc:253] GetRealPath] Get realpath failed, path[/tmp/ipykernel_272366/3428476077.py]\n",
      "[ERROR] CORE(272366,7f4009669740,python):2024-07-04-20:35:55.638.470 [mindspore/core/utils/file_utils.cc:253] GetRealPath] Get realpath failed, path[/tmp/ipykernel_272366/1339986826.py]\n",
      "[ERROR] CORE(272366,7f4009669740,python):2024-07-04-20:35:55.638.529 [mindspore/core/utils/file_utils.cc:253] GetRealPath] Get realpath failed, path[/tmp/ipykernel_272366/3428476077.py]\n",
      "[ERROR] CORE(272366,7f4009669740,python):2024-07-04-20:35:55.648.791 [mindspore/core/utils/file_utils.cc:253] GetRealPath] Get realpath failed, path[/tmp/ipykernel_272366/1339986826.py]\n",
      "[ERROR] CORE(272366,7f4009669740,python):2024-07-04-20:35:55.652.715 [mindspore/core/utils/file_utils.cc:253] GetRealPath] Get realpath failed, path[/tmp/ipykernel_272366/1339986826.py]\n",
      "[ERROR] CORE(272366,7f4009669740,python):2024-07-04-20:35:55.655.065 [mindspore/core/utils/file_utils.cc:253] GetRealPath] Get realpath failed, path[/tmp/ipykernel_272366/1339986826.py]\n"
     ]
    },
    {
     "name": "stdout",
     "output_type": "stream",
     "text": [
      "weight=\n",
      "(1024,  192,    1)\n",
      "17\n"
     ]
    },
    {
     "name": "stderr",
     "output_type": "stream",
     "text": [
      "[ERROR] CORE(272366,7f4009669740,python):2024-07-04-20:35:56.371.344 [mindspore/core/utils/file_utils.cc:253] GetRealPath] Get realpath failed, path[/tmp/ipykernel_272366/1339986826.py]\n",
      "[ERROR] CORE(272366,7f4009669740,python):2024-07-04-20:35:56.372.385 [mindspore/core/utils/file_utils.cc:253] GetRealPath] Get realpath failed, path[/tmp/ipykernel_272366/1339986826.py]\n",
      "[ERROR] CORE(272366,7f4009669740,python):2024-07-04-20:35:56.375.863 [mindspore/core/utils/file_utils.cc:253] GetRealPath] Get realpath failed, path[/tmp/ipykernel_272366/1339986826.py]\n",
      "[ERROR] CORE(272366,7f4009669740,python):2024-07-04-20:35:57.588.348 [mindspore/core/utils/file_utils.cc:253] GetRealPath] Get realpath failed, path[/tmp/ipykernel_272366/3428476077.py]\n",
      "[ERROR] CORE(272366,7f4009669740,python):2024-07-04-20:35:57.588.406 [mindspore/core/utils/file_utils.cc:253] GetRealPath] Get realpath failed, path[/tmp/ipykernel_272366/3428476077.py]\n",
      "[ERROR] CORE(272366,7f4009669740,python):2024-07-04-20:35:57.588.427 [mindspore/core/utils/file_utils.cc:253] GetRealPath] Get realpath failed, path[/tmp/ipykernel_272366/3428476077.py]\n",
      "[ERROR] CORE(272366,7f4009669740,python):2024-07-04-20:35:57.589.080 [mindspore/core/utils/file_utils.cc:253] GetRealPath] Get realpath failed, path[/tmp/ipykernel_272366/3428476077.py]\n",
      "[ERROR] CORE(272366,7f4009669740,python):2024-07-04-20:35:57.589.120 [mindspore/core/utils/file_utils.cc:253] GetRealPath] Get realpath failed, path[/tmp/ipykernel_272366/3428476077.py]\n",
      "[ERROR] CORE(272366,7f4009669740,python):2024-07-04-20:35:57.589.742 [mindspore/core/utils/file_utils.cc:253] GetRealPath] Get realpath failed, path[/tmp/ipykernel_272366/3428476077.py]\n",
      "[ERROR] CORE(272366,7f4009669740,python):2024-07-04-20:35:57.589.784 [mindspore/core/utils/file_utils.cc:253] GetRealPath] Get realpath failed, path[/tmp/ipykernel_272366/3428476077.py]\n",
      "[ERROR] CORE(272366,7f4009669740,python):2024-07-04-20:35:57.589.803 [mindspore/core/utils/file_utils.cc:253] GetRealPath] Get realpath failed, path[/tmp/ipykernel_272366/3428476077.py]\n",
      "[ERROR] CORE(272366,7f4009669740,python):2024-07-04-20:35:57.589.821 [mindspore/core/utils/file_utils.cc:253] GetRealPath] Get realpath failed, path[/tmp/ipykernel_272366/1339986826.py]\n",
      "[ERROR] CORE(272366,7f4009669740,python):2024-07-04-20:35:57.589.880 [mindspore/core/utils/file_utils.cc:253] GetRealPath] Get realpath failed, path[/tmp/ipykernel_272366/3428476077.py]\n",
      "[ERROR] CORE(272366,7f4009669740,python):2024-07-04-20:35:57.599.793 [mindspore/core/utils/file_utils.cc:253] GetRealPath] Get realpath failed, path[/tmp/ipykernel_272366/1339986826.py]\n",
      "[ERROR] CORE(272366,7f4009669740,python):2024-07-04-20:35:57.603.499 [mindspore/core/utils/file_utils.cc:253] GetRealPath] Get realpath failed, path[/tmp/ipykernel_272366/1339986826.py]\n",
      "[ERROR] CORE(272366,7f4009669740,python):2024-07-04-20:35:57.606.843 [mindspore/core/utils/file_utils.cc:253] GetRealPath] Get realpath failed, path[/tmp/ipykernel_272366/1339986826.py]\n"
     ]
    },
    {
     "name": "stdout",
     "output_type": "stream",
     "text": [
      "weight=\n",
      "(1024,  192,    1)\n",
      "18\n"
     ]
    },
    {
     "name": "stderr",
     "output_type": "stream",
     "text": [
      "[ERROR] CORE(272366,7f4009669740,python):2024-07-04-20:35:58.331.130 [mindspore/core/utils/file_utils.cc:253] GetRealPath] Get realpath failed, path[/tmp/ipykernel_272366/1339986826.py]\n",
      "[ERROR] CORE(272366,7f4009669740,python):2024-07-04-20:35:58.332.191 [mindspore/core/utils/file_utils.cc:253] GetRealPath] Get realpath failed, path[/tmp/ipykernel_272366/1339986826.py]\n",
      "[ERROR] CORE(272366,7f4009669740,python):2024-07-04-20:35:58.335.881 [mindspore/core/utils/file_utils.cc:253] GetRealPath] Get realpath failed, path[/tmp/ipykernel_272366/1339986826.py]\n",
      "[ERROR] CORE(272366,7f4009669740,python):2024-07-04-20:35:59.572.142 [mindspore/core/utils/file_utils.cc:253] GetRealPath] Get realpath failed, path[/tmp/ipykernel_272366/3428476077.py]\n",
      "[ERROR] CORE(272366,7f4009669740,python):2024-07-04-20:35:59.572.222 [mindspore/core/utils/file_utils.cc:253] GetRealPath] Get realpath failed, path[/tmp/ipykernel_272366/3428476077.py]\n",
      "[ERROR] CORE(272366,7f4009669740,python):2024-07-04-20:35:59.572.247 [mindspore/core/utils/file_utils.cc:253] GetRealPath] Get realpath failed, path[/tmp/ipykernel_272366/3428476077.py]\n",
      "[ERROR] CORE(272366,7f4009669740,python):2024-07-04-20:35:59.572.909 [mindspore/core/utils/file_utils.cc:253] GetRealPath] Get realpath failed, path[/tmp/ipykernel_272366/3428476077.py]\n",
      "[ERROR] CORE(272366,7f4009669740,python):2024-07-04-20:35:59.572.951 [mindspore/core/utils/file_utils.cc:253] GetRealPath] Get realpath failed, path[/tmp/ipykernel_272366/3428476077.py]\n",
      "[ERROR] CORE(272366,7f4009669740,python):2024-07-04-20:35:59.573.620 [mindspore/core/utils/file_utils.cc:253] GetRealPath] Get realpath failed, path[/tmp/ipykernel_272366/3428476077.py]\n",
      "[ERROR] CORE(272366,7f4009669740,python):2024-07-04-20:35:59.573.664 [mindspore/core/utils/file_utils.cc:253] GetRealPath] Get realpath failed, path[/tmp/ipykernel_272366/3428476077.py]\n",
      "[ERROR] CORE(272366,7f4009669740,python):2024-07-04-20:35:59.573.682 [mindspore/core/utils/file_utils.cc:253] GetRealPath] Get realpath failed, path[/tmp/ipykernel_272366/3428476077.py]\n",
      "[ERROR] CORE(272366,7f4009669740,python):2024-07-04-20:35:59.573.700 [mindspore/core/utils/file_utils.cc:253] GetRealPath] Get realpath failed, path[/tmp/ipykernel_272366/1339986826.py]\n",
      "[ERROR] CORE(272366,7f4009669740,python):2024-07-04-20:35:59.573.765 [mindspore/core/utils/file_utils.cc:253] GetRealPath] Get realpath failed, path[/tmp/ipykernel_272366/3428476077.py]\n",
      "[ERROR] CORE(272366,7f4009669740,python):2024-07-04-20:35:59.586.776 [mindspore/core/utils/file_utils.cc:253] GetRealPath] Get realpath failed, path[/tmp/ipykernel_272366/1339986826.py]\n",
      "[ERROR] CORE(272366,7f4009669740,python):2024-07-04-20:35:59.587.991 [mindspore/core/utils/file_utils.cc:253] GetRealPath] Get realpath failed, path[/tmp/ipykernel_272366/1339986826.py]\n",
      "[ERROR] CORE(272366,7f4009669740,python):2024-07-04-20:35:59.590.259 [mindspore/core/utils/file_utils.cc:253] GetRealPath] Get realpath failed, path[/tmp/ipykernel_272366/1339986826.py]\n"
     ]
    },
    {
     "name": "stdout",
     "output_type": "stream",
     "text": [
      "weight=\n",
      "(1024,  192,    1)\n",
      "19\n"
     ]
    },
    {
     "name": "stderr",
     "output_type": "stream",
     "text": [
      "[ERROR] CORE(272366,7f4009669740,python):2024-07-04-20:36:00.305.242 [mindspore/core/utils/file_utils.cc:253] GetRealPath] Get realpath failed, path[/tmp/ipykernel_272366/1339986826.py]\n",
      "[ERROR] CORE(272366,7f4009669740,python):2024-07-04-20:36:00.306.296 [mindspore/core/utils/file_utils.cc:253] GetRealPath] Get realpath failed, path[/tmp/ipykernel_272366/1339986826.py]\n",
      "[ERROR] CORE(272366,7f4009669740,python):2024-07-04-20:36:00.309.945 [mindspore/core/utils/file_utils.cc:253] GetRealPath] Get realpath failed, path[/tmp/ipykernel_272366/1339986826.py]\n",
      "[ERROR] CORE(272366,7f4009669740,python):2024-07-04-20:36:01.512.825 [mindspore/core/utils/file_utils.cc:253] GetRealPath] Get realpath failed, path[/tmp/ipykernel_272366/3428476077.py]\n",
      "[ERROR] CORE(272366,7f4009669740,python):2024-07-04-20:36:01.512.897 [mindspore/core/utils/file_utils.cc:253] GetRealPath] Get realpath failed, path[/tmp/ipykernel_272366/3428476077.py]\n",
      "[ERROR] CORE(272366,7f4009669740,python):2024-07-04-20:36:01.512.917 [mindspore/core/utils/file_utils.cc:253] GetRealPath] Get realpath failed, path[/tmp/ipykernel_272366/3428476077.py]\n",
      "[ERROR] CORE(272366,7f4009669740,python):2024-07-04-20:36:01.513.543 [mindspore/core/utils/file_utils.cc:253] GetRealPath] Get realpath failed, path[/tmp/ipykernel_272366/3428476077.py]\n",
      "[ERROR] CORE(272366,7f4009669740,python):2024-07-04-20:36:01.513.591 [mindspore/core/utils/file_utils.cc:253] GetRealPath] Get realpath failed, path[/tmp/ipykernel_272366/3428476077.py]\n",
      "[ERROR] CORE(272366,7f4009669740,python):2024-07-04-20:36:01.514.217 [mindspore/core/utils/file_utils.cc:253] GetRealPath] Get realpath failed, path[/tmp/ipykernel_272366/3428476077.py]\n",
      "[ERROR] CORE(272366,7f4009669740,python):2024-07-04-20:36:01.514.259 [mindspore/core/utils/file_utils.cc:253] GetRealPath] Get realpath failed, path[/tmp/ipykernel_272366/3428476077.py]\n",
      "[ERROR] CORE(272366,7f4009669740,python):2024-07-04-20:36:01.514.279 [mindspore/core/utils/file_utils.cc:253] GetRealPath] Get realpath failed, path[/tmp/ipykernel_272366/3428476077.py]\n",
      "[ERROR] CORE(272366,7f4009669740,python):2024-07-04-20:36:01.514.295 [mindspore/core/utils/file_utils.cc:253] GetRealPath] Get realpath failed, path[/tmp/ipykernel_272366/1339986826.py]\n",
      "[ERROR] CORE(272366,7f4009669740,python):2024-07-04-20:36:01.514.353 [mindspore/core/utils/file_utils.cc:253] GetRealPath] Get realpath failed, path[/tmp/ipykernel_272366/3428476077.py]\n",
      "[ERROR] CORE(272366,7f4009669740,python):2024-07-04-20:36:01.525.447 [mindspore/core/utils/file_utils.cc:253] GetRealPath] Get realpath failed, path[/tmp/ipykernel_272366/1339986826.py]\n",
      "[ERROR] CORE(272366,7f4009669740,python):2024-07-04-20:36:01.525.464 [mindspore/core/utils/file_utils.cc:253] GetRealPath] Get realpath failed, path[/tmp/ipykernel_272366/1339986826.py]\n",
      "[ERROR] CORE(272366,7f4009669740,python):2024-07-04-20:36:01.525.476 [mindspore/core/utils/file_utils.cc:253] GetRealPath] Get realpath failed, path[/tmp/ipykernel_272366/1339986826.py]\n"
     ]
    },
    {
     "name": "stdout",
     "output_type": "stream",
     "text": [
      "weight=\n",
      "(1024,  192,    1)\n",
      "20\n"
     ]
    },
    {
     "name": "stderr",
     "output_type": "stream",
     "text": [
      "[ERROR] CORE(272366,7f4009669740,python):2024-07-04-20:36:02.269.161 [mindspore/core/utils/file_utils.cc:253] GetRealPath] Get realpath failed, path[/tmp/ipykernel_272366/1339986826.py]\n",
      "[ERROR] CORE(272366,7f4009669740,python):2024-07-04-20:36:02.270.199 [mindspore/core/utils/file_utils.cc:253] GetRealPath] Get realpath failed, path[/tmp/ipykernel_272366/1339986826.py]\n",
      "[ERROR] CORE(272366,7f4009669740,python):2024-07-04-20:36:02.274.115 [mindspore/core/utils/file_utils.cc:253] GetRealPath] Get realpath failed, path[/tmp/ipykernel_272366/1339986826.py]\n",
      "[ERROR] CORE(272366,7f4009669740,python):2024-07-04-20:36:03.499.041 [mindspore/core/utils/file_utils.cc:253] GetRealPath] Get realpath failed, path[/tmp/ipykernel_272366/3428476077.py]\n",
      "[ERROR] CORE(272366,7f4009669740,python):2024-07-04-20:36:03.499.124 [mindspore/core/utils/file_utils.cc:253] GetRealPath] Get realpath failed, path[/tmp/ipykernel_272366/3428476077.py]\n",
      "[ERROR] CORE(272366,7f4009669740,python):2024-07-04-20:36:03.499.143 [mindspore/core/utils/file_utils.cc:253] GetRealPath] Get realpath failed, path[/tmp/ipykernel_272366/3428476077.py]\n",
      "[ERROR] CORE(272366,7f4009669740,python):2024-07-04-20:36:03.499.803 [mindspore/core/utils/file_utils.cc:253] GetRealPath] Get realpath failed, path[/tmp/ipykernel_272366/3428476077.py]\n",
      "[ERROR] CORE(272366,7f4009669740,python):2024-07-04-20:36:03.499.840 [mindspore/core/utils/file_utils.cc:253] GetRealPath] Get realpath failed, path[/tmp/ipykernel_272366/3428476077.py]\n",
      "[ERROR] CORE(272366,7f4009669740,python):2024-07-04-20:36:03.500.452 [mindspore/core/utils/file_utils.cc:253] GetRealPath] Get realpath failed, path[/tmp/ipykernel_272366/3428476077.py]\n",
      "[ERROR] CORE(272366,7f4009669740,python):2024-07-04-20:36:03.500.493 [mindspore/core/utils/file_utils.cc:253] GetRealPath] Get realpath failed, path[/tmp/ipykernel_272366/3428476077.py]\n",
      "[ERROR] CORE(272366,7f4009669740,python):2024-07-04-20:36:03.500.510 [mindspore/core/utils/file_utils.cc:253] GetRealPath] Get realpath failed, path[/tmp/ipykernel_272366/3428476077.py]\n",
      "[ERROR] CORE(272366,7f4009669740,python):2024-07-04-20:36:03.500.525 [mindspore/core/utils/file_utils.cc:253] GetRealPath] Get realpath failed, path[/tmp/ipykernel_272366/1339986826.py]\n",
      "[ERROR] CORE(272366,7f4009669740,python):2024-07-04-20:36:03.500.594 [mindspore/core/utils/file_utils.cc:253] GetRealPath] Get realpath failed, path[/tmp/ipykernel_272366/3428476077.py]\n",
      "[ERROR] CORE(272366,7f4009669740,python):2024-07-04-20:36:03.515.426 [mindspore/core/utils/file_utils.cc:253] GetRealPath] Get realpath failed, path[/tmp/ipykernel_272366/1339986826.py]\n",
      "[ERROR] CORE(272366,7f4009669740,python):2024-07-04-20:36:03.515.590 [mindspore/core/utils/file_utils.cc:253] GetRealPath] Get realpath failed, path[/tmp/ipykernel_272366/1339986826.py]\n",
      "[ERROR] CORE(272366,7f4009669740,python):2024-07-04-20:36:03.516.867 [mindspore/core/utils/file_utils.cc:253] GetRealPath] Get realpath failed, path[/tmp/ipykernel_272366/1339986826.py]\n"
     ]
    },
    {
     "name": "stdout",
     "output_type": "stream",
     "text": [
      "weight=\n",
      "(1024,  192,    1)\n",
      "21\n"
     ]
    },
    {
     "name": "stderr",
     "output_type": "stream",
     "text": [
      "[ERROR] CORE(272366,7f4009669740,python):2024-07-04-20:36:04.233.184 [mindspore/core/utils/file_utils.cc:253] GetRealPath] Get realpath failed, path[/tmp/ipykernel_272366/1339986826.py]\n",
      "[ERROR] CORE(272366,7f4009669740,python):2024-07-04-20:36:04.234.529 [mindspore/core/utils/file_utils.cc:253] GetRealPath] Get realpath failed, path[/tmp/ipykernel_272366/1339986826.py]\n",
      "[ERROR] CORE(272366,7f4009669740,python):2024-07-04-20:36:04.238.128 [mindspore/core/utils/file_utils.cc:253] GetRealPath] Get realpath failed, path[/tmp/ipykernel_272366/1339986826.py]\n",
      "[ERROR] CORE(272366,7f4009669740,python):2024-07-04-20:36:05.579.545 [mindspore/core/utils/file_utils.cc:253] GetRealPath] Get realpath failed, path[/tmp/ipykernel_272366/3428476077.py]\n",
      "[ERROR] CORE(272366,7f4009669740,python):2024-07-04-20:36:05.579.619 [mindspore/core/utils/file_utils.cc:253] GetRealPath] Get realpath failed, path[/tmp/ipykernel_272366/3428476077.py]\n",
      "[ERROR] CORE(272366,7f4009669740,python):2024-07-04-20:36:05.579.639 [mindspore/core/utils/file_utils.cc:253] GetRealPath] Get realpath failed, path[/tmp/ipykernel_272366/3428476077.py]\n",
      "[ERROR] CORE(272366,7f4009669740,python):2024-07-04-20:36:05.580.359 [mindspore/core/utils/file_utils.cc:253] GetRealPath] Get realpath failed, path[/tmp/ipykernel_272366/3428476077.py]\n",
      "[ERROR] CORE(272366,7f4009669740,python):2024-07-04-20:36:05.580.401 [mindspore/core/utils/file_utils.cc:253] GetRealPath] Get realpath failed, path[/tmp/ipykernel_272366/3428476077.py]\n",
      "[ERROR] CORE(272366,7f4009669740,python):2024-07-04-20:36:05.581.095 [mindspore/core/utils/file_utils.cc:253] GetRealPath] Get realpath failed, path[/tmp/ipykernel_272366/3428476077.py]\n",
      "[ERROR] CORE(272366,7f4009669740,python):2024-07-04-20:36:05.581.148 [mindspore/core/utils/file_utils.cc:253] GetRealPath] Get realpath failed, path[/tmp/ipykernel_272366/3428476077.py]\n",
      "[ERROR] CORE(272366,7f4009669740,python):2024-07-04-20:36:05.581.169 [mindspore/core/utils/file_utils.cc:253] GetRealPath] Get realpath failed, path[/tmp/ipykernel_272366/3428476077.py]\n",
      "[ERROR] CORE(272366,7f4009669740,python):2024-07-04-20:36:05.581.187 [mindspore/core/utils/file_utils.cc:253] GetRealPath] Get realpath failed, path[/tmp/ipykernel_272366/1339986826.py]\n",
      "[ERROR] CORE(272366,7f4009669740,python):2024-07-04-20:36:05.581.255 [mindspore/core/utils/file_utils.cc:253] GetRealPath] Get realpath failed, path[/tmp/ipykernel_272366/3428476077.py]\n",
      "[ERROR] CORE(272366,7f4009669740,python):2024-07-04-20:36:05.595.031 [mindspore/core/utils/file_utils.cc:253] GetRealPath] Get realpath failed, path[/tmp/ipykernel_272366/1339986826.py]\n",
      "[ERROR] CORE(272366,7f4009669740,python):2024-07-04-20:36:05.595.082 [mindspore/core/utils/file_utils.cc:253] GetRealPath] Get realpath failed, path[/tmp/ipykernel_272366/1339986826.py]\n",
      "[ERROR] CORE(272366,7f4009669740,python):2024-07-04-20:36:05.598.748 [mindspore/core/utils/file_utils.cc:253] GetRealPath] Get realpath failed, path[/tmp/ipykernel_272366/1339986826.py]\n"
     ]
    },
    {
     "name": "stdout",
     "output_type": "stream",
     "text": [
      "weight=\n",
      "(1024,  192,    1)\n",
      "22\n"
     ]
    },
    {
     "name": "stderr",
     "output_type": "stream",
     "text": [
      "[ERROR] CORE(272366,7f4009669740,python):2024-07-04-20:36:06.375.912 [mindspore/core/utils/file_utils.cc:253] GetRealPath] Get realpath failed, path[/tmp/ipykernel_272366/1339986826.py]\n",
      "[ERROR] CORE(272366,7f4009669740,python):2024-07-04-20:36:06.377.397 [mindspore/core/utils/file_utils.cc:253] GetRealPath] Get realpath failed, path[/tmp/ipykernel_272366/1339986826.py]\n",
      "[ERROR] CORE(272366,7f4009669740,python):2024-07-04-20:36:06.381.263 [mindspore/core/utils/file_utils.cc:253] GetRealPath] Get realpath failed, path[/tmp/ipykernel_272366/1339986826.py]\n",
      "[ERROR] CORE(272366,7f4009669740,python):2024-07-04-20:36:07.627.265 [mindspore/core/utils/file_utils.cc:253] GetRealPath] Get realpath failed, path[/tmp/ipykernel_272366/3428476077.py]\n",
      "[ERROR] CORE(272366,7f4009669740,python):2024-07-04-20:36:07.627.321 [mindspore/core/utils/file_utils.cc:253] GetRealPath] Get realpath failed, path[/tmp/ipykernel_272366/3428476077.py]\n",
      "[ERROR] CORE(272366,7f4009669740,python):2024-07-04-20:36:07.627.341 [mindspore/core/utils/file_utils.cc:253] GetRealPath] Get realpath failed, path[/tmp/ipykernel_272366/3428476077.py]\n",
      "[ERROR] CORE(272366,7f4009669740,python):2024-07-04-20:36:07.627.961 [mindspore/core/utils/file_utils.cc:253] GetRealPath] Get realpath failed, path[/tmp/ipykernel_272366/3428476077.py]\n",
      "[ERROR] CORE(272366,7f4009669740,python):2024-07-04-20:36:07.627.998 [mindspore/core/utils/file_utils.cc:253] GetRealPath] Get realpath failed, path[/tmp/ipykernel_272366/3428476077.py]\n",
      "[ERROR] CORE(272366,7f4009669740,python):2024-07-04-20:36:07.628.635 [mindspore/core/utils/file_utils.cc:253] GetRealPath] Get realpath failed, path[/tmp/ipykernel_272366/3428476077.py]\n",
      "[ERROR] CORE(272366,7f4009669740,python):2024-07-04-20:36:07.628.677 [mindspore/core/utils/file_utils.cc:253] GetRealPath] Get realpath failed, path[/tmp/ipykernel_272366/3428476077.py]\n",
      "[ERROR] CORE(272366,7f4009669740,python):2024-07-04-20:36:07.628.696 [mindspore/core/utils/file_utils.cc:253] GetRealPath] Get realpath failed, path[/tmp/ipykernel_272366/3428476077.py]\n",
      "[ERROR] CORE(272366,7f4009669740,python):2024-07-04-20:36:07.628.713 [mindspore/core/utils/file_utils.cc:253] GetRealPath] Get realpath failed, path[/tmp/ipykernel_272366/1339986826.py]\n",
      "[ERROR] CORE(272366,7f4009669740,python):2024-07-04-20:36:07.628.771 [mindspore/core/utils/file_utils.cc:253] GetRealPath] Get realpath failed, path[/tmp/ipykernel_272366/3428476077.py]\n",
      "[ERROR] CORE(272366,7f4009669740,python):2024-07-04-20:36:07.638.444 [mindspore/core/utils/file_utils.cc:253] GetRealPath] Get realpath failed, path[/tmp/ipykernel_272366/1339986826.py]\n",
      "[ERROR] CORE(272366,7f4009669740,python):2024-07-04-20:36:07.641.862 [mindspore/core/utils/file_utils.cc:253] GetRealPath] Get realpath failed, path[/tmp/ipykernel_272366/1339986826.py]\n",
      "[ERROR] CORE(272366,7f4009669740,python):2024-07-04-20:36:07.645.651 [mindspore/core/utils/file_utils.cc:253] GetRealPath] Get realpath failed, path[/tmp/ipykernel_272366/1339986826.py]\n"
     ]
    },
    {
     "name": "stdout",
     "output_type": "stream",
     "text": [
      "weight=\n",
      "(1024,  192,    1)\n",
      "23\n"
     ]
    },
    {
     "name": "stderr",
     "output_type": "stream",
     "text": [
      "[ERROR] CORE(272366,7f4009669740,python):2024-07-04-20:36:08.386.158 [mindspore/core/utils/file_utils.cc:253] GetRealPath] Get realpath failed, path[/tmp/ipykernel_272366/1339986826.py]\n",
      "[ERROR] CORE(272366,7f4009669740,python):2024-07-04-20:36:08.387.483 [mindspore/core/utils/file_utils.cc:253] GetRealPath] Get realpath failed, path[/tmp/ipykernel_272366/1339986826.py]\n",
      "[ERROR] CORE(272366,7f4009669740,python):2024-07-04-20:36:08.391.804 [mindspore/core/utils/file_utils.cc:253] GetRealPath] Get realpath failed, path[/tmp/ipykernel_272366/1339986826.py]\n",
      "[ERROR] CORE(272366,7f4009669740,python):2024-07-04-20:36:09.660.795 [mindspore/core/utils/file_utils.cc:253] GetRealPath] Get realpath failed, path[/tmp/ipykernel_272366/3428476077.py]\n",
      "[ERROR] CORE(272366,7f4009669740,python):2024-07-04-20:36:09.660.868 [mindspore/core/utils/file_utils.cc:253] GetRealPath] Get realpath failed, path[/tmp/ipykernel_272366/3428476077.py]\n",
      "[ERROR] CORE(272366,7f4009669740,python):2024-07-04-20:36:09.660.890 [mindspore/core/utils/file_utils.cc:253] GetRealPath] Get realpath failed, path[/tmp/ipykernel_272366/3428476077.py]\n",
      "[ERROR] CORE(272366,7f4009669740,python):2024-07-04-20:36:09.661.548 [mindspore/core/utils/file_utils.cc:253] GetRealPath] Get realpath failed, path[/tmp/ipykernel_272366/3428476077.py]\n",
      "[ERROR] CORE(272366,7f4009669740,python):2024-07-04-20:36:09.661.588 [mindspore/core/utils/file_utils.cc:253] GetRealPath] Get realpath failed, path[/tmp/ipykernel_272366/3428476077.py]\n",
      "[ERROR] CORE(272366,7f4009669740,python):2024-07-04-20:36:09.662.229 [mindspore/core/utils/file_utils.cc:253] GetRealPath] Get realpath failed, path[/tmp/ipykernel_272366/3428476077.py]\n",
      "[ERROR] CORE(272366,7f4009669740,python):2024-07-04-20:36:09.662.271 [mindspore/core/utils/file_utils.cc:253] GetRealPath] Get realpath failed, path[/tmp/ipykernel_272366/3428476077.py]\n",
      "[ERROR] CORE(272366,7f4009669740,python):2024-07-04-20:36:09.662.290 [mindspore/core/utils/file_utils.cc:253] GetRealPath] Get realpath failed, path[/tmp/ipykernel_272366/3428476077.py]\n",
      "[ERROR] CORE(272366,7f4009669740,python):2024-07-04-20:36:09.662.308 [mindspore/core/utils/file_utils.cc:253] GetRealPath] Get realpath failed, path[/tmp/ipykernel_272366/1339986826.py]\n",
      "[ERROR] CORE(272366,7f4009669740,python):2024-07-04-20:36:09.662.366 [mindspore/core/utils/file_utils.cc:253] GetRealPath] Get realpath failed, path[/tmp/ipykernel_272366/3428476077.py]\n",
      "[ERROR] CORE(272366,7f4009669740,python):2024-07-04-20:36:09.672.197 [mindspore/core/utils/file_utils.cc:253] GetRealPath] Get realpath failed, path[/tmp/ipykernel_272366/1339986826.py]\n",
      "[ERROR] CORE(272366,7f4009669740,python):2024-07-04-20:36:09.673.735 [mindspore/core/utils/file_utils.cc:253] GetRealPath] Get realpath failed, path[/tmp/ipykernel_272366/1339986826.py]\n",
      "[ERROR] CORE(272366,7f4009669740,python):2024-07-04-20:36:09.677.309 [mindspore/core/utils/file_utils.cc:253] GetRealPath] Get realpath failed, path[/tmp/ipykernel_272366/1339986826.py]\n"
     ]
    },
    {
     "name": "stdout",
     "output_type": "stream",
     "text": [
      "weight=\n",
      "(1024,  192,    1)\n",
      "24\n"
     ]
    },
    {
     "name": "stderr",
     "output_type": "stream",
     "text": [
      "[ERROR] CORE(272366,7f4009669740,python):2024-07-04-20:36:10.397.027 [mindspore/core/utils/file_utils.cc:253] GetRealPath] Get realpath failed, path[/tmp/ipykernel_272366/1339986826.py]\n",
      "[ERROR] CORE(272366,7f4009669740,python):2024-07-04-20:36:10.398.073 [mindspore/core/utils/file_utils.cc:253] GetRealPath] Get realpath failed, path[/tmp/ipykernel_272366/1339986826.py]\n",
      "[ERROR] CORE(272366,7f4009669740,python):2024-07-04-20:36:10.401.629 [mindspore/core/utils/file_utils.cc:253] GetRealPath] Get realpath failed, path[/tmp/ipykernel_272366/1339986826.py]\n",
      "[ERROR] CORE(272366,7f4009669740,python):2024-07-04-20:36:11.604.373 [mindspore/core/utils/file_utils.cc:253] GetRealPath] Get realpath failed, path[/tmp/ipykernel_272366/3428476077.py]\n",
      "[ERROR] CORE(272366,7f4009669740,python):2024-07-04-20:36:11.604.436 [mindspore/core/utils/file_utils.cc:253] GetRealPath] Get realpath failed, path[/tmp/ipykernel_272366/3428476077.py]\n",
      "[ERROR] CORE(272366,7f4009669740,python):2024-07-04-20:36:11.604.457 [mindspore/core/utils/file_utils.cc:253] GetRealPath] Get realpath failed, path[/tmp/ipykernel_272366/3428476077.py]\n",
      "[ERROR] CORE(272366,7f4009669740,python):2024-07-04-20:36:11.605.148 [mindspore/core/utils/file_utils.cc:253] GetRealPath] Get realpath failed, path[/tmp/ipykernel_272366/3428476077.py]\n",
      "[ERROR] CORE(272366,7f4009669740,python):2024-07-04-20:36:11.605.186 [mindspore/core/utils/file_utils.cc:253] GetRealPath] Get realpath failed, path[/tmp/ipykernel_272366/3428476077.py]\n",
      "[ERROR] CORE(272366,7f4009669740,python):2024-07-04-20:36:11.605.806 [mindspore/core/utils/file_utils.cc:253] GetRealPath] Get realpath failed, path[/tmp/ipykernel_272366/3428476077.py]\n",
      "[ERROR] CORE(272366,7f4009669740,python):2024-07-04-20:36:11.605.848 [mindspore/core/utils/file_utils.cc:253] GetRealPath] Get realpath failed, path[/tmp/ipykernel_272366/3428476077.py]\n",
      "[ERROR] CORE(272366,7f4009669740,python):2024-07-04-20:36:11.605.867 [mindspore/core/utils/file_utils.cc:253] GetRealPath] Get realpath failed, path[/tmp/ipykernel_272366/3428476077.py]\n",
      "[ERROR] CORE(272366,7f4009669740,python):2024-07-04-20:36:11.605.884 [mindspore/core/utils/file_utils.cc:253] GetRealPath] Get realpath failed, path[/tmp/ipykernel_272366/1339986826.py]\n",
      "[ERROR] CORE(272366,7f4009669740,python):2024-07-04-20:36:11.605.942 [mindspore/core/utils/file_utils.cc:253] GetRealPath] Get realpath failed, path[/tmp/ipykernel_272366/3428476077.py]\n",
      "[ERROR] CORE(272366,7f4009669740,python):2024-07-04-20:36:11.618.636 [mindspore/core/utils/file_utils.cc:253] GetRealPath] Get realpath failed, path[/tmp/ipykernel_272366/1339986826.py]\n",
      "[ERROR] CORE(272366,7f4009669740,python):2024-07-04-20:36:11.619.837 [mindspore/core/utils/file_utils.cc:253] GetRealPath] Get realpath failed, path[/tmp/ipykernel_272366/1339986826.py]\n",
      "[ERROR] CORE(272366,7f4009669740,python):2024-07-04-20:36:11.619.852 [mindspore/core/utils/file_utils.cc:253] GetRealPath] Get realpath failed, path[/tmp/ipykernel_272366/1339986826.py]\n"
     ]
    },
    {
     "name": "stdout",
     "output_type": "stream",
     "text": [
      "weight=\n",
      "(1024,  192,    1)\n",
      "25\n"
     ]
    },
    {
     "name": "stderr",
     "output_type": "stream",
     "text": [
      "[ERROR] CORE(272366,7f4009669740,python):2024-07-04-20:36:12.342.715 [mindspore/core/utils/file_utils.cc:253] GetRealPath] Get realpath failed, path[/tmp/ipykernel_272366/1339986826.py]\n",
      "[ERROR] CORE(272366,7f4009669740,python):2024-07-04-20:36:12.343.802 [mindspore/core/utils/file_utils.cc:253] GetRealPath] Get realpath failed, path[/tmp/ipykernel_272366/1339986826.py]\n",
      "[ERROR] CORE(272366,7f4009669740,python):2024-07-04-20:36:12.347.536 [mindspore/core/utils/file_utils.cc:253] GetRealPath] Get realpath failed, path[/tmp/ipykernel_272366/1339986826.py]\n",
      "[ERROR] CORE(272366,7f4009669740,python):2024-07-04-20:36:13.581.520 [mindspore/core/utils/file_utils.cc:253] GetRealPath] Get realpath failed, path[/tmp/ipykernel_272366/3428476077.py]\n",
      "[ERROR] CORE(272366,7f4009669740,python):2024-07-04-20:36:13.581.578 [mindspore/core/utils/file_utils.cc:253] GetRealPath] Get realpath failed, path[/tmp/ipykernel_272366/3428476077.py]\n",
      "[ERROR] CORE(272366,7f4009669740,python):2024-07-04-20:36:13.581.597 [mindspore/core/utils/file_utils.cc:253] GetRealPath] Get realpath failed, path[/tmp/ipykernel_272366/3428476077.py]\n",
      "[ERROR] CORE(272366,7f4009669740,python):2024-07-04-20:36:13.582.254 [mindspore/core/utils/file_utils.cc:253] GetRealPath] Get realpath failed, path[/tmp/ipykernel_272366/3428476077.py]\n",
      "[ERROR] CORE(272366,7f4009669740,python):2024-07-04-20:36:13.582.294 [mindspore/core/utils/file_utils.cc:253] GetRealPath] Get realpath failed, path[/tmp/ipykernel_272366/3428476077.py]\n",
      "[ERROR] CORE(272366,7f4009669740,python):2024-07-04-20:36:13.582.903 [mindspore/core/utils/file_utils.cc:253] GetRealPath] Get realpath failed, path[/tmp/ipykernel_272366/3428476077.py]\n",
      "[ERROR] CORE(272366,7f4009669740,python):2024-07-04-20:36:13.582.944 [mindspore/core/utils/file_utils.cc:253] GetRealPath] Get realpath failed, path[/tmp/ipykernel_272366/3428476077.py]\n",
      "[ERROR] CORE(272366,7f4009669740,python):2024-07-04-20:36:13.582.963 [mindspore/core/utils/file_utils.cc:253] GetRealPath] Get realpath failed, path[/tmp/ipykernel_272366/3428476077.py]\n",
      "[ERROR] CORE(272366,7f4009669740,python):2024-07-04-20:36:13.582.979 [mindspore/core/utils/file_utils.cc:253] GetRealPath] Get realpath failed, path[/tmp/ipykernel_272366/1339986826.py]\n",
      "[ERROR] CORE(272366,7f4009669740,python):2024-07-04-20:36:13.583.037 [mindspore/core/utils/file_utils.cc:253] GetRealPath] Get realpath failed, path[/tmp/ipykernel_272366/3428476077.py]\n",
      "[ERROR] CORE(272366,7f4009669740,python):2024-07-04-20:36:13.594.414 [mindspore/core/utils/file_utils.cc:253] GetRealPath] Get realpath failed, path[/tmp/ipykernel_272366/1339986826.py]\n",
      "[ERROR] CORE(272366,7f4009669740,python):2024-07-04-20:36:13.594.433 [mindspore/core/utils/file_utils.cc:253] GetRealPath] Get realpath failed, path[/tmp/ipykernel_272366/1339986826.py]\n",
      "[ERROR] CORE(272366,7f4009669740,python):2024-07-04-20:36:13.598.917 [mindspore/core/utils/file_utils.cc:253] GetRealPath] Get realpath failed, path[/tmp/ipykernel_272366/1339986826.py]\n"
     ]
    },
    {
     "name": "stdout",
     "output_type": "stream",
     "text": [
      "weight=\n",
      "(1024,  192,    1)\n",
      "26\n"
     ]
    },
    {
     "name": "stderr",
     "output_type": "stream",
     "text": [
      "[ERROR] CORE(272366,7f4009669740,python):2024-07-04-20:36:14.320.079 [mindspore/core/utils/file_utils.cc:253] GetRealPath] Get realpath failed, path[/tmp/ipykernel_272366/1339986826.py]\n",
      "[ERROR] CORE(272366,7f4009669740,python):2024-07-04-20:36:14.321.127 [mindspore/core/utils/file_utils.cc:253] GetRealPath] Get realpath failed, path[/tmp/ipykernel_272366/1339986826.py]\n",
      "[ERROR] CORE(272366,7f4009669740,python):2024-07-04-20:36:14.324.665 [mindspore/core/utils/file_utils.cc:253] GetRealPath] Get realpath failed, path[/tmp/ipykernel_272366/1339986826.py]\n",
      "[ERROR] CORE(272366,7f4009669740,python):2024-07-04-20:36:15.528.892 [mindspore/core/utils/file_utils.cc:253] GetRealPath] Get realpath failed, path[/tmp/ipykernel_272366/3428476077.py]\n",
      "[ERROR] CORE(272366,7f4009669740,python):2024-07-04-20:36:15.528.952 [mindspore/core/utils/file_utils.cc:253] GetRealPath] Get realpath failed, path[/tmp/ipykernel_272366/3428476077.py]\n",
      "[ERROR] CORE(272366,7f4009669740,python):2024-07-04-20:36:15.528.972 [mindspore/core/utils/file_utils.cc:253] GetRealPath] Get realpath failed, path[/tmp/ipykernel_272366/3428476077.py]\n",
      "[ERROR] CORE(272366,7f4009669740,python):2024-07-04-20:36:15.529.665 [mindspore/core/utils/file_utils.cc:253] GetRealPath] Get realpath failed, path[/tmp/ipykernel_272366/3428476077.py]\n",
      "[ERROR] CORE(272366,7f4009669740,python):2024-07-04-20:36:15.529.703 [mindspore/core/utils/file_utils.cc:253] GetRealPath] Get realpath failed, path[/tmp/ipykernel_272366/3428476077.py]\n",
      "[ERROR] CORE(272366,7f4009669740,python):2024-07-04-20:36:15.530.335 [mindspore/core/utils/file_utils.cc:253] GetRealPath] Get realpath failed, path[/tmp/ipykernel_272366/3428476077.py]\n",
      "[ERROR] CORE(272366,7f4009669740,python):2024-07-04-20:36:15.530.377 [mindspore/core/utils/file_utils.cc:253] GetRealPath] Get realpath failed, path[/tmp/ipykernel_272366/3428476077.py]\n",
      "[ERROR] CORE(272366,7f4009669740,python):2024-07-04-20:36:15.530.397 [mindspore/core/utils/file_utils.cc:253] GetRealPath] Get realpath failed, path[/tmp/ipykernel_272366/3428476077.py]\n",
      "[ERROR] CORE(272366,7f4009669740,python):2024-07-04-20:36:15.530.414 [mindspore/core/utils/file_utils.cc:253] GetRealPath] Get realpath failed, path[/tmp/ipykernel_272366/1339986826.py]\n",
      "[ERROR] CORE(272366,7f4009669740,python):2024-07-04-20:36:15.530.473 [mindspore/core/utils/file_utils.cc:253] GetRealPath] Get realpath failed, path[/tmp/ipykernel_272366/3428476077.py]\n",
      "[ERROR] CORE(272366,7f4009669740,python):2024-07-04-20:36:15.545.023 [mindspore/core/utils/file_utils.cc:253] GetRealPath] Get realpath failed, path[/tmp/ipykernel_272366/1339986826.py]\n",
      "[ERROR] CORE(272366,7f4009669740,python):2024-07-04-20:36:15.546.381 [mindspore/core/utils/file_utils.cc:253] GetRealPath] Get realpath failed, path[/tmp/ipykernel_272366/1339986826.py]\n",
      "[ERROR] CORE(272366,7f4009669740,python):2024-07-04-20:36:15.548.808 [mindspore/core/utils/file_utils.cc:253] GetRealPath] Get realpath failed, path[/tmp/ipykernel_272366/1339986826.py]\n"
     ]
    },
    {
     "name": "stdout",
     "output_type": "stream",
     "text": [
      "weight=\n",
      "(1024,  192,    1)\n",
      "27\n"
     ]
    },
    {
     "name": "stderr",
     "output_type": "stream",
     "text": [
      "[ERROR] CORE(272366,7f4009669740,python):2024-07-04-20:36:16.273.420 [mindspore/core/utils/file_utils.cc:253] GetRealPath] Get realpath failed, path[/tmp/ipykernel_272366/1339986826.py]\n",
      "[ERROR] CORE(272366,7f4009669740,python):2024-07-04-20:36:16.274.460 [mindspore/core/utils/file_utils.cc:253] GetRealPath] Get realpath failed, path[/tmp/ipykernel_272366/1339986826.py]\n",
      "[ERROR] CORE(272366,7f4009669740,python):2024-07-04-20:36:16.278.087 [mindspore/core/utils/file_utils.cc:253] GetRealPath] Get realpath failed, path[/tmp/ipykernel_272366/1339986826.py]\n",
      "[ERROR] CORE(272366,7f4009669740,python):2024-07-04-20:36:17.476.135 [mindspore/core/utils/file_utils.cc:253] GetRealPath] Get realpath failed, path[/tmp/ipykernel_272366/3428476077.py]\n",
      "[ERROR] CORE(272366,7f4009669740,python):2024-07-04-20:36:17.476.197 [mindspore/core/utils/file_utils.cc:253] GetRealPath] Get realpath failed, path[/tmp/ipykernel_272366/3428476077.py]\n",
      "[ERROR] CORE(272366,7f4009669740,python):2024-07-04-20:36:17.476.217 [mindspore/core/utils/file_utils.cc:253] GetRealPath] Get realpath failed, path[/tmp/ipykernel_272366/3428476077.py]\n",
      "[ERROR] CORE(272366,7f4009669740,python):2024-07-04-20:36:17.476.874 [mindspore/core/utils/file_utils.cc:253] GetRealPath] Get realpath failed, path[/tmp/ipykernel_272366/3428476077.py]\n",
      "[ERROR] CORE(272366,7f4009669740,python):2024-07-04-20:36:17.476.912 [mindspore/core/utils/file_utils.cc:253] GetRealPath] Get realpath failed, path[/tmp/ipykernel_272366/3428476077.py]\n",
      "[ERROR] CORE(272366,7f4009669740,python):2024-07-04-20:36:17.477.541 [mindspore/core/utils/file_utils.cc:253] GetRealPath] Get realpath failed, path[/tmp/ipykernel_272366/3428476077.py]\n",
      "[ERROR] CORE(272366,7f4009669740,python):2024-07-04-20:36:17.477.583 [mindspore/core/utils/file_utils.cc:253] GetRealPath] Get realpath failed, path[/tmp/ipykernel_272366/3428476077.py]\n",
      "[ERROR] CORE(272366,7f4009669740,python):2024-07-04-20:36:17.477.602 [mindspore/core/utils/file_utils.cc:253] GetRealPath] Get realpath failed, path[/tmp/ipykernel_272366/3428476077.py]\n",
      "[ERROR] CORE(272366,7f4009669740,python):2024-07-04-20:36:17.477.619 [mindspore/core/utils/file_utils.cc:253] GetRealPath] Get realpath failed, path[/tmp/ipykernel_272366/1339986826.py]\n",
      "[ERROR] CORE(272366,7f4009669740,python):2024-07-04-20:36:17.477.689 [mindspore/core/utils/file_utils.cc:253] GetRealPath] Get realpath failed, path[/tmp/ipykernel_272366/3428476077.py]\n",
      "[ERROR] CORE(272366,7f4009669740,python):2024-07-04-20:36:17.487.720 [mindspore/core/utils/file_utils.cc:253] GetRealPath] Get realpath failed, path[/tmp/ipykernel_272366/1339986826.py]\n",
      "[ERROR] CORE(272366,7f4009669740,python):2024-07-04-20:36:17.490.211 [mindspore/core/utils/file_utils.cc:253] GetRealPath] Get realpath failed, path[/tmp/ipykernel_272366/1339986826.py]\n",
      "[ERROR] CORE(272366,7f4009669740,python):2024-07-04-20:36:17.493.389 [mindspore/core/utils/file_utils.cc:253] GetRealPath] Get realpath failed, path[/tmp/ipykernel_272366/1339986826.py]\n"
     ]
    },
    {
     "name": "stdout",
     "output_type": "stream",
     "text": [
      "weight=\n",
      "(1024,  192,    1)\n",
      "28\n"
     ]
    },
    {
     "name": "stderr",
     "output_type": "stream",
     "text": [
      "[ERROR] CORE(272366,7f4009669740,python):2024-07-04-20:36:18.221.097 [mindspore/core/utils/file_utils.cc:253] GetRealPath] Get realpath failed, path[/tmp/ipykernel_272366/1339986826.py]\n",
      "[ERROR] CORE(272366,7f4009669740,python):2024-07-04-20:36:18.222.166 [mindspore/core/utils/file_utils.cc:253] GetRealPath] Get realpath failed, path[/tmp/ipykernel_272366/1339986826.py]\n",
      "[ERROR] CORE(272366,7f4009669740,python):2024-07-04-20:36:18.225.824 [mindspore/core/utils/file_utils.cc:253] GetRealPath] Get realpath failed, path[/tmp/ipykernel_272366/1339986826.py]\n",
      "[ERROR] CORE(272366,7f4009669740,python):2024-07-04-20:36:19.482.663 [mindspore/core/utils/file_utils.cc:253] GetRealPath] Get realpath failed, path[/tmp/ipykernel_272366/3428476077.py]\n",
      "[ERROR] CORE(272366,7f4009669740,python):2024-07-04-20:36:19.482.738 [mindspore/core/utils/file_utils.cc:253] GetRealPath] Get realpath failed, path[/tmp/ipykernel_272366/3428476077.py]\n",
      "[ERROR] CORE(272366,7f4009669740,python):2024-07-04-20:36:19.482.758 [mindspore/core/utils/file_utils.cc:253] GetRealPath] Get realpath failed, path[/tmp/ipykernel_272366/3428476077.py]\n",
      "[ERROR] CORE(272366,7f4009669740,python):2024-07-04-20:36:19.483.395 [mindspore/core/utils/file_utils.cc:253] GetRealPath] Get realpath failed, path[/tmp/ipykernel_272366/3428476077.py]\n",
      "[ERROR] CORE(272366,7f4009669740,python):2024-07-04-20:36:19.483.432 [mindspore/core/utils/file_utils.cc:253] GetRealPath] Get realpath failed, path[/tmp/ipykernel_272366/3428476077.py]\n",
      "[ERROR] CORE(272366,7f4009669740,python):2024-07-04-20:36:19.484.020 [mindspore/core/utils/file_utils.cc:253] GetRealPath] Get realpath failed, path[/tmp/ipykernel_272366/3428476077.py]\n",
      "[ERROR] CORE(272366,7f4009669740,python):2024-07-04-20:36:19.484.078 [mindspore/core/utils/file_utils.cc:253] GetRealPath] Get realpath failed, path[/tmp/ipykernel_272366/3428476077.py]\n",
      "[ERROR] CORE(272366,7f4009669740,python):2024-07-04-20:36:19.484.099 [mindspore/core/utils/file_utils.cc:253] GetRealPath] Get realpath failed, path[/tmp/ipykernel_272366/3428476077.py]\n",
      "[ERROR] CORE(272366,7f4009669740,python):2024-07-04-20:36:19.484.116 [mindspore/core/utils/file_utils.cc:253] GetRealPath] Get realpath failed, path[/tmp/ipykernel_272366/1339986826.py]\n",
      "[ERROR] CORE(272366,7f4009669740,python):2024-07-04-20:36:19.484.174 [mindspore/core/utils/file_utils.cc:253] GetRealPath] Get realpath failed, path[/tmp/ipykernel_272366/3428476077.py]\n",
      "[ERROR] CORE(272366,7f4009669740,python):2024-07-04-20:36:19.497.697 [mindspore/core/utils/file_utils.cc:253] GetRealPath] Get realpath failed, path[/tmp/ipykernel_272366/1339986826.py]\n",
      "[ERROR] CORE(272366,7f4009669740,python):2024-07-04-20:36:19.497.716 [mindspore/core/utils/file_utils.cc:253] GetRealPath] Get realpath failed, path[/tmp/ipykernel_272366/1339986826.py]\n",
      "[ERROR] CORE(272366,7f4009669740,python):2024-07-04-20:36:19.501.081 [mindspore/core/utils/file_utils.cc:253] GetRealPath] Get realpath failed, path[/tmp/ipykernel_272366/1339986826.py]\n"
     ]
    },
    {
     "name": "stdout",
     "output_type": "stream",
     "text": [
      "weight=\n",
      "(1024,  192,    1)\n",
      "29\n"
     ]
    },
    {
     "name": "stderr",
     "output_type": "stream",
     "text": [
      "[ERROR] CORE(272366,7f4009669740,python):2024-07-04-20:36:20.230.789 [mindspore/core/utils/file_utils.cc:253] GetRealPath] Get realpath failed, path[/tmp/ipykernel_272366/1339986826.py]\n",
      "[ERROR] CORE(272366,7f4009669740,python):2024-07-04-20:36:20.231.851 [mindspore/core/utils/file_utils.cc:253] GetRealPath] Get realpath failed, path[/tmp/ipykernel_272366/1339986826.py]\n",
      "[ERROR] CORE(272366,7f4009669740,python):2024-07-04-20:36:20.235.544 [mindspore/core/utils/file_utils.cc:253] GetRealPath] Get realpath failed, path[/tmp/ipykernel_272366/1339986826.py]\n",
      "[ERROR] CORE(272366,7f4009669740,python):2024-07-04-20:36:21.481.732 [mindspore/core/utils/file_utils.cc:253] GetRealPath] Get realpath failed, path[/tmp/ipykernel_272366/3428476077.py]\n",
      "[ERROR] CORE(272366,7f4009669740,python):2024-07-04-20:36:21.481.805 [mindspore/core/utils/file_utils.cc:253] GetRealPath] Get realpath failed, path[/tmp/ipykernel_272366/3428476077.py]\n",
      "[ERROR] CORE(272366,7f4009669740,python):2024-07-04-20:36:21.481.826 [mindspore/core/utils/file_utils.cc:253] GetRealPath] Get realpath failed, path[/tmp/ipykernel_272366/3428476077.py]\n",
      "[ERROR] CORE(272366,7f4009669740,python):2024-07-04-20:36:21.482.503 [mindspore/core/utils/file_utils.cc:253] GetRealPath] Get realpath failed, path[/tmp/ipykernel_272366/3428476077.py]\n",
      "[ERROR] CORE(272366,7f4009669740,python):2024-07-04-20:36:21.482.542 [mindspore/core/utils/file_utils.cc:253] GetRealPath] Get realpath failed, path[/tmp/ipykernel_272366/3428476077.py]\n",
      "[ERROR] CORE(272366,7f4009669740,python):2024-07-04-20:36:21.483.145 [mindspore/core/utils/file_utils.cc:253] GetRealPath] Get realpath failed, path[/tmp/ipykernel_272366/3428476077.py]\n",
      "[ERROR] CORE(272366,7f4009669740,python):2024-07-04-20:36:21.483.188 [mindspore/core/utils/file_utils.cc:253] GetRealPath] Get realpath failed, path[/tmp/ipykernel_272366/3428476077.py]\n",
      "[ERROR] CORE(272366,7f4009669740,python):2024-07-04-20:36:21.483.208 [mindspore/core/utils/file_utils.cc:253] GetRealPath] Get realpath failed, path[/tmp/ipykernel_272366/3428476077.py]\n",
      "[ERROR] CORE(272366,7f4009669740,python):2024-07-04-20:36:21.483.225 [mindspore/core/utils/file_utils.cc:253] GetRealPath] Get realpath failed, path[/tmp/ipykernel_272366/1339986826.py]\n",
      "[ERROR] CORE(272366,7f4009669740,python):2024-07-04-20:36:21.483.283 [mindspore/core/utils/file_utils.cc:253] GetRealPath] Get realpath failed, path[/tmp/ipykernel_272366/3428476077.py]\n",
      "[ERROR] CORE(272366,7f4009669740,python):2024-07-04-20:36:21.493.648 [mindspore/core/utils/file_utils.cc:253] GetRealPath] Get realpath failed, path[/tmp/ipykernel_272366/1339986826.py]\n",
      "[ERROR] CORE(272366,7f4009669740,python):2024-07-04-20:36:21.495.954 [mindspore/core/utils/file_utils.cc:253] GetRealPath] Get realpath failed, path[/tmp/ipykernel_272366/1339986826.py]\n",
      "[ERROR] CORE(272366,7f4009669740,python):2024-07-04-20:36:21.499.271 [mindspore/core/utils/file_utils.cc:253] GetRealPath] Get realpath failed, path[/tmp/ipykernel_272366/1339986826.py]\n"
     ]
    },
    {
     "name": "stdout",
     "output_type": "stream",
     "text": [
      "weight=\n",
      "(1024,  192,    1)\n",
      "30\n"
     ]
    },
    {
     "name": "stderr",
     "output_type": "stream",
     "text": [
      "[ERROR] CORE(272366,7f4009669740,python):2024-07-04-20:36:22.234.664 [mindspore/core/utils/file_utils.cc:253] GetRealPath] Get realpath failed, path[/tmp/ipykernel_272366/1339986826.py]\n",
      "[ERROR] CORE(272366,7f4009669740,python):2024-07-04-20:36:22.235.745 [mindspore/core/utils/file_utils.cc:253] GetRealPath] Get realpath failed, path[/tmp/ipykernel_272366/1339986826.py]\n",
      "[ERROR] CORE(272366,7f4009669740,python):2024-07-04-20:36:22.239.441 [mindspore/core/utils/file_utils.cc:253] GetRealPath] Get realpath failed, path[/tmp/ipykernel_272366/1339986826.py]\n",
      "[ERROR] CORE(272366,7f4009669740,python):2024-07-04-20:36:23.444.283 [mindspore/core/utils/file_utils.cc:253] GetRealPath] Get realpath failed, path[/tmp/ipykernel_272366/3428476077.py]\n",
      "[ERROR] CORE(272366,7f4009669740,python):2024-07-04-20:36:23.444.345 [mindspore/core/utils/file_utils.cc:253] GetRealPath] Get realpath failed, path[/tmp/ipykernel_272366/3428476077.py]\n",
      "[ERROR] CORE(272366,7f4009669740,python):2024-07-04-20:36:23.444.365 [mindspore/core/utils/file_utils.cc:253] GetRealPath] Get realpath failed, path[/tmp/ipykernel_272366/3428476077.py]\n",
      "[ERROR] CORE(272366,7f4009669740,python):2024-07-04-20:36:23.445.008 [mindspore/core/utils/file_utils.cc:253] GetRealPath] Get realpath failed, path[/tmp/ipykernel_272366/3428476077.py]\n",
      "[ERROR] CORE(272366,7f4009669740,python):2024-07-04-20:36:23.445.061 [mindspore/core/utils/file_utils.cc:253] GetRealPath] Get realpath failed, path[/tmp/ipykernel_272366/3428476077.py]\n",
      "[ERROR] CORE(272366,7f4009669740,python):2024-07-04-20:36:23.445.691 [mindspore/core/utils/file_utils.cc:253] GetRealPath] Get realpath failed, path[/tmp/ipykernel_272366/3428476077.py]\n",
      "[ERROR] CORE(272366,7f4009669740,python):2024-07-04-20:36:23.445.733 [mindspore/core/utils/file_utils.cc:253] GetRealPath] Get realpath failed, path[/tmp/ipykernel_272366/3428476077.py]\n",
      "[ERROR] CORE(272366,7f4009669740,python):2024-07-04-20:36:23.445.751 [mindspore/core/utils/file_utils.cc:253] GetRealPath] Get realpath failed, path[/tmp/ipykernel_272366/3428476077.py]\n",
      "[ERROR] CORE(272366,7f4009669740,python):2024-07-04-20:36:23.445.768 [mindspore/core/utils/file_utils.cc:253] GetRealPath] Get realpath failed, path[/tmp/ipykernel_272366/1339986826.py]\n",
      "[ERROR] CORE(272366,7f4009669740,python):2024-07-04-20:36:23.445.827 [mindspore/core/utils/file_utils.cc:253] GetRealPath] Get realpath failed, path[/tmp/ipykernel_272366/3428476077.py]\n",
      "[ERROR] CORE(272366,7f4009669740,python):2024-07-04-20:36:23.457.099 [mindspore/core/utils/file_utils.cc:253] GetRealPath] Get realpath failed, path[/tmp/ipykernel_272366/1339986826.py]\n",
      "[ERROR] CORE(272366,7f4009669740,python):2024-07-04-20:36:23.458.590 [mindspore/core/utils/file_utils.cc:253] GetRealPath] Get realpath failed, path[/tmp/ipykernel_272366/1339986826.py]\n",
      "[ERROR] CORE(272366,7f4009669740,python):2024-07-04-20:36:23.461.082 [mindspore/core/utils/file_utils.cc:253] GetRealPath] Get realpath failed, path[/tmp/ipykernel_272366/1339986826.py]\n"
     ]
    },
    {
     "name": "stdout",
     "output_type": "stream",
     "text": [
      "weight=\n",
      "(1024,  192,    1)\n",
      "31\n"
     ]
    },
    {
     "name": "stderr",
     "output_type": "stream",
     "text": [
      "[ERROR] CORE(272366,7f4009669740,python):2024-07-04-20:36:24.192.098 [mindspore/core/utils/file_utils.cc:253] GetRealPath] Get realpath failed, path[/tmp/ipykernel_272366/1339986826.py]\n",
      "[ERROR] CORE(272366,7f4009669740,python):2024-07-04-20:36:24.193.346 [mindspore/core/utils/file_utils.cc:253] GetRealPath] Get realpath failed, path[/tmp/ipykernel_272366/1339986826.py]\n",
      "[ERROR] CORE(272366,7f4009669740,python):2024-07-04-20:36:24.197.498 [mindspore/core/utils/file_utils.cc:253] GetRealPath] Get realpath failed, path[/tmp/ipykernel_272366/1339986826.py]\n",
      "[ERROR] CORE(272366,7f4009669740,python):2024-07-04-20:36:25.485.911 [mindspore/core/utils/file_utils.cc:253] GetRealPath] Get realpath failed, path[/tmp/ipykernel_272366/3428476077.py]\n",
      "[ERROR] CORE(272366,7f4009669740,python):2024-07-04-20:36:25.485.969 [mindspore/core/utils/file_utils.cc:253] GetRealPath] Get realpath failed, path[/tmp/ipykernel_272366/3428476077.py]\n",
      "[ERROR] CORE(272366,7f4009669740,python):2024-07-04-20:36:25.485.988 [mindspore/core/utils/file_utils.cc:253] GetRealPath] Get realpath failed, path[/tmp/ipykernel_272366/3428476077.py]\n",
      "[ERROR] CORE(272366,7f4009669740,python):2024-07-04-20:36:25.486.681 [mindspore/core/utils/file_utils.cc:253] GetRealPath] Get realpath failed, path[/tmp/ipykernel_272366/3428476077.py]\n",
      "[ERROR] CORE(272366,7f4009669740,python):2024-07-04-20:36:25.486.732 [mindspore/core/utils/file_utils.cc:253] GetRealPath] Get realpath failed, path[/tmp/ipykernel_272366/3428476077.py]\n",
      "[ERROR] CORE(272366,7f4009669740,python):2024-07-04-20:36:25.487.367 [mindspore/core/utils/file_utils.cc:253] GetRealPath] Get realpath failed, path[/tmp/ipykernel_272366/3428476077.py]\n",
      "[ERROR] CORE(272366,7f4009669740,python):2024-07-04-20:36:25.487.410 [mindspore/core/utils/file_utils.cc:253] GetRealPath] Get realpath failed, path[/tmp/ipykernel_272366/3428476077.py]\n",
      "[ERROR] CORE(272366,7f4009669740,python):2024-07-04-20:36:25.487.429 [mindspore/core/utils/file_utils.cc:253] GetRealPath] Get realpath failed, path[/tmp/ipykernel_272366/3428476077.py]\n",
      "[ERROR] CORE(272366,7f4009669740,python):2024-07-04-20:36:25.487.447 [mindspore/core/utils/file_utils.cc:253] GetRealPath] Get realpath failed, path[/tmp/ipykernel_272366/1339986826.py]\n",
      "[ERROR] CORE(272366,7f4009669740,python):2024-07-04-20:36:25.487.507 [mindspore/core/utils/file_utils.cc:253] GetRealPath] Get realpath failed, path[/tmp/ipykernel_272366/3428476077.py]\n",
      "[ERROR] CORE(272366,7f4009669740,python):2024-07-04-20:36:25.499.525 [mindspore/core/utils/file_utils.cc:253] GetRealPath] Get realpath failed, path[/tmp/ipykernel_272366/1339986826.py]\n",
      "[ERROR] CORE(272366,7f4009669740,python):2024-07-04-20:36:25.502.979 [mindspore/core/utils/file_utils.cc:253] GetRealPath] Get realpath failed, path[/tmp/ipykernel_272366/1339986826.py]\n",
      "[ERROR] CORE(272366,7f4009669740,python):2024-07-04-20:36:25.504.224 [mindspore/core/utils/file_utils.cc:253] GetRealPath] Get realpath failed, path[/tmp/ipykernel_272366/1339986826.py]\n"
     ]
    },
    {
     "name": "stdout",
     "output_type": "stream",
     "text": [
      "weight=\n",
      "(1024,  192,    1)\n",
      "32\n"
     ]
    },
    {
     "name": "stderr",
     "output_type": "stream",
     "text": [
      "[ERROR] CORE(272366,7f4009669740,python):2024-07-04-20:36:26.244.560 [mindspore/core/utils/file_utils.cc:253] GetRealPath] Get realpath failed, path[/tmp/ipykernel_272366/1339986826.py]\n",
      "[ERROR] CORE(272366,7f4009669740,python):2024-07-04-20:36:26.245.615 [mindspore/core/utils/file_utils.cc:253] GetRealPath] Get realpath failed, path[/tmp/ipykernel_272366/1339986826.py]\n",
      "[ERROR] CORE(272366,7f4009669740,python):2024-07-04-20:36:26.249.364 [mindspore/core/utils/file_utils.cc:253] GetRealPath] Get realpath failed, path[/tmp/ipykernel_272366/1339986826.py]\n",
      "[ERROR] CORE(272366,7f4009669740,python):2024-07-04-20:36:27.494.316 [mindspore/core/utils/file_utils.cc:253] GetRealPath] Get realpath failed, path[/tmp/ipykernel_272366/3428476077.py]\n",
      "[ERROR] CORE(272366,7f4009669740,python):2024-07-04-20:36:27.494.376 [mindspore/core/utils/file_utils.cc:253] GetRealPath] Get realpath failed, path[/tmp/ipykernel_272366/3428476077.py]\n",
      "[ERROR] CORE(272366,7f4009669740,python):2024-07-04-20:36:27.494.396 [mindspore/core/utils/file_utils.cc:253] GetRealPath] Get realpath failed, path[/tmp/ipykernel_272366/3428476077.py]\n",
      "[ERROR] CORE(272366,7f4009669740,python):2024-07-04-20:36:27.495.042 [mindspore/core/utils/file_utils.cc:253] GetRealPath] Get realpath failed, path[/tmp/ipykernel_272366/3428476077.py]\n",
      "[ERROR] CORE(272366,7f4009669740,python):2024-07-04-20:36:27.495.106 [mindspore/core/utils/file_utils.cc:253] GetRealPath] Get realpath failed, path[/tmp/ipykernel_272366/3428476077.py]\n",
      "[ERROR] CORE(272366,7f4009669740,python):2024-07-04-20:36:27.495.741 [mindspore/core/utils/file_utils.cc:253] GetRealPath] Get realpath failed, path[/tmp/ipykernel_272366/3428476077.py]\n",
      "[ERROR] CORE(272366,7f4009669740,python):2024-07-04-20:36:27.495.784 [mindspore/core/utils/file_utils.cc:253] GetRealPath] Get realpath failed, path[/tmp/ipykernel_272366/3428476077.py]\n",
      "[ERROR] CORE(272366,7f4009669740,python):2024-07-04-20:36:27.495.802 [mindspore/core/utils/file_utils.cc:253] GetRealPath] Get realpath failed, path[/tmp/ipykernel_272366/3428476077.py]\n",
      "[ERROR] CORE(272366,7f4009669740,python):2024-07-04-20:36:27.495.819 [mindspore/core/utils/file_utils.cc:253] GetRealPath] Get realpath failed, path[/tmp/ipykernel_272366/1339986826.py]\n",
      "[ERROR] CORE(272366,7f4009669740,python):2024-07-04-20:36:27.495.881 [mindspore/core/utils/file_utils.cc:253] GetRealPath] Get realpath failed, path[/tmp/ipykernel_272366/3428476077.py]\n",
      "[ERROR] CORE(272366,7f4009669740,python):2024-07-04-20:36:27.514.324 [mindspore/core/utils/file_utils.cc:253] GetRealPath] Get realpath failed, path[/tmp/ipykernel_272366/1339986826.py]\n",
      "[ERROR] CORE(272366,7f4009669740,python):2024-07-04-20:36:27.514.347 [mindspore/core/utils/file_utils.cc:253] GetRealPath] Get realpath failed, path[/tmp/ipykernel_272366/1339986826.py]\n",
      "[ERROR] CORE(272366,7f4009669740,python):2024-07-04-20:36:27.515.655 [mindspore/core/utils/file_utils.cc:253] GetRealPath] Get realpath failed, path[/tmp/ipykernel_272366/1339986826.py]\n"
     ]
    },
    {
     "name": "stdout",
     "output_type": "stream",
     "text": [
      "weight=\n",
      "(1024,  192,    1)\n",
      "33\n"
     ]
    },
    {
     "name": "stderr",
     "output_type": "stream",
     "text": [
      "[ERROR] CORE(272366,7f4009669740,python):2024-07-04-20:36:28.234.285 [mindspore/core/utils/file_utils.cc:253] GetRealPath] Get realpath failed, path[/tmp/ipykernel_272366/1339986826.py]\n",
      "[ERROR] CORE(272366,7f4009669740,python):2024-07-04-20:36:28.235.300 [mindspore/core/utils/file_utils.cc:253] GetRealPath] Get realpath failed, path[/tmp/ipykernel_272366/1339986826.py]\n",
      "[ERROR] CORE(272366,7f4009669740,python):2024-07-04-20:36:28.238.927 [mindspore/core/utils/file_utils.cc:253] GetRealPath] Get realpath failed, path[/tmp/ipykernel_272366/1339986826.py]\n",
      "[ERROR] CORE(272366,7f4009669740,python):2024-07-04-20:36:29.509.386 [mindspore/core/utils/file_utils.cc:253] GetRealPath] Get realpath failed, path[/tmp/ipykernel_272366/3428476077.py]\n",
      "[ERROR] CORE(272366,7f4009669740,python):2024-07-04-20:36:29.509.449 [mindspore/core/utils/file_utils.cc:253] GetRealPath] Get realpath failed, path[/tmp/ipykernel_272366/3428476077.py]\n",
      "[ERROR] CORE(272366,7f4009669740,python):2024-07-04-20:36:29.509.469 [mindspore/core/utils/file_utils.cc:253] GetRealPath] Get realpath failed, path[/tmp/ipykernel_272366/3428476077.py]\n",
      "[ERROR] CORE(272366,7f4009669740,python):2024-07-04-20:36:29.510.128 [mindspore/core/utils/file_utils.cc:253] GetRealPath] Get realpath failed, path[/tmp/ipykernel_272366/3428476077.py]\n",
      "[ERROR] CORE(272366,7f4009669740,python):2024-07-04-20:36:29.510.168 [mindspore/core/utils/file_utils.cc:253] GetRealPath] Get realpath failed, path[/tmp/ipykernel_272366/3428476077.py]\n",
      "[ERROR] CORE(272366,7f4009669740,python):2024-07-04-20:36:29.510.789 [mindspore/core/utils/file_utils.cc:253] GetRealPath] Get realpath failed, path[/tmp/ipykernel_272366/3428476077.py]\n",
      "[ERROR] CORE(272366,7f4009669740,python):2024-07-04-20:36:29.510.829 [mindspore/core/utils/file_utils.cc:253] GetRealPath] Get realpath failed, path[/tmp/ipykernel_272366/3428476077.py]\n",
      "[ERROR] CORE(272366,7f4009669740,python):2024-07-04-20:36:29.510.848 [mindspore/core/utils/file_utils.cc:253] GetRealPath] Get realpath failed, path[/tmp/ipykernel_272366/3428476077.py]\n",
      "[ERROR] CORE(272366,7f4009669740,python):2024-07-04-20:36:29.510.865 [mindspore/core/utils/file_utils.cc:253] GetRealPath] Get realpath failed, path[/tmp/ipykernel_272366/1339986826.py]\n",
      "[ERROR] CORE(272366,7f4009669740,python):2024-07-04-20:36:29.510.922 [mindspore/core/utils/file_utils.cc:253] GetRealPath] Get realpath failed, path[/tmp/ipykernel_272366/3428476077.py]\n",
      "[ERROR] CORE(272366,7f4009669740,python):2024-07-04-20:36:29.522.401 [mindspore/core/utils/file_utils.cc:253] GetRealPath] Get realpath failed, path[/tmp/ipykernel_272366/1339986826.py]\n",
      "[ERROR] CORE(272366,7f4009669740,python):2024-07-04-20:36:29.523.495 [mindspore/core/utils/file_utils.cc:253] GetRealPath] Get realpath failed, path[/tmp/ipykernel_272366/1339986826.py]\n",
      "[ERROR] CORE(272366,7f4009669740,python):2024-07-04-20:36:29.528.236 [mindspore/core/utils/file_utils.cc:253] GetRealPath] Get realpath failed, path[/tmp/ipykernel_272366/1339986826.py]\n"
     ]
    },
    {
     "name": "stdout",
     "output_type": "stream",
     "text": [
      "weight=\n",
      "(1024,  192,    1)\n",
      "34\n"
     ]
    },
    {
     "name": "stderr",
     "output_type": "stream",
     "text": [
      "[ERROR] CORE(272366,7f4009669740,python):2024-07-04-20:36:30.252.082 [mindspore/core/utils/file_utils.cc:253] GetRealPath] Get realpath failed, path[/tmp/ipykernel_272366/1339986826.py]\n",
      "[ERROR] CORE(272366,7f4009669740,python):2024-07-04-20:36:30.253.141 [mindspore/core/utils/file_utils.cc:253] GetRealPath] Get realpath failed, path[/tmp/ipykernel_272366/1339986826.py]\n",
      "[ERROR] CORE(272366,7f4009669740,python):2024-07-04-20:36:30.256.654 [mindspore/core/utils/file_utils.cc:253] GetRealPath] Get realpath failed, path[/tmp/ipykernel_272366/1339986826.py]\n",
      "[ERROR] CORE(272366,7f4009669740,python):2024-07-04-20:36:31.575.707 [mindspore/core/utils/file_utils.cc:253] GetRealPath] Get realpath failed, path[/tmp/ipykernel_272366/3428476077.py]\n",
      "[ERROR] CORE(272366,7f4009669740,python):2024-07-04-20:36:31.575.782 [mindspore/core/utils/file_utils.cc:253] GetRealPath] Get realpath failed, path[/tmp/ipykernel_272366/3428476077.py]\n",
      "[ERROR] CORE(272366,7f4009669740,python):2024-07-04-20:36:31.575.800 [mindspore/core/utils/file_utils.cc:253] GetRealPath] Get realpath failed, path[/tmp/ipykernel_272366/3428476077.py]\n",
      "[ERROR] CORE(272366,7f4009669740,python):2024-07-04-20:36:31.576.487 [mindspore/core/utils/file_utils.cc:253] GetRealPath] Get realpath failed, path[/tmp/ipykernel_272366/3428476077.py]\n",
      "[ERROR] CORE(272366,7f4009669740,python):2024-07-04-20:36:31.576.527 [mindspore/core/utils/file_utils.cc:253] GetRealPath] Get realpath failed, path[/tmp/ipykernel_272366/3428476077.py]\n",
      "[ERROR] CORE(272366,7f4009669740,python):2024-07-04-20:36:31.577.146 [mindspore/core/utils/file_utils.cc:253] GetRealPath] Get realpath failed, path[/tmp/ipykernel_272366/3428476077.py]\n",
      "[ERROR] CORE(272366,7f4009669740,python):2024-07-04-20:36:31.577.188 [mindspore/core/utils/file_utils.cc:253] GetRealPath] Get realpath failed, path[/tmp/ipykernel_272366/3428476077.py]\n",
      "[ERROR] CORE(272366,7f4009669740,python):2024-07-04-20:36:31.577.206 [mindspore/core/utils/file_utils.cc:253] GetRealPath] Get realpath failed, path[/tmp/ipykernel_272366/3428476077.py]\n",
      "[ERROR] CORE(272366,7f4009669740,python):2024-07-04-20:36:31.577.223 [mindspore/core/utils/file_utils.cc:253] GetRealPath] Get realpath failed, path[/tmp/ipykernel_272366/1339986826.py]\n",
      "[ERROR] CORE(272366,7f4009669740,python):2024-07-04-20:36:31.577.284 [mindspore/core/utils/file_utils.cc:253] GetRealPath] Get realpath failed, path[/tmp/ipykernel_272366/3428476077.py]\n",
      "[ERROR] CORE(272366,7f4009669740,python):2024-07-04-20:36:31.589.906 [mindspore/core/utils/file_utils.cc:253] GetRealPath] Get realpath failed, path[/tmp/ipykernel_272366/1339986826.py]\n",
      "[ERROR] CORE(272366,7f4009669740,python):2024-07-04-20:36:31.593.426 [mindspore/core/utils/file_utils.cc:253] GetRealPath] Get realpath failed, path[/tmp/ipykernel_272366/1339986826.py]\n",
      "[ERROR] CORE(272366,7f4009669740,python):2024-07-04-20:36:31.593.441 [mindspore/core/utils/file_utils.cc:253] GetRealPath] Get realpath failed, path[/tmp/ipykernel_272366/1339986826.py]\n"
     ]
    },
    {
     "name": "stdout",
     "output_type": "stream",
     "text": [
      "weight=\n",
      "(1024,  192,    1)\n",
      "35\n"
     ]
    },
    {
     "name": "stderr",
     "output_type": "stream",
     "text": [
      "[ERROR] CORE(272366,7f4009669740,python):2024-07-04-20:36:32.314.285 [mindspore/core/utils/file_utils.cc:253] GetRealPath] Get realpath failed, path[/tmp/ipykernel_272366/1339986826.py]\n",
      "[ERROR] CORE(272366,7f4009669740,python):2024-07-04-20:36:32.315.365 [mindspore/core/utils/file_utils.cc:253] GetRealPath] Get realpath failed, path[/tmp/ipykernel_272366/1339986826.py]\n",
      "[ERROR] CORE(272366,7f4009669740,python):2024-07-04-20:36:32.319.042 [mindspore/core/utils/file_utils.cc:253] GetRealPath] Get realpath failed, path[/tmp/ipykernel_272366/1339986826.py]\n",
      "[ERROR] CORE(272366,7f4009669740,python):2024-07-04-20:36:33.568.910 [mindspore/core/utils/file_utils.cc:253] GetRealPath] Get realpath failed, path[/tmp/ipykernel_272366/3428476077.py]\n",
      "[ERROR] CORE(272366,7f4009669740,python):2024-07-04-20:36:33.568.971 [mindspore/core/utils/file_utils.cc:253] GetRealPath] Get realpath failed, path[/tmp/ipykernel_272366/3428476077.py]\n",
      "[ERROR] CORE(272366,7f4009669740,python):2024-07-04-20:36:33.568.990 [mindspore/core/utils/file_utils.cc:253] GetRealPath] Get realpath failed, path[/tmp/ipykernel_272366/3428476077.py]\n",
      "[ERROR] CORE(272366,7f4009669740,python):2024-07-04-20:36:33.569.674 [mindspore/core/utils/file_utils.cc:253] GetRealPath] Get realpath failed, path[/tmp/ipykernel_272366/3428476077.py]\n",
      "[ERROR] CORE(272366,7f4009669740,python):2024-07-04-20:36:33.569.713 [mindspore/core/utils/file_utils.cc:253] GetRealPath] Get realpath failed, path[/tmp/ipykernel_272366/3428476077.py]\n",
      "[ERROR] CORE(272366,7f4009669740,python):2024-07-04-20:36:33.570.352 [mindspore/core/utils/file_utils.cc:253] GetRealPath] Get realpath failed, path[/tmp/ipykernel_272366/3428476077.py]\n",
      "[ERROR] CORE(272366,7f4009669740,python):2024-07-04-20:36:33.570.394 [mindspore/core/utils/file_utils.cc:253] GetRealPath] Get realpath failed, path[/tmp/ipykernel_272366/3428476077.py]\n",
      "[ERROR] CORE(272366,7f4009669740,python):2024-07-04-20:36:33.570.414 [mindspore/core/utils/file_utils.cc:253] GetRealPath] Get realpath failed, path[/tmp/ipykernel_272366/3428476077.py]\n",
      "[ERROR] CORE(272366,7f4009669740,python):2024-07-04-20:36:33.570.432 [mindspore/core/utils/file_utils.cc:253] GetRealPath] Get realpath failed, path[/tmp/ipykernel_272366/1339986826.py]\n",
      "[ERROR] CORE(272366,7f4009669740,python):2024-07-04-20:36:33.570.492 [mindspore/core/utils/file_utils.cc:253] GetRealPath] Get realpath failed, path[/tmp/ipykernel_272366/3428476077.py]\n",
      "[ERROR] CORE(272366,7f4009669740,python):2024-07-04-20:36:33.583.025 [mindspore/core/utils/file_utils.cc:253] GetRealPath] Get realpath failed, path[/tmp/ipykernel_272366/1339986826.py]\n",
      "[ERROR] CORE(272366,7f4009669740,python):2024-07-04-20:36:33.583.058 [mindspore/core/utils/file_utils.cc:253] GetRealPath] Get realpath failed, path[/tmp/ipykernel_272366/1339986826.py]\n",
      "[ERROR] CORE(272366,7f4009669740,python):2024-07-04-20:36:33.583.074 [mindspore/core/utils/file_utils.cc:253] GetRealPath] Get realpath failed, path[/tmp/ipykernel_272366/1339986826.py]\n"
     ]
    },
    {
     "name": "stdout",
     "output_type": "stream",
     "text": [
      "weight=\n",
      "(1024,  192,    1)\n",
      "36\n"
     ]
    },
    {
     "name": "stderr",
     "output_type": "stream",
     "text": [
      "[ERROR] CORE(272366,7f4009669740,python):2024-07-04-20:36:34.316.534 [mindspore/core/utils/file_utils.cc:253] GetRealPath] Get realpath failed, path[/tmp/ipykernel_272366/1339986826.py]\n",
      "[ERROR] CORE(272366,7f4009669740,python):2024-07-04-20:36:34.317.570 [mindspore/core/utils/file_utils.cc:253] GetRealPath] Get realpath failed, path[/tmp/ipykernel_272366/1339986826.py]\n",
      "[ERROR] CORE(272366,7f4009669740,python):2024-07-04-20:36:34.321.224 [mindspore/core/utils/file_utils.cc:253] GetRealPath] Get realpath failed, path[/tmp/ipykernel_272366/1339986826.py]\n",
      "[ERROR] CORE(272366,7f4009669740,python):2024-07-04-20:36:35.587.217 [mindspore/core/utils/file_utils.cc:253] GetRealPath] Get realpath failed, path[/tmp/ipykernel_272366/3428476077.py]\n",
      "[ERROR] CORE(272366,7f4009669740,python):2024-07-04-20:36:35.587.277 [mindspore/core/utils/file_utils.cc:253] GetRealPath] Get realpath failed, path[/tmp/ipykernel_272366/3428476077.py]\n",
      "[ERROR] CORE(272366,7f4009669740,python):2024-07-04-20:36:35.587.296 [mindspore/core/utils/file_utils.cc:253] GetRealPath] Get realpath failed, path[/tmp/ipykernel_272366/3428476077.py]\n",
      "[ERROR] CORE(272366,7f4009669740,python):2024-07-04-20:36:35.587.963 [mindspore/core/utils/file_utils.cc:253] GetRealPath] Get realpath failed, path[/tmp/ipykernel_272366/3428476077.py]\n",
      "[ERROR] CORE(272366,7f4009669740,python):2024-07-04-20:36:35.588.003 [mindspore/core/utils/file_utils.cc:253] GetRealPath] Get realpath failed, path[/tmp/ipykernel_272366/3428476077.py]\n",
      "[ERROR] CORE(272366,7f4009669740,python):2024-07-04-20:36:35.588.640 [mindspore/core/utils/file_utils.cc:253] GetRealPath] Get realpath failed, path[/tmp/ipykernel_272366/3428476077.py]\n",
      "[ERROR] CORE(272366,7f4009669740,python):2024-07-04-20:36:35.588.683 [mindspore/core/utils/file_utils.cc:253] GetRealPath] Get realpath failed, path[/tmp/ipykernel_272366/3428476077.py]\n",
      "[ERROR] CORE(272366,7f4009669740,python):2024-07-04-20:36:35.588.702 [mindspore/core/utils/file_utils.cc:253] GetRealPath] Get realpath failed, path[/tmp/ipykernel_272366/3428476077.py]\n",
      "[ERROR] CORE(272366,7f4009669740,python):2024-07-04-20:36:35.588.719 [mindspore/core/utils/file_utils.cc:253] GetRealPath] Get realpath failed, path[/tmp/ipykernel_272366/1339986826.py]\n",
      "[ERROR] CORE(272366,7f4009669740,python):2024-07-04-20:36:35.588.788 [mindspore/core/utils/file_utils.cc:253] GetRealPath] Get realpath failed, path[/tmp/ipykernel_272366/3428476077.py]\n",
      "[ERROR] CORE(272366,7f4009669740,python):2024-07-04-20:36:35.598.701 [mindspore/core/utils/file_utils.cc:253] GetRealPath] Get realpath failed, path[/tmp/ipykernel_272366/1339986826.py]\n",
      "[ERROR] CORE(272366,7f4009669740,python):2024-07-04-20:36:35.600.324 [mindspore/core/utils/file_utils.cc:253] GetRealPath] Get realpath failed, path[/tmp/ipykernel_272366/1339986826.py]\n",
      "[ERROR] CORE(272366,7f4009669740,python):2024-07-04-20:36:35.606.247 [mindspore/core/utils/file_utils.cc:253] GetRealPath] Get realpath failed, path[/tmp/ipykernel_272366/1339986826.py]\n"
     ]
    },
    {
     "name": "stdout",
     "output_type": "stream",
     "text": [
      "weight=\n",
      "(1024,  192,    1)\n",
      "37\n"
     ]
    },
    {
     "name": "stderr",
     "output_type": "stream",
     "text": [
      "[ERROR] CORE(272366,7f4009669740,python):2024-07-04-20:36:36.352.627 [mindspore/core/utils/file_utils.cc:253] GetRealPath] Get realpath failed, path[/tmp/ipykernel_272366/1339986826.py]\n",
      "[ERROR] CORE(272366,7f4009669740,python):2024-07-04-20:36:36.353.718 [mindspore/core/utils/file_utils.cc:253] GetRealPath] Get realpath failed, path[/tmp/ipykernel_272366/1339986826.py]\n",
      "[ERROR] CORE(272366,7f4009669740,python):2024-07-04-20:36:36.357.323 [mindspore/core/utils/file_utils.cc:253] GetRealPath] Get realpath failed, path[/tmp/ipykernel_272366/1339986826.py]\n",
      "[ERROR] CORE(272366,7f4009669740,python):2024-07-04-20:36:37.659.485 [mindspore/core/utils/file_utils.cc:253] GetRealPath] Get realpath failed, path[/tmp/ipykernel_272366/3428476077.py]\n",
      "[ERROR] CORE(272366,7f4009669740,python):2024-07-04-20:36:37.659.544 [mindspore/core/utils/file_utils.cc:253] GetRealPath] Get realpath failed, path[/tmp/ipykernel_272366/3428476077.py]\n",
      "[ERROR] CORE(272366,7f4009669740,python):2024-07-04-20:36:37.659.565 [mindspore/core/utils/file_utils.cc:253] GetRealPath] Get realpath failed, path[/tmp/ipykernel_272366/3428476077.py]\n",
      "[ERROR] CORE(272366,7f4009669740,python):2024-07-04-20:36:37.660.251 [mindspore/core/utils/file_utils.cc:253] GetRealPath] Get realpath failed, path[/tmp/ipykernel_272366/3428476077.py]\n",
      "[ERROR] CORE(272366,7f4009669740,python):2024-07-04-20:36:37.660.293 [mindspore/core/utils/file_utils.cc:253] GetRealPath] Get realpath failed, path[/tmp/ipykernel_272366/3428476077.py]\n",
      "[ERROR] CORE(272366,7f4009669740,python):2024-07-04-20:36:37.660.932 [mindspore/core/utils/file_utils.cc:253] GetRealPath] Get realpath failed, path[/tmp/ipykernel_272366/3428476077.py]\n",
      "[ERROR] CORE(272366,7f4009669740,python):2024-07-04-20:36:37.660.975 [mindspore/core/utils/file_utils.cc:253] GetRealPath] Get realpath failed, path[/tmp/ipykernel_272366/3428476077.py]\n",
      "[ERROR] CORE(272366,7f4009669740,python):2024-07-04-20:36:37.660.994 [mindspore/core/utils/file_utils.cc:253] GetRealPath] Get realpath failed, path[/tmp/ipykernel_272366/3428476077.py]\n",
      "[ERROR] CORE(272366,7f4009669740,python):2024-07-04-20:36:37.661.012 [mindspore/core/utils/file_utils.cc:253] GetRealPath] Get realpath failed, path[/tmp/ipykernel_272366/1339986826.py]\n",
      "[ERROR] CORE(272366,7f4009669740,python):2024-07-04-20:36:37.661.089 [mindspore/core/utils/file_utils.cc:253] GetRealPath] Get realpath failed, path[/tmp/ipykernel_272366/3428476077.py]\n",
      "[ERROR] CORE(272366,7f4009669740,python):2024-07-04-20:36:37.671.562 [mindspore/core/utils/file_utils.cc:253] GetRealPath] Get realpath failed, path[/tmp/ipykernel_272366/1339986826.py]\n",
      "[ERROR] CORE(272366,7f4009669740,python):2024-07-04-20:36:37.673.195 [mindspore/core/utils/file_utils.cc:253] GetRealPath] Get realpath failed, path[/tmp/ipykernel_272366/1339986826.py]\n",
      "[ERROR] CORE(272366,7f4009669740,python):2024-07-04-20:36:37.679.031 [mindspore/core/utils/file_utils.cc:253] GetRealPath] Get realpath failed, path[/tmp/ipykernel_272366/1339986826.py]\n"
     ]
    },
    {
     "name": "stdout",
     "output_type": "stream",
     "text": [
      "weight=\n",
      "(1024,  192,    1)\n",
      "38\n"
     ]
    },
    {
     "name": "stderr",
     "output_type": "stream",
     "text": [
      "[ERROR] CORE(272366,7f4009669740,python):2024-07-04-20:36:38.442.245 [mindspore/core/utils/file_utils.cc:253] GetRealPath] Get realpath failed, path[/tmp/ipykernel_272366/1339986826.py]\n",
      "[ERROR] CORE(272366,7f4009669740,python):2024-07-04-20:36:38.443.293 [mindspore/core/utils/file_utils.cc:253] GetRealPath] Get realpath failed, path[/tmp/ipykernel_272366/1339986826.py]\n",
      "[ERROR] CORE(272366,7f4009669740,python):2024-07-04-20:36:38.447.012 [mindspore/core/utils/file_utils.cc:253] GetRealPath] Get realpath failed, path[/tmp/ipykernel_272366/1339986826.py]\n",
      "[ERROR] CORE(272366,7f4009669740,python):2024-07-04-20:36:39.728.272 [mindspore/core/utils/file_utils.cc:253] GetRealPath] Get realpath failed, path[/tmp/ipykernel_272366/3428476077.py]\n",
      "[ERROR] CORE(272366,7f4009669740,python):2024-07-04-20:36:39.728.340 [mindspore/core/utils/file_utils.cc:253] GetRealPath] Get realpath failed, path[/tmp/ipykernel_272366/3428476077.py]\n",
      "[ERROR] CORE(272366,7f4009669740,python):2024-07-04-20:36:39.728.363 [mindspore/core/utils/file_utils.cc:253] GetRealPath] Get realpath failed, path[/tmp/ipykernel_272366/3428476077.py]\n",
      "[ERROR] CORE(272366,7f4009669740,python):2024-07-04-20:36:39.729.022 [mindspore/core/utils/file_utils.cc:253] GetRealPath] Get realpath failed, path[/tmp/ipykernel_272366/3428476077.py]\n",
      "[ERROR] CORE(272366,7f4009669740,python):2024-07-04-20:36:39.729.086 [mindspore/core/utils/file_utils.cc:253] GetRealPath] Get realpath failed, path[/tmp/ipykernel_272366/3428476077.py]\n",
      "[ERROR] CORE(272366,7f4009669740,python):2024-07-04-20:36:39.729.710 [mindspore/core/utils/file_utils.cc:253] GetRealPath] Get realpath failed, path[/tmp/ipykernel_272366/3428476077.py]\n",
      "[ERROR] CORE(272366,7f4009669740,python):2024-07-04-20:36:39.729.763 [mindspore/core/utils/file_utils.cc:253] GetRealPath] Get realpath failed, path[/tmp/ipykernel_272366/3428476077.py]\n",
      "[ERROR] CORE(272366,7f4009669740,python):2024-07-04-20:36:39.729.784 [mindspore/core/utils/file_utils.cc:253] GetRealPath] Get realpath failed, path[/tmp/ipykernel_272366/3428476077.py]\n",
      "[ERROR] CORE(272366,7f4009669740,python):2024-07-04-20:36:39.729.802 [mindspore/core/utils/file_utils.cc:253] GetRealPath] Get realpath failed, path[/tmp/ipykernel_272366/1339986826.py]\n",
      "[ERROR] CORE(272366,7f4009669740,python):2024-07-04-20:36:39.729.863 [mindspore/core/utils/file_utils.cc:253] GetRealPath] Get realpath failed, path[/tmp/ipykernel_272366/3428476077.py]\n",
      "[ERROR] CORE(272366,7f4009669740,python):2024-07-04-20:36:39.742.746 [mindspore/core/utils/file_utils.cc:253] GetRealPath] Get realpath failed, path[/tmp/ipykernel_272366/1339986826.py]\n",
      "[ERROR] CORE(272366,7f4009669740,python):2024-07-04-20:36:39.746.466 [mindspore/core/utils/file_utils.cc:253] GetRealPath] Get realpath failed, path[/tmp/ipykernel_272366/1339986826.py]\n",
      "[ERROR] CORE(272366,7f4009669740,python):2024-07-04-20:36:39.746.623 [mindspore/core/utils/file_utils.cc:253] GetRealPath] Get realpath failed, path[/tmp/ipykernel_272366/1339986826.py]\n"
     ]
    },
    {
     "name": "stdout",
     "output_type": "stream",
     "text": [
      "weight=\n",
      "(1024,  192,    1)\n",
      "39\n"
     ]
    },
    {
     "name": "stderr",
     "output_type": "stream",
     "text": [
      "[ERROR] CORE(272366,7f4009669740,python):2024-07-04-20:36:40.487.715 [mindspore/core/utils/file_utils.cc:253] GetRealPath] Get realpath failed, path[/tmp/ipykernel_272366/1339986826.py]\n",
      "[ERROR] CORE(272366,7f4009669740,python):2024-07-04-20:36:40.488.809 [mindspore/core/utils/file_utils.cc:253] GetRealPath] Get realpath failed, path[/tmp/ipykernel_272366/1339986826.py]\n",
      "[ERROR] CORE(272366,7f4009669740,python):2024-07-04-20:36:40.492.375 [mindspore/core/utils/file_utils.cc:253] GetRealPath] Get realpath failed, path[/tmp/ipykernel_272366/1339986826.py]\n",
      "[ERROR] CORE(272366,7f4009669740,python):2024-07-04-20:36:41.795.906 [mindspore/core/utils/file_utils.cc:253] GetRealPath] Get realpath failed, path[/tmp/ipykernel_272366/3428476077.py]\n",
      "[ERROR] CORE(272366,7f4009669740,python):2024-07-04-20:36:41.795.972 [mindspore/core/utils/file_utils.cc:253] GetRealPath] Get realpath failed, path[/tmp/ipykernel_272366/3428476077.py]\n",
      "[ERROR] CORE(272366,7f4009669740,python):2024-07-04-20:36:41.795.992 [mindspore/core/utils/file_utils.cc:253] GetRealPath] Get realpath failed, path[/tmp/ipykernel_272366/3428476077.py]\n",
      "[ERROR] CORE(272366,7f4009669740,python):2024-07-04-20:36:41.796.690 [mindspore/core/utils/file_utils.cc:253] GetRealPath] Get realpath failed, path[/tmp/ipykernel_272366/3428476077.py]\n",
      "[ERROR] CORE(272366,7f4009669740,python):2024-07-04-20:36:41.796.732 [mindspore/core/utils/file_utils.cc:253] GetRealPath] Get realpath failed, path[/tmp/ipykernel_272366/3428476077.py]\n",
      "[ERROR] CORE(272366,7f4009669740,python):2024-07-04-20:36:41.797.391 [mindspore/core/utils/file_utils.cc:253] GetRealPath] Get realpath failed, path[/tmp/ipykernel_272366/3428476077.py]\n",
      "[ERROR] CORE(272366,7f4009669740,python):2024-07-04-20:36:41.797.437 [mindspore/core/utils/file_utils.cc:253] GetRealPath] Get realpath failed, path[/tmp/ipykernel_272366/3428476077.py]\n",
      "[ERROR] CORE(272366,7f4009669740,python):2024-07-04-20:36:41.797.456 [mindspore/core/utils/file_utils.cc:253] GetRealPath] Get realpath failed, path[/tmp/ipykernel_272366/3428476077.py]\n",
      "[ERROR] CORE(272366,7f4009669740,python):2024-07-04-20:36:41.797.474 [mindspore/core/utils/file_utils.cc:253] GetRealPath] Get realpath failed, path[/tmp/ipykernel_272366/1339986826.py]\n",
      "[ERROR] CORE(272366,7f4009669740,python):2024-07-04-20:36:41.797.537 [mindspore/core/utils/file_utils.cc:253] GetRealPath] Get realpath failed, path[/tmp/ipykernel_272366/3428476077.py]\n",
      "[ERROR] CORE(272366,7f4009669740,python):2024-07-04-20:36:41.808.531 [mindspore/core/utils/file_utils.cc:253] GetRealPath] Get realpath failed, path[/tmp/ipykernel_272366/1339986826.py]\n",
      "[ERROR] CORE(272366,7f4009669740,python):2024-07-04-20:36:41.813.475 [mindspore/core/utils/file_utils.cc:253] GetRealPath] Get realpath failed, path[/tmp/ipykernel_272366/1339986826.py]\n",
      "[ERROR] CORE(272366,7f4009669740,python):2024-07-04-20:36:41.813.738 [mindspore/core/utils/file_utils.cc:253] GetRealPath] Get realpath failed, path[/tmp/ipykernel_272366/1339986826.py]\n"
     ]
    },
    {
     "name": "stdout",
     "output_type": "stream",
     "text": [
      "weight=\n",
      "(1024,  192,    1)\n",
      "40\n"
     ]
    },
    {
     "name": "stderr",
     "output_type": "stream",
     "text": [
      "[ERROR] CORE(272366,7f4009669740,python):2024-07-04-20:36:42.587.983 [mindspore/core/utils/file_utils.cc:253] GetRealPath] Get realpath failed, path[/tmp/ipykernel_272366/1339986826.py]\n",
      "[ERROR] CORE(272366,7f4009669740,python):2024-07-04-20:36:42.589.041 [mindspore/core/utils/file_utils.cc:253] GetRealPath] Get realpath failed, path[/tmp/ipykernel_272366/1339986826.py]\n",
      "[ERROR] CORE(272366,7f4009669740,python):2024-07-04-20:36:42.592.909 [mindspore/core/utils/file_utils.cc:253] GetRealPath] Get realpath failed, path[/tmp/ipykernel_272366/1339986826.py]\n",
      "[ERROR] CORE(272366,7f4009669740,python):2024-07-04-20:36:43.880.464 [mindspore/core/utils/file_utils.cc:253] GetRealPath] Get realpath failed, path[/tmp/ipykernel_272366/3428476077.py]\n",
      "[ERROR] CORE(272366,7f4009669740,python):2024-07-04-20:36:43.880.536 [mindspore/core/utils/file_utils.cc:253] GetRealPath] Get realpath failed, path[/tmp/ipykernel_272366/3428476077.py]\n",
      "[ERROR] CORE(272366,7f4009669740,python):2024-07-04-20:36:43.880.561 [mindspore/core/utils/file_utils.cc:253] GetRealPath] Get realpath failed, path[/tmp/ipykernel_272366/3428476077.py]\n",
      "[ERROR] CORE(272366,7f4009669740,python):2024-07-04-20:36:43.881.244 [mindspore/core/utils/file_utils.cc:253] GetRealPath] Get realpath failed, path[/tmp/ipykernel_272366/3428476077.py]\n",
      "[ERROR] CORE(272366,7f4009669740,python):2024-07-04-20:36:43.881.283 [mindspore/core/utils/file_utils.cc:253] GetRealPath] Get realpath failed, path[/tmp/ipykernel_272366/3428476077.py]\n",
      "[ERROR] CORE(272366,7f4009669740,python):2024-07-04-20:36:43.881.875 [mindspore/core/utils/file_utils.cc:253] GetRealPath] Get realpath failed, path[/tmp/ipykernel_272366/3428476077.py]\n",
      "[ERROR] CORE(272366,7f4009669740,python):2024-07-04-20:36:43.881.916 [mindspore/core/utils/file_utils.cc:253] GetRealPath] Get realpath failed, path[/tmp/ipykernel_272366/3428476077.py]\n",
      "[ERROR] CORE(272366,7f4009669740,python):2024-07-04-20:36:43.881.935 [mindspore/core/utils/file_utils.cc:253] GetRealPath] Get realpath failed, path[/tmp/ipykernel_272366/3428476077.py]\n",
      "[ERROR] CORE(272366,7f4009669740,python):2024-07-04-20:36:43.881.953 [mindspore/core/utils/file_utils.cc:253] GetRealPath] Get realpath failed, path[/tmp/ipykernel_272366/1339986826.py]\n",
      "[ERROR] CORE(272366,7f4009669740,python):2024-07-04-20:36:43.882.014 [mindspore/core/utils/file_utils.cc:253] GetRealPath] Get realpath failed, path[/tmp/ipykernel_272366/3428476077.py]\n",
      "[ERROR] CORE(272366,7f4009669740,python):2024-07-04-20:36:43.897.003 [mindspore/core/utils/file_utils.cc:253] GetRealPath] Get realpath failed, path[/tmp/ipykernel_272366/1339986826.py]\n",
      "[ERROR] CORE(272366,7f4009669740,python):2024-07-04-20:36:43.897.024 [mindspore/core/utils/file_utils.cc:253] GetRealPath] Get realpath failed, path[/tmp/ipykernel_272366/1339986826.py]\n",
      "[ERROR] CORE(272366,7f4009669740,python):2024-07-04-20:36:43.900.508 [mindspore/core/utils/file_utils.cc:253] GetRealPath] Get realpath failed, path[/tmp/ipykernel_272366/1339986826.py]\n"
     ]
    },
    {
     "name": "stdout",
     "output_type": "stream",
     "text": [
      "weight=\n",
      "(1024,  192,    1)\n",
      "41\n"
     ]
    },
    {
     "name": "stderr",
     "output_type": "stream",
     "text": [
      "[ERROR] CORE(272366,7f4009669740,python):2024-07-04-20:36:44.647.171 [mindspore/core/utils/file_utils.cc:253] GetRealPath] Get realpath failed, path[/tmp/ipykernel_272366/1339986826.py]\n",
      "[ERROR] CORE(272366,7f4009669740,python):2024-07-04-20:36:44.648.235 [mindspore/core/utils/file_utils.cc:253] GetRealPath] Get realpath failed, path[/tmp/ipykernel_272366/1339986826.py]\n",
      "[ERROR] CORE(272366,7f4009669740,python):2024-07-04-20:36:44.651.854 [mindspore/core/utils/file_utils.cc:253] GetRealPath] Get realpath failed, path[/tmp/ipykernel_272366/1339986826.py]\n",
      "[ERROR] CORE(272366,7f4009669740,python):2024-07-04-20:36:45.898.809 [mindspore/core/utils/file_utils.cc:253] GetRealPath] Get realpath failed, path[/tmp/ipykernel_272366/3428476077.py]\n",
      "[ERROR] CORE(272366,7f4009669740,python):2024-07-04-20:36:45.898.869 [mindspore/core/utils/file_utils.cc:253] GetRealPath] Get realpath failed, path[/tmp/ipykernel_272366/3428476077.py]\n",
      "[ERROR] CORE(272366,7f4009669740,python):2024-07-04-20:36:45.898.890 [mindspore/core/utils/file_utils.cc:253] GetRealPath] Get realpath failed, path[/tmp/ipykernel_272366/3428476077.py]\n",
      "[ERROR] CORE(272366,7f4009669740,python):2024-07-04-20:36:45.899.569 [mindspore/core/utils/file_utils.cc:253] GetRealPath] Get realpath failed, path[/tmp/ipykernel_272366/3428476077.py]\n",
      "[ERROR] CORE(272366,7f4009669740,python):2024-07-04-20:36:45.899.610 [mindspore/core/utils/file_utils.cc:253] GetRealPath] Get realpath failed, path[/tmp/ipykernel_272366/3428476077.py]\n",
      "[ERROR] CORE(272366,7f4009669740,python):2024-07-04-20:36:45.900.246 [mindspore/core/utils/file_utils.cc:253] GetRealPath] Get realpath failed, path[/tmp/ipykernel_272366/3428476077.py]\n",
      "[ERROR] CORE(272366,7f4009669740,python):2024-07-04-20:36:45.900.293 [mindspore/core/utils/file_utils.cc:253] GetRealPath] Get realpath failed, path[/tmp/ipykernel_272366/3428476077.py]\n",
      "[ERROR] CORE(272366,7f4009669740,python):2024-07-04-20:36:45.900.312 [mindspore/core/utils/file_utils.cc:253] GetRealPath] Get realpath failed, path[/tmp/ipykernel_272366/3428476077.py]\n",
      "[ERROR] CORE(272366,7f4009669740,python):2024-07-04-20:36:45.900.332 [mindspore/core/utils/file_utils.cc:253] GetRealPath] Get realpath failed, path[/tmp/ipykernel_272366/1339986826.py]\n",
      "[ERROR] CORE(272366,7f4009669740,python):2024-07-04-20:36:45.900.392 [mindspore/core/utils/file_utils.cc:253] GetRealPath] Get realpath failed, path[/tmp/ipykernel_272366/3428476077.py]\n",
      "[ERROR] CORE(272366,7f4009669740,python):2024-07-04-20:36:45.913.897 [mindspore/core/utils/file_utils.cc:253] GetRealPath] Get realpath failed, path[/tmp/ipykernel_272366/1339986826.py]\n",
      "[ERROR] CORE(272366,7f4009669740,python):2024-07-04-20:36:45.913.916 [mindspore/core/utils/file_utils.cc:253] GetRealPath] Get realpath failed, path[/tmp/ipykernel_272366/1339986826.py]\n",
      "[ERROR] CORE(272366,7f4009669740,python):2024-07-04-20:36:45.918.500 [mindspore/core/utils/file_utils.cc:253] GetRealPath] Get realpath failed, path[/tmp/ipykernel_272366/1339986826.py]\n"
     ]
    },
    {
     "name": "stdout",
     "output_type": "stream",
     "text": [
      "weight=\n",
      "(1024,  192,    1)\n",
      "42\n"
     ]
    },
    {
     "name": "stderr",
     "output_type": "stream",
     "text": [
      "[ERROR] CORE(272366,7f4009669740,python):2024-07-04-20:36:46.689.992 [mindspore/core/utils/file_utils.cc:253] GetRealPath] Get realpath failed, path[/tmp/ipykernel_272366/1339986826.py]\n",
      "[ERROR] CORE(272366,7f4009669740,python):2024-07-04-20:36:46.691.025 [mindspore/core/utils/file_utils.cc:253] GetRealPath] Get realpath failed, path[/tmp/ipykernel_272366/1339986826.py]\n",
      "[ERROR] CORE(272366,7f4009669740,python):2024-07-04-20:36:46.694.719 [mindspore/core/utils/file_utils.cc:253] GetRealPath] Get realpath failed, path[/tmp/ipykernel_272366/1339986826.py]\n",
      "[ERROR] CORE(272366,7f4009669740,python):2024-07-04-20:36:47.945.460 [mindspore/core/utils/file_utils.cc:253] GetRealPath] Get realpath failed, path[/tmp/ipykernel_272366/3428476077.py]\n",
      "[ERROR] CORE(272366,7f4009669740,python):2024-07-04-20:36:47.945.527 [mindspore/core/utils/file_utils.cc:253] GetRealPath] Get realpath failed, path[/tmp/ipykernel_272366/3428476077.py]\n",
      "[ERROR] CORE(272366,7f4009669740,python):2024-07-04-20:36:47.945.545 [mindspore/core/utils/file_utils.cc:253] GetRealPath] Get realpath failed, path[/tmp/ipykernel_272366/3428476077.py]\n",
      "[ERROR] CORE(272366,7f4009669740,python):2024-07-04-20:36:47.950.009 [mindspore/core/utils/file_utils.cc:253] GetRealPath] Get realpath failed, path[/tmp/ipykernel_272366/3428476077.py]\n",
      "[ERROR] CORE(272366,7f4009669740,python):2024-07-04-20:36:47.950.066 [mindspore/core/utils/file_utils.cc:253] GetRealPath] Get realpath failed, path[/tmp/ipykernel_272366/3428476077.py]\n",
      "[ERROR] CORE(272366,7f4009669740,python):2024-07-04-20:36:47.950.687 [mindspore/core/utils/file_utils.cc:253] GetRealPath] Get realpath failed, path[/tmp/ipykernel_272366/3428476077.py]\n",
      "[ERROR] CORE(272366,7f4009669740,python):2024-07-04-20:36:47.950.732 [mindspore/core/utils/file_utils.cc:253] GetRealPath] Get realpath failed, path[/tmp/ipykernel_272366/3428476077.py]\n",
      "[ERROR] CORE(272366,7f4009669740,python):2024-07-04-20:36:47.950.752 [mindspore/core/utils/file_utils.cc:253] GetRealPath] Get realpath failed, path[/tmp/ipykernel_272366/3428476077.py]\n",
      "[ERROR] CORE(272366,7f4009669740,python):2024-07-04-20:36:47.950.770 [mindspore/core/utils/file_utils.cc:253] GetRealPath] Get realpath failed, path[/tmp/ipykernel_272366/1339986826.py]\n",
      "[ERROR] CORE(272366,7f4009669740,python):2024-07-04-20:36:47.950.850 [mindspore/core/utils/file_utils.cc:253] GetRealPath] Get realpath failed, path[/tmp/ipykernel_272366/3428476077.py]\n",
      "[ERROR] CORE(272366,7f4009669740,python):2024-07-04-20:36:47.962.663 [mindspore/core/utils/file_utils.cc:253] GetRealPath] Get realpath failed, path[/tmp/ipykernel_272366/1339986826.py]\n",
      "[ERROR] CORE(272366,7f4009669740,python):2024-07-04-20:36:47.962.685 [mindspore/core/utils/file_utils.cc:253] GetRealPath] Get realpath failed, path[/tmp/ipykernel_272366/1339986826.py]\n",
      "[ERROR] CORE(272366,7f4009669740,python):2024-07-04-20:36:47.962.697 [mindspore/core/utils/file_utils.cc:253] GetRealPath] Get realpath failed, path[/tmp/ipykernel_272366/1339986826.py]\n"
     ]
    },
    {
     "name": "stdout",
     "output_type": "stream",
     "text": [
      "weight=\n",
      "(1024,  192,    1)\n",
      "43\n"
     ]
    },
    {
     "name": "stderr",
     "output_type": "stream",
     "text": [
      "[ERROR] CORE(272366,7f4009669740,python):2024-07-04-20:36:48.704.616 [mindspore/core/utils/file_utils.cc:253] GetRealPath] Get realpath failed, path[/tmp/ipykernel_272366/1339986826.py]\n",
      "[ERROR] CORE(272366,7f4009669740,python):2024-07-04-20:36:48.705.654 [mindspore/core/utils/file_utils.cc:253] GetRealPath] Get realpath failed, path[/tmp/ipykernel_272366/1339986826.py]\n",
      "[ERROR] CORE(272366,7f4009669740,python):2024-07-04-20:36:48.709.388 [mindspore/core/utils/file_utils.cc:253] GetRealPath] Get realpath failed, path[/tmp/ipykernel_272366/1339986826.py]\n",
      "[ERROR] CORE(272366,7f4009669740,python):2024-07-04-20:36:50.043.785 [mindspore/core/utils/file_utils.cc:253] GetRealPath] Get realpath failed, path[/tmp/ipykernel_272366/3428476077.py]\n",
      "[ERROR] CORE(272366,7f4009669740,python):2024-07-04-20:36:50.043.856 [mindspore/core/utils/file_utils.cc:253] GetRealPath] Get realpath failed, path[/tmp/ipykernel_272366/3428476077.py]\n",
      "[ERROR] CORE(272366,7f4009669740,python):2024-07-04-20:36:50.043.875 [mindspore/core/utils/file_utils.cc:253] GetRealPath] Get realpath failed, path[/tmp/ipykernel_272366/3428476077.py]\n",
      "[ERROR] CORE(272366,7f4009669740,python):2024-07-04-20:36:50.044.558 [mindspore/core/utils/file_utils.cc:253] GetRealPath] Get realpath failed, path[/tmp/ipykernel_272366/3428476077.py]\n",
      "[ERROR] CORE(272366,7f4009669740,python):2024-07-04-20:36:50.044.599 [mindspore/core/utils/file_utils.cc:253] GetRealPath] Get realpath failed, path[/tmp/ipykernel_272366/3428476077.py]\n",
      "[ERROR] CORE(272366,7f4009669740,python):2024-07-04-20:36:50.045.224 [mindspore/core/utils/file_utils.cc:253] GetRealPath] Get realpath failed, path[/tmp/ipykernel_272366/3428476077.py]\n",
      "[ERROR] CORE(272366,7f4009669740,python):2024-07-04-20:36:50.045.268 [mindspore/core/utils/file_utils.cc:253] GetRealPath] Get realpath failed, path[/tmp/ipykernel_272366/3428476077.py]\n",
      "[ERROR] CORE(272366,7f4009669740,python):2024-07-04-20:36:50.045.288 [mindspore/core/utils/file_utils.cc:253] GetRealPath] Get realpath failed, path[/tmp/ipykernel_272366/3428476077.py]\n",
      "[ERROR] CORE(272366,7f4009669740,python):2024-07-04-20:36:50.045.305 [mindspore/core/utils/file_utils.cc:253] GetRealPath] Get realpath failed, path[/tmp/ipykernel_272366/1339986826.py]\n",
      "[ERROR] CORE(272366,7f4009669740,python):2024-07-04-20:36:50.045.365 [mindspore/core/utils/file_utils.cc:253] GetRealPath] Get realpath failed, path[/tmp/ipykernel_272366/3428476077.py]\n",
      "[ERROR] CORE(272366,7f4009669740,python):2024-07-04-20:36:50.057.555 [mindspore/core/utils/file_utils.cc:253] GetRealPath] Get realpath failed, path[/tmp/ipykernel_272366/1339986826.py]\n",
      "[ERROR] CORE(272366,7f4009669740,python):2024-07-04-20:36:50.062.253 [mindspore/core/utils/file_utils.cc:253] GetRealPath] Get realpath failed, path[/tmp/ipykernel_272366/1339986826.py]\n",
      "[ERROR] CORE(272366,7f4009669740,python):2024-07-04-20:36:50.063.446 [mindspore/core/utils/file_utils.cc:253] GetRealPath] Get realpath failed, path[/tmp/ipykernel_272366/1339986826.py]\n"
     ]
    },
    {
     "name": "stdout",
     "output_type": "stream",
     "text": [
      "weight=\n",
      "(1024,  192,    1)\n",
      "44\n"
     ]
    },
    {
     "name": "stderr",
     "output_type": "stream",
     "text": [
      "[ERROR] CORE(272366,7f4009669740,python):2024-07-04-20:36:50.820.152 [mindspore/core/utils/file_utils.cc:253] GetRealPath] Get realpath failed, path[/tmp/ipykernel_272366/1339986826.py]\n",
      "[ERROR] CORE(272366,7f4009669740,python):2024-07-04-20:36:50.821.197 [mindspore/core/utils/file_utils.cc:253] GetRealPath] Get realpath failed, path[/tmp/ipykernel_272366/1339986826.py]\n",
      "[ERROR] CORE(272366,7f4009669740,python):2024-07-04-20:36:50.824.767 [mindspore/core/utils/file_utils.cc:253] GetRealPath] Get realpath failed, path[/tmp/ipykernel_272366/1339986826.py]\n",
      "[ERROR] CORE(272366,7f4009669740,python):2024-07-04-20:36:52.124.535 [mindspore/core/utils/file_utils.cc:253] GetRealPath] Get realpath failed, path[/tmp/ipykernel_272366/3428476077.py]\n",
      "[ERROR] CORE(272366,7f4009669740,python):2024-07-04-20:36:52.124.597 [mindspore/core/utils/file_utils.cc:253] GetRealPath] Get realpath failed, path[/tmp/ipykernel_272366/3428476077.py]\n",
      "[ERROR] CORE(272366,7f4009669740,python):2024-07-04-20:36:52.124.620 [mindspore/core/utils/file_utils.cc:253] GetRealPath] Get realpath failed, path[/tmp/ipykernel_272366/3428476077.py]\n",
      "[ERROR] CORE(272366,7f4009669740,python):2024-07-04-20:36:52.125.429 [mindspore/core/utils/file_utils.cc:253] GetRealPath] Get realpath failed, path[/tmp/ipykernel_272366/3428476077.py]\n",
      "[ERROR] CORE(272366,7f4009669740,python):2024-07-04-20:36:52.125.480 [mindspore/core/utils/file_utils.cc:253] GetRealPath] Get realpath failed, path[/tmp/ipykernel_272366/3428476077.py]\n",
      "[ERROR] CORE(272366,7f4009669740,python):2024-07-04-20:36:52.126.358 [mindspore/core/utils/file_utils.cc:253] GetRealPath] Get realpath failed, path[/tmp/ipykernel_272366/3428476077.py]\n",
      "[ERROR] CORE(272366,7f4009669740,python):2024-07-04-20:36:52.126.426 [mindspore/core/utils/file_utils.cc:253] GetRealPath] Get realpath failed, path[/tmp/ipykernel_272366/3428476077.py]\n",
      "[ERROR] CORE(272366,7f4009669740,python):2024-07-04-20:36:52.126.459 [mindspore/core/utils/file_utils.cc:253] GetRealPath] Get realpath failed, path[/tmp/ipykernel_272366/3428476077.py]\n",
      "[ERROR] CORE(272366,7f4009669740,python):2024-07-04-20:36:52.126.496 [mindspore/core/utils/file_utils.cc:253] GetRealPath] Get realpath failed, path[/tmp/ipykernel_272366/1339986826.py]\n",
      "[ERROR] CORE(272366,7f4009669740,python):2024-07-04-20:36:52.126.595 [mindspore/core/utils/file_utils.cc:253] GetRealPath] Get realpath failed, path[/tmp/ipykernel_272366/3428476077.py]\n",
      "[ERROR] CORE(272366,7f4009669740,python):2024-07-04-20:36:52.146.912 [mindspore/core/utils/file_utils.cc:253] GetRealPath] Get realpath failed, path[/tmp/ipykernel_272366/1339986826.py]\n",
      "[ERROR] CORE(272366,7f4009669740,python):2024-07-04-20:36:52.146.933 [mindspore/core/utils/file_utils.cc:253] GetRealPath] Get realpath failed, path[/tmp/ipykernel_272366/1339986826.py]\n",
      "[ERROR] CORE(272366,7f4009669740,python):2024-07-04-20:36:52.146.949 [mindspore/core/utils/file_utils.cc:253] GetRealPath] Get realpath failed, path[/tmp/ipykernel_272366/1339986826.py]\n"
     ]
    },
    {
     "name": "stdout",
     "output_type": "stream",
     "text": [
      "weight=\n",
      "(1024,  192,    1)\n",
      "45\n"
     ]
    },
    {
     "name": "stderr",
     "output_type": "stream",
     "text": [
      "[ERROR] CORE(272366,7f4009669740,python):2024-07-04-20:36:52.908.236 [mindspore/core/utils/file_utils.cc:253] GetRealPath] Get realpath failed, path[/tmp/ipykernel_272366/1339986826.py]\n",
      "[ERROR] CORE(272366,7f4009669740,python):2024-07-04-20:36:52.909.272 [mindspore/core/utils/file_utils.cc:253] GetRealPath] Get realpath failed, path[/tmp/ipykernel_272366/1339986826.py]\n",
      "[ERROR] CORE(272366,7f4009669740,python):2024-07-04-20:36:52.913.135 [mindspore/core/utils/file_utils.cc:253] GetRealPath] Get realpath failed, path[/tmp/ipykernel_272366/1339986826.py]\n",
      "[ERROR] CORE(272366,7f4009669740,python):2024-07-04-20:36:54.146.617 [mindspore/core/utils/file_utils.cc:253] GetRealPath] Get realpath failed, path[/tmp/ipykernel_272366/3428476077.py]\n",
      "[ERROR] CORE(272366,7f4009669740,python):2024-07-04-20:36:54.146.680 [mindspore/core/utils/file_utils.cc:253] GetRealPath] Get realpath failed, path[/tmp/ipykernel_272366/3428476077.py]\n",
      "[ERROR] CORE(272366,7f4009669740,python):2024-07-04-20:36:54.146.701 [mindspore/core/utils/file_utils.cc:253] GetRealPath] Get realpath failed, path[/tmp/ipykernel_272366/3428476077.py]\n",
      "[ERROR] CORE(272366,7f4009669740,python):2024-07-04-20:36:54.147.371 [mindspore/core/utils/file_utils.cc:253] GetRealPath] Get realpath failed, path[/tmp/ipykernel_272366/3428476077.py]\n",
      "[ERROR] CORE(272366,7f4009669740,python):2024-07-04-20:36:54.147.412 [mindspore/core/utils/file_utils.cc:253] GetRealPath] Get realpath failed, path[/tmp/ipykernel_272366/3428476077.py]\n",
      "[ERROR] CORE(272366,7f4009669740,python):2024-07-04-20:36:54.148.034 [mindspore/core/utils/file_utils.cc:253] GetRealPath] Get realpath failed, path[/tmp/ipykernel_272366/3428476077.py]\n",
      "[ERROR] CORE(272366,7f4009669740,python):2024-07-04-20:36:54.148.102 [mindspore/core/utils/file_utils.cc:253] GetRealPath] Get realpath failed, path[/tmp/ipykernel_272366/3428476077.py]\n",
      "[ERROR] CORE(272366,7f4009669740,python):2024-07-04-20:36:54.148.123 [mindspore/core/utils/file_utils.cc:253] GetRealPath] Get realpath failed, path[/tmp/ipykernel_272366/3428476077.py]\n",
      "[ERROR] CORE(272366,7f4009669740,python):2024-07-04-20:36:54.148.141 [mindspore/core/utils/file_utils.cc:253] GetRealPath] Get realpath failed, path[/tmp/ipykernel_272366/1339986826.py]\n",
      "[ERROR] CORE(272366,7f4009669740,python):2024-07-04-20:36:54.148.200 [mindspore/core/utils/file_utils.cc:253] GetRealPath] Get realpath failed, path[/tmp/ipykernel_272366/3428476077.py]\n",
      "[ERROR] CORE(272366,7f4009669740,python):2024-07-04-20:36:54.160.040 [mindspore/core/utils/file_utils.cc:253] GetRealPath] Get realpath failed, path[/tmp/ipykernel_272366/1339986826.py]\n",
      "[ERROR] CORE(272366,7f4009669740,python):2024-07-04-20:36:54.160.080 [mindspore/core/utils/file_utils.cc:253] GetRealPath] Get realpath failed, path[/tmp/ipykernel_272366/1339986826.py]\n",
      "[ERROR] CORE(272366,7f4009669740,python):2024-07-04-20:36:54.161.159 [mindspore/core/utils/file_utils.cc:253] GetRealPath] Get realpath failed, path[/tmp/ipykernel_272366/1339986826.py]\n"
     ]
    },
    {
     "name": "stdout",
     "output_type": "stream",
     "text": [
      "weight=\n",
      "(1024,  192,    1)\n",
      "46\n"
     ]
    },
    {
     "name": "stderr",
     "output_type": "stream",
     "text": [
      "[ERROR] CORE(272366,7f4009669740,python):2024-07-04-20:36:54.883.330 [mindspore/core/utils/file_utils.cc:253] GetRealPath] Get realpath failed, path[/tmp/ipykernel_272366/1339986826.py]\n",
      "[ERROR] CORE(272366,7f4009669740,python):2024-07-04-20:36:54.884.385 [mindspore/core/utils/file_utils.cc:253] GetRealPath] Get realpath failed, path[/tmp/ipykernel_272366/1339986826.py]\n",
      "[ERROR] CORE(272366,7f4009669740,python):2024-07-04-20:36:54.888.124 [mindspore/core/utils/file_utils.cc:253] GetRealPath] Get realpath failed, path[/tmp/ipykernel_272366/1339986826.py]\n",
      "[ERROR] CORE(272366,7f4009669740,python):2024-07-04-20:36:56.089.010 [mindspore/core/utils/file_utils.cc:253] GetRealPath] Get realpath failed, path[/tmp/ipykernel_272366/3428476077.py]\n",
      "[ERROR] CORE(272366,7f4009669740,python):2024-07-04-20:36:56.089.098 [mindspore/core/utils/file_utils.cc:253] GetRealPath] Get realpath failed, path[/tmp/ipykernel_272366/3428476077.py]\n",
      "[ERROR] CORE(272366,7f4009669740,python):2024-07-04-20:36:56.089.120 [mindspore/core/utils/file_utils.cc:253] GetRealPath] Get realpath failed, path[/tmp/ipykernel_272366/3428476077.py]\n",
      "[ERROR] CORE(272366,7f4009669740,python):2024-07-04-20:36:56.089.784 [mindspore/core/utils/file_utils.cc:253] GetRealPath] Get realpath failed, path[/tmp/ipykernel_272366/3428476077.py]\n",
      "[ERROR] CORE(272366,7f4009669740,python):2024-07-04-20:36:56.089.821 [mindspore/core/utils/file_utils.cc:253] GetRealPath] Get realpath failed, path[/tmp/ipykernel_272366/3428476077.py]\n",
      "[ERROR] CORE(272366,7f4009669740,python):2024-07-04-20:36:56.090.451 [mindspore/core/utils/file_utils.cc:253] GetRealPath] Get realpath failed, path[/tmp/ipykernel_272366/3428476077.py]\n",
      "[ERROR] CORE(272366,7f4009669740,python):2024-07-04-20:36:56.090.492 [mindspore/core/utils/file_utils.cc:253] GetRealPath] Get realpath failed, path[/tmp/ipykernel_272366/3428476077.py]\n",
      "[ERROR] CORE(272366,7f4009669740,python):2024-07-04-20:36:56.090.510 [mindspore/core/utils/file_utils.cc:253] GetRealPath] Get realpath failed, path[/tmp/ipykernel_272366/3428476077.py]\n",
      "[ERROR] CORE(272366,7f4009669740,python):2024-07-04-20:36:56.090.528 [mindspore/core/utils/file_utils.cc:253] GetRealPath] Get realpath failed, path[/tmp/ipykernel_272366/1339986826.py]\n",
      "[ERROR] CORE(272366,7f4009669740,python):2024-07-04-20:36:56.090.587 [mindspore/core/utils/file_utils.cc:253] GetRealPath] Get realpath failed, path[/tmp/ipykernel_272366/3428476077.py]\n",
      "[ERROR] CORE(272366,7f4009669740,python):2024-07-04-20:36:56.101.539 [mindspore/core/utils/file_utils.cc:253] GetRealPath] Get realpath failed, path[/tmp/ipykernel_272366/1339986826.py]\n",
      "[ERROR] CORE(272366,7f4009669740,python):2024-07-04-20:36:56.103.146 [mindspore/core/utils/file_utils.cc:253] GetRealPath] Get realpath failed, path[/tmp/ipykernel_272366/1339986826.py]\n",
      "[ERROR] CORE(272366,7f4009669740,python):2024-07-04-20:36:56.103.161 [mindspore/core/utils/file_utils.cc:253] GetRealPath] Get realpath failed, path[/tmp/ipykernel_272366/1339986826.py]\n"
     ]
    },
    {
     "name": "stdout",
     "output_type": "stream",
     "text": [
      "weight=\n",
      "(1024,  192,    1)\n",
      "47\n"
     ]
    },
    {
     "name": "stderr",
     "output_type": "stream",
     "text": [
      "[ERROR] CORE(272366,7f4009669740,python):2024-07-04-20:36:56.831.212 [mindspore/core/utils/file_utils.cc:253] GetRealPath] Get realpath failed, path[/tmp/ipykernel_272366/1339986826.py]\n",
      "[ERROR] CORE(272366,7f4009669740,python):2024-07-04-20:36:56.832.367 [mindspore/core/utils/file_utils.cc:253] GetRealPath] Get realpath failed, path[/tmp/ipykernel_272366/1339986826.py]\n",
      "[ERROR] CORE(272366,7f4009669740,python):2024-07-04-20:36:56.836.040 [mindspore/core/utils/file_utils.cc:253] GetRealPath] Get realpath failed, path[/tmp/ipykernel_272366/1339986826.py]\n",
      "[ERROR] CORE(272366,7f4009669740,python):2024-07-04-20:36:58.078.265 [mindspore/core/utils/file_utils.cc:253] GetRealPath] Get realpath failed, path[/tmp/ipykernel_272366/3428476077.py]\n",
      "[ERROR] CORE(272366,7f4009669740,python):2024-07-04-20:36:58.078.329 [mindspore/core/utils/file_utils.cc:253] GetRealPath] Get realpath failed, path[/tmp/ipykernel_272366/3428476077.py]\n",
      "[ERROR] CORE(272366,7f4009669740,python):2024-07-04-20:36:58.078.349 [mindspore/core/utils/file_utils.cc:253] GetRealPath] Get realpath failed, path[/tmp/ipykernel_272366/3428476077.py]\n",
      "[ERROR] CORE(272366,7f4009669740,python):2024-07-04-20:36:58.079.025 [mindspore/core/utils/file_utils.cc:253] GetRealPath] Get realpath failed, path[/tmp/ipykernel_272366/3428476077.py]\n",
      "[ERROR] CORE(272366,7f4009669740,python):2024-07-04-20:36:58.079.079 [mindspore/core/utils/file_utils.cc:253] GetRealPath] Get realpath failed, path[/tmp/ipykernel_272366/3428476077.py]\n",
      "[ERROR] CORE(272366,7f4009669740,python):2024-07-04-20:36:58.079.702 [mindspore/core/utils/file_utils.cc:253] GetRealPath] Get realpath failed, path[/tmp/ipykernel_272366/3428476077.py]\n",
      "[ERROR] CORE(272366,7f4009669740,python):2024-07-04-20:36:58.079.746 [mindspore/core/utils/file_utils.cc:253] GetRealPath] Get realpath failed, path[/tmp/ipykernel_272366/3428476077.py]\n",
      "[ERROR] CORE(272366,7f4009669740,python):2024-07-04-20:36:58.079.765 [mindspore/core/utils/file_utils.cc:253] GetRealPath] Get realpath failed, path[/tmp/ipykernel_272366/3428476077.py]\n",
      "[ERROR] CORE(272366,7f4009669740,python):2024-07-04-20:36:58.079.783 [mindspore/core/utils/file_utils.cc:253] GetRealPath] Get realpath failed, path[/tmp/ipykernel_272366/1339986826.py]\n",
      "[ERROR] CORE(272366,7f4009669740,python):2024-07-04-20:36:58.079.853 [mindspore/core/utils/file_utils.cc:253] GetRealPath] Get realpath failed, path[/tmp/ipykernel_272366/3428476077.py]\n",
      "[ERROR] CORE(272366,7f4009669740,python):2024-07-04-20:36:58.093.659 [mindspore/core/utils/file_utils.cc:253] GetRealPath] Get realpath failed, path[/tmp/ipykernel_272366/1339986826.py]\n",
      "[ERROR] CORE(272366,7f4009669740,python):2024-07-04-20:36:58.097.124 [mindspore/core/utils/file_utils.cc:253] GetRealPath] Get realpath failed, path[/tmp/ipykernel_272366/1339986826.py]\n",
      "[ERROR] CORE(272366,7f4009669740,python):2024-07-04-20:36:58.097.260 [mindspore/core/utils/file_utils.cc:253] GetRealPath] Get realpath failed, path[/tmp/ipykernel_272366/1339986826.py]\n"
     ]
    },
    {
     "name": "stdout",
     "output_type": "stream",
     "text": [
      "weight=\n",
      "(1024,  192,    1)\n",
      "48\n"
     ]
    },
    {
     "name": "stderr",
     "output_type": "stream",
     "text": [
      "[ERROR] CORE(272366,7f4009669740,python):2024-07-04-20:36:58.849.081 [mindspore/core/utils/file_utils.cc:253] GetRealPath] Get realpath failed, path[/tmp/ipykernel_272366/1339986826.py]\n",
      "[ERROR] CORE(272366,7f4009669740,python):2024-07-04-20:36:58.850.129 [mindspore/core/utils/file_utils.cc:253] GetRealPath] Get realpath failed, path[/tmp/ipykernel_272366/1339986826.py]\n",
      "[ERROR] CORE(272366,7f4009669740,python):2024-07-04-20:36:58.854.930 [mindspore/core/utils/file_utils.cc:253] GetRealPath] Get realpath failed, path[/tmp/ipykernel_272366/1339986826.py]\n",
      "[ERROR] CORE(272366,7f4009669740,python):2024-07-04-20:37:00.090.041 [mindspore/core/utils/file_utils.cc:253] GetRealPath] Get realpath failed, path[/tmp/ipykernel_272366/3428476077.py]\n",
      "[ERROR] CORE(272366,7f4009669740,python):2024-07-04-20:37:00.090.120 [mindspore/core/utils/file_utils.cc:253] GetRealPath] Get realpath failed, path[/tmp/ipykernel_272366/3428476077.py]\n",
      "[ERROR] CORE(272366,7f4009669740,python):2024-07-04-20:37:00.090.141 [mindspore/core/utils/file_utils.cc:253] GetRealPath] Get realpath failed, path[/tmp/ipykernel_272366/3428476077.py]\n",
      "[ERROR] CORE(272366,7f4009669740,python):2024-07-04-20:37:00.090.784 [mindspore/core/utils/file_utils.cc:253] GetRealPath] Get realpath failed, path[/tmp/ipykernel_272366/3428476077.py]\n",
      "[ERROR] CORE(272366,7f4009669740,python):2024-07-04-20:37:00.090.821 [mindspore/core/utils/file_utils.cc:253] GetRealPath] Get realpath failed, path[/tmp/ipykernel_272366/3428476077.py]\n",
      "[ERROR] CORE(272366,7f4009669740,python):2024-07-04-20:37:00.091.458 [mindspore/core/utils/file_utils.cc:253] GetRealPath] Get realpath failed, path[/tmp/ipykernel_272366/3428476077.py]\n",
      "[ERROR] CORE(272366,7f4009669740,python):2024-07-04-20:37:00.091.501 [mindspore/core/utils/file_utils.cc:253] GetRealPath] Get realpath failed, path[/tmp/ipykernel_272366/3428476077.py]\n",
      "[ERROR] CORE(272366,7f4009669740,python):2024-07-04-20:37:00.091.521 [mindspore/core/utils/file_utils.cc:253] GetRealPath] Get realpath failed, path[/tmp/ipykernel_272366/3428476077.py]\n",
      "[ERROR] CORE(272366,7f4009669740,python):2024-07-04-20:37:00.091.538 [mindspore/core/utils/file_utils.cc:253] GetRealPath] Get realpath failed, path[/tmp/ipykernel_272366/1339986826.py]\n",
      "[ERROR] CORE(272366,7f4009669740,python):2024-07-04-20:37:00.091.597 [mindspore/core/utils/file_utils.cc:253] GetRealPath] Get realpath failed, path[/tmp/ipykernel_272366/3428476077.py]\n",
      "[ERROR] CORE(272366,7f4009669740,python):2024-07-04-20:37:00.104.579 [mindspore/core/utils/file_utils.cc:253] GetRealPath] Get realpath failed, path[/tmp/ipykernel_272366/1339986826.py]\n",
      "[ERROR] CORE(272366,7f4009669740,python):2024-07-04-20:37:00.105.816 [mindspore/core/utils/file_utils.cc:253] GetRealPath] Get realpath failed, path[/tmp/ipykernel_272366/1339986826.py]\n",
      "[ERROR] CORE(272366,7f4009669740,python):2024-07-04-20:37:00.105.832 [mindspore/core/utils/file_utils.cc:253] GetRealPath] Get realpath failed, path[/tmp/ipykernel_272366/1339986826.py]\n"
     ]
    },
    {
     "name": "stdout",
     "output_type": "stream",
     "text": [
      "weight=\n",
      "(1024,  192,    1)\n",
      "49\n"
     ]
    },
    {
     "name": "stderr",
     "output_type": "stream",
     "text": [
      "[ERROR] CORE(272366,7f4009669740,python):2024-07-04-20:37:00.847.269 [mindspore/core/utils/file_utils.cc:253] GetRealPath] Get realpath failed, path[/tmp/ipykernel_272366/1339986826.py]\n",
      "[ERROR] CORE(272366,7f4009669740,python):2024-07-04-20:37:00.848.335 [mindspore/core/utils/file_utils.cc:253] GetRealPath] Get realpath failed, path[/tmp/ipykernel_272366/1339986826.py]\n",
      "[ERROR] CORE(272366,7f4009669740,python):2024-07-04-20:37:00.852.065 [mindspore/core/utils/file_utils.cc:253] GetRealPath] Get realpath failed, path[/tmp/ipykernel_272366/1339986826.py]\n",
      "[ERROR] CORE(272366,7f4009669740,python):2024-07-04-20:37:02.065.421 [mindspore/core/utils/file_utils.cc:253] GetRealPath] Get realpath failed, path[/tmp/ipykernel_272366/3428476077.py]\n",
      "[ERROR] CORE(272366,7f4009669740,python):2024-07-04-20:37:02.065.482 [mindspore/core/utils/file_utils.cc:253] GetRealPath] Get realpath failed, path[/tmp/ipykernel_272366/3428476077.py]\n",
      "[ERROR] CORE(272366,7f4009669740,python):2024-07-04-20:37:02.065.503 [mindspore/core/utils/file_utils.cc:253] GetRealPath] Get realpath failed, path[/tmp/ipykernel_272366/3428476077.py]\n",
      "[ERROR] CORE(272366,7f4009669740,python):2024-07-04-20:37:02.066.164 [mindspore/core/utils/file_utils.cc:253] GetRealPath] Get realpath failed, path[/tmp/ipykernel_272366/3428476077.py]\n",
      "[ERROR] CORE(272366,7f4009669740,python):2024-07-04-20:37:02.066.215 [mindspore/core/utils/file_utils.cc:253] GetRealPath] Get realpath failed, path[/tmp/ipykernel_272366/3428476077.py]\n",
      "[ERROR] CORE(272366,7f4009669740,python):2024-07-04-20:37:02.066.801 [mindspore/core/utils/file_utils.cc:253] GetRealPath] Get realpath failed, path[/tmp/ipykernel_272366/3428476077.py]\n",
      "[ERROR] CORE(272366,7f4009669740,python):2024-07-04-20:37:02.066.842 [mindspore/core/utils/file_utils.cc:253] GetRealPath] Get realpath failed, path[/tmp/ipykernel_272366/3428476077.py]\n",
      "[ERROR] CORE(272366,7f4009669740,python):2024-07-04-20:37:02.066.872 [mindspore/core/utils/file_utils.cc:253] GetRealPath] Get realpath failed, path[/tmp/ipykernel_272366/3428476077.py]\n",
      "[ERROR] CORE(272366,7f4009669740,python):2024-07-04-20:37:02.066.891 [mindspore/core/utils/file_utils.cc:253] GetRealPath] Get realpath failed, path[/tmp/ipykernel_272366/1339986826.py]\n",
      "[ERROR] CORE(272366,7f4009669740,python):2024-07-04-20:37:02.066.949 [mindspore/core/utils/file_utils.cc:253] GetRealPath] Get realpath failed, path[/tmp/ipykernel_272366/3428476077.py]\n",
      "[ERROR] CORE(272366,7f4009669740,python):2024-07-04-20:37:02.076.790 [mindspore/core/utils/file_utils.cc:253] GetRealPath] Get realpath failed, path[/tmp/ipykernel_272366/1339986826.py]\n",
      "[ERROR] CORE(272366,7f4009669740,python):2024-07-04-20:37:02.078.701 [mindspore/core/utils/file_utils.cc:253] GetRealPath] Get realpath failed, path[/tmp/ipykernel_272366/1339986826.py]\n",
      "[ERROR] CORE(272366,7f4009669740,python):2024-07-04-20:37:02.081.936 [mindspore/core/utils/file_utils.cc:253] GetRealPath] Get realpath failed, path[/tmp/ipykernel_272366/1339986826.py]\n"
     ]
    },
    {
     "name": "stdout",
     "output_type": "stream",
     "text": [
      "weight=\n",
      "(1024,  192,    1)\n",
      "50\n"
     ]
    },
    {
     "name": "stderr",
     "output_type": "stream",
     "text": [
      "[ERROR] CORE(272366,7f4009669740,python):2024-07-04-20:37:02.812.827 [mindspore/core/utils/file_utils.cc:253] GetRealPath] Get realpath failed, path[/tmp/ipykernel_272366/1339986826.py]\n",
      "[ERROR] CORE(272366,7f4009669740,python):2024-07-04-20:37:02.813.929 [mindspore/core/utils/file_utils.cc:253] GetRealPath] Get realpath failed, path[/tmp/ipykernel_272366/1339986826.py]\n",
      "[ERROR] CORE(272366,7f4009669740,python):2024-07-04-20:37:02.817.557 [mindspore/core/utils/file_utils.cc:253] GetRealPath] Get realpath failed, path[/tmp/ipykernel_272366/1339986826.py]\n",
      "[ERROR] CORE(272366,7f4009669740,python):2024-07-04-20:37:04.045.260 [mindspore/core/utils/file_utils.cc:253] GetRealPath] Get realpath failed, path[/tmp/ipykernel_272366/3428476077.py]\n",
      "[ERROR] CORE(272366,7f4009669740,python):2024-07-04-20:37:04.045.316 [mindspore/core/utils/file_utils.cc:253] GetRealPath] Get realpath failed, path[/tmp/ipykernel_272366/3428476077.py]\n",
      "[ERROR] CORE(272366,7f4009669740,python):2024-07-04-20:37:04.045.334 [mindspore/core/utils/file_utils.cc:253] GetRealPath] Get realpath failed, path[/tmp/ipykernel_272366/3428476077.py]\n",
      "[ERROR] CORE(272366,7f4009669740,python):2024-07-04-20:37:04.045.963 [mindspore/core/utils/file_utils.cc:253] GetRealPath] Get realpath failed, path[/tmp/ipykernel_272366/3428476077.py]\n",
      "[ERROR] CORE(272366,7f4009669740,python):2024-07-04-20:37:04.045.999 [mindspore/core/utils/file_utils.cc:253] GetRealPath] Get realpath failed, path[/tmp/ipykernel_272366/3428476077.py]\n",
      "[ERROR] CORE(272366,7f4009669740,python):2024-07-04-20:37:04.046.590 [mindspore/core/utils/file_utils.cc:253] GetRealPath] Get realpath failed, path[/tmp/ipykernel_272366/3428476077.py]\n",
      "[ERROR] CORE(272366,7f4009669740,python):2024-07-04-20:37:04.046.631 [mindspore/core/utils/file_utils.cc:253] GetRealPath] Get realpath failed, path[/tmp/ipykernel_272366/3428476077.py]\n",
      "[ERROR] CORE(272366,7f4009669740,python):2024-07-04-20:37:04.046.651 [mindspore/core/utils/file_utils.cc:253] GetRealPath] Get realpath failed, path[/tmp/ipykernel_272366/3428476077.py]\n",
      "[ERROR] CORE(272366,7f4009669740,python):2024-07-04-20:37:04.046.668 [mindspore/core/utils/file_utils.cc:253] GetRealPath] Get realpath failed, path[/tmp/ipykernel_272366/1339986826.py]\n",
      "[ERROR] CORE(272366,7f4009669740,python):2024-07-04-20:37:04.046.725 [mindspore/core/utils/file_utils.cc:253] GetRealPath] Get realpath failed, path[/tmp/ipykernel_272366/3428476077.py]\n",
      "[ERROR] CORE(272366,7f4009669740,python):2024-07-04-20:37:04.061.290 [mindspore/core/utils/file_utils.cc:253] GetRealPath] Get realpath failed, path[/tmp/ipykernel_272366/1339986826.py]\n",
      "[ERROR] CORE(272366,7f4009669740,python):2024-07-04-20:37:04.062.629 [mindspore/core/utils/file_utils.cc:253] GetRealPath] Get realpath failed, path[/tmp/ipykernel_272366/1339986826.py]\n",
      "[ERROR] CORE(272366,7f4009669740,python):2024-07-04-20:37:04.062.644 [mindspore/core/utils/file_utils.cc:253] GetRealPath] Get realpath failed, path[/tmp/ipykernel_272366/1339986826.py]\n"
     ]
    },
    {
     "name": "stdout",
     "output_type": "stream",
     "text": [
      "weight=\n",
      "(1024,  192,    1)\n",
      "51\n"
     ]
    },
    {
     "name": "stderr",
     "output_type": "stream",
     "text": [
      "[ERROR] CORE(272366,7f4009669740,python):2024-07-04-20:37:04.793.177 [mindspore/core/utils/file_utils.cc:253] GetRealPath] Get realpath failed, path[/tmp/ipykernel_272366/1339986826.py]\n",
      "[ERROR] CORE(272366,7f4009669740,python):2024-07-04-20:37:04.794.222 [mindspore/core/utils/file_utils.cc:253] GetRealPath] Get realpath failed, path[/tmp/ipykernel_272366/1339986826.py]\n",
      "[ERROR] CORE(272366,7f4009669740,python):2024-07-04-20:37:04.797.746 [mindspore/core/utils/file_utils.cc:253] GetRealPath] Get realpath failed, path[/tmp/ipykernel_272366/1339986826.py]\n",
      "[ERROR] CORE(272366,7f4009669740,python):2024-07-04-20:37:06.031.291 [mindspore/core/utils/file_utils.cc:253] GetRealPath] Get realpath failed, path[/tmp/ipykernel_272366/3428476077.py]\n",
      "[ERROR] CORE(272366,7f4009669740,python):2024-07-04-20:37:06.031.350 [mindspore/core/utils/file_utils.cc:253] GetRealPath] Get realpath failed, path[/tmp/ipykernel_272366/3428476077.py]\n",
      "[ERROR] CORE(272366,7f4009669740,python):2024-07-04-20:37:06.031.368 [mindspore/core/utils/file_utils.cc:253] GetRealPath] Get realpath failed, path[/tmp/ipykernel_272366/3428476077.py]\n",
      "[ERROR] CORE(272366,7f4009669740,python):2024-07-04-20:37:06.032.037 [mindspore/core/utils/file_utils.cc:253] GetRealPath] Get realpath failed, path[/tmp/ipykernel_272366/3428476077.py]\n",
      "[ERROR] CORE(272366,7f4009669740,python):2024-07-04-20:37:06.032.094 [mindspore/core/utils/file_utils.cc:253] GetRealPath] Get realpath failed, path[/tmp/ipykernel_272366/3428476077.py]\n",
      "[ERROR] CORE(272366,7f4009669740,python):2024-07-04-20:37:06.032.711 [mindspore/core/utils/file_utils.cc:253] GetRealPath] Get realpath failed, path[/tmp/ipykernel_272366/3428476077.py]\n",
      "[ERROR] CORE(272366,7f4009669740,python):2024-07-04-20:37:06.032.752 [mindspore/core/utils/file_utils.cc:253] GetRealPath] Get realpath failed, path[/tmp/ipykernel_272366/3428476077.py]\n",
      "[ERROR] CORE(272366,7f4009669740,python):2024-07-04-20:37:06.032.772 [mindspore/core/utils/file_utils.cc:253] GetRealPath] Get realpath failed, path[/tmp/ipykernel_272366/3428476077.py]\n",
      "[ERROR] CORE(272366,7f4009669740,python):2024-07-04-20:37:06.032.793 [mindspore/core/utils/file_utils.cc:253] GetRealPath] Get realpath failed, path[/tmp/ipykernel_272366/1339986826.py]\n",
      "[ERROR] CORE(272366,7f4009669740,python):2024-07-04-20:37:06.032.851 [mindspore/core/utils/file_utils.cc:253] GetRealPath] Get realpath failed, path[/tmp/ipykernel_272366/3428476077.py]\n",
      "[ERROR] CORE(272366,7f4009669740,python):2024-07-04-20:37:06.044.233 [mindspore/core/utils/file_utils.cc:253] GetRealPath] Get realpath failed, path[/tmp/ipykernel_272366/1339986826.py]\n",
      "[ERROR] CORE(272366,7f4009669740,python):2024-07-04-20:37:06.044.378 [mindspore/core/utils/file_utils.cc:253] GetRealPath] Get realpath failed, path[/tmp/ipykernel_272366/1339986826.py]\n",
      "[ERROR] CORE(272366,7f4009669740,python):2024-07-04-20:37:06.046.656 [mindspore/core/utils/file_utils.cc:253] GetRealPath] Get realpath failed, path[/tmp/ipykernel_272366/1339986826.py]\n"
     ]
    },
    {
     "name": "stdout",
     "output_type": "stream",
     "text": [
      "weight=\n",
      "(1024,  192,    1)\n",
      "52\n"
     ]
    },
    {
     "name": "stderr",
     "output_type": "stream",
     "text": [
      "[ERROR] CORE(272366,7f4009669740,python):2024-07-04-20:37:06.820.665 [mindspore/core/utils/file_utils.cc:253] GetRealPath] Get realpath failed, path[/tmp/ipykernel_272366/1339986826.py]\n",
      "[ERROR] CORE(272366,7f4009669740,python):2024-07-04-20:37:06.821.741 [mindspore/core/utils/file_utils.cc:253] GetRealPath] Get realpath failed, path[/tmp/ipykernel_272366/1339986826.py]\n",
      "[ERROR] CORE(272366,7f4009669740,python):2024-07-04-20:37:06.825.532 [mindspore/core/utils/file_utils.cc:253] GetRealPath] Get realpath failed, path[/tmp/ipykernel_272366/1339986826.py]\n",
      "[ERROR] CORE(272366,7f4009669740,python):2024-07-04-20:37:08.059.713 [mindspore/core/utils/file_utils.cc:253] GetRealPath] Get realpath failed, path[/tmp/ipykernel_272366/3428476077.py]\n",
      "[ERROR] CORE(272366,7f4009669740,python):2024-07-04-20:37:08.059.782 [mindspore/core/utils/file_utils.cc:253] GetRealPath] Get realpath failed, path[/tmp/ipykernel_272366/3428476077.py]\n",
      "[ERROR] CORE(272366,7f4009669740,python):2024-07-04-20:37:08.059.803 [mindspore/core/utils/file_utils.cc:253] GetRealPath] Get realpath failed, path[/tmp/ipykernel_272366/3428476077.py]\n",
      "[ERROR] CORE(272366,7f4009669740,python):2024-07-04-20:37:08.060.512 [mindspore/core/utils/file_utils.cc:253] GetRealPath] Get realpath failed, path[/tmp/ipykernel_272366/3428476077.py]\n",
      "[ERROR] CORE(272366,7f4009669740,python):2024-07-04-20:37:08.060.555 [mindspore/core/utils/file_utils.cc:253] GetRealPath] Get realpath failed, path[/tmp/ipykernel_272366/3428476077.py]\n",
      "[ERROR] CORE(272366,7f4009669740,python):2024-07-04-20:37:08.061.205 [mindspore/core/utils/file_utils.cc:253] GetRealPath] Get realpath failed, path[/tmp/ipykernel_272366/3428476077.py]\n",
      "[ERROR] CORE(272366,7f4009669740,python):2024-07-04-20:37:08.061.254 [mindspore/core/utils/file_utils.cc:253] GetRealPath] Get realpath failed, path[/tmp/ipykernel_272366/3428476077.py]\n",
      "[ERROR] CORE(272366,7f4009669740,python):2024-07-04-20:37:08.061.274 [mindspore/core/utils/file_utils.cc:253] GetRealPath] Get realpath failed, path[/tmp/ipykernel_272366/3428476077.py]\n",
      "[ERROR] CORE(272366,7f4009669740,python):2024-07-04-20:37:08.061.292 [mindspore/core/utils/file_utils.cc:253] GetRealPath] Get realpath failed, path[/tmp/ipykernel_272366/1339986826.py]\n",
      "[ERROR] CORE(272366,7f4009669740,python):2024-07-04-20:37:08.061.361 [mindspore/core/utils/file_utils.cc:253] GetRealPath] Get realpath failed, path[/tmp/ipykernel_272366/3428476077.py]\n",
      "[ERROR] CORE(272366,7f4009669740,python):2024-07-04-20:37:08.072.670 [mindspore/core/utils/file_utils.cc:253] GetRealPath] Get realpath failed, path[/tmp/ipykernel_272366/1339986826.py]\n",
      "[ERROR] CORE(272366,7f4009669740,python):2024-07-04-20:37:08.075.261 [mindspore/core/utils/file_utils.cc:253] GetRealPath] Get realpath failed, path[/tmp/ipykernel_272366/1339986826.py]\n",
      "[ERROR] CORE(272366,7f4009669740,python):2024-07-04-20:37:08.078.685 [mindspore/core/utils/file_utils.cc:253] GetRealPath] Get realpath failed, path[/tmp/ipykernel_272366/1339986826.py]\n"
     ]
    },
    {
     "name": "stdout",
     "output_type": "stream",
     "text": [
      "weight=\n",
      "(1024,  192,    1)\n",
      "53\n"
     ]
    },
    {
     "name": "stderr",
     "output_type": "stream",
     "text": [
      "[ERROR] CORE(272366,7f4009669740,python):2024-07-04-20:37:08.807.526 [mindspore/core/utils/file_utils.cc:253] GetRealPath] Get realpath failed, path[/tmp/ipykernel_272366/1339986826.py]\n",
      "[ERROR] CORE(272366,7f4009669740,python):2024-07-04-20:37:08.808.592 [mindspore/core/utils/file_utils.cc:253] GetRealPath] Get realpath failed, path[/tmp/ipykernel_272366/1339986826.py]\n",
      "[ERROR] CORE(272366,7f4009669740,python):2024-07-04-20:37:08.812.384 [mindspore/core/utils/file_utils.cc:253] GetRealPath] Get realpath failed, path[/tmp/ipykernel_272366/1339986826.py]\n",
      "[ERROR] CORE(272366,7f4009669740,python):2024-07-04-20:37:10.060.251 [mindspore/core/utils/file_utils.cc:253] GetRealPath] Get realpath failed, path[/tmp/ipykernel_272366/3428476077.py]\n",
      "[ERROR] CORE(272366,7f4009669740,python):2024-07-04-20:37:10.060.310 [mindspore/core/utils/file_utils.cc:253] GetRealPath] Get realpath failed, path[/tmp/ipykernel_272366/3428476077.py]\n",
      "[ERROR] CORE(272366,7f4009669740,python):2024-07-04-20:37:10.060.331 [mindspore/core/utils/file_utils.cc:253] GetRealPath] Get realpath failed, path[/tmp/ipykernel_272366/3428476077.py]\n",
      "[ERROR] CORE(272366,7f4009669740,python):2024-07-04-20:37:10.060.996 [mindspore/core/utils/file_utils.cc:253] GetRealPath] Get realpath failed, path[/tmp/ipykernel_272366/3428476077.py]\n",
      "[ERROR] CORE(272366,7f4009669740,python):2024-07-04-20:37:10.061.035 [mindspore/core/utils/file_utils.cc:253] GetRealPath] Get realpath failed, path[/tmp/ipykernel_272366/3428476077.py]\n",
      "[ERROR] CORE(272366,7f4009669740,python):2024-07-04-20:37:10.061.668 [mindspore/core/utils/file_utils.cc:253] GetRealPath] Get realpath failed, path[/tmp/ipykernel_272366/3428476077.py]\n",
      "[ERROR] CORE(272366,7f4009669740,python):2024-07-04-20:37:10.061.710 [mindspore/core/utils/file_utils.cc:253] GetRealPath] Get realpath failed, path[/tmp/ipykernel_272366/3428476077.py]\n",
      "[ERROR] CORE(272366,7f4009669740,python):2024-07-04-20:37:10.061.730 [mindspore/core/utils/file_utils.cc:253] GetRealPath] Get realpath failed, path[/tmp/ipykernel_272366/3428476077.py]\n",
      "[ERROR] CORE(272366,7f4009669740,python):2024-07-04-20:37:10.061.747 [mindspore/core/utils/file_utils.cc:253] GetRealPath] Get realpath failed, path[/tmp/ipykernel_272366/1339986826.py]\n",
      "[ERROR] CORE(272366,7f4009669740,python):2024-07-04-20:37:10.061.805 [mindspore/core/utils/file_utils.cc:253] GetRealPath] Get realpath failed, path[/tmp/ipykernel_272366/3428476077.py]\n",
      "[ERROR] CORE(272366,7f4009669740,python):2024-07-04-20:37:10.075.680 [mindspore/core/utils/file_utils.cc:253] GetRealPath] Get realpath failed, path[/tmp/ipykernel_272366/1339986826.py]\n",
      "[ERROR] CORE(272366,7f4009669740,python):2024-07-04-20:37:10.076.804 [mindspore/core/utils/file_utils.cc:253] GetRealPath] Get realpath failed, path[/tmp/ipykernel_272366/1339986826.py]\n",
      "[ERROR] CORE(272366,7f4009669740,python):2024-07-04-20:37:10.078.185 [mindspore/core/utils/file_utils.cc:253] GetRealPath] Get realpath failed, path[/tmp/ipykernel_272366/1339986826.py]\n"
     ]
    },
    {
     "name": "stdout",
     "output_type": "stream",
     "text": [
      "weight=\n",
      "(1024,  192,    1)\n",
      "54\n"
     ]
    },
    {
     "name": "stderr",
     "output_type": "stream",
     "text": [
      "[ERROR] CORE(272366,7f4009669740,python):2024-07-04-20:37:10.820.685 [mindspore/core/utils/file_utils.cc:253] GetRealPath] Get realpath failed, path[/tmp/ipykernel_272366/1339986826.py]\n",
      "[ERROR] CORE(272366,7f4009669740,python):2024-07-04-20:37:10.821.724 [mindspore/core/utils/file_utils.cc:253] GetRealPath] Get realpath failed, path[/tmp/ipykernel_272366/1339986826.py]\n",
      "[ERROR] CORE(272366,7f4009669740,python):2024-07-04-20:37:10.825.349 [mindspore/core/utils/file_utils.cc:253] GetRealPath] Get realpath failed, path[/tmp/ipykernel_272366/1339986826.py]\n",
      "[ERROR] CORE(272366,7f4009669740,python):2024-07-04-20:37:12.030.416 [mindspore/core/utils/file_utils.cc:253] GetRealPath] Get realpath failed, path[/tmp/ipykernel_272366/3428476077.py]\n",
      "[ERROR] CORE(272366,7f4009669740,python):2024-07-04-20:37:12.030.478 [mindspore/core/utils/file_utils.cc:253] GetRealPath] Get realpath failed, path[/tmp/ipykernel_272366/3428476077.py]\n",
      "[ERROR] CORE(272366,7f4009669740,python):2024-07-04-20:37:12.030.499 [mindspore/core/utils/file_utils.cc:253] GetRealPath] Get realpath failed, path[/tmp/ipykernel_272366/3428476077.py]\n",
      "[ERROR] CORE(272366,7f4009669740,python):2024-07-04-20:37:12.031.182 [mindspore/core/utils/file_utils.cc:253] GetRealPath] Get realpath failed, path[/tmp/ipykernel_272366/3428476077.py]\n",
      "[ERROR] CORE(272366,7f4009669740,python):2024-07-04-20:37:12.031.222 [mindspore/core/utils/file_utils.cc:253] GetRealPath] Get realpath failed, path[/tmp/ipykernel_272366/3428476077.py]\n",
      "[ERROR] CORE(272366,7f4009669740,python):2024-07-04-20:37:12.031.820 [mindspore/core/utils/file_utils.cc:253] GetRealPath] Get realpath failed, path[/tmp/ipykernel_272366/3428476077.py]\n",
      "[ERROR] CORE(272366,7f4009669740,python):2024-07-04-20:37:12.031.864 [mindspore/core/utils/file_utils.cc:253] GetRealPath] Get realpath failed, path[/tmp/ipykernel_272366/3428476077.py]\n",
      "[ERROR] CORE(272366,7f4009669740,python):2024-07-04-20:37:12.031.883 [mindspore/core/utils/file_utils.cc:253] GetRealPath] Get realpath failed, path[/tmp/ipykernel_272366/3428476077.py]\n",
      "[ERROR] CORE(272366,7f4009669740,python):2024-07-04-20:37:12.031.909 [mindspore/core/utils/file_utils.cc:253] GetRealPath] Get realpath failed, path[/tmp/ipykernel_272366/1339986826.py]\n",
      "[ERROR] CORE(272366,7f4009669740,python):2024-07-04-20:37:12.031.975 [mindspore/core/utils/file_utils.cc:253] GetRealPath] Get realpath failed, path[/tmp/ipykernel_272366/3428476077.py]\n",
      "[ERROR] CORE(272366,7f4009669740,python):2024-07-04-20:37:12.044.210 [mindspore/core/utils/file_utils.cc:253] GetRealPath] Get realpath failed, path[/tmp/ipykernel_272366/1339986826.py]\n",
      "[ERROR] CORE(272366,7f4009669740,python):2024-07-04-20:37:12.047.873 [mindspore/core/utils/file_utils.cc:253] GetRealPath] Get realpath failed, path[/tmp/ipykernel_272366/1339986826.py]\n",
      "[ERROR] CORE(272366,7f4009669740,python):2024-07-04-20:37:12.047.894 [mindspore/core/utils/file_utils.cc:253] GetRealPath] Get realpath failed, path[/tmp/ipykernel_272366/1339986826.py]\n"
     ]
    },
    {
     "name": "stdout",
     "output_type": "stream",
     "text": [
      "weight=\n",
      "(1024,  192,    1)\n",
      "55\n"
     ]
    },
    {
     "name": "stderr",
     "output_type": "stream",
     "text": [
      "[ERROR] CORE(272366,7f4009669740,python):2024-07-04-20:37:12.795.310 [mindspore/core/utils/file_utils.cc:253] GetRealPath] Get realpath failed, path[/tmp/ipykernel_272366/1339986826.py]\n",
      "[ERROR] CORE(272366,7f4009669740,python):2024-07-04-20:37:12.796.358 [mindspore/core/utils/file_utils.cc:253] GetRealPath] Get realpath failed, path[/tmp/ipykernel_272366/1339986826.py]\n",
      "[ERROR] CORE(272366,7f4009669740,python):2024-07-04-20:37:12.800.101 [mindspore/core/utils/file_utils.cc:253] GetRealPath] Get realpath failed, path[/tmp/ipykernel_272366/1339986826.py]\n",
      "[ERROR] CORE(272366,7f4009669740,python):2024-07-04-20:37:14.069.929 [mindspore/core/utils/file_utils.cc:253] GetRealPath] Get realpath failed, path[/tmp/ipykernel_272366/3428476077.py]\n",
      "[ERROR] CORE(272366,7f4009669740,python):2024-07-04-20:37:14.069.996 [mindspore/core/utils/file_utils.cc:253] GetRealPath] Get realpath failed, path[/tmp/ipykernel_272366/3428476077.py]\n",
      "[ERROR] CORE(272366,7f4009669740,python):2024-07-04-20:37:14.070.017 [mindspore/core/utils/file_utils.cc:253] GetRealPath] Get realpath failed, path[/tmp/ipykernel_272366/3428476077.py]\n",
      "[ERROR] CORE(272366,7f4009669740,python):2024-07-04-20:37:14.070.716 [mindspore/core/utils/file_utils.cc:253] GetRealPath] Get realpath failed, path[/tmp/ipykernel_272366/3428476077.py]\n",
      "[ERROR] CORE(272366,7f4009669740,python):2024-07-04-20:37:14.070.758 [mindspore/core/utils/file_utils.cc:253] GetRealPath] Get realpath failed, path[/tmp/ipykernel_272366/3428476077.py]\n",
      "[ERROR] CORE(272366,7f4009669740,python):2024-07-04-20:37:14.071.398 [mindspore/core/utils/file_utils.cc:253] GetRealPath] Get realpath failed, path[/tmp/ipykernel_272366/3428476077.py]\n",
      "[ERROR] CORE(272366,7f4009669740,python):2024-07-04-20:37:14.071.445 [mindspore/core/utils/file_utils.cc:253] GetRealPath] Get realpath failed, path[/tmp/ipykernel_272366/3428476077.py]\n",
      "[ERROR] CORE(272366,7f4009669740,python):2024-07-04-20:37:14.071.464 [mindspore/core/utils/file_utils.cc:253] GetRealPath] Get realpath failed, path[/tmp/ipykernel_272366/3428476077.py]\n",
      "[ERROR] CORE(272366,7f4009669740,python):2024-07-04-20:37:14.071.483 [mindspore/core/utils/file_utils.cc:253] GetRealPath] Get realpath failed, path[/tmp/ipykernel_272366/1339986826.py]\n",
      "[ERROR] CORE(272366,7f4009669740,python):2024-07-04-20:37:14.071.549 [mindspore/core/utils/file_utils.cc:253] GetRealPath] Get realpath failed, path[/tmp/ipykernel_272366/3428476077.py]\n",
      "[ERROR] CORE(272366,7f4009669740,python):2024-07-04-20:37:14.082.173 [mindspore/core/utils/file_utils.cc:253] GetRealPath] Get realpath failed, path[/tmp/ipykernel_272366/1339986826.py]\n",
      "[ERROR] CORE(272366,7f4009669740,python):2024-07-04-20:37:14.082.202 [mindspore/core/utils/file_utils.cc:253] GetRealPath] Get realpath failed, path[/tmp/ipykernel_272366/1339986826.py]\n",
      "[ERROR] CORE(272366,7f4009669740,python):2024-07-04-20:37:14.083.808 [mindspore/core/utils/file_utils.cc:253] GetRealPath] Get realpath failed, path[/tmp/ipykernel_272366/1339986826.py]\n"
     ]
    },
    {
     "name": "stdout",
     "output_type": "stream",
     "text": [
      "weight=\n",
      "(1024,  192,    1)\n",
      "56\n"
     ]
    },
    {
     "name": "stderr",
     "output_type": "stream",
     "text": [
      "[ERROR] CORE(272366,7f4009669740,python):2024-07-04-20:37:14.833.245 [mindspore/core/utils/file_utils.cc:253] GetRealPath] Get realpath failed, path[/tmp/ipykernel_272366/1339986826.py]\n",
      "[ERROR] CORE(272366,7f4009669740,python):2024-07-04-20:37:14.834.329 [mindspore/core/utils/file_utils.cc:253] GetRealPath] Get realpath failed, path[/tmp/ipykernel_272366/1339986826.py]\n",
      "[ERROR] CORE(272366,7f4009669740,python):2024-07-04-20:37:14.838.014 [mindspore/core/utils/file_utils.cc:253] GetRealPath] Get realpath failed, path[/tmp/ipykernel_272366/1339986826.py]\n",
      "[ERROR] CORE(272366,7f4009669740,python):2024-07-04-20:37:16.076.220 [mindspore/core/utils/file_utils.cc:253] GetRealPath] Get realpath failed, path[/tmp/ipykernel_272366/3428476077.py]\n",
      "[ERROR] CORE(272366,7f4009669740,python):2024-07-04-20:37:16.076.281 [mindspore/core/utils/file_utils.cc:253] GetRealPath] Get realpath failed, path[/tmp/ipykernel_272366/3428476077.py]\n",
      "[ERROR] CORE(272366,7f4009669740,python):2024-07-04-20:37:16.076.300 [mindspore/core/utils/file_utils.cc:253] GetRealPath] Get realpath failed, path[/tmp/ipykernel_272366/3428476077.py]\n",
      "[ERROR] CORE(272366,7f4009669740,python):2024-07-04-20:37:16.076.958 [mindspore/core/utils/file_utils.cc:253] GetRealPath] Get realpath failed, path[/tmp/ipykernel_272366/3428476077.py]\n",
      "[ERROR] CORE(272366,7f4009669740,python):2024-07-04-20:37:16.076.994 [mindspore/core/utils/file_utils.cc:253] GetRealPath] Get realpath failed, path[/tmp/ipykernel_272366/3428476077.py]\n",
      "[ERROR] CORE(272366,7f4009669740,python):2024-07-04-20:37:16.077.586 [mindspore/core/utils/file_utils.cc:253] GetRealPath] Get realpath failed, path[/tmp/ipykernel_272366/3428476077.py]\n",
      "[ERROR] CORE(272366,7f4009669740,python):2024-07-04-20:37:16.077.628 [mindspore/core/utils/file_utils.cc:253] GetRealPath] Get realpath failed, path[/tmp/ipykernel_272366/3428476077.py]\n",
      "[ERROR] CORE(272366,7f4009669740,python):2024-07-04-20:37:16.077.647 [mindspore/core/utils/file_utils.cc:253] GetRealPath] Get realpath failed, path[/tmp/ipykernel_272366/3428476077.py]\n",
      "[ERROR] CORE(272366,7f4009669740,python):2024-07-04-20:37:16.077.665 [mindspore/core/utils/file_utils.cc:253] GetRealPath] Get realpath failed, path[/tmp/ipykernel_272366/1339986826.py]\n",
      "[ERROR] CORE(272366,7f4009669740,python):2024-07-04-20:37:16.077.722 [mindspore/core/utils/file_utils.cc:253] GetRealPath] Get realpath failed, path[/tmp/ipykernel_272366/3428476077.py]\n",
      "[ERROR] CORE(272366,7f4009669740,python):2024-07-04-20:37:16.087.316 [mindspore/core/utils/file_utils.cc:253] GetRealPath] Get realpath failed, path[/tmp/ipykernel_272366/1339986826.py]\n",
      "[ERROR] CORE(272366,7f4009669740,python):2024-07-04-20:37:16.089.659 [mindspore/core/utils/file_utils.cc:253] GetRealPath] Get realpath failed, path[/tmp/ipykernel_272366/1339986826.py]\n",
      "[ERROR] CORE(272366,7f4009669740,python):2024-07-04-20:37:16.093.454 [mindspore/core/utils/file_utils.cc:253] GetRealPath] Get realpath failed, path[/tmp/ipykernel_272366/1339986826.py]\n"
     ]
    },
    {
     "name": "stdout",
     "output_type": "stream",
     "text": [
      "weight=\n",
      "(1024,  192,    1)\n",
      "57\n"
     ]
    },
    {
     "name": "stderr",
     "output_type": "stream",
     "text": [
      "[ERROR] CORE(272366,7f4009669740,python):2024-07-04-20:37:16.815.712 [mindspore/core/utils/file_utils.cc:253] GetRealPath] Get realpath failed, path[/tmp/ipykernel_272366/1339986826.py]\n",
      "[ERROR] CORE(272366,7f4009669740,python):2024-07-04-20:37:16.816.767 [mindspore/core/utils/file_utils.cc:253] GetRealPath] Get realpath failed, path[/tmp/ipykernel_272366/1339986826.py]\n",
      "[ERROR] CORE(272366,7f4009669740,python):2024-07-04-20:37:16.820.451 [mindspore/core/utils/file_utils.cc:253] GetRealPath] Get realpath failed, path[/tmp/ipykernel_272366/1339986826.py]\n",
      "[ERROR] CORE(272366,7f4009669740,python):2024-07-04-20:37:18.069.509 [mindspore/core/utils/file_utils.cc:253] GetRealPath] Get realpath failed, path[/tmp/ipykernel_272366/3428476077.py]\n",
      "[ERROR] CORE(272366,7f4009669740,python):2024-07-04-20:37:18.069.579 [mindspore/core/utils/file_utils.cc:253] GetRealPath] Get realpath failed, path[/tmp/ipykernel_272366/3428476077.py]\n",
      "[ERROR] CORE(272366,7f4009669740,python):2024-07-04-20:37:18.069.600 [mindspore/core/utils/file_utils.cc:253] GetRealPath] Get realpath failed, path[/tmp/ipykernel_272366/3428476077.py]\n",
      "[ERROR] CORE(272366,7f4009669740,python):2024-07-04-20:37:18.070.300 [mindspore/core/utils/file_utils.cc:253] GetRealPath] Get realpath failed, path[/tmp/ipykernel_272366/3428476077.py]\n",
      "[ERROR] CORE(272366,7f4009669740,python):2024-07-04-20:37:18.070.342 [mindspore/core/utils/file_utils.cc:253] GetRealPath] Get realpath failed, path[/tmp/ipykernel_272366/3428476077.py]\n",
      "[ERROR] CORE(272366,7f4009669740,python):2024-07-04-20:37:18.071.006 [mindspore/core/utils/file_utils.cc:253] GetRealPath] Get realpath failed, path[/tmp/ipykernel_272366/3428476077.py]\n",
      "[ERROR] CORE(272366,7f4009669740,python):2024-07-04-20:37:18.071.065 [mindspore/core/utils/file_utils.cc:253] GetRealPath] Get realpath failed, path[/tmp/ipykernel_272366/3428476077.py]\n",
      "[ERROR] CORE(272366,7f4009669740,python):2024-07-04-20:37:18.071.087 [mindspore/core/utils/file_utils.cc:253] GetRealPath] Get realpath failed, path[/tmp/ipykernel_272366/3428476077.py]\n",
      "[ERROR] CORE(272366,7f4009669740,python):2024-07-04-20:37:18.071.106 [mindspore/core/utils/file_utils.cc:253] GetRealPath] Get realpath failed, path[/tmp/ipykernel_272366/1339986826.py]\n",
      "[ERROR] CORE(272366,7f4009669740,python):2024-07-04-20:37:18.071.173 [mindspore/core/utils/file_utils.cc:253] GetRealPath] Get realpath failed, path[/tmp/ipykernel_272366/3428476077.py]\n",
      "[ERROR] CORE(272366,7f4009669740,python):2024-07-04-20:37:18.084.188 [mindspore/core/utils/file_utils.cc:253] GetRealPath] Get realpath failed, path[/tmp/ipykernel_272366/1339986826.py]\n",
      "[ERROR] CORE(272366,7f4009669740,python):2024-07-04-20:37:18.084.340 [mindspore/core/utils/file_utils.cc:253] GetRealPath] Get realpath failed, path[/tmp/ipykernel_272366/1339986826.py]\n",
      "[ERROR] CORE(272366,7f4009669740,python):2024-07-04-20:37:18.087.794 [mindspore/core/utils/file_utils.cc:253] GetRealPath] Get realpath failed, path[/tmp/ipykernel_272366/1339986826.py]\n"
     ]
    },
    {
     "name": "stdout",
     "output_type": "stream",
     "text": [
      "weight=\n",
      "(1024,  192,    1)\n",
      "58\n"
     ]
    },
    {
     "name": "stderr",
     "output_type": "stream",
     "text": [
      "[ERROR] CORE(272366,7f4009669740,python):2024-07-04-20:37:18.826.837 [mindspore/core/utils/file_utils.cc:253] GetRealPath] Get realpath failed, path[/tmp/ipykernel_272366/1339986826.py]\n",
      "[ERROR] CORE(272366,7f4009669740,python):2024-07-04-20:37:18.827.915 [mindspore/core/utils/file_utils.cc:253] GetRealPath] Get realpath failed, path[/tmp/ipykernel_272366/1339986826.py]\n",
      "[ERROR] CORE(272366,7f4009669740,python):2024-07-04-20:37:18.831.495 [mindspore/core/utils/file_utils.cc:253] GetRealPath] Get realpath failed, path[/tmp/ipykernel_272366/1339986826.py]\n",
      "[ERROR] CORE(272366,7f4009669740,python):2024-07-04-20:37:20.065.465 [mindspore/core/utils/file_utils.cc:253] GetRealPath] Get realpath failed, path[/tmp/ipykernel_272366/3428476077.py]\n",
      "[ERROR] CORE(272366,7f4009669740,python):2024-07-04-20:37:20.065.525 [mindspore/core/utils/file_utils.cc:253] GetRealPath] Get realpath failed, path[/tmp/ipykernel_272366/3428476077.py]\n",
      "[ERROR] CORE(272366,7f4009669740,python):2024-07-04-20:37:20.065.545 [mindspore/core/utils/file_utils.cc:253] GetRealPath] Get realpath failed, path[/tmp/ipykernel_272366/3428476077.py]\n",
      "[ERROR] CORE(272366,7f4009669740,python):2024-07-04-20:37:20.066.231 [mindspore/core/utils/file_utils.cc:253] GetRealPath] Get realpath failed, path[/tmp/ipykernel_272366/3428476077.py]\n",
      "[ERROR] CORE(272366,7f4009669740,python):2024-07-04-20:37:20.066.270 [mindspore/core/utils/file_utils.cc:253] GetRealPath] Get realpath failed, path[/tmp/ipykernel_272366/3428476077.py]\n",
      "[ERROR] CORE(272366,7f4009669740,python):2024-07-04-20:37:20.066.907 [mindspore/core/utils/file_utils.cc:253] GetRealPath] Get realpath failed, path[/tmp/ipykernel_272366/3428476077.py]\n",
      "[ERROR] CORE(272366,7f4009669740,python):2024-07-04-20:37:20.066.961 [mindspore/core/utils/file_utils.cc:253] GetRealPath] Get realpath failed, path[/tmp/ipykernel_272366/3428476077.py]\n",
      "[ERROR] CORE(272366,7f4009669740,python):2024-07-04-20:37:20.066.981 [mindspore/core/utils/file_utils.cc:253] GetRealPath] Get realpath failed, path[/tmp/ipykernel_272366/3428476077.py]\n",
      "[ERROR] CORE(272366,7f4009669740,python):2024-07-04-20:37:20.067.009 [mindspore/core/utils/file_utils.cc:253] GetRealPath] Get realpath failed, path[/tmp/ipykernel_272366/1339986826.py]\n",
      "[ERROR] CORE(272366,7f4009669740,python):2024-07-04-20:37:20.067.116 [mindspore/core/utils/file_utils.cc:253] GetRealPath] Get realpath failed, path[/tmp/ipykernel_272366/3428476077.py]\n",
      "[ERROR] CORE(272366,7f4009669740,python):2024-07-04-20:37:20.077.530 [mindspore/core/utils/file_utils.cc:253] GetRealPath] Get realpath failed, path[/tmp/ipykernel_272366/1339986826.py]\n",
      "[ERROR] CORE(272366,7f4009669740,python):2024-07-04-20:37:20.084.510 [mindspore/core/utils/file_utils.cc:253] GetRealPath] Get realpath failed, path[/tmp/ipykernel_272366/1339986826.py]\n",
      "[ERROR] CORE(272366,7f4009669740,python):2024-07-04-20:37:20.084.649 [mindspore/core/utils/file_utils.cc:253] GetRealPath] Get realpath failed, path[/tmp/ipykernel_272366/1339986826.py]\n"
     ]
    },
    {
     "name": "stdout",
     "output_type": "stream",
     "text": [
      "weight=\n",
      "(1024,  192,    1)\n",
      "59\n"
     ]
    },
    {
     "name": "stderr",
     "output_type": "stream",
     "text": [
      "[ERROR] CORE(272366,7f4009669740,python):2024-07-04-20:37:20.836.493 [mindspore/core/utils/file_utils.cc:253] GetRealPath] Get realpath failed, path[/tmp/ipykernel_272366/1339986826.py]\n",
      "[ERROR] CORE(272366,7f4009669740,python):2024-07-04-20:37:20.837.890 [mindspore/core/utils/file_utils.cc:253] GetRealPath] Get realpath failed, path[/tmp/ipykernel_272366/1339986826.py]\n",
      "[ERROR] CORE(272366,7f4009669740,python):2024-07-04-20:37:20.842.258 [mindspore/core/utils/file_utils.cc:253] GetRealPath] Get realpath failed, path[/tmp/ipykernel_272366/1339986826.py]\n",
      "[ERROR] CORE(272366,7f4009669740,python):2024-07-04-20:37:22.067.043 [mindspore/core/utils/file_utils.cc:253] GetRealPath] Get realpath failed, path[/tmp/ipykernel_272366/3428476077.py]\n",
      "[ERROR] CORE(272366,7f4009669740,python):2024-07-04-20:37:22.067.128 [mindspore/core/utils/file_utils.cc:253] GetRealPath] Get realpath failed, path[/tmp/ipykernel_272366/3428476077.py]\n",
      "[ERROR] CORE(272366,7f4009669740,python):2024-07-04-20:37:22.067.148 [mindspore/core/utils/file_utils.cc:253] GetRealPath] Get realpath failed, path[/tmp/ipykernel_272366/3428476077.py]\n",
      "[ERROR] CORE(272366,7f4009669740,python):2024-07-04-20:37:22.067.797 [mindspore/core/utils/file_utils.cc:253] GetRealPath] Get realpath failed, path[/tmp/ipykernel_272366/3428476077.py]\n",
      "[ERROR] CORE(272366,7f4009669740,python):2024-07-04-20:37:22.067.835 [mindspore/core/utils/file_utils.cc:253] GetRealPath] Get realpath failed, path[/tmp/ipykernel_272366/3428476077.py]\n",
      "[ERROR] CORE(272366,7f4009669740,python):2024-07-04-20:37:22.068.435 [mindspore/core/utils/file_utils.cc:253] GetRealPath] Get realpath failed, path[/tmp/ipykernel_272366/3428476077.py]\n",
      "[ERROR] CORE(272366,7f4009669740,python):2024-07-04-20:37:22.068.477 [mindspore/core/utils/file_utils.cc:253] GetRealPath] Get realpath failed, path[/tmp/ipykernel_272366/3428476077.py]\n",
      "[ERROR] CORE(272366,7f4009669740,python):2024-07-04-20:37:22.068.496 [mindspore/core/utils/file_utils.cc:253] GetRealPath] Get realpath failed, path[/tmp/ipykernel_272366/3428476077.py]\n",
      "[ERROR] CORE(272366,7f4009669740,python):2024-07-04-20:37:22.068.512 [mindspore/core/utils/file_utils.cc:253] GetRealPath] Get realpath failed, path[/tmp/ipykernel_272366/1339986826.py]\n",
      "[ERROR] CORE(272366,7f4009669740,python):2024-07-04-20:37:22.068.571 [mindspore/core/utils/file_utils.cc:253] GetRealPath] Get realpath failed, path[/tmp/ipykernel_272366/3428476077.py]\n",
      "[ERROR] CORE(272366,7f4009669740,python):2024-07-04-20:37:22.079.637 [mindspore/core/utils/file_utils.cc:253] GetRealPath] Get realpath failed, path[/tmp/ipykernel_272366/1339986826.py]\n",
      "[ERROR] CORE(272366,7f4009669740,python):2024-07-04-20:37:22.080.845 [mindspore/core/utils/file_utils.cc:253] GetRealPath] Get realpath failed, path[/tmp/ipykernel_272366/1339986826.py]\n",
      "[ERROR] CORE(272366,7f4009669740,python):2024-07-04-20:37:22.080.860 [mindspore/core/utils/file_utils.cc:253] GetRealPath] Get realpath failed, path[/tmp/ipykernel_272366/1339986826.py]\n"
     ]
    },
    {
     "name": "stdout",
     "output_type": "stream",
     "text": [
      "weight=\n",
      "(1024,  192,    1)\n",
      "60\n"
     ]
    },
    {
     "name": "stderr",
     "output_type": "stream",
     "text": [
      "[ERROR] CORE(272366,7f4009669740,python):2024-07-04-20:37:22.814.970 [mindspore/core/utils/file_utils.cc:253] GetRealPath] Get realpath failed, path[/tmp/ipykernel_272366/1339986826.py]\n",
      "[ERROR] CORE(272366,7f4009669740,python):2024-07-04-20:37:22.816.015 [mindspore/core/utils/file_utils.cc:253] GetRealPath] Get realpath failed, path[/tmp/ipykernel_272366/1339986826.py]\n",
      "[ERROR] CORE(272366,7f4009669740,python):2024-07-04-20:37:22.819.675 [mindspore/core/utils/file_utils.cc:253] GetRealPath] Get realpath failed, path[/tmp/ipykernel_272366/1339986826.py]\n",
      "[ERROR] CORE(272366,7f4009669740,python):2024-07-04-20:37:24.013.430 [mindspore/core/utils/file_utils.cc:253] GetRealPath] Get realpath failed, path[/tmp/ipykernel_272366/3428476077.py]\n",
      "[ERROR] CORE(272366,7f4009669740,python):2024-07-04-20:37:24.013.508 [mindspore/core/utils/file_utils.cc:253] GetRealPath] Get realpath failed, path[/tmp/ipykernel_272366/3428476077.py]\n",
      "[ERROR] CORE(272366,7f4009669740,python):2024-07-04-20:37:24.013.530 [mindspore/core/utils/file_utils.cc:253] GetRealPath] Get realpath failed, path[/tmp/ipykernel_272366/3428476077.py]\n",
      "[ERROR] CORE(272366,7f4009669740,python):2024-07-04-20:37:24.014.211 [mindspore/core/utils/file_utils.cc:253] GetRealPath] Get realpath failed, path[/tmp/ipykernel_272366/3428476077.py]\n",
      "[ERROR] CORE(272366,7f4009669740,python):2024-07-04-20:37:24.014.251 [mindspore/core/utils/file_utils.cc:253] GetRealPath] Get realpath failed, path[/tmp/ipykernel_272366/3428476077.py]\n",
      "[ERROR] CORE(272366,7f4009669740,python):2024-07-04-20:37:24.014.867 [mindspore/core/utils/file_utils.cc:253] GetRealPath] Get realpath failed, path[/tmp/ipykernel_272366/3428476077.py]\n",
      "[ERROR] CORE(272366,7f4009669740,python):2024-07-04-20:37:24.014.909 [mindspore/core/utils/file_utils.cc:253] GetRealPath] Get realpath failed, path[/tmp/ipykernel_272366/3428476077.py]\n",
      "[ERROR] CORE(272366,7f4009669740,python):2024-07-04-20:37:24.014.928 [mindspore/core/utils/file_utils.cc:253] GetRealPath] Get realpath failed, path[/tmp/ipykernel_272366/3428476077.py]\n",
      "[ERROR] CORE(272366,7f4009669740,python):2024-07-04-20:37:24.014.945 [mindspore/core/utils/file_utils.cc:253] GetRealPath] Get realpath failed, path[/tmp/ipykernel_272366/1339986826.py]\n",
      "[ERROR] CORE(272366,7f4009669740,python):2024-07-04-20:37:24.015.014 [mindspore/core/utils/file_utils.cc:253] GetRealPath] Get realpath failed, path[/tmp/ipykernel_272366/3428476077.py]\n",
      "[ERROR] CORE(272366,7f4009669740,python):2024-07-04-20:37:24.026.404 [mindspore/core/utils/file_utils.cc:253] GetRealPath] Get realpath failed, path[/tmp/ipykernel_272366/1339986826.py]\n",
      "[ERROR] CORE(272366,7f4009669740,python):2024-07-04-20:37:24.028.804 [mindspore/core/utils/file_utils.cc:253] GetRealPath] Get realpath failed, path[/tmp/ipykernel_272366/1339986826.py]\n",
      "[ERROR] CORE(272366,7f4009669740,python):2024-07-04-20:37:24.030.035 [mindspore/core/utils/file_utils.cc:253] GetRealPath] Get realpath failed, path[/tmp/ipykernel_272366/1339986826.py]\n"
     ]
    },
    {
     "name": "stdout",
     "output_type": "stream",
     "text": [
      "weight=\n",
      "(1024,  192,    1)\n",
      "61\n"
     ]
    },
    {
     "name": "stderr",
     "output_type": "stream",
     "text": [
      "[ERROR] CORE(272366,7f4009669740,python):2024-07-04-20:37:24.784.640 [mindspore/core/utils/file_utils.cc:253] GetRealPath] Get realpath failed, path[/tmp/ipykernel_272366/1339986826.py]\n",
      "[ERROR] CORE(272366,7f4009669740,python):2024-07-04-20:37:24.785.650 [mindspore/core/utils/file_utils.cc:253] GetRealPath] Get realpath failed, path[/tmp/ipykernel_272366/1339986826.py]\n",
      "[ERROR] CORE(272366,7f4009669740,python):2024-07-04-20:37:24.789.275 [mindspore/core/utils/file_utils.cc:253] GetRealPath] Get realpath failed, path[/tmp/ipykernel_272366/1339986826.py]\n",
      "[ERROR] CORE(272366,7f4009669740,python):2024-07-04-20:37:26.005.657 [mindspore/core/utils/file_utils.cc:253] GetRealPath] Get realpath failed, path[/tmp/ipykernel_272366/3428476077.py]\n",
      "[ERROR] CORE(272366,7f4009669740,python):2024-07-04-20:37:26.005.720 [mindspore/core/utils/file_utils.cc:253] GetRealPath] Get realpath failed, path[/tmp/ipykernel_272366/3428476077.py]\n",
      "[ERROR] CORE(272366,7f4009669740,python):2024-07-04-20:37:26.005.740 [mindspore/core/utils/file_utils.cc:253] GetRealPath] Get realpath failed, path[/tmp/ipykernel_272366/3428476077.py]\n",
      "[ERROR] CORE(272366,7f4009669740,python):2024-07-04-20:37:26.006.486 [mindspore/core/utils/file_utils.cc:253] GetRealPath] Get realpath failed, path[/tmp/ipykernel_272366/3428476077.py]\n",
      "[ERROR] CORE(272366,7f4009669740,python):2024-07-04-20:37:26.006.548 [mindspore/core/utils/file_utils.cc:253] GetRealPath] Get realpath failed, path[/tmp/ipykernel_272366/3428476077.py]\n",
      "[ERROR] CORE(272366,7f4009669740,python):2024-07-04-20:37:26.007.193 [mindspore/core/utils/file_utils.cc:253] GetRealPath] Get realpath failed, path[/tmp/ipykernel_272366/3428476077.py]\n",
      "[ERROR] CORE(272366,7f4009669740,python):2024-07-04-20:37:26.007.236 [mindspore/core/utils/file_utils.cc:253] GetRealPath] Get realpath failed, path[/tmp/ipykernel_272366/3428476077.py]\n",
      "[ERROR] CORE(272366,7f4009669740,python):2024-07-04-20:37:26.007.255 [mindspore/core/utils/file_utils.cc:253] GetRealPath] Get realpath failed, path[/tmp/ipykernel_272366/3428476077.py]\n",
      "[ERROR] CORE(272366,7f4009669740,python):2024-07-04-20:37:26.007.273 [mindspore/core/utils/file_utils.cc:253] GetRealPath] Get realpath failed, path[/tmp/ipykernel_272366/1339986826.py]\n",
      "[ERROR] CORE(272366,7f4009669740,python):2024-07-04-20:37:26.007.332 [mindspore/core/utils/file_utils.cc:253] GetRealPath] Get realpath failed, path[/tmp/ipykernel_272366/3428476077.py]\n",
      "[ERROR] CORE(272366,7f4009669740,python):2024-07-04-20:37:26.018.382 [mindspore/core/utils/file_utils.cc:253] GetRealPath] Get realpath failed, path[/tmp/ipykernel_272366/1339986826.py]\n",
      "[ERROR] CORE(272366,7f4009669740,python):2024-07-04-20:37:26.018.400 [mindspore/core/utils/file_utils.cc:253] GetRealPath] Get realpath failed, path[/tmp/ipykernel_272366/1339986826.py]\n",
      "[ERROR] CORE(272366,7f4009669740,python):2024-07-04-20:37:26.020.653 [mindspore/core/utils/file_utils.cc:253] GetRealPath] Get realpath failed, path[/tmp/ipykernel_272366/1339986826.py]\n"
     ]
    },
    {
     "name": "stdout",
     "output_type": "stream",
     "text": [
      "weight=\n",
      "(1024,  192,    1)\n",
      "62\n"
     ]
    },
    {
     "name": "stderr",
     "output_type": "stream",
     "text": [
      "[ERROR] CORE(272366,7f4009669740,python):2024-07-04-20:37:26.752.100 [mindspore/core/utils/file_utils.cc:253] GetRealPath] Get realpath failed, path[/tmp/ipykernel_272366/1339986826.py]\n",
      "[ERROR] CORE(272366,7f4009669740,python):2024-07-04-20:37:26.753.137 [mindspore/core/utils/file_utils.cc:253] GetRealPath] Get realpath failed, path[/tmp/ipykernel_272366/1339986826.py]\n",
      "[ERROR] CORE(272366,7f4009669740,python):2024-07-04-20:37:26.756.844 [mindspore/core/utils/file_utils.cc:253] GetRealPath] Get realpath failed, path[/tmp/ipykernel_272366/1339986826.py]\n",
      "[ERROR] CORE(272366,7f4009669740,python):2024-07-04-20:37:27.986.001 [mindspore/core/utils/file_utils.cc:253] GetRealPath] Get realpath failed, path[/tmp/ipykernel_272366/3428476077.py]\n",
      "[ERROR] CORE(272366,7f4009669740,python):2024-07-04-20:37:27.986.104 [mindspore/core/utils/file_utils.cc:253] GetRealPath] Get realpath failed, path[/tmp/ipykernel_272366/3428476077.py]\n",
      "[ERROR] CORE(272366,7f4009669740,python):2024-07-04-20:37:27.986.135 [mindspore/core/utils/file_utils.cc:253] GetRealPath] Get realpath failed, path[/tmp/ipykernel_272366/3428476077.py]\n",
      "[ERROR] CORE(272366,7f4009669740,python):2024-07-04-20:37:27.986.864 [mindspore/core/utils/file_utils.cc:253] GetRealPath] Get realpath failed, path[/tmp/ipykernel_272366/3428476077.py]\n",
      "[ERROR] CORE(272366,7f4009669740,python):2024-07-04-20:37:27.986.906 [mindspore/core/utils/file_utils.cc:253] GetRealPath] Get realpath failed, path[/tmp/ipykernel_272366/3428476077.py]\n",
      "[ERROR] CORE(272366,7f4009669740,python):2024-07-04-20:37:27.987.589 [mindspore/core/utils/file_utils.cc:253] GetRealPath] Get realpath failed, path[/tmp/ipykernel_272366/3428476077.py]\n",
      "[ERROR] CORE(272366,7f4009669740,python):2024-07-04-20:37:27.987.636 [mindspore/core/utils/file_utils.cc:253] GetRealPath] Get realpath failed, path[/tmp/ipykernel_272366/3428476077.py]\n",
      "[ERROR] CORE(272366,7f4009669740,python):2024-07-04-20:37:27.987.656 [mindspore/core/utils/file_utils.cc:253] GetRealPath] Get realpath failed, path[/tmp/ipykernel_272366/3428476077.py]\n",
      "[ERROR] CORE(272366,7f4009669740,python):2024-07-04-20:37:27.987.674 [mindspore/core/utils/file_utils.cc:253] GetRealPath] Get realpath failed, path[/tmp/ipykernel_272366/1339986826.py]\n",
      "[ERROR] CORE(272366,7f4009669740,python):2024-07-04-20:37:27.987.738 [mindspore/core/utils/file_utils.cc:253] GetRealPath] Get realpath failed, path[/tmp/ipykernel_272366/3428476077.py]\n",
      "[ERROR] CORE(272366,7f4009669740,python):2024-07-04-20:37:28.003.149 [mindspore/core/utils/file_utils.cc:253] GetRealPath] Get realpath failed, path[/tmp/ipykernel_272366/1339986826.py]\n",
      "[ERROR] CORE(272366,7f4009669740,python):2024-07-04-20:37:28.003.174 [mindspore/core/utils/file_utils.cc:253] GetRealPath] Get realpath failed, path[/tmp/ipykernel_272366/1339986826.py]\n",
      "[ERROR] CORE(272366,7f4009669740,python):2024-07-04-20:37:28.005.307 [mindspore/core/utils/file_utils.cc:253] GetRealPath] Get realpath failed, path[/tmp/ipykernel_272366/1339986826.py]\n"
     ]
    },
    {
     "name": "stdout",
     "output_type": "stream",
     "text": [
      "weight=\n",
      "(1024,  192,    1)\n",
      "63\n"
     ]
    },
    {
     "name": "stderr",
     "output_type": "stream",
     "text": [
      "[ERROR] CORE(272366,7f4009669740,python):2024-07-04-20:37:28.744.418 [mindspore/core/utils/file_utils.cc:253] GetRealPath] Get realpath failed, path[/tmp/ipykernel_272366/1339986826.py]\n",
      "[ERROR] CORE(272366,7f4009669740,python):2024-07-04-20:37:28.745.465 [mindspore/core/utils/file_utils.cc:253] GetRealPath] Get realpath failed, path[/tmp/ipykernel_272366/1339986826.py]\n",
      "[ERROR] CORE(272366,7f4009669740,python):2024-07-04-20:37:28.749.042 [mindspore/core/utils/file_utils.cc:253] GetRealPath] Get realpath failed, path[/tmp/ipykernel_272366/1339986826.py]\n",
      "[ERROR] CORE(272366,7f4009669740,python):2024-07-04-20:37:30.036.561 [mindspore/core/utils/file_utils.cc:253] GetRealPath] Get realpath failed, path[/tmp/ipykernel_272366/3428476077.py]\n",
      "[ERROR] CORE(272366,7f4009669740,python):2024-07-04-20:37:30.036.635 [mindspore/core/utils/file_utils.cc:253] GetRealPath] Get realpath failed, path[/tmp/ipykernel_272366/3428476077.py]\n",
      "[ERROR] CORE(272366,7f4009669740,python):2024-07-04-20:37:30.036.656 [mindspore/core/utils/file_utils.cc:253] GetRealPath] Get realpath failed, path[/tmp/ipykernel_272366/3428476077.py]\n",
      "[ERROR] CORE(272366,7f4009669740,python):2024-07-04-20:37:30.037.322 [mindspore/core/utils/file_utils.cc:253] GetRealPath] Get realpath failed, path[/tmp/ipykernel_272366/3428476077.py]\n",
      "[ERROR] CORE(272366,7f4009669740,python):2024-07-04-20:37:30.037.363 [mindspore/core/utils/file_utils.cc:253] GetRealPath] Get realpath failed, path[/tmp/ipykernel_272366/3428476077.py]\n",
      "[ERROR] CORE(272366,7f4009669740,python):2024-07-04-20:37:30.037.978 [mindspore/core/utils/file_utils.cc:253] GetRealPath] Get realpath failed, path[/tmp/ipykernel_272366/3428476077.py]\n",
      "[ERROR] CORE(272366,7f4009669740,python):2024-07-04-20:37:30.038.031 [mindspore/core/utils/file_utils.cc:253] GetRealPath] Get realpath failed, path[/tmp/ipykernel_272366/3428476077.py]\n",
      "[ERROR] CORE(272366,7f4009669740,python):2024-07-04-20:37:30.038.071 [mindspore/core/utils/file_utils.cc:253] GetRealPath] Get realpath failed, path[/tmp/ipykernel_272366/3428476077.py]\n",
      "[ERROR] CORE(272366,7f4009669740,python):2024-07-04-20:37:30.038.103 [mindspore/core/utils/file_utils.cc:253] GetRealPath] Get realpath failed, path[/tmp/ipykernel_272366/1339986826.py]\n",
      "[ERROR] CORE(272366,7f4009669740,python):2024-07-04-20:37:30.038.164 [mindspore/core/utils/file_utils.cc:253] GetRealPath] Get realpath failed, path[/tmp/ipykernel_272366/3428476077.py]\n",
      "[ERROR] CORE(272366,7f4009669740,python):2024-07-04-20:37:30.052.065 [mindspore/core/utils/file_utils.cc:253] GetRealPath] Get realpath failed, path[/tmp/ipykernel_272366/1339986826.py]\n",
      "[ERROR] CORE(272366,7f4009669740,python):2024-07-04-20:37:30.053.174 [mindspore/core/utils/file_utils.cc:253] GetRealPath] Get realpath failed, path[/tmp/ipykernel_272366/1339986826.py]\n",
      "[ERROR] CORE(272366,7f4009669740,python):2024-07-04-20:37:30.053.299 [mindspore/core/utils/file_utils.cc:253] GetRealPath] Get realpath failed, path[/tmp/ipykernel_272366/1339986826.py]\n"
     ]
    },
    {
     "name": "stdout",
     "output_type": "stream",
     "text": [
      "weight=\n",
      "(1024,  192,    1)\n",
      "64\n"
     ]
    },
    {
     "name": "stderr",
     "output_type": "stream",
     "text": [
      "[ERROR] CORE(272366,7f4009669740,python):2024-07-04-20:37:30.840.240 [mindspore/core/utils/file_utils.cc:253] GetRealPath] Get realpath failed, path[/tmp/ipykernel_272366/1339986826.py]\n",
      "[ERROR] CORE(272366,7f4009669740,python):2024-07-04-20:37:30.841.329 [mindspore/core/utils/file_utils.cc:253] GetRealPath] Get realpath failed, path[/tmp/ipykernel_272366/1339986826.py]\n",
      "[ERROR] CORE(272366,7f4009669740,python):2024-07-04-20:37:30.846.126 [mindspore/core/utils/file_utils.cc:253] GetRealPath] Get realpath failed, path[/tmp/ipykernel_272366/1339986826.py]\n",
      "[ERROR] CORE(272366,7f4009669740,python):2024-07-04-20:37:32.095.170 [mindspore/core/utils/file_utils.cc:253] GetRealPath] Get realpath failed, path[/tmp/ipykernel_272366/3428476077.py]\n",
      "[ERROR] CORE(272366,7f4009669740,python):2024-07-04-20:37:32.095.232 [mindspore/core/utils/file_utils.cc:253] GetRealPath] Get realpath failed, path[/tmp/ipykernel_272366/3428476077.py]\n",
      "[ERROR] CORE(272366,7f4009669740,python):2024-07-04-20:37:32.095.252 [mindspore/core/utils/file_utils.cc:253] GetRealPath] Get realpath failed, path[/tmp/ipykernel_272366/3428476077.py]\n",
      "[ERROR] CORE(272366,7f4009669740,python):2024-07-04-20:37:32.095.905 [mindspore/core/utils/file_utils.cc:253] GetRealPath] Get realpath failed, path[/tmp/ipykernel_272366/3428476077.py]\n",
      "[ERROR] CORE(272366,7f4009669740,python):2024-07-04-20:37:32.095.943 [mindspore/core/utils/file_utils.cc:253] GetRealPath] Get realpath failed, path[/tmp/ipykernel_272366/3428476077.py]\n",
      "[ERROR] CORE(272366,7f4009669740,python):2024-07-04-20:37:32.096.583 [mindspore/core/utils/file_utils.cc:253] GetRealPath] Get realpath failed, path[/tmp/ipykernel_272366/3428476077.py]\n",
      "[ERROR] CORE(272366,7f4009669740,python):2024-07-04-20:37:32.096.625 [mindspore/core/utils/file_utils.cc:253] GetRealPath] Get realpath failed, path[/tmp/ipykernel_272366/3428476077.py]\n",
      "[ERROR] CORE(272366,7f4009669740,python):2024-07-04-20:37:32.096.645 [mindspore/core/utils/file_utils.cc:253] GetRealPath] Get realpath failed, path[/tmp/ipykernel_272366/3428476077.py]\n",
      "[ERROR] CORE(272366,7f4009669740,python):2024-07-04-20:37:32.096.662 [mindspore/core/utils/file_utils.cc:253] GetRealPath] Get realpath failed, path[/tmp/ipykernel_272366/1339986826.py]\n",
      "[ERROR] CORE(272366,7f4009669740,python):2024-07-04-20:37:32.096.720 [mindspore/core/utils/file_utils.cc:253] GetRealPath] Get realpath failed, path[/tmp/ipykernel_272366/3428476077.py]\n",
      "[ERROR] CORE(272366,7f4009669740,python):2024-07-04-20:37:32.109.546 [mindspore/core/utils/file_utils.cc:253] GetRealPath] Get realpath failed, path[/tmp/ipykernel_272366/1339986826.py]\n",
      "[ERROR] CORE(272366,7f4009669740,python):2024-07-04-20:37:32.111.716 [mindspore/core/utils/file_utils.cc:253] GetRealPath] Get realpath failed, path[/tmp/ipykernel_272366/1339986826.py]\n",
      "[ERROR] CORE(272366,7f4009669740,python):2024-07-04-20:37:32.113.165 [mindspore/core/utils/file_utils.cc:253] GetRealPath] Get realpath failed, path[/tmp/ipykernel_272366/1339986826.py]\n"
     ]
    },
    {
     "name": "stdout",
     "output_type": "stream",
     "text": [
      "weight=\n",
      "(1024,  192,    1)\n",
      "65\n"
     ]
    },
    {
     "name": "stderr",
     "output_type": "stream",
     "text": [
      "[ERROR] CORE(272366,7f4009669740,python):2024-07-04-20:37:32.831.771 [mindspore/core/utils/file_utils.cc:253] GetRealPath] Get realpath failed, path[/tmp/ipykernel_272366/1339986826.py]\n",
      "[ERROR] CORE(272366,7f4009669740,python):2024-07-04-20:37:32.832.836 [mindspore/core/utils/file_utils.cc:253] GetRealPath] Get realpath failed, path[/tmp/ipykernel_272366/1339986826.py]\n",
      "[ERROR] CORE(272366,7f4009669740,python):2024-07-04-20:37:32.836.779 [mindspore/core/utils/file_utils.cc:253] GetRealPath] Get realpath failed, path[/tmp/ipykernel_272366/1339986826.py]\n",
      "[ERROR] CORE(272366,7f4009669740,python):2024-07-04-20:37:34.068.922 [mindspore/core/utils/file_utils.cc:253] GetRealPath] Get realpath failed, path[/tmp/ipykernel_272366/3428476077.py]\n",
      "[ERROR] CORE(272366,7f4009669740,python):2024-07-04-20:37:34.068.985 [mindspore/core/utils/file_utils.cc:253] GetRealPath] Get realpath failed, path[/tmp/ipykernel_272366/3428476077.py]\n",
      "[ERROR] CORE(272366,7f4009669740,python):2024-07-04-20:37:34.069.004 [mindspore/core/utils/file_utils.cc:253] GetRealPath] Get realpath failed, path[/tmp/ipykernel_272366/3428476077.py]\n",
      "[ERROR] CORE(272366,7f4009669740,python):2024-07-04-20:37:34.069.718 [mindspore/core/utils/file_utils.cc:253] GetRealPath] Get realpath failed, path[/tmp/ipykernel_272366/3428476077.py]\n",
      "[ERROR] CORE(272366,7f4009669740,python):2024-07-04-20:37:34.069.759 [mindspore/core/utils/file_utils.cc:253] GetRealPath] Get realpath failed, path[/tmp/ipykernel_272366/3428476077.py]\n",
      "[ERROR] CORE(272366,7f4009669740,python):2024-07-04-20:37:34.070.388 [mindspore/core/utils/file_utils.cc:253] GetRealPath] Get realpath failed, path[/tmp/ipykernel_272366/3428476077.py]\n",
      "[ERROR] CORE(272366,7f4009669740,python):2024-07-04-20:37:34.070.433 [mindspore/core/utils/file_utils.cc:253] GetRealPath] Get realpath failed, path[/tmp/ipykernel_272366/3428476077.py]\n",
      "[ERROR] CORE(272366,7f4009669740,python):2024-07-04-20:37:34.070.451 [mindspore/core/utils/file_utils.cc:253] GetRealPath] Get realpath failed, path[/tmp/ipykernel_272366/3428476077.py]\n",
      "[ERROR] CORE(272366,7f4009669740,python):2024-07-04-20:37:34.070.468 [mindspore/core/utils/file_utils.cc:253] GetRealPath] Get realpath failed, path[/tmp/ipykernel_272366/1339986826.py]\n",
      "[ERROR] CORE(272366,7f4009669740,python):2024-07-04-20:37:34.070.533 [mindspore/core/utils/file_utils.cc:253] GetRealPath] Get realpath failed, path[/tmp/ipykernel_272366/3428476077.py]\n",
      "[ERROR] CORE(272366,7f4009669740,python):2024-07-04-20:37:34.086.154 [mindspore/core/utils/file_utils.cc:253] GetRealPath] Get realpath failed, path[/tmp/ipykernel_272366/1339986826.py]\n",
      "[ERROR] CORE(272366,7f4009669740,python):2024-07-04-20:37:34.086.181 [mindspore/core/utils/file_utils.cc:253] GetRealPath] Get realpath failed, path[/tmp/ipykernel_272366/1339986826.py]\n",
      "[ERROR] CORE(272366,7f4009669740,python):2024-07-04-20:37:34.087.485 [mindspore/core/utils/file_utils.cc:253] GetRealPath] Get realpath failed, path[/tmp/ipykernel_272366/1339986826.py]\n"
     ]
    },
    {
     "name": "stdout",
     "output_type": "stream",
     "text": [
      "weight=\n",
      "(1024,  192,    1)\n",
      "66\n"
     ]
    },
    {
     "name": "stderr",
     "output_type": "stream",
     "text": [
      "[ERROR] CORE(272366,7f4009669740,python):2024-07-04-20:37:34.822.152 [mindspore/core/utils/file_utils.cc:253] GetRealPath] Get realpath failed, path[/tmp/ipykernel_272366/1339986826.py]\n",
      "[ERROR] CORE(272366,7f4009669740,python):2024-07-04-20:37:34.823.179 [mindspore/core/utils/file_utils.cc:253] GetRealPath] Get realpath failed, path[/tmp/ipykernel_272366/1339986826.py]\n",
      "[ERROR] CORE(272366,7f4009669740,python):2024-07-04-20:37:34.826.878 [mindspore/core/utils/file_utils.cc:253] GetRealPath] Get realpath failed, path[/tmp/ipykernel_272366/1339986826.py]\n",
      "[ERROR] CORE(272366,7f4009669740,python):2024-07-04-20:37:36.107.502 [mindspore/core/utils/file_utils.cc:253] GetRealPath] Get realpath failed, path[/tmp/ipykernel_272366/3428476077.py]\n",
      "[ERROR] CORE(272366,7f4009669740,python):2024-07-04-20:37:36.107.579 [mindspore/core/utils/file_utils.cc:253] GetRealPath] Get realpath failed, path[/tmp/ipykernel_272366/3428476077.py]\n",
      "[ERROR] CORE(272366,7f4009669740,python):2024-07-04-20:37:36.107.599 [mindspore/core/utils/file_utils.cc:253] GetRealPath] Get realpath failed, path[/tmp/ipykernel_272366/3428476077.py]\n",
      "[ERROR] CORE(272366,7f4009669740,python):2024-07-04-20:37:36.108.291 [mindspore/core/utils/file_utils.cc:253] GetRealPath] Get realpath failed, path[/tmp/ipykernel_272366/3428476077.py]\n",
      "[ERROR] CORE(272366,7f4009669740,python):2024-07-04-20:37:36.108.332 [mindspore/core/utils/file_utils.cc:253] GetRealPath] Get realpath failed, path[/tmp/ipykernel_272366/3428476077.py]\n",
      "[ERROR] CORE(272366,7f4009669740,python):2024-07-04-20:37:36.108.979 [mindspore/core/utils/file_utils.cc:253] GetRealPath] Get realpath failed, path[/tmp/ipykernel_272366/3428476077.py]\n",
      "[ERROR] CORE(272366,7f4009669740,python):2024-07-04-20:37:36.109.033 [mindspore/core/utils/file_utils.cc:253] GetRealPath] Get realpath failed, path[/tmp/ipykernel_272366/3428476077.py]\n",
      "[ERROR] CORE(272366,7f4009669740,python):2024-07-04-20:37:36.109.076 [mindspore/core/utils/file_utils.cc:253] GetRealPath] Get realpath failed, path[/tmp/ipykernel_272366/3428476077.py]\n",
      "[ERROR] CORE(272366,7f4009669740,python):2024-07-04-20:37:36.109.105 [mindspore/core/utils/file_utils.cc:253] GetRealPath] Get realpath failed, path[/tmp/ipykernel_272366/1339986826.py]\n",
      "[ERROR] CORE(272366,7f4009669740,python):2024-07-04-20:37:36.109.187 [mindspore/core/utils/file_utils.cc:253] GetRealPath] Get realpath failed, path[/tmp/ipykernel_272366/3428476077.py]\n",
      "[ERROR] CORE(272366,7f4009669740,python):2024-07-04-20:37:36.125.678 [mindspore/core/utils/file_utils.cc:253] GetRealPath] Get realpath failed, path[/tmp/ipykernel_272366/1339986826.py]\n",
      "[ERROR] CORE(272366,7f4009669740,python):2024-07-04-20:37:36.125.696 [mindspore/core/utils/file_utils.cc:253] GetRealPath] Get realpath failed, path[/tmp/ipykernel_272366/1339986826.py]\n",
      "[ERROR] CORE(272366,7f4009669740,python):2024-07-04-20:37:36.125.708 [mindspore/core/utils/file_utils.cc:253] GetRealPath] Get realpath failed, path[/tmp/ipykernel_272366/1339986826.py]\n"
     ]
    },
    {
     "name": "stdout",
     "output_type": "stream",
     "text": [
      "weight=\n",
      "(1024,  192,    1)\n",
      "67\n"
     ]
    },
    {
     "name": "stderr",
     "output_type": "stream",
     "text": [
      "[ERROR] CORE(272366,7f4009669740,python):2024-07-04-20:37:36.861.475 [mindspore/core/utils/file_utils.cc:253] GetRealPath] Get realpath failed, path[/tmp/ipykernel_272366/1339986826.py]\n",
      "[ERROR] CORE(272366,7f4009669740,python):2024-07-04-20:37:36.862.562 [mindspore/core/utils/file_utils.cc:253] GetRealPath] Get realpath failed, path[/tmp/ipykernel_272366/1339986826.py]\n",
      "[ERROR] CORE(272366,7f4009669740,python):2024-07-04-20:37:36.866.241 [mindspore/core/utils/file_utils.cc:253] GetRealPath] Get realpath failed, path[/tmp/ipykernel_272366/1339986826.py]\n",
      "[ERROR] CORE(272366,7f4009669740,python):2024-07-04-20:37:38.121.928 [mindspore/core/utils/file_utils.cc:253] GetRealPath] Get realpath failed, path[/tmp/ipykernel_272366/3428476077.py]\n",
      "[ERROR] CORE(272366,7f4009669740,python):2024-07-04-20:37:38.121.988 [mindspore/core/utils/file_utils.cc:253] GetRealPath] Get realpath failed, path[/tmp/ipykernel_272366/3428476077.py]\n",
      "[ERROR] CORE(272366,7f4009669740,python):2024-07-04-20:37:38.122.007 [mindspore/core/utils/file_utils.cc:253] GetRealPath] Get realpath failed, path[/tmp/ipykernel_272366/3428476077.py]\n",
      "[ERROR] CORE(272366,7f4009669740,python):2024-07-04-20:37:38.122.689 [mindspore/core/utils/file_utils.cc:253] GetRealPath] Get realpath failed, path[/tmp/ipykernel_272366/3428476077.py]\n",
      "[ERROR] CORE(272366,7f4009669740,python):2024-07-04-20:37:38.122.729 [mindspore/core/utils/file_utils.cc:253] GetRealPath] Get realpath failed, path[/tmp/ipykernel_272366/3428476077.py]\n",
      "[ERROR] CORE(272366,7f4009669740,python):2024-07-04-20:37:38.123.359 [mindspore/core/utils/file_utils.cc:253] GetRealPath] Get realpath failed, path[/tmp/ipykernel_272366/3428476077.py]\n",
      "[ERROR] CORE(272366,7f4009669740,python):2024-07-04-20:37:38.123.402 [mindspore/core/utils/file_utils.cc:253] GetRealPath] Get realpath failed, path[/tmp/ipykernel_272366/3428476077.py]\n",
      "[ERROR] CORE(272366,7f4009669740,python):2024-07-04-20:37:38.123.420 [mindspore/core/utils/file_utils.cc:253] GetRealPath] Get realpath failed, path[/tmp/ipykernel_272366/3428476077.py]\n",
      "[ERROR] CORE(272366,7f4009669740,python):2024-07-04-20:37:38.123.437 [mindspore/core/utils/file_utils.cc:253] GetRealPath] Get realpath failed, path[/tmp/ipykernel_272366/1339986826.py]\n",
      "[ERROR] CORE(272366,7f4009669740,python):2024-07-04-20:37:38.123.495 [mindspore/core/utils/file_utils.cc:253] GetRealPath] Get realpath failed, path[/tmp/ipykernel_272366/3428476077.py]\n",
      "[ERROR] CORE(272366,7f4009669740,python):2024-07-04-20:37:38.136.777 [mindspore/core/utils/file_utils.cc:253] GetRealPath] Get realpath failed, path[/tmp/ipykernel_272366/1339986826.py]\n",
      "[ERROR] CORE(272366,7f4009669740,python):2024-07-04-20:37:38.138.011 [mindspore/core/utils/file_utils.cc:253] GetRealPath] Get realpath failed, path[/tmp/ipykernel_272366/1339986826.py]\n",
      "[ERROR] CORE(272366,7f4009669740,python):2024-07-04-20:37:38.143.600 [mindspore/core/utils/file_utils.cc:253] GetRealPath] Get realpath failed, path[/tmp/ipykernel_272366/1339986826.py]\n"
     ]
    },
    {
     "name": "stdout",
     "output_type": "stream",
     "text": [
      "weight=\n",
      "(1024,  192,    1)\n",
      "68\n"
     ]
    },
    {
     "name": "stderr",
     "output_type": "stream",
     "text": [
      "[ERROR] CORE(272366,7f4009669740,python):2024-07-04-20:37:38.880.733 [mindspore/core/utils/file_utils.cc:253] GetRealPath] Get realpath failed, path[/tmp/ipykernel_272366/1339986826.py]\n",
      "[ERROR] CORE(272366,7f4009669740,python):2024-07-04-20:37:38.881.930 [mindspore/core/utils/file_utils.cc:253] GetRealPath] Get realpath failed, path[/tmp/ipykernel_272366/1339986826.py]\n",
      "[ERROR] CORE(272366,7f4009669740,python):2024-07-04-20:37:38.885.706 [mindspore/core/utils/file_utils.cc:253] GetRealPath] Get realpath failed, path[/tmp/ipykernel_272366/1339986826.py]\n",
      "[ERROR] CORE(272366,7f4009669740,python):2024-07-04-20:37:40.155.765 [mindspore/core/utils/file_utils.cc:253] GetRealPath] Get realpath failed, path[/tmp/ipykernel_272366/3428476077.py]\n",
      "[ERROR] CORE(272366,7f4009669740,python):2024-07-04-20:37:40.155.826 [mindspore/core/utils/file_utils.cc:253] GetRealPath] Get realpath failed, path[/tmp/ipykernel_272366/3428476077.py]\n",
      "[ERROR] CORE(272366,7f4009669740,python):2024-07-04-20:37:40.155.846 [mindspore/core/utils/file_utils.cc:253] GetRealPath] Get realpath failed, path[/tmp/ipykernel_272366/3428476077.py]\n",
      "[ERROR] CORE(272366,7f4009669740,python):2024-07-04-20:37:40.156.493 [mindspore/core/utils/file_utils.cc:253] GetRealPath] Get realpath failed, path[/tmp/ipykernel_272366/3428476077.py]\n",
      "[ERROR] CORE(272366,7f4009669740,python):2024-07-04-20:37:40.156.531 [mindspore/core/utils/file_utils.cc:253] GetRealPath] Get realpath failed, path[/tmp/ipykernel_272366/3428476077.py]\n",
      "[ERROR] CORE(272366,7f4009669740,python):2024-07-04-20:37:40.157.167 [mindspore/core/utils/file_utils.cc:253] GetRealPath] Get realpath failed, path[/tmp/ipykernel_272366/3428476077.py]\n",
      "[ERROR] CORE(272366,7f4009669740,python):2024-07-04-20:37:40.157.210 [mindspore/core/utils/file_utils.cc:253] GetRealPath] Get realpath failed, path[/tmp/ipykernel_272366/3428476077.py]\n",
      "[ERROR] CORE(272366,7f4009669740,python):2024-07-04-20:37:40.157.229 [mindspore/core/utils/file_utils.cc:253] GetRealPath] Get realpath failed, path[/tmp/ipykernel_272366/3428476077.py]\n",
      "[ERROR] CORE(272366,7f4009669740,python):2024-07-04-20:37:40.157.246 [mindspore/core/utils/file_utils.cc:253] GetRealPath] Get realpath failed, path[/tmp/ipykernel_272366/1339986826.py]\n",
      "[ERROR] CORE(272366,7f4009669740,python):2024-07-04-20:37:40.157.304 [mindspore/core/utils/file_utils.cc:253] GetRealPath] Get realpath failed, path[/tmp/ipykernel_272366/3428476077.py]\n",
      "[ERROR] CORE(272366,7f4009669740,python):2024-07-04-20:37:40.168.537 [mindspore/core/utils/file_utils.cc:253] GetRealPath] Get realpath failed, path[/tmp/ipykernel_272366/1339986826.py]\n",
      "[ERROR] CORE(272366,7f4009669740,python):2024-07-04-20:37:40.173.339 [mindspore/core/utils/file_utils.cc:253] GetRealPath] Get realpath failed, path[/tmp/ipykernel_272366/1339986826.py]\n",
      "[ERROR] CORE(272366,7f4009669740,python):2024-07-04-20:37:40.173.355 [mindspore/core/utils/file_utils.cc:253] GetRealPath] Get realpath failed, path[/tmp/ipykernel_272366/1339986826.py]\n"
     ]
    },
    {
     "name": "stdout",
     "output_type": "stream",
     "text": [
      "weight=\n",
      "(1024,  192,    1)\n",
      "69\n"
     ]
    },
    {
     "name": "stderr",
     "output_type": "stream",
     "text": [
      "[ERROR] CORE(272366,7f4009669740,python):2024-07-04-20:37:40.899.014 [mindspore/core/utils/file_utils.cc:253] GetRealPath] Get realpath failed, path[/tmp/ipykernel_272366/1339986826.py]\n",
      "[ERROR] CORE(272366,7f4009669740,python):2024-07-04-20:37:40.900.146 [mindspore/core/utils/file_utils.cc:253] GetRealPath] Get realpath failed, path[/tmp/ipykernel_272366/1339986826.py]\n",
      "[ERROR] CORE(272366,7f4009669740,python):2024-07-04-20:37:40.903.763 [mindspore/core/utils/file_utils.cc:253] GetRealPath] Get realpath failed, path[/tmp/ipykernel_272366/1339986826.py]\n",
      "[ERROR] CORE(272366,7f4009669740,python):2024-07-04-20:37:42.136.285 [mindspore/core/utils/file_utils.cc:253] GetRealPath] Get realpath failed, path[/tmp/ipykernel_272366/3428476077.py]\n",
      "[ERROR] CORE(272366,7f4009669740,python):2024-07-04-20:37:42.136.369 [mindspore/core/utils/file_utils.cc:253] GetRealPath] Get realpath failed, path[/tmp/ipykernel_272366/3428476077.py]\n",
      "[ERROR] CORE(272366,7f4009669740,python):2024-07-04-20:37:42.136.406 [mindspore/core/utils/file_utils.cc:253] GetRealPath] Get realpath failed, path[/tmp/ipykernel_272366/3428476077.py]\n",
      "[ERROR] CORE(272366,7f4009669740,python):2024-07-04-20:37:42.137.402 [mindspore/core/utils/file_utils.cc:253] GetRealPath] Get realpath failed, path[/tmp/ipykernel_272366/3428476077.py]\n",
      "[ERROR] CORE(272366,7f4009669740,python):2024-07-04-20:37:42.137.445 [mindspore/core/utils/file_utils.cc:253] GetRealPath] Get realpath failed, path[/tmp/ipykernel_272366/3428476077.py]\n",
      "[ERROR] CORE(272366,7f4009669740,python):2024-07-04-20:37:42.138.098 [mindspore/core/utils/file_utils.cc:253] GetRealPath] Get realpath failed, path[/tmp/ipykernel_272366/3428476077.py]\n",
      "[ERROR] CORE(272366,7f4009669740,python):2024-07-04-20:37:42.138.142 [mindspore/core/utils/file_utils.cc:253] GetRealPath] Get realpath failed, path[/tmp/ipykernel_272366/3428476077.py]\n",
      "[ERROR] CORE(272366,7f4009669740,python):2024-07-04-20:37:42.138.161 [mindspore/core/utils/file_utils.cc:253] GetRealPath] Get realpath failed, path[/tmp/ipykernel_272366/3428476077.py]\n",
      "[ERROR] CORE(272366,7f4009669740,python):2024-07-04-20:37:42.138.178 [mindspore/core/utils/file_utils.cc:253] GetRealPath] Get realpath failed, path[/tmp/ipykernel_272366/1339986826.py]\n",
      "[ERROR] CORE(272366,7f4009669740,python):2024-07-04-20:37:42.138.236 [mindspore/core/utils/file_utils.cc:253] GetRealPath] Get realpath failed, path[/tmp/ipykernel_272366/3428476077.py]\n",
      "[ERROR] CORE(272366,7f4009669740,python):2024-07-04-20:37:42.152.363 [mindspore/core/utils/file_utils.cc:253] GetRealPath] Get realpath failed, path[/tmp/ipykernel_272366/1339986826.py]\n",
      "[ERROR] CORE(272366,7f4009669740,python):2024-07-04-20:37:42.156.672 [mindspore/core/utils/file_utils.cc:253] GetRealPath] Get realpath failed, path[/tmp/ipykernel_272366/1339986826.py]\n",
      "[ERROR] CORE(272366,7f4009669740,python):2024-07-04-20:37:42.156.822 [mindspore/core/utils/file_utils.cc:253] GetRealPath] Get realpath failed, path[/tmp/ipykernel_272366/1339986826.py]\n"
     ]
    },
    {
     "name": "stdout",
     "output_type": "stream",
     "text": [
      "weight=\n",
      "(1024,  192,    1)\n",
      "70\n"
     ]
    },
    {
     "name": "stderr",
     "output_type": "stream",
     "text": [
      "[ERROR] CORE(272366,7f4009669740,python):2024-07-04-20:37:42.884.392 [mindspore/core/utils/file_utils.cc:253] GetRealPath] Get realpath failed, path[/tmp/ipykernel_272366/1339986826.py]\n",
      "[ERROR] CORE(272366,7f4009669740,python):2024-07-04-20:37:42.885.438 [mindspore/core/utils/file_utils.cc:253] GetRealPath] Get realpath failed, path[/tmp/ipykernel_272366/1339986826.py]\n",
      "[ERROR] CORE(272366,7f4009669740,python):2024-07-04-20:37:42.888.978 [mindspore/core/utils/file_utils.cc:253] GetRealPath] Get realpath failed, path[/tmp/ipykernel_272366/1339986826.py]\n",
      "[ERROR] CORE(272366,7f4009669740,python):2024-07-04-20:37:44.088.010 [mindspore/core/utils/file_utils.cc:253] GetRealPath] Get realpath failed, path[/tmp/ipykernel_272366/3428476077.py]\n",
      "[ERROR] CORE(272366,7f4009669740,python):2024-07-04-20:37:44.088.118 [mindspore/core/utils/file_utils.cc:253] GetRealPath] Get realpath failed, path[/tmp/ipykernel_272366/3428476077.py]\n",
      "[ERROR] CORE(272366,7f4009669740,python):2024-07-04-20:37:44.088.143 [mindspore/core/utils/file_utils.cc:253] GetRealPath] Get realpath failed, path[/tmp/ipykernel_272366/3428476077.py]\n",
      "[ERROR] CORE(272366,7f4009669740,python):2024-07-04-20:37:44.088.810 [mindspore/core/utils/file_utils.cc:253] GetRealPath] Get realpath failed, path[/tmp/ipykernel_272366/3428476077.py]\n",
      "[ERROR] CORE(272366,7f4009669740,python):2024-07-04-20:37:44.088.849 [mindspore/core/utils/file_utils.cc:253] GetRealPath] Get realpath failed, path[/tmp/ipykernel_272366/3428476077.py]\n",
      "[ERROR] CORE(272366,7f4009669740,python):2024-07-04-20:37:44.089.468 [mindspore/core/utils/file_utils.cc:253] GetRealPath] Get realpath failed, path[/tmp/ipykernel_272366/3428476077.py]\n",
      "[ERROR] CORE(272366,7f4009669740,python):2024-07-04-20:37:44.089.511 [mindspore/core/utils/file_utils.cc:253] GetRealPath] Get realpath failed, path[/tmp/ipykernel_272366/3428476077.py]\n",
      "[ERROR] CORE(272366,7f4009669740,python):2024-07-04-20:37:44.089.529 [mindspore/core/utils/file_utils.cc:253] GetRealPath] Get realpath failed, path[/tmp/ipykernel_272366/3428476077.py]\n",
      "[ERROR] CORE(272366,7f4009669740,python):2024-07-04-20:37:44.089.546 [mindspore/core/utils/file_utils.cc:253] GetRealPath] Get realpath failed, path[/tmp/ipykernel_272366/1339986826.py]\n",
      "[ERROR] CORE(272366,7f4009669740,python):2024-07-04-20:37:44.089.604 [mindspore/core/utils/file_utils.cc:253] GetRealPath] Get realpath failed, path[/tmp/ipykernel_272366/3428476077.py]\n",
      "[ERROR] CORE(272366,7f4009669740,python):2024-07-04-20:37:44.101.936 [mindspore/core/utils/file_utils.cc:253] GetRealPath] Get realpath failed, path[/tmp/ipykernel_272366/1339986826.py]\n",
      "[ERROR] CORE(272366,7f4009669740,python):2024-07-04-20:37:44.103.282 [mindspore/core/utils/file_utils.cc:253] GetRealPath] Get realpath failed, path[/tmp/ipykernel_272366/1339986826.py]\n",
      "[ERROR] CORE(272366,7f4009669740,python):2024-07-04-20:37:44.103.298 [mindspore/core/utils/file_utils.cc:253] GetRealPath] Get realpath failed, path[/tmp/ipykernel_272366/1339986826.py]\n"
     ]
    },
    {
     "name": "stdout",
     "output_type": "stream",
     "text": [
      "weight=\n",
      "(1024,  192,    1)\n",
      "71\n"
     ]
    },
    {
     "name": "stderr",
     "output_type": "stream",
     "text": [
      "[ERROR] CORE(272366,7f4009669740,python):2024-07-04-20:37:44.832.716 [mindspore/core/utils/file_utils.cc:253] GetRealPath] Get realpath failed, path[/tmp/ipykernel_272366/1339986826.py]\n",
      "[ERROR] CORE(272366,7f4009669740,python):2024-07-04-20:37:44.833.758 [mindspore/core/utils/file_utils.cc:253] GetRealPath] Get realpath failed, path[/tmp/ipykernel_272366/1339986826.py]\n",
      "[ERROR] CORE(272366,7f4009669740,python):2024-07-04-20:37:44.837.468 [mindspore/core/utils/file_utils.cc:253] GetRealPath] Get realpath failed, path[/tmp/ipykernel_272366/1339986826.py]\n",
      "[ERROR] CORE(272366,7f4009669740,python):2024-07-04-20:37:46.073.463 [mindspore/core/utils/file_utils.cc:253] GetRealPath] Get realpath failed, path[/tmp/ipykernel_272366/3428476077.py]\n",
      "[ERROR] CORE(272366,7f4009669740,python):2024-07-04-20:37:46.073.522 [mindspore/core/utils/file_utils.cc:253] GetRealPath] Get realpath failed, path[/tmp/ipykernel_272366/3428476077.py]\n",
      "[ERROR] CORE(272366,7f4009669740,python):2024-07-04-20:37:46.073.541 [mindspore/core/utils/file_utils.cc:253] GetRealPath] Get realpath failed, path[/tmp/ipykernel_272366/3428476077.py]\n",
      "[ERROR] CORE(272366,7f4009669740,python):2024-07-04-20:37:46.074.222 [mindspore/core/utils/file_utils.cc:253] GetRealPath] Get realpath failed, path[/tmp/ipykernel_272366/3428476077.py]\n",
      "[ERROR] CORE(272366,7f4009669740,python):2024-07-04-20:37:46.074.261 [mindspore/core/utils/file_utils.cc:253] GetRealPath] Get realpath failed, path[/tmp/ipykernel_272366/3428476077.py]\n",
      "[ERROR] CORE(272366,7f4009669740,python):2024-07-04-20:37:46.074.834 [mindspore/core/utils/file_utils.cc:253] GetRealPath] Get realpath failed, path[/tmp/ipykernel_272366/3428476077.py]\n",
      "[ERROR] CORE(272366,7f4009669740,python):2024-07-04-20:37:46.074.877 [mindspore/core/utils/file_utils.cc:253] GetRealPath] Get realpath failed, path[/tmp/ipykernel_272366/3428476077.py]\n",
      "[ERROR] CORE(272366,7f4009669740,python):2024-07-04-20:37:46.074.897 [mindspore/core/utils/file_utils.cc:253] GetRealPath] Get realpath failed, path[/tmp/ipykernel_272366/3428476077.py]\n",
      "[ERROR] CORE(272366,7f4009669740,python):2024-07-04-20:37:46.074.914 [mindspore/core/utils/file_utils.cc:253] GetRealPath] Get realpath failed, path[/tmp/ipykernel_272366/1339986826.py]\n",
      "[ERROR] CORE(272366,7f4009669740,python):2024-07-04-20:37:46.074.972 [mindspore/core/utils/file_utils.cc:253] GetRealPath] Get realpath failed, path[/tmp/ipykernel_272366/3428476077.py]\n",
      "[ERROR] CORE(272366,7f4009669740,python):2024-07-04-20:37:46.086.278 [mindspore/core/utils/file_utils.cc:253] GetRealPath] Get realpath failed, path[/tmp/ipykernel_272366/1339986826.py]\n",
      "[ERROR] CORE(272366,7f4009669740,python):2024-07-04-20:37:46.086.544 [mindspore/core/utils/file_utils.cc:253] GetRealPath] Get realpath failed, path[/tmp/ipykernel_272366/1339986826.py]\n",
      "[ERROR] CORE(272366,7f4009669740,python):2024-07-04-20:37:46.091.126 [mindspore/core/utils/file_utils.cc:253] GetRealPath] Get realpath failed, path[/tmp/ipykernel_272366/1339986826.py]\n"
     ]
    },
    {
     "name": "stdout",
     "output_type": "stream",
     "text": [
      "weight=\n",
      "(1024,  192,    1)\n",
      "72\n"
     ]
    },
    {
     "name": "stderr",
     "output_type": "stream",
     "text": [
      "[ERROR] CORE(272366,7f4009669740,python):2024-07-04-20:37:46.816.785 [mindspore/core/utils/file_utils.cc:253] GetRealPath] Get realpath failed, path[/tmp/ipykernel_272366/1339986826.py]\n",
      "[ERROR] CORE(272366,7f4009669740,python):2024-07-04-20:37:46.817.812 [mindspore/core/utils/file_utils.cc:253] GetRealPath] Get realpath failed, path[/tmp/ipykernel_272366/1339986826.py]\n",
      "[ERROR] CORE(272366,7f4009669740,python):2024-07-04-20:37:46.821.470 [mindspore/core/utils/file_utils.cc:253] GetRealPath] Get realpath failed, path[/tmp/ipykernel_272366/1339986826.py]\n",
      "[ERROR] CORE(272366,7f4009669740,python):2024-07-04-20:37:48.043.198 [mindspore/core/utils/file_utils.cc:253] GetRealPath] Get realpath failed, path[/tmp/ipykernel_272366/3428476077.py]\n",
      "[ERROR] CORE(272366,7f4009669740,python):2024-07-04-20:37:48.043.258 [mindspore/core/utils/file_utils.cc:253] GetRealPath] Get realpath failed, path[/tmp/ipykernel_272366/3428476077.py]\n",
      "[ERROR] CORE(272366,7f4009669740,python):2024-07-04-20:37:48.043.277 [mindspore/core/utils/file_utils.cc:253] GetRealPath] Get realpath failed, path[/tmp/ipykernel_272366/3428476077.py]\n",
      "[ERROR] CORE(272366,7f4009669740,python):2024-07-04-20:37:48.043.893 [mindspore/core/utils/file_utils.cc:253] GetRealPath] Get realpath failed, path[/tmp/ipykernel_272366/3428476077.py]\n",
      "[ERROR] CORE(272366,7f4009669740,python):2024-07-04-20:37:48.043.929 [mindspore/core/utils/file_utils.cc:253] GetRealPath] Get realpath failed, path[/tmp/ipykernel_272366/3428476077.py]\n",
      "[ERROR] CORE(272366,7f4009669740,python):2024-07-04-20:37:48.044.531 [mindspore/core/utils/file_utils.cc:253] GetRealPath] Get realpath failed, path[/tmp/ipykernel_272366/3428476077.py]\n",
      "[ERROR] CORE(272366,7f4009669740,python):2024-07-04-20:37:48.044.571 [mindspore/core/utils/file_utils.cc:253] GetRealPath] Get realpath failed, path[/tmp/ipykernel_272366/3428476077.py]\n",
      "[ERROR] CORE(272366,7f4009669740,python):2024-07-04-20:37:48.044.589 [mindspore/core/utils/file_utils.cc:253] GetRealPath] Get realpath failed, path[/tmp/ipykernel_272366/3428476077.py]\n",
      "[ERROR] CORE(272366,7f4009669740,python):2024-07-04-20:37:48.044.605 [mindspore/core/utils/file_utils.cc:253] GetRealPath] Get realpath failed, path[/tmp/ipykernel_272366/1339986826.py]\n",
      "[ERROR] CORE(272366,7f4009669740,python):2024-07-04-20:37:48.044.682 [mindspore/core/utils/file_utils.cc:253] GetRealPath] Get realpath failed, path[/tmp/ipykernel_272366/3428476077.py]\n",
      "[ERROR] CORE(272366,7f4009669740,python):2024-07-04-20:37:48.057.088 [mindspore/core/utils/file_utils.cc:253] GetRealPath] Get realpath failed, path[/tmp/ipykernel_272366/1339986826.py]\n",
      "[ERROR] CORE(272366,7f4009669740,python):2024-07-04-20:37:48.057.107 [mindspore/core/utils/file_utils.cc:253] GetRealPath] Get realpath failed, path[/tmp/ipykernel_272366/1339986826.py]\n",
      "[ERROR] CORE(272366,7f4009669740,python):2024-07-04-20:37:48.060.313 [mindspore/core/utils/file_utils.cc:253] GetRealPath] Get realpath failed, path[/tmp/ipykernel_272366/1339986826.py]\n"
     ]
    },
    {
     "name": "stdout",
     "output_type": "stream",
     "text": [
      "weight=\n",
      "(1024,  192,    1)\n",
      "73\n"
     ]
    },
    {
     "name": "stderr",
     "output_type": "stream",
     "text": [
      "[ERROR] CORE(272366,7f4009669740,python):2024-07-04-20:37:48.791.035 [mindspore/core/utils/file_utils.cc:253] GetRealPath] Get realpath failed, path[/tmp/ipykernel_272366/1339986826.py]\n",
      "[ERROR] CORE(272366,7f4009669740,python):2024-07-04-20:37:48.792.385 [mindspore/core/utils/file_utils.cc:253] GetRealPath] Get realpath failed, path[/tmp/ipykernel_272366/1339986826.py]\n",
      "[ERROR] CORE(272366,7f4009669740,python):2024-07-04-20:37:48.795.795 [mindspore/core/utils/file_utils.cc:253] GetRealPath] Get realpath failed, path[/tmp/ipykernel_272366/1339986826.py]\n",
      "[ERROR] CORE(272366,7f4009669740,python):2024-07-04-20:37:50.026.661 [mindspore/core/utils/file_utils.cc:253] GetRealPath] Get realpath failed, path[/tmp/ipykernel_272366/3428476077.py]\n",
      "[ERROR] CORE(272366,7f4009669740,python):2024-07-04-20:37:50.026.719 [mindspore/core/utils/file_utils.cc:253] GetRealPath] Get realpath failed, path[/tmp/ipykernel_272366/3428476077.py]\n",
      "[ERROR] CORE(272366,7f4009669740,python):2024-07-04-20:37:50.026.737 [mindspore/core/utils/file_utils.cc:253] GetRealPath] Get realpath failed, path[/tmp/ipykernel_272366/3428476077.py]\n",
      "[ERROR] CORE(272366,7f4009669740,python):2024-07-04-20:37:50.027.393 [mindspore/core/utils/file_utils.cc:253] GetRealPath] Get realpath failed, path[/tmp/ipykernel_272366/3428476077.py]\n",
      "[ERROR] CORE(272366,7f4009669740,python):2024-07-04-20:37:50.027.431 [mindspore/core/utils/file_utils.cc:253] GetRealPath] Get realpath failed, path[/tmp/ipykernel_272366/3428476077.py]\n",
      "[ERROR] CORE(272366,7f4009669740,python):2024-07-04-20:37:50.028.005 [mindspore/core/utils/file_utils.cc:253] GetRealPath] Get realpath failed, path[/tmp/ipykernel_272366/3428476077.py]\n",
      "[ERROR] CORE(272366,7f4009669740,python):2024-07-04-20:37:50.028.060 [mindspore/core/utils/file_utils.cc:253] GetRealPath] Get realpath failed, path[/tmp/ipykernel_272366/3428476077.py]\n",
      "[ERROR] CORE(272366,7f4009669740,python):2024-07-04-20:37:50.028.091 [mindspore/core/utils/file_utils.cc:253] GetRealPath] Get realpath failed, path[/tmp/ipykernel_272366/3428476077.py]\n",
      "[ERROR] CORE(272366,7f4009669740,python):2024-07-04-20:37:50.028.110 [mindspore/core/utils/file_utils.cc:253] GetRealPath] Get realpath failed, path[/tmp/ipykernel_272366/1339986826.py]\n",
      "[ERROR] CORE(272366,7f4009669740,python):2024-07-04-20:37:50.028.169 [mindspore/core/utils/file_utils.cc:253] GetRealPath] Get realpath failed, path[/tmp/ipykernel_272366/3428476077.py]\n",
      "[ERROR] CORE(272366,7f4009669740,python):2024-07-04-20:37:50.042.917 [mindspore/core/utils/file_utils.cc:253] GetRealPath] Get realpath failed, path[/tmp/ipykernel_272366/1339986826.py]\n",
      "[ERROR] CORE(272366,7f4009669740,python):2024-07-04-20:37:50.042.935 [mindspore/core/utils/file_utils.cc:253] GetRealPath] Get realpath failed, path[/tmp/ipykernel_272366/1339986826.py]\n",
      "[ERROR] CORE(272366,7f4009669740,python):2024-07-04-20:37:50.042.947 [mindspore/core/utils/file_utils.cc:253] GetRealPath] Get realpath failed, path[/tmp/ipykernel_272366/1339986826.py]\n"
     ]
    },
    {
     "name": "stdout",
     "output_type": "stream",
     "text": [
      "weight=\n",
      "(1024,  192,    1)\n",
      "74\n"
     ]
    },
    {
     "name": "stderr",
     "output_type": "stream",
     "text": [
      "[ERROR] CORE(272366,7f4009669740,python):2024-07-04-20:37:50.771.020 [mindspore/core/utils/file_utils.cc:253] GetRealPath] Get realpath failed, path[/tmp/ipykernel_272366/1339986826.py]\n",
      "[ERROR] CORE(272366,7f4009669740,python):2024-07-04-20:37:50.772.111 [mindspore/core/utils/file_utils.cc:253] GetRealPath] Get realpath failed, path[/tmp/ipykernel_272366/1339986826.py]\n",
      "[ERROR] CORE(272366,7f4009669740,python):2024-07-04-20:37:50.775.646 [mindspore/core/utils/file_utils.cc:253] GetRealPath] Get realpath failed, path[/tmp/ipykernel_272366/1339986826.py]\n",
      "[ERROR] CORE(272366,7f4009669740,python):2024-07-04-20:37:51.983.406 [mindspore/core/utils/file_utils.cc:253] GetRealPath] Get realpath failed, path[/tmp/ipykernel_272366/3428476077.py]\n",
      "[ERROR] CORE(272366,7f4009669740,python):2024-07-04-20:37:51.983.462 [mindspore/core/utils/file_utils.cc:253] GetRealPath] Get realpath failed, path[/tmp/ipykernel_272366/3428476077.py]\n",
      "[ERROR] CORE(272366,7f4009669740,python):2024-07-04-20:37:51.983.481 [mindspore/core/utils/file_utils.cc:253] GetRealPath] Get realpath failed, path[/tmp/ipykernel_272366/3428476077.py]\n",
      "[ERROR] CORE(272366,7f4009669740,python):2024-07-04-20:37:51.984.160 [mindspore/core/utils/file_utils.cc:253] GetRealPath] Get realpath failed, path[/tmp/ipykernel_272366/3428476077.py]\n",
      "[ERROR] CORE(272366,7f4009669740,python):2024-07-04-20:37:51.984.200 [mindspore/core/utils/file_utils.cc:253] GetRealPath] Get realpath failed, path[/tmp/ipykernel_272366/3428476077.py]\n",
      "[ERROR] CORE(272366,7f4009669740,python):2024-07-04-20:37:51.984.810 [mindspore/core/utils/file_utils.cc:253] GetRealPath] Get realpath failed, path[/tmp/ipykernel_272366/3428476077.py]\n",
      "[ERROR] CORE(272366,7f4009669740,python):2024-07-04-20:37:51.984.851 [mindspore/core/utils/file_utils.cc:253] GetRealPath] Get realpath failed, path[/tmp/ipykernel_272366/3428476077.py]\n",
      "[ERROR] CORE(272366,7f4009669740,python):2024-07-04-20:37:51.984.870 [mindspore/core/utils/file_utils.cc:253] GetRealPath] Get realpath failed, path[/tmp/ipykernel_272366/3428476077.py]\n",
      "[ERROR] CORE(272366,7f4009669740,python):2024-07-04-20:37:51.984.888 [mindspore/core/utils/file_utils.cc:253] GetRealPath] Get realpath failed, path[/tmp/ipykernel_272366/1339986826.py]\n",
      "[ERROR] CORE(272366,7f4009669740,python):2024-07-04-20:37:51.984.946 [mindspore/core/utils/file_utils.cc:253] GetRealPath] Get realpath failed, path[/tmp/ipykernel_272366/3428476077.py]\n",
      "[ERROR] CORE(272366,7f4009669740,python):2024-07-04-20:37:51.996.806 [mindspore/core/utils/file_utils.cc:253] GetRealPath] Get realpath failed, path[/tmp/ipykernel_272366/1339986826.py]\n",
      "[ERROR] CORE(272366,7f4009669740,python):2024-07-04-20:37:51.996.824 [mindspore/core/utils/file_utils.cc:253] GetRealPath] Get realpath failed, path[/tmp/ipykernel_272366/1339986826.py]\n",
      "[ERROR] CORE(272366,7f4009669740,python):2024-07-04-20:37:52.000.249 [mindspore/core/utils/file_utils.cc:253] GetRealPath] Get realpath failed, path[/tmp/ipykernel_272366/1339986826.py]\n"
     ]
    },
    {
     "name": "stdout",
     "output_type": "stream",
     "text": [
      "weight=\n",
      "(1024,  192,    1)\n",
      "75\n"
     ]
    },
    {
     "name": "stderr",
     "output_type": "stream",
     "text": [
      "[ERROR] CORE(272366,7f4009669740,python):2024-07-04-20:37:52.726.705 [mindspore/core/utils/file_utils.cc:253] GetRealPath] Get realpath failed, path[/tmp/ipykernel_272366/1339986826.py]\n",
      "[ERROR] CORE(272366,7f4009669740,python):2024-07-04-20:37:52.727.771 [mindspore/core/utils/file_utils.cc:253] GetRealPath] Get realpath failed, path[/tmp/ipykernel_272366/1339986826.py]\n",
      "[ERROR] CORE(272366,7f4009669740,python):2024-07-04-20:37:52.731.319 [mindspore/core/utils/file_utils.cc:253] GetRealPath] Get realpath failed, path[/tmp/ipykernel_272366/1339986826.py]\n",
      "[ERROR] CORE(272366,7f4009669740,python):2024-07-04-20:37:53.940.691 [mindspore/core/utils/file_utils.cc:253] GetRealPath] Get realpath failed, path[/tmp/ipykernel_272366/3428476077.py]\n",
      "[ERROR] CORE(272366,7f4009669740,python):2024-07-04-20:37:53.940.749 [mindspore/core/utils/file_utils.cc:253] GetRealPath] Get realpath failed, path[/tmp/ipykernel_272366/3428476077.py]\n",
      "[ERROR] CORE(272366,7f4009669740,python):2024-07-04-20:37:53.940.769 [mindspore/core/utils/file_utils.cc:253] GetRealPath] Get realpath failed, path[/tmp/ipykernel_272366/3428476077.py]\n",
      "[ERROR] CORE(272366,7f4009669740,python):2024-07-04-20:37:53.941.432 [mindspore/core/utils/file_utils.cc:253] GetRealPath] Get realpath failed, path[/tmp/ipykernel_272366/3428476077.py]\n",
      "[ERROR] CORE(272366,7f4009669740,python):2024-07-04-20:37:53.941.471 [mindspore/core/utils/file_utils.cc:253] GetRealPath] Get realpath failed, path[/tmp/ipykernel_272366/3428476077.py]\n",
      "[ERROR] CORE(272366,7f4009669740,python):2024-07-04-20:37:53.942.128 [mindspore/core/utils/file_utils.cc:253] GetRealPath] Get realpath failed, path[/tmp/ipykernel_272366/3428476077.py]\n",
      "[ERROR] CORE(272366,7f4009669740,python):2024-07-04-20:37:53.942.171 [mindspore/core/utils/file_utils.cc:253] GetRealPath] Get realpath failed, path[/tmp/ipykernel_272366/3428476077.py]\n",
      "[ERROR] CORE(272366,7f4009669740,python):2024-07-04-20:37:53.942.188 [mindspore/core/utils/file_utils.cc:253] GetRealPath] Get realpath failed, path[/tmp/ipykernel_272366/3428476077.py]\n",
      "[ERROR] CORE(272366,7f4009669740,python):2024-07-04-20:37:53.942.204 [mindspore/core/utils/file_utils.cc:253] GetRealPath] Get realpath failed, path[/tmp/ipykernel_272366/1339986826.py]\n",
      "[ERROR] CORE(272366,7f4009669740,python):2024-07-04-20:37:53.942.260 [mindspore/core/utils/file_utils.cc:253] GetRealPath] Get realpath failed, path[/tmp/ipykernel_272366/3428476077.py]\n",
      "[ERROR] CORE(272366,7f4009669740,python):2024-07-04-20:37:53.957.456 [mindspore/core/utils/file_utils.cc:253] GetRealPath] Get realpath failed, path[/tmp/ipykernel_272366/1339986826.py]\n",
      "[ERROR] CORE(272366,7f4009669740,python):2024-07-04-20:37:53.959.726 [mindspore/core/utils/file_utils.cc:253] GetRealPath] Get realpath failed, path[/tmp/ipykernel_272366/1339986826.py]\n",
      "[ERROR] CORE(272366,7f4009669740,python):2024-07-04-20:37:53.959.988 [mindspore/core/utils/file_utils.cc:253] GetRealPath] Get realpath failed, path[/tmp/ipykernel_272366/1339986826.py]\n"
     ]
    },
    {
     "name": "stdout",
     "output_type": "stream",
     "text": [
      "weight=\n",
      "(1024,  192,    1)\n",
      "76\n"
     ]
    },
    {
     "name": "stderr",
     "output_type": "stream",
     "text": [
      "[ERROR] CORE(272366,7f4009669740,python):2024-07-04-20:37:54.684.741 [mindspore/core/utils/file_utils.cc:253] GetRealPath] Get realpath failed, path[/tmp/ipykernel_272366/1339986826.py]\n",
      "[ERROR] CORE(272366,7f4009669740,python):2024-07-04-20:37:54.685.840 [mindspore/core/utils/file_utils.cc:253] GetRealPath] Get realpath failed, path[/tmp/ipykernel_272366/1339986826.py]\n",
      "[ERROR] CORE(272366,7f4009669740,python):2024-07-04-20:37:54.689.560 [mindspore/core/utils/file_utils.cc:253] GetRealPath] Get realpath failed, path[/tmp/ipykernel_272366/1339986826.py]\n",
      "[ERROR] CORE(272366,7f4009669740,python):2024-07-04-20:37:55.899.520 [mindspore/core/utils/file_utils.cc:253] GetRealPath] Get realpath failed, path[/tmp/ipykernel_272366/3428476077.py]\n",
      "[ERROR] CORE(272366,7f4009669740,python):2024-07-04-20:37:55.899.577 [mindspore/core/utils/file_utils.cc:253] GetRealPath] Get realpath failed, path[/tmp/ipykernel_272366/3428476077.py]\n",
      "[ERROR] CORE(272366,7f4009669740,python):2024-07-04-20:37:55.899.597 [mindspore/core/utils/file_utils.cc:253] GetRealPath] Get realpath failed, path[/tmp/ipykernel_272366/3428476077.py]\n",
      "[ERROR] CORE(272366,7f4009669740,python):2024-07-04-20:37:55.900.274 [mindspore/core/utils/file_utils.cc:253] GetRealPath] Get realpath failed, path[/tmp/ipykernel_272366/3428476077.py]\n",
      "[ERROR] CORE(272366,7f4009669740,python):2024-07-04-20:37:55.900.311 [mindspore/core/utils/file_utils.cc:253] GetRealPath] Get realpath failed, path[/tmp/ipykernel_272366/3428476077.py]\n",
      "[ERROR] CORE(272366,7f4009669740,python):2024-07-04-20:37:55.900.917 [mindspore/core/utils/file_utils.cc:253] GetRealPath] Get realpath failed, path[/tmp/ipykernel_272366/3428476077.py]\n",
      "[ERROR] CORE(272366,7f4009669740,python):2024-07-04-20:37:55.900.957 [mindspore/core/utils/file_utils.cc:253] GetRealPath] Get realpath failed, path[/tmp/ipykernel_272366/3428476077.py]\n",
      "[ERROR] CORE(272366,7f4009669740,python):2024-07-04-20:37:55.900.976 [mindspore/core/utils/file_utils.cc:253] GetRealPath] Get realpath failed, path[/tmp/ipykernel_272366/3428476077.py]\n",
      "[ERROR] CORE(272366,7f4009669740,python):2024-07-04-20:37:55.900.992 [mindspore/core/utils/file_utils.cc:253] GetRealPath] Get realpath failed, path[/tmp/ipykernel_272366/1339986826.py]\n",
      "[ERROR] CORE(272366,7f4009669740,python):2024-07-04-20:37:55.901.062 [mindspore/core/utils/file_utils.cc:253] GetRealPath] Get realpath failed, path[/tmp/ipykernel_272366/3428476077.py]\n",
      "[ERROR] CORE(272366,7f4009669740,python):2024-07-04-20:37:55.910.478 [mindspore/core/utils/file_utils.cc:253] GetRealPath] Get realpath failed, path[/tmp/ipykernel_272366/1339986826.py]\n",
      "[ERROR] CORE(272366,7f4009669740,python):2024-07-04-20:37:55.913.994 [mindspore/core/utils/file_utils.cc:253] GetRealPath] Get realpath failed, path[/tmp/ipykernel_272366/1339986826.py]\n",
      "[ERROR] CORE(272366,7f4009669740,python):2024-07-04-20:37:55.914.264 [mindspore/core/utils/file_utils.cc:253] GetRealPath] Get realpath failed, path[/tmp/ipykernel_272366/1339986826.py]\n"
     ]
    },
    {
     "name": "stdout",
     "output_type": "stream",
     "text": [
      "weight=\n",
      "(1024,  192,    1)\n",
      "77\n"
     ]
    },
    {
     "name": "stderr",
     "output_type": "stream",
     "text": [
      "[ERROR] CORE(272366,7f4009669740,python):2024-07-04-20:37:56.636.341 [mindspore/core/utils/file_utils.cc:253] GetRealPath] Get realpath failed, path[/tmp/ipykernel_272366/1339986826.py]\n",
      "[ERROR] CORE(272366,7f4009669740,python):2024-07-04-20:37:56.637.443 [mindspore/core/utils/file_utils.cc:253] GetRealPath] Get realpath failed, path[/tmp/ipykernel_272366/1339986826.py]\n",
      "[ERROR] CORE(272366,7f4009669740,python):2024-07-04-20:37:56.641.160 [mindspore/core/utils/file_utils.cc:253] GetRealPath] Get realpath failed, path[/tmp/ipykernel_272366/1339986826.py]\n",
      "[ERROR] CORE(272366,7f4009669740,python):2024-07-04-20:37:57.879.683 [mindspore/core/utils/file_utils.cc:253] GetRealPath] Get realpath failed, path[/tmp/ipykernel_272366/3428476077.py]\n",
      "[ERROR] CORE(272366,7f4009669740,python):2024-07-04-20:37:57.879.746 [mindspore/core/utils/file_utils.cc:253] GetRealPath] Get realpath failed, path[/tmp/ipykernel_272366/3428476077.py]\n",
      "[ERROR] CORE(272366,7f4009669740,python):2024-07-04-20:37:57.879.764 [mindspore/core/utils/file_utils.cc:253] GetRealPath] Get realpath failed, path[/tmp/ipykernel_272366/3428476077.py]\n",
      "[ERROR] CORE(272366,7f4009669740,python):2024-07-04-20:37:57.880.462 [mindspore/core/utils/file_utils.cc:253] GetRealPath] Get realpath failed, path[/tmp/ipykernel_272366/3428476077.py]\n",
      "[ERROR] CORE(272366,7f4009669740,python):2024-07-04-20:37:57.880.505 [mindspore/core/utils/file_utils.cc:253] GetRealPath] Get realpath failed, path[/tmp/ipykernel_272366/3428476077.py]\n",
      "[ERROR] CORE(272366,7f4009669740,python):2024-07-04-20:37:57.881.192 [mindspore/core/utils/file_utils.cc:253] GetRealPath] Get realpath failed, path[/tmp/ipykernel_272366/3428476077.py]\n",
      "[ERROR] CORE(272366,7f4009669740,python):2024-07-04-20:37:57.881.240 [mindspore/core/utils/file_utils.cc:253] GetRealPath] Get realpath failed, path[/tmp/ipykernel_272366/3428476077.py]\n",
      "[ERROR] CORE(272366,7f4009669740,python):2024-07-04-20:37:57.881.260 [mindspore/core/utils/file_utils.cc:253] GetRealPath] Get realpath failed, path[/tmp/ipykernel_272366/3428476077.py]\n",
      "[ERROR] CORE(272366,7f4009669740,python):2024-07-04-20:37:57.881.277 [mindspore/core/utils/file_utils.cc:253] GetRealPath] Get realpath failed, path[/tmp/ipykernel_272366/1339986826.py]\n",
      "[ERROR] CORE(272366,7f4009669740,python):2024-07-04-20:37:57.881.342 [mindspore/core/utils/file_utils.cc:253] GetRealPath] Get realpath failed, path[/tmp/ipykernel_272366/3428476077.py]\n",
      "[ERROR] CORE(272366,7f4009669740,python):2024-07-04-20:37:57.893.686 [mindspore/core/utils/file_utils.cc:253] GetRealPath] Get realpath failed, path[/tmp/ipykernel_272366/1339986826.py]\n",
      "[ERROR] CORE(272366,7f4009669740,python):2024-07-04-20:37:57.893.710 [mindspore/core/utils/file_utils.cc:253] GetRealPath] Get realpath failed, path[/tmp/ipykernel_272366/1339986826.py]\n",
      "[ERROR] CORE(272366,7f4009669740,python):2024-07-04-20:37:57.899.618 [mindspore/core/utils/file_utils.cc:253] GetRealPath] Get realpath failed, path[/tmp/ipykernel_272366/1339986826.py]\n"
     ]
    },
    {
     "name": "stdout",
     "output_type": "stream",
     "text": [
      "weight=\n",
      "(1024,  192,    1)\n",
      "78\n"
     ]
    },
    {
     "name": "stderr",
     "output_type": "stream",
     "text": [
      "[ERROR] CORE(272366,7f4009669740,python):2024-07-04-20:37:58.625.867 [mindspore/core/utils/file_utils.cc:253] GetRealPath] Get realpath failed, path[/tmp/ipykernel_272366/1339986826.py]\n",
      "[ERROR] CORE(272366,7f4009669740,python):2024-07-04-20:37:58.626.967 [mindspore/core/utils/file_utils.cc:253] GetRealPath] Get realpath failed, path[/tmp/ipykernel_272366/1339986826.py]\n",
      "[ERROR] CORE(272366,7f4009669740,python):2024-07-04-20:37:58.630.713 [mindspore/core/utils/file_utils.cc:253] GetRealPath] Get realpath failed, path[/tmp/ipykernel_272366/1339986826.py]\n",
      "[ERROR] CORE(272366,7f4009669740,python):2024-07-04-20:37:59.824.339 [mindspore/core/utils/file_utils.cc:253] GetRealPath] Get realpath failed, path[/tmp/ipykernel_272366/3428476077.py]\n",
      "[ERROR] CORE(272366,7f4009669740,python):2024-07-04-20:37:59.824.403 [mindspore/core/utils/file_utils.cc:253] GetRealPath] Get realpath failed, path[/tmp/ipykernel_272366/3428476077.py]\n",
      "[ERROR] CORE(272366,7f4009669740,python):2024-07-04-20:37:59.824.422 [mindspore/core/utils/file_utils.cc:253] GetRealPath] Get realpath failed, path[/tmp/ipykernel_272366/3428476077.py]\n",
      "[ERROR] CORE(272366,7f4009669740,python):2024-07-04-20:37:59.825.085 [mindspore/core/utils/file_utils.cc:253] GetRealPath] Get realpath failed, path[/tmp/ipykernel_272366/3428476077.py]\n",
      "[ERROR] CORE(272366,7f4009669740,python):2024-07-04-20:37:59.825.125 [mindspore/core/utils/file_utils.cc:253] GetRealPath] Get realpath failed, path[/tmp/ipykernel_272366/3428476077.py]\n",
      "[ERROR] CORE(272366,7f4009669740,python):2024-07-04-20:37:59.825.748 [mindspore/core/utils/file_utils.cc:253] GetRealPath] Get realpath failed, path[/tmp/ipykernel_272366/3428476077.py]\n",
      "[ERROR] CORE(272366,7f4009669740,python):2024-07-04-20:37:59.825.789 [mindspore/core/utils/file_utils.cc:253] GetRealPath] Get realpath failed, path[/tmp/ipykernel_272366/3428476077.py]\n",
      "[ERROR] CORE(272366,7f4009669740,python):2024-07-04-20:37:59.825.808 [mindspore/core/utils/file_utils.cc:253] GetRealPath] Get realpath failed, path[/tmp/ipykernel_272366/3428476077.py]\n",
      "[ERROR] CORE(272366,7f4009669740,python):2024-07-04-20:37:59.825.825 [mindspore/core/utils/file_utils.cc:253] GetRealPath] Get realpath failed, path[/tmp/ipykernel_272366/1339986826.py]\n",
      "[ERROR] CORE(272366,7f4009669740,python):2024-07-04-20:37:59.825.882 [mindspore/core/utils/file_utils.cc:253] GetRealPath] Get realpath failed, path[/tmp/ipykernel_272366/3428476077.py]\n",
      "[ERROR] CORE(272366,7f4009669740,python):2024-07-04-20:37:59.835.660 [mindspore/core/utils/file_utils.cc:253] GetRealPath] Get realpath failed, path[/tmp/ipykernel_272366/1339986826.py]\n",
      "[ERROR] CORE(272366,7f4009669740,python):2024-07-04-20:37:59.839.061 [mindspore/core/utils/file_utils.cc:253] GetRealPath] Get realpath failed, path[/tmp/ipykernel_272366/1339986826.py]\n",
      "[ERROR] CORE(272366,7f4009669740,python):2024-07-04-20:37:59.842.777 [mindspore/core/utils/file_utils.cc:253] GetRealPath] Get realpath failed, path[/tmp/ipykernel_272366/1339986826.py]\n"
     ]
    },
    {
     "name": "stdout",
     "output_type": "stream",
     "text": [
      "weight=\n",
      "(1024,  192,    1)\n",
      "79\n"
     ]
    },
    {
     "name": "stderr",
     "output_type": "stream",
     "text": [
      "[ERROR] CORE(272366,7f4009669740,python):2024-07-04-20:38:00.564.091 [mindspore/core/utils/file_utils.cc:253] GetRealPath] Get realpath failed, path[/tmp/ipykernel_272366/1339986826.py]\n",
      "[ERROR] CORE(272366,7f4009669740,python):2024-07-04-20:38:00.565.122 [mindspore/core/utils/file_utils.cc:253] GetRealPath] Get realpath failed, path[/tmp/ipykernel_272366/1339986826.py]\n",
      "[ERROR] CORE(272366,7f4009669740,python):2024-07-04-20:38:00.568.815 [mindspore/core/utils/file_utils.cc:253] GetRealPath] Get realpath failed, path[/tmp/ipykernel_272366/1339986826.py]\n",
      "[ERROR] CORE(272366,7f4009669740,python):2024-07-04-20:38:01.777.166 [mindspore/core/utils/file_utils.cc:253] GetRealPath] Get realpath failed, path[/tmp/ipykernel_272366/3428476077.py]\n",
      "[ERROR] CORE(272366,7f4009669740,python):2024-07-04-20:38:01.777.227 [mindspore/core/utils/file_utils.cc:253] GetRealPath] Get realpath failed, path[/tmp/ipykernel_272366/3428476077.py]\n",
      "[ERROR] CORE(272366,7f4009669740,python):2024-07-04-20:38:01.777.248 [mindspore/core/utils/file_utils.cc:253] GetRealPath] Get realpath failed, path[/tmp/ipykernel_272366/3428476077.py]\n",
      "[ERROR] CORE(272366,7f4009669740,python):2024-07-04-20:38:01.777.905 [mindspore/core/utils/file_utils.cc:253] GetRealPath] Get realpath failed, path[/tmp/ipykernel_272366/3428476077.py]\n",
      "[ERROR] CORE(272366,7f4009669740,python):2024-07-04-20:38:01.777.942 [mindspore/core/utils/file_utils.cc:253] GetRealPath] Get realpath failed, path[/tmp/ipykernel_272366/3428476077.py]\n",
      "[ERROR] CORE(272366,7f4009669740,python):2024-07-04-20:38:01.778.555 [mindspore/core/utils/file_utils.cc:253] GetRealPath] Get realpath failed, path[/tmp/ipykernel_272366/3428476077.py]\n",
      "[ERROR] CORE(272366,7f4009669740,python):2024-07-04-20:38:01.778.598 [mindspore/core/utils/file_utils.cc:253] GetRealPath] Get realpath failed, path[/tmp/ipykernel_272366/3428476077.py]\n",
      "[ERROR] CORE(272366,7f4009669740,python):2024-07-04-20:38:01.778.617 [mindspore/core/utils/file_utils.cc:253] GetRealPath] Get realpath failed, path[/tmp/ipykernel_272366/3428476077.py]\n",
      "[ERROR] CORE(272366,7f4009669740,python):2024-07-04-20:38:01.778.634 [mindspore/core/utils/file_utils.cc:253] GetRealPath] Get realpath failed, path[/tmp/ipykernel_272366/1339986826.py]\n",
      "[ERROR] CORE(272366,7f4009669740,python):2024-07-04-20:38:01.778.692 [mindspore/core/utils/file_utils.cc:253] GetRealPath] Get realpath failed, path[/tmp/ipykernel_272366/3428476077.py]\n",
      "[ERROR] CORE(272366,7f4009669740,python):2024-07-04-20:38:01.792.448 [mindspore/core/utils/file_utils.cc:253] GetRealPath] Get realpath failed, path[/tmp/ipykernel_272366/1339986826.py]\n",
      "[ERROR] CORE(272366,7f4009669740,python):2024-07-04-20:38:01.794.648 [mindspore/core/utils/file_utils.cc:253] GetRealPath] Get realpath failed, path[/tmp/ipykernel_272366/1339986826.py]\n",
      "[ERROR] CORE(272366,7f4009669740,python):2024-07-04-20:38:01.794.789 [mindspore/core/utils/file_utils.cc:253] GetRealPath] Get realpath failed, path[/tmp/ipykernel_272366/1339986826.py]\n"
     ]
    },
    {
     "name": "stdout",
     "output_type": "stream",
     "text": [
      "weight=\n",
      "(1024,  192,    1)\n",
      "80\n"
     ]
    },
    {
     "name": "stderr",
     "output_type": "stream",
     "text": [
      "[ERROR] CORE(272366,7f4009669740,python):2024-07-04-20:38:02.528.031 [mindspore/core/utils/file_utils.cc:253] GetRealPath] Get realpath failed, path[/tmp/ipykernel_272366/1339986826.py]\n",
      "[ERROR] CORE(272366,7f4009669740,python):2024-07-04-20:38:02.529.333 [mindspore/core/utils/file_utils.cc:253] GetRealPath] Get realpath failed, path[/tmp/ipykernel_272366/1339986826.py]\n",
      "[ERROR] CORE(272366,7f4009669740,python):2024-07-04-20:38:02.537.476 [mindspore/core/utils/file_utils.cc:253] GetRealPath] Get realpath failed, path[/tmp/ipykernel_272366/1339986826.py]\n",
      "[ERROR] CORE(272366,7f4009669740,python):2024-07-04-20:38:03.774.931 [mindspore/core/utils/file_utils.cc:253] GetRealPath] Get realpath failed, path[/tmp/ipykernel_272366/3428476077.py]\n",
      "[ERROR] CORE(272366,7f4009669740,python):2024-07-04-20:38:03.775.008 [mindspore/core/utils/file_utils.cc:253] GetRealPath] Get realpath failed, path[/tmp/ipykernel_272366/3428476077.py]\n",
      "[ERROR] CORE(272366,7f4009669740,python):2024-07-04-20:38:03.775.030 [mindspore/core/utils/file_utils.cc:253] GetRealPath] Get realpath failed, path[/tmp/ipykernel_272366/3428476077.py]\n",
      "[ERROR] CORE(272366,7f4009669740,python):2024-07-04-20:38:03.775.681 [mindspore/core/utils/file_utils.cc:253] GetRealPath] Get realpath failed, path[/tmp/ipykernel_272366/3428476077.py]\n",
      "[ERROR] CORE(272366,7f4009669740,python):2024-07-04-20:38:03.775.718 [mindspore/core/utils/file_utils.cc:253] GetRealPath] Get realpath failed, path[/tmp/ipykernel_272366/3428476077.py]\n",
      "[ERROR] CORE(272366,7f4009669740,python):2024-07-04-20:38:03.776.578 [mindspore/core/utils/file_utils.cc:253] GetRealPath] Get realpath failed, path[/tmp/ipykernel_272366/3428476077.py]\n",
      "[ERROR] CORE(272366,7f4009669740,python):2024-07-04-20:38:03.776.654 [mindspore/core/utils/file_utils.cc:253] GetRealPath] Get realpath failed, path[/tmp/ipykernel_272366/3428476077.py]\n",
      "[ERROR] CORE(272366,7f4009669740,python):2024-07-04-20:38:03.776.688 [mindspore/core/utils/file_utils.cc:253] GetRealPath] Get realpath failed, path[/tmp/ipykernel_272366/3428476077.py]\n",
      "[ERROR] CORE(272366,7f4009669740,python):2024-07-04-20:38:03.776.719 [mindspore/core/utils/file_utils.cc:253] GetRealPath] Get realpath failed, path[/tmp/ipykernel_272366/1339986826.py]\n",
      "[ERROR] CORE(272366,7f4009669740,python):2024-07-04-20:38:03.776.825 [mindspore/core/utils/file_utils.cc:253] GetRealPath] Get realpath failed, path[/tmp/ipykernel_272366/3428476077.py]\n",
      "[ERROR] CORE(272366,7f4009669740,python):2024-07-04-20:38:03.791.663 [mindspore/core/utils/file_utils.cc:253] GetRealPath] Get realpath failed, path[/tmp/ipykernel_272366/1339986826.py]\n",
      "[ERROR] CORE(272366,7f4009669740,python):2024-07-04-20:38:03.793.967 [mindspore/core/utils/file_utils.cc:253] GetRealPath] Get realpath failed, path[/tmp/ipykernel_272366/1339986826.py]\n",
      "[ERROR] CORE(272366,7f4009669740,python):2024-07-04-20:38:03.795.082 [mindspore/core/utils/file_utils.cc:253] GetRealPath] Get realpath failed, path[/tmp/ipykernel_272366/1339986826.py]\n"
     ]
    },
    {
     "name": "stdout",
     "output_type": "stream",
     "text": [
      "weight=\n",
      "(1024,  192,    1)\n",
      "81\n"
     ]
    },
    {
     "name": "stderr",
     "output_type": "stream",
     "text": [
      "[ERROR] CORE(272366,7f4009669740,python):2024-07-04-20:38:04.514.436 [mindspore/core/utils/file_utils.cc:253] GetRealPath] Get realpath failed, path[/tmp/ipykernel_272366/1339986826.py]\n",
      "[ERROR] CORE(272366,7f4009669740,python):2024-07-04-20:38:04.515.497 [mindspore/core/utils/file_utils.cc:253] GetRealPath] Get realpath failed, path[/tmp/ipykernel_272366/1339986826.py]\n",
      "[ERROR] CORE(272366,7f4009669740,python):2024-07-04-20:38:04.519.386 [mindspore/core/utils/file_utils.cc:253] GetRealPath] Get realpath failed, path[/tmp/ipykernel_272366/1339986826.py]\n",
      "[ERROR] CORE(272366,7f4009669740,python):2024-07-04-20:38:05.718.640 [mindspore/core/utils/file_utils.cc:253] GetRealPath] Get realpath failed, path[/tmp/ipykernel_272366/3428476077.py]\n",
      "[ERROR] CORE(272366,7f4009669740,python):2024-07-04-20:38:05.718.702 [mindspore/core/utils/file_utils.cc:253] GetRealPath] Get realpath failed, path[/tmp/ipykernel_272366/3428476077.py]\n",
      "[ERROR] CORE(272366,7f4009669740,python):2024-07-04-20:38:05.718.722 [mindspore/core/utils/file_utils.cc:253] GetRealPath] Get realpath failed, path[/tmp/ipykernel_272366/3428476077.py]\n",
      "[ERROR] CORE(272366,7f4009669740,python):2024-07-04-20:38:05.719.404 [mindspore/core/utils/file_utils.cc:253] GetRealPath] Get realpath failed, path[/tmp/ipykernel_272366/3428476077.py]\n",
      "[ERROR] CORE(272366,7f4009669740,python):2024-07-04-20:38:05.719.442 [mindspore/core/utils/file_utils.cc:253] GetRealPath] Get realpath failed, path[/tmp/ipykernel_272366/3428476077.py]\n",
      "[ERROR] CORE(272366,7f4009669740,python):2024-07-04-20:38:05.720.023 [mindspore/core/utils/file_utils.cc:253] GetRealPath] Get realpath failed, path[/tmp/ipykernel_272366/3428476077.py]\n",
      "[ERROR] CORE(272366,7f4009669740,python):2024-07-04-20:38:05.720.081 [mindspore/core/utils/file_utils.cc:253] GetRealPath] Get realpath failed, path[/tmp/ipykernel_272366/3428476077.py]\n",
      "[ERROR] CORE(272366,7f4009669740,python):2024-07-04-20:38:05.720.103 [mindspore/core/utils/file_utils.cc:253] GetRealPath] Get realpath failed, path[/tmp/ipykernel_272366/3428476077.py]\n",
      "[ERROR] CORE(272366,7f4009669740,python):2024-07-04-20:38:05.720.120 [mindspore/core/utils/file_utils.cc:253] GetRealPath] Get realpath failed, path[/tmp/ipykernel_272366/1339986826.py]\n",
      "[ERROR] CORE(272366,7f4009669740,python):2024-07-04-20:38:05.720.189 [mindspore/core/utils/file_utils.cc:253] GetRealPath] Get realpath failed, path[/tmp/ipykernel_272366/3428476077.py]\n",
      "[ERROR] CORE(272366,7f4009669740,python):2024-07-04-20:38:05.731.508 [mindspore/core/utils/file_utils.cc:253] GetRealPath] Get realpath failed, path[/tmp/ipykernel_272366/1339986826.py]\n",
      "[ERROR] CORE(272366,7f4009669740,python):2024-07-04-20:38:05.731.642 [mindspore/core/utils/file_utils.cc:253] GetRealPath] Get realpath failed, path[/tmp/ipykernel_272366/1339986826.py]\n",
      "[ERROR] CORE(272366,7f4009669740,python):2024-07-04-20:38:05.737.392 [mindspore/core/utils/file_utils.cc:253] GetRealPath] Get realpath failed, path[/tmp/ipykernel_272366/1339986826.py]\n"
     ]
    },
    {
     "name": "stdout",
     "output_type": "stream",
     "text": [
      "weight=\n",
      "(1024,  192,    1)\n",
      "82\n"
     ]
    },
    {
     "name": "stderr",
     "output_type": "stream",
     "text": [
      "[ERROR] CORE(272366,7f4009669740,python):2024-07-04-20:38:06.472.206 [mindspore/core/utils/file_utils.cc:253] GetRealPath] Get realpath failed, path[/tmp/ipykernel_272366/1339986826.py]\n",
      "[ERROR] CORE(272366,7f4009669740,python):2024-07-04-20:38:06.473.287 [mindspore/core/utils/file_utils.cc:253] GetRealPath] Get realpath failed, path[/tmp/ipykernel_272366/1339986826.py]\n",
      "[ERROR] CORE(272366,7f4009669740,python):2024-07-04-20:38:06.476.782 [mindspore/core/utils/file_utils.cc:253] GetRealPath] Get realpath failed, path[/tmp/ipykernel_272366/1339986826.py]\n",
      "[ERROR] CORE(272366,7f4009669740,python):2024-07-04-20:38:07.676.787 [mindspore/core/utils/file_utils.cc:253] GetRealPath] Get realpath failed, path[/tmp/ipykernel_272366/3428476077.py]\n",
      "[ERROR] CORE(272366,7f4009669740,python):2024-07-04-20:38:07.676.852 [mindspore/core/utils/file_utils.cc:253] GetRealPath] Get realpath failed, path[/tmp/ipykernel_272366/3428476077.py]\n",
      "[ERROR] CORE(272366,7f4009669740,python):2024-07-04-20:38:07.676.872 [mindspore/core/utils/file_utils.cc:253] GetRealPath] Get realpath failed, path[/tmp/ipykernel_272366/3428476077.py]\n",
      "[ERROR] CORE(272366,7f4009669740,python):2024-07-04-20:38:07.677.591 [mindspore/core/utils/file_utils.cc:253] GetRealPath] Get realpath failed, path[/tmp/ipykernel_272366/3428476077.py]\n",
      "[ERROR] CORE(272366,7f4009669740,python):2024-07-04-20:38:07.677.640 [mindspore/core/utils/file_utils.cc:253] GetRealPath] Get realpath failed, path[/tmp/ipykernel_272366/3428476077.py]\n",
      "[ERROR] CORE(272366,7f4009669740,python):2024-07-04-20:38:07.678.447 [mindspore/core/utils/file_utils.cc:253] GetRealPath] Get realpath failed, path[/tmp/ipykernel_272366/3428476077.py]\n",
      "[ERROR] CORE(272366,7f4009669740,python):2024-07-04-20:38:07.678.522 [mindspore/core/utils/file_utils.cc:253] GetRealPath] Get realpath failed, path[/tmp/ipykernel_272366/3428476077.py]\n",
      "[ERROR] CORE(272366,7f4009669740,python):2024-07-04-20:38:07.678.555 [mindspore/core/utils/file_utils.cc:253] GetRealPath] Get realpath failed, path[/tmp/ipykernel_272366/3428476077.py]\n",
      "[ERROR] CORE(272366,7f4009669740,python):2024-07-04-20:38:07.678.584 [mindspore/core/utils/file_utils.cc:253] GetRealPath] Get realpath failed, path[/tmp/ipykernel_272366/1339986826.py]\n",
      "[ERROR] CORE(272366,7f4009669740,python):2024-07-04-20:38:07.678.688 [mindspore/core/utils/file_utils.cc:253] GetRealPath] Get realpath failed, path[/tmp/ipykernel_272366/3428476077.py]\n",
      "[ERROR] CORE(272366,7f4009669740,python):2024-07-04-20:38:07.693.902 [mindspore/core/utils/file_utils.cc:253] GetRealPath] Get realpath failed, path[/tmp/ipykernel_272366/1339986826.py]\n",
      "[ERROR] CORE(272366,7f4009669740,python):2024-07-04-20:38:07.696.335 [mindspore/core/utils/file_utils.cc:253] GetRealPath] Get realpath failed, path[/tmp/ipykernel_272366/1339986826.py]\n",
      "[ERROR] CORE(272366,7f4009669740,python):2024-07-04-20:38:07.696.351 [mindspore/core/utils/file_utils.cc:253] GetRealPath] Get realpath failed, path[/tmp/ipykernel_272366/1339986826.py]\n"
     ]
    },
    {
     "name": "stdout",
     "output_type": "stream",
     "text": [
      "weight=\n",
      "(1024,  192,    1)\n",
      "83\n"
     ]
    },
    {
     "name": "stderr",
     "output_type": "stream",
     "text": [
      "[ERROR] CORE(272366,7f4009669740,python):2024-07-04-20:38:08.424.957 [mindspore/core/utils/file_utils.cc:253] GetRealPath] Get realpath failed, path[/tmp/ipykernel_272366/1339986826.py]\n",
      "[ERROR] CORE(272366,7f4009669740,python):2024-07-04-20:38:08.425.983 [mindspore/core/utils/file_utils.cc:253] GetRealPath] Get realpath failed, path[/tmp/ipykernel_272366/1339986826.py]\n",
      "[ERROR] CORE(272366,7f4009669740,python):2024-07-04-20:38:08.429.586 [mindspore/core/utils/file_utils.cc:253] GetRealPath] Get realpath failed, path[/tmp/ipykernel_272366/1339986826.py]\n",
      "[ERROR] CORE(272366,7f4009669740,python):2024-07-04-20:38:09.635.665 [mindspore/core/utils/file_utils.cc:253] GetRealPath] Get realpath failed, path[/tmp/ipykernel_272366/3428476077.py]\n",
      "[ERROR] CORE(272366,7f4009669740,python):2024-07-04-20:38:09.635.725 [mindspore/core/utils/file_utils.cc:253] GetRealPath] Get realpath failed, path[/tmp/ipykernel_272366/3428476077.py]\n",
      "[ERROR] CORE(272366,7f4009669740,python):2024-07-04-20:38:09.635.743 [mindspore/core/utils/file_utils.cc:253] GetRealPath] Get realpath failed, path[/tmp/ipykernel_272366/3428476077.py]\n",
      "[ERROR] CORE(272366,7f4009669740,python):2024-07-04-20:38:09.636.413 [mindspore/core/utils/file_utils.cc:253] GetRealPath] Get realpath failed, path[/tmp/ipykernel_272366/3428476077.py]\n",
      "[ERROR] CORE(272366,7f4009669740,python):2024-07-04-20:38:09.636.453 [mindspore/core/utils/file_utils.cc:253] GetRealPath] Get realpath failed, path[/tmp/ipykernel_272366/3428476077.py]\n",
      "[ERROR] CORE(272366,7f4009669740,python):2024-07-04-20:38:09.637.092 [mindspore/core/utils/file_utils.cc:253] GetRealPath] Get realpath failed, path[/tmp/ipykernel_272366/3428476077.py]\n",
      "[ERROR] CORE(272366,7f4009669740,python):2024-07-04-20:38:09.637.135 [mindspore/core/utils/file_utils.cc:253] GetRealPath] Get realpath failed, path[/tmp/ipykernel_272366/3428476077.py]\n",
      "[ERROR] CORE(272366,7f4009669740,python):2024-07-04-20:38:09.637.154 [mindspore/core/utils/file_utils.cc:253] GetRealPath] Get realpath failed, path[/tmp/ipykernel_272366/3428476077.py]\n",
      "[ERROR] CORE(272366,7f4009669740,python):2024-07-04-20:38:09.637.171 [mindspore/core/utils/file_utils.cc:253] GetRealPath] Get realpath failed, path[/tmp/ipykernel_272366/1339986826.py]\n",
      "[ERROR] CORE(272366,7f4009669740,python):2024-07-04-20:38:09.637.243 [mindspore/core/utils/file_utils.cc:253] GetRealPath] Get realpath failed, path[/tmp/ipykernel_272366/3428476077.py]\n",
      "[ERROR] CORE(272366,7f4009669740,python):2024-07-04-20:38:09.648.599 [mindspore/core/utils/file_utils.cc:253] GetRealPath] Get realpath failed, path[/tmp/ipykernel_272366/1339986826.py]\n",
      "[ERROR] CORE(272366,7f4009669740,python):2024-07-04-20:38:09.648.747 [mindspore/core/utils/file_utils.cc:253] GetRealPath] Get realpath failed, path[/tmp/ipykernel_272366/1339986826.py]\n",
      "[ERROR] CORE(272366,7f4009669740,python):2024-07-04-20:38:09.653.258 [mindspore/core/utils/file_utils.cc:253] GetRealPath] Get realpath failed, path[/tmp/ipykernel_272366/1339986826.py]\n"
     ]
    },
    {
     "name": "stdout",
     "output_type": "stream",
     "text": [
      "weight=\n",
      "(1024,  192,    1)\n",
      "84\n"
     ]
    },
    {
     "name": "stderr",
     "output_type": "stream",
     "text": [
      "[ERROR] CORE(272366,7f4009669740,python):2024-07-04-20:38:10.378.913 [mindspore/core/utils/file_utils.cc:253] GetRealPath] Get realpath failed, path[/tmp/ipykernel_272366/1339986826.py]\n",
      "[ERROR] CORE(272366,7f4009669740,python):2024-07-04-20:38:10.379.973 [mindspore/core/utils/file_utils.cc:253] GetRealPath] Get realpath failed, path[/tmp/ipykernel_272366/1339986826.py]\n",
      "[ERROR] CORE(272366,7f4009669740,python):2024-07-04-20:38:10.383.592 [mindspore/core/utils/file_utils.cc:253] GetRealPath] Get realpath failed, path[/tmp/ipykernel_272366/1339986826.py]\n",
      "[ERROR] CORE(272366,7f4009669740,python):2024-07-04-20:38:11.568.752 [mindspore/core/utils/file_utils.cc:253] GetRealPath] Get realpath failed, path[/tmp/ipykernel_272366/3428476077.py]\n",
      "[ERROR] CORE(272366,7f4009669740,python):2024-07-04-20:38:11.568.815 [mindspore/core/utils/file_utils.cc:253] GetRealPath] Get realpath failed, path[/tmp/ipykernel_272366/3428476077.py]\n",
      "[ERROR] CORE(272366,7f4009669740,python):2024-07-04-20:38:11.568.835 [mindspore/core/utils/file_utils.cc:253] GetRealPath] Get realpath failed, path[/tmp/ipykernel_272366/3428476077.py]\n",
      "[ERROR] CORE(272366,7f4009669740,python):2024-07-04-20:38:11.569.503 [mindspore/core/utils/file_utils.cc:253] GetRealPath] Get realpath failed, path[/tmp/ipykernel_272366/3428476077.py]\n",
      "[ERROR] CORE(272366,7f4009669740,python):2024-07-04-20:38:11.569.541 [mindspore/core/utils/file_utils.cc:253] GetRealPath] Get realpath failed, path[/tmp/ipykernel_272366/3428476077.py]\n",
      "[ERROR] CORE(272366,7f4009669740,python):2024-07-04-20:38:11.570.164 [mindspore/core/utils/file_utils.cc:253] GetRealPath] Get realpath failed, path[/tmp/ipykernel_272366/3428476077.py]\n",
      "[ERROR] CORE(272366,7f4009669740,python):2024-07-04-20:38:11.570.218 [mindspore/core/utils/file_utils.cc:253] GetRealPath] Get realpath failed, path[/tmp/ipykernel_272366/3428476077.py]\n",
      "[ERROR] CORE(272366,7f4009669740,python):2024-07-04-20:38:11.570.238 [mindspore/core/utils/file_utils.cc:253] GetRealPath] Get realpath failed, path[/tmp/ipykernel_272366/3428476077.py]\n",
      "[ERROR] CORE(272366,7f4009669740,python):2024-07-04-20:38:11.570.255 [mindspore/core/utils/file_utils.cc:253] GetRealPath] Get realpath failed, path[/tmp/ipykernel_272366/1339986826.py]\n",
      "[ERROR] CORE(272366,7f4009669740,python):2024-07-04-20:38:11.570.316 [mindspore/core/utils/file_utils.cc:253] GetRealPath] Get realpath failed, path[/tmp/ipykernel_272366/3428476077.py]\n",
      "[ERROR] CORE(272366,7f4009669740,python):2024-07-04-20:38:11.580.310 [mindspore/core/utils/file_utils.cc:253] GetRealPath] Get realpath failed, path[/tmp/ipykernel_272366/1339986826.py]\n",
      "[ERROR] CORE(272366,7f4009669740,python):2024-07-04-20:38:11.580.514 [mindspore/core/utils/file_utils.cc:253] GetRealPath] Get realpath failed, path[/tmp/ipykernel_272366/1339986826.py]\n",
      "[ERROR] CORE(272366,7f4009669740,python):2024-07-04-20:38:11.586.514 [mindspore/core/utils/file_utils.cc:253] GetRealPath] Get realpath failed, path[/tmp/ipykernel_272366/1339986826.py]\n"
     ]
    },
    {
     "name": "stdout",
     "output_type": "stream",
     "text": [
      "weight=\n",
      "(1024,  192,    1)\n",
      "85\n"
     ]
    },
    {
     "name": "stderr",
     "output_type": "stream",
     "text": [
      "[ERROR] CORE(272366,7f4009669740,python):2024-07-04-20:38:12.311.858 [mindspore/core/utils/file_utils.cc:253] GetRealPath] Get realpath failed, path[/tmp/ipykernel_272366/1339986826.py]\n",
      "[ERROR] CORE(272366,7f4009669740,python):2024-07-04-20:38:12.312.893 [mindspore/core/utils/file_utils.cc:253] GetRealPath] Get realpath failed, path[/tmp/ipykernel_272366/1339986826.py]\n",
      "[ERROR] CORE(272366,7f4009669740,python):2024-07-04-20:38:12.316.470 [mindspore/core/utils/file_utils.cc:253] GetRealPath] Get realpath failed, path[/tmp/ipykernel_272366/1339986826.py]\n",
      "[ERROR] CORE(272366,7f4009669740,python):2024-07-04-20:38:13.525.068 [mindspore/core/utils/file_utils.cc:253] GetRealPath] Get realpath failed, path[/tmp/ipykernel_272366/3428476077.py]\n",
      "[ERROR] CORE(272366,7f4009669740,python):2024-07-04-20:38:13.525.147 [mindspore/core/utils/file_utils.cc:253] GetRealPath] Get realpath failed, path[/tmp/ipykernel_272366/3428476077.py]\n",
      "[ERROR] CORE(272366,7f4009669740,python):2024-07-04-20:38:13.525.168 [mindspore/core/utils/file_utils.cc:253] GetRealPath] Get realpath failed, path[/tmp/ipykernel_272366/3428476077.py]\n",
      "[ERROR] CORE(272366,7f4009669740,python):2024-07-04-20:38:13.525.826 [mindspore/core/utils/file_utils.cc:253] GetRealPath] Get realpath failed, path[/tmp/ipykernel_272366/3428476077.py]\n",
      "[ERROR] CORE(272366,7f4009669740,python):2024-07-04-20:38:13.525.865 [mindspore/core/utils/file_utils.cc:253] GetRealPath] Get realpath failed, path[/tmp/ipykernel_272366/3428476077.py]\n",
      "[ERROR] CORE(272366,7f4009669740,python):2024-07-04-20:38:13.526.481 [mindspore/core/utils/file_utils.cc:253] GetRealPath] Get realpath failed, path[/tmp/ipykernel_272366/3428476077.py]\n",
      "[ERROR] CORE(272366,7f4009669740,python):2024-07-04-20:38:13.526.523 [mindspore/core/utils/file_utils.cc:253] GetRealPath] Get realpath failed, path[/tmp/ipykernel_272366/3428476077.py]\n",
      "[ERROR] CORE(272366,7f4009669740,python):2024-07-04-20:38:13.526.542 [mindspore/core/utils/file_utils.cc:253] GetRealPath] Get realpath failed, path[/tmp/ipykernel_272366/3428476077.py]\n",
      "[ERROR] CORE(272366,7f4009669740,python):2024-07-04-20:38:13.526.559 [mindspore/core/utils/file_utils.cc:253] GetRealPath] Get realpath failed, path[/tmp/ipykernel_272366/1339986826.py]\n",
      "[ERROR] CORE(272366,7f4009669740,python):2024-07-04-20:38:13.526.616 [mindspore/core/utils/file_utils.cc:253] GetRealPath] Get realpath failed, path[/tmp/ipykernel_272366/3428476077.py]\n",
      "[ERROR] CORE(272366,7f4009669740,python):2024-07-04-20:38:13.540.016 [mindspore/core/utils/file_utils.cc:253] GetRealPath] Get realpath failed, path[/tmp/ipykernel_272366/1339986826.py]\n",
      "[ERROR] CORE(272366,7f4009669740,python):2024-07-04-20:38:13.540.177 [mindspore/core/utils/file_utils.cc:253] GetRealPath] Get realpath failed, path[/tmp/ipykernel_272366/1339986826.py]\n",
      "[ERROR] CORE(272366,7f4009669740,python):2024-07-04-20:38:13.542.455 [mindspore/core/utils/file_utils.cc:253] GetRealPath] Get realpath failed, path[/tmp/ipykernel_272366/1339986826.py]\n"
     ]
    },
    {
     "name": "stdout",
     "output_type": "stream",
     "text": [
      "weight=\n",
      "(1024,  192,    1)\n",
      "86\n"
     ]
    },
    {
     "name": "stderr",
     "output_type": "stream",
     "text": [
      "[ERROR] CORE(272366,7f4009669740,python):2024-07-04-20:38:14.253.461 [mindspore/core/utils/file_utils.cc:253] GetRealPath] Get realpath failed, path[/tmp/ipykernel_272366/1339986826.py]\n",
      "[ERROR] CORE(272366,7f4009669740,python):2024-07-04-20:38:14.254.514 [mindspore/core/utils/file_utils.cc:253] GetRealPath] Get realpath failed, path[/tmp/ipykernel_272366/1339986826.py]\n",
      "[ERROR] CORE(272366,7f4009669740,python):2024-07-04-20:38:14.258.039 [mindspore/core/utils/file_utils.cc:253] GetRealPath] Get realpath failed, path[/tmp/ipykernel_272366/1339986826.py]\n",
      "[ERROR] CORE(272366,7f4009669740,python):2024-07-04-20:38:15.438.320 [mindspore/core/utils/file_utils.cc:253] GetRealPath] Get realpath failed, path[/tmp/ipykernel_272366/3428476077.py]\n",
      "[ERROR] CORE(272366,7f4009669740,python):2024-07-04-20:38:15.438.393 [mindspore/core/utils/file_utils.cc:253] GetRealPath] Get realpath failed, path[/tmp/ipykernel_272366/3428476077.py]\n",
      "[ERROR] CORE(272366,7f4009669740,python):2024-07-04-20:38:15.438.415 [mindspore/core/utils/file_utils.cc:253] GetRealPath] Get realpath failed, path[/tmp/ipykernel_272366/3428476077.py]\n",
      "[ERROR] CORE(272366,7f4009669740,python):2024-07-04-20:38:15.439.090 [mindspore/core/utils/file_utils.cc:253] GetRealPath] Get realpath failed, path[/tmp/ipykernel_272366/3428476077.py]\n",
      "[ERROR] CORE(272366,7f4009669740,python):2024-07-04-20:38:15.439.129 [mindspore/core/utils/file_utils.cc:253] GetRealPath] Get realpath failed, path[/tmp/ipykernel_272366/3428476077.py]\n",
      "[ERROR] CORE(272366,7f4009669740,python):2024-07-04-20:38:15.439.755 [mindspore/core/utils/file_utils.cc:253] GetRealPath] Get realpath failed, path[/tmp/ipykernel_272366/3428476077.py]\n",
      "[ERROR] CORE(272366,7f4009669740,python):2024-07-04-20:38:15.439.796 [mindspore/core/utils/file_utils.cc:253] GetRealPath] Get realpath failed, path[/tmp/ipykernel_272366/3428476077.py]\n",
      "[ERROR] CORE(272366,7f4009669740,python):2024-07-04-20:38:15.439.815 [mindspore/core/utils/file_utils.cc:253] GetRealPath] Get realpath failed, path[/tmp/ipykernel_272366/3428476077.py]\n",
      "[ERROR] CORE(272366,7f4009669740,python):2024-07-04-20:38:15.439.832 [mindspore/core/utils/file_utils.cc:253] GetRealPath] Get realpath failed, path[/tmp/ipykernel_272366/1339986826.py]\n",
      "[ERROR] CORE(272366,7f4009669740,python):2024-07-04-20:38:15.439.891 [mindspore/core/utils/file_utils.cc:253] GetRealPath] Get realpath failed, path[/tmp/ipykernel_272366/3428476077.py]\n",
      "[ERROR] CORE(272366,7f4009669740,python):2024-07-04-20:38:15.451.334 [mindspore/core/utils/file_utils.cc:253] GetRealPath] Get realpath failed, path[/tmp/ipykernel_272366/1339986826.py]\n",
      "[ERROR] CORE(272366,7f4009669740,python):2024-07-04-20:38:15.455.597 [mindspore/core/utils/file_utils.cc:253] GetRealPath] Get realpath failed, path[/tmp/ipykernel_272366/1339986826.py]\n",
      "[ERROR] CORE(272366,7f4009669740,python):2024-07-04-20:38:15.456.910 [mindspore/core/utils/file_utils.cc:253] GetRealPath] Get realpath failed, path[/tmp/ipykernel_272366/1339986826.py]\n"
     ]
    },
    {
     "name": "stdout",
     "output_type": "stream",
     "text": [
      "weight=\n",
      "(1024,  192,    1)\n",
      "87\n"
     ]
    },
    {
     "name": "stderr",
     "output_type": "stream",
     "text": [
      "[ERROR] CORE(272366,7f4009669740,python):2024-07-04-20:38:16.177.847 [mindspore/core/utils/file_utils.cc:253] GetRealPath] Get realpath failed, path[/tmp/ipykernel_272366/1339986826.py]\n",
      "[ERROR] CORE(272366,7f4009669740,python):2024-07-04-20:38:16.178.890 [mindspore/core/utils/file_utils.cc:253] GetRealPath] Get realpath failed, path[/tmp/ipykernel_272366/1339986826.py]\n",
      "[ERROR] CORE(272366,7f4009669740,python):2024-07-04-20:38:16.182.423 [mindspore/core/utils/file_utils.cc:253] GetRealPath] Get realpath failed, path[/tmp/ipykernel_272366/1339986826.py]\n",
      "[ERROR] CORE(272366,7f4009669740,python):2024-07-04-20:38:17.380.797 [mindspore/core/utils/file_utils.cc:253] GetRealPath] Get realpath failed, path[/tmp/ipykernel_272366/3428476077.py]\n",
      "[ERROR] CORE(272366,7f4009669740,python):2024-07-04-20:38:17.380.860 [mindspore/core/utils/file_utils.cc:253] GetRealPath] Get realpath failed, path[/tmp/ipykernel_272366/3428476077.py]\n",
      "[ERROR] CORE(272366,7f4009669740,python):2024-07-04-20:38:17.380.878 [mindspore/core/utils/file_utils.cc:253] GetRealPath] Get realpath failed, path[/tmp/ipykernel_272366/3428476077.py]\n",
      "[ERROR] CORE(272366,7f4009669740,python):2024-07-04-20:38:17.381.533 [mindspore/core/utils/file_utils.cc:253] GetRealPath] Get realpath failed, path[/tmp/ipykernel_272366/3428476077.py]\n",
      "[ERROR] CORE(272366,7f4009669740,python):2024-07-04-20:38:17.381.571 [mindspore/core/utils/file_utils.cc:253] GetRealPath] Get realpath failed, path[/tmp/ipykernel_272366/3428476077.py]\n",
      "[ERROR] CORE(272366,7f4009669740,python):2024-07-04-20:38:17.382.200 [mindspore/core/utils/file_utils.cc:253] GetRealPath] Get realpath failed, path[/tmp/ipykernel_272366/3428476077.py]\n",
      "[ERROR] CORE(272366,7f4009669740,python):2024-07-04-20:38:17.382.251 [mindspore/core/utils/file_utils.cc:253] GetRealPath] Get realpath failed, path[/tmp/ipykernel_272366/3428476077.py]\n",
      "[ERROR] CORE(272366,7f4009669740,python):2024-07-04-20:38:17.382.270 [mindspore/core/utils/file_utils.cc:253] GetRealPath] Get realpath failed, path[/tmp/ipykernel_272366/3428476077.py]\n",
      "[ERROR] CORE(272366,7f4009669740,python):2024-07-04-20:38:17.382.287 [mindspore/core/utils/file_utils.cc:253] GetRealPath] Get realpath failed, path[/tmp/ipykernel_272366/1339986826.py]\n",
      "[ERROR] CORE(272366,7f4009669740,python):2024-07-04-20:38:17.382.345 [mindspore/core/utils/file_utils.cc:253] GetRealPath] Get realpath failed, path[/tmp/ipykernel_272366/3428476077.py]\n",
      "[ERROR] CORE(272366,7f4009669740,python):2024-07-04-20:38:17.392.824 [mindspore/core/utils/file_utils.cc:253] GetRealPath] Get realpath failed, path[/tmp/ipykernel_272366/1339986826.py]\n",
      "[ERROR] CORE(272366,7f4009669740,python):2024-07-04-20:38:17.398.318 [mindspore/core/utils/file_utils.cc:253] GetRealPath] Get realpath failed, path[/tmp/ipykernel_272366/1339986826.py]\n",
      "[ERROR] CORE(272366,7f4009669740,python):2024-07-04-20:38:17.400.563 [mindspore/core/utils/file_utils.cc:253] GetRealPath] Get realpath failed, path[/tmp/ipykernel_272366/1339986826.py]\n"
     ]
    },
    {
     "name": "stdout",
     "output_type": "stream",
     "text": [
      "weight=\n",
      "(1024,  192,    1)\n",
      "88\n"
     ]
    },
    {
     "name": "stderr",
     "output_type": "stream",
     "text": [
      "[ERROR] CORE(272366,7f4009669740,python):2024-07-04-20:38:18.111.471 [mindspore/core/utils/file_utils.cc:253] GetRealPath] Get realpath failed, path[/tmp/ipykernel_272366/1339986826.py]\n",
      "[ERROR] CORE(272366,7f4009669740,python):2024-07-04-20:38:18.112.509 [mindspore/core/utils/file_utils.cc:253] GetRealPath] Get realpath failed, path[/tmp/ipykernel_272366/1339986826.py]\n",
      "[ERROR] CORE(272366,7f4009669740,python):2024-07-04-20:38:18.116.209 [mindspore/core/utils/file_utils.cc:253] GetRealPath] Get realpath failed, path[/tmp/ipykernel_272366/1339986826.py]\n",
      "[ERROR] CORE(272366,7f4009669740,python):2024-07-04-20:38:19.372.017 [mindspore/core/utils/file_utils.cc:253] GetRealPath] Get realpath failed, path[/tmp/ipykernel_272366/3428476077.py]\n",
      "[ERROR] CORE(272366,7f4009669740,python):2024-07-04-20:38:19.372.099 [mindspore/core/utils/file_utils.cc:253] GetRealPath] Get realpath failed, path[/tmp/ipykernel_272366/3428476077.py]\n",
      "[ERROR] CORE(272366,7f4009669740,python):2024-07-04-20:38:19.372.119 [mindspore/core/utils/file_utils.cc:253] GetRealPath] Get realpath failed, path[/tmp/ipykernel_272366/3428476077.py]\n",
      "[ERROR] CORE(272366,7f4009669740,python):2024-07-04-20:38:19.372.798 [mindspore/core/utils/file_utils.cc:253] GetRealPath] Get realpath failed, path[/tmp/ipykernel_272366/3428476077.py]\n",
      "[ERROR] CORE(272366,7f4009669740,python):2024-07-04-20:38:19.372.838 [mindspore/core/utils/file_utils.cc:253] GetRealPath] Get realpath failed, path[/tmp/ipykernel_272366/3428476077.py]\n",
      "[ERROR] CORE(272366,7f4009669740,python):2024-07-04-20:38:19.373.480 [mindspore/core/utils/file_utils.cc:253] GetRealPath] Get realpath failed, path[/tmp/ipykernel_272366/3428476077.py]\n",
      "[ERROR] CORE(272366,7f4009669740,python):2024-07-04-20:38:19.373.524 [mindspore/core/utils/file_utils.cc:253] GetRealPath] Get realpath failed, path[/tmp/ipykernel_272366/3428476077.py]\n",
      "[ERROR] CORE(272366,7f4009669740,python):2024-07-04-20:38:19.373.543 [mindspore/core/utils/file_utils.cc:253] GetRealPath] Get realpath failed, path[/tmp/ipykernel_272366/3428476077.py]\n",
      "[ERROR] CORE(272366,7f4009669740,python):2024-07-04-20:38:19.373.562 [mindspore/core/utils/file_utils.cc:253] GetRealPath] Get realpath failed, path[/tmp/ipykernel_272366/1339986826.py]\n",
      "[ERROR] CORE(272366,7f4009669740,python):2024-07-04-20:38:19.373.623 [mindspore/core/utils/file_utils.cc:253] GetRealPath] Get realpath failed, path[/tmp/ipykernel_272366/3428476077.py]\n",
      "[ERROR] CORE(272366,7f4009669740,python):2024-07-04-20:38:19.385.253 [mindspore/core/utils/file_utils.cc:253] GetRealPath] Get realpath failed, path[/tmp/ipykernel_272366/1339986826.py]\n",
      "[ERROR] CORE(272366,7f4009669740,python):2024-07-04-20:38:19.386.335 [mindspore/core/utils/file_utils.cc:253] GetRealPath] Get realpath failed, path[/tmp/ipykernel_272366/1339986826.py]\n",
      "[ERROR] CORE(272366,7f4009669740,python):2024-07-04-20:38:19.388.737 [mindspore/core/utils/file_utils.cc:253] GetRealPath] Get realpath failed, path[/tmp/ipykernel_272366/1339986826.py]\n"
     ]
    },
    {
     "name": "stdout",
     "output_type": "stream",
     "text": [
      "weight=\n",
      "(1024,  192,    1)\n",
      "89\n"
     ]
    },
    {
     "name": "stderr",
     "output_type": "stream",
     "text": [
      "[ERROR] CORE(272366,7f4009669740,python):2024-07-04-20:38:20.106.346 [mindspore/core/utils/file_utils.cc:253] GetRealPath] Get realpath failed, path[/tmp/ipykernel_272366/1339986826.py]\n",
      "[ERROR] CORE(272366,7f4009669740,python):2024-07-04-20:38:20.107.428 [mindspore/core/utils/file_utils.cc:253] GetRealPath] Get realpath failed, path[/tmp/ipykernel_272366/1339986826.py]\n",
      "[ERROR] CORE(272366,7f4009669740,python):2024-07-04-20:38:20.111.094 [mindspore/core/utils/file_utils.cc:253] GetRealPath] Get realpath failed, path[/tmp/ipykernel_272366/1339986826.py]\n",
      "[ERROR] CORE(272366,7f4009669740,python):2024-07-04-20:38:21.331.356 [mindspore/core/utils/file_utils.cc:253] GetRealPath] Get realpath failed, path[/tmp/ipykernel_272366/3428476077.py]\n",
      "[ERROR] CORE(272366,7f4009669740,python):2024-07-04-20:38:21.331.415 [mindspore/core/utils/file_utils.cc:253] GetRealPath] Get realpath failed, path[/tmp/ipykernel_272366/3428476077.py]\n",
      "[ERROR] CORE(272366,7f4009669740,python):2024-07-04-20:38:21.331.434 [mindspore/core/utils/file_utils.cc:253] GetRealPath] Get realpath failed, path[/tmp/ipykernel_272366/3428476077.py]\n",
      "[ERROR] CORE(272366,7f4009669740,python):2024-07-04-20:38:21.332.114 [mindspore/core/utils/file_utils.cc:253] GetRealPath] Get realpath failed, path[/tmp/ipykernel_272366/3428476077.py]\n",
      "[ERROR] CORE(272366,7f4009669740,python):2024-07-04-20:38:21.332.153 [mindspore/core/utils/file_utils.cc:253] GetRealPath] Get realpath failed, path[/tmp/ipykernel_272366/3428476077.py]\n",
      "[ERROR] CORE(272366,7f4009669740,python):2024-07-04-20:38:21.332.741 [mindspore/core/utils/file_utils.cc:253] GetRealPath] Get realpath failed, path[/tmp/ipykernel_272366/3428476077.py]\n",
      "[ERROR] CORE(272366,7f4009669740,python):2024-07-04-20:38:21.332.782 [mindspore/core/utils/file_utils.cc:253] GetRealPath] Get realpath failed, path[/tmp/ipykernel_272366/3428476077.py]\n",
      "[ERROR] CORE(272366,7f4009669740,python):2024-07-04-20:38:21.332.801 [mindspore/core/utils/file_utils.cc:253] GetRealPath] Get realpath failed, path[/tmp/ipykernel_272366/3428476077.py]\n",
      "[ERROR] CORE(272366,7f4009669740,python):2024-07-04-20:38:21.332.818 [mindspore/core/utils/file_utils.cc:253] GetRealPath] Get realpath failed, path[/tmp/ipykernel_272366/1339986826.py]\n",
      "[ERROR] CORE(272366,7f4009669740,python):2024-07-04-20:38:21.332.875 [mindspore/core/utils/file_utils.cc:253] GetRealPath] Get realpath failed, path[/tmp/ipykernel_272366/3428476077.py]\n",
      "[ERROR] CORE(272366,7f4009669740,python):2024-07-04-20:38:21.342.364 [mindspore/core/utils/file_utils.cc:253] GetRealPath] Get realpath failed, path[/tmp/ipykernel_272366/1339986826.py]\n",
      "[ERROR] CORE(272366,7f4009669740,python):2024-07-04-20:38:21.343.642 [mindspore/core/utils/file_utils.cc:253] GetRealPath] Get realpath failed, path[/tmp/ipykernel_272366/1339986826.py]\n",
      "[ERROR] CORE(272366,7f4009669740,python):2024-07-04-20:38:21.346.022 [mindspore/core/utils/file_utils.cc:253] GetRealPath] Get realpath failed, path[/tmp/ipykernel_272366/1339986826.py]\n"
     ]
    },
    {
     "name": "stdout",
     "output_type": "stream",
     "text": [
      "weight=\n",
      "(1024,  192,    1)\n",
      "90\n"
     ]
    },
    {
     "name": "stderr",
     "output_type": "stream",
     "text": [
      "[ERROR] CORE(272366,7f4009669740,python):2024-07-04-20:38:22.064.449 [mindspore/core/utils/file_utils.cc:253] GetRealPath] Get realpath failed, path[/tmp/ipykernel_272366/1339986826.py]\n",
      "[ERROR] CORE(272366,7f4009669740,python):2024-07-04-20:38:22.065.520 [mindspore/core/utils/file_utils.cc:253] GetRealPath] Get realpath failed, path[/tmp/ipykernel_272366/1339986826.py]\n",
      "[ERROR] CORE(272366,7f4009669740,python):2024-07-04-20:38:22.069.152 [mindspore/core/utils/file_utils.cc:253] GetRealPath] Get realpath failed, path[/tmp/ipykernel_272366/1339986826.py]\n",
      "[ERROR] CORE(272366,7f4009669740,python):2024-07-04-20:38:23.287.341 [mindspore/core/utils/file_utils.cc:253] GetRealPath] Get realpath failed, path[/tmp/ipykernel_272366/3428476077.py]\n",
      "[ERROR] CORE(272366,7f4009669740,python):2024-07-04-20:38:23.287.402 [mindspore/core/utils/file_utils.cc:253] GetRealPath] Get realpath failed, path[/tmp/ipykernel_272366/3428476077.py]\n",
      "[ERROR] CORE(272366,7f4009669740,python):2024-07-04-20:38:23.287.423 [mindspore/core/utils/file_utils.cc:253] GetRealPath] Get realpath failed, path[/tmp/ipykernel_272366/3428476077.py]\n",
      "[ERROR] CORE(272366,7f4009669740,python):2024-07-04-20:38:23.288.083 [mindspore/core/utils/file_utils.cc:253] GetRealPath] Get realpath failed, path[/tmp/ipykernel_272366/3428476077.py]\n",
      "[ERROR] CORE(272366,7f4009669740,python):2024-07-04-20:38:23.288.122 [mindspore/core/utils/file_utils.cc:253] GetRealPath] Get realpath failed, path[/tmp/ipykernel_272366/3428476077.py]\n",
      "[ERROR] CORE(272366,7f4009669740,python):2024-07-04-20:38:23.288.734 [mindspore/core/utils/file_utils.cc:253] GetRealPath] Get realpath failed, path[/tmp/ipykernel_272366/3428476077.py]\n",
      "[ERROR] CORE(272366,7f4009669740,python):2024-07-04-20:38:23.288.778 [mindspore/core/utils/file_utils.cc:253] GetRealPath] Get realpath failed, path[/tmp/ipykernel_272366/3428476077.py]\n",
      "[ERROR] CORE(272366,7f4009669740,python):2024-07-04-20:38:23.288.797 [mindspore/core/utils/file_utils.cc:253] GetRealPath] Get realpath failed, path[/tmp/ipykernel_272366/3428476077.py]\n",
      "[ERROR] CORE(272366,7f4009669740,python):2024-07-04-20:38:23.288.814 [mindspore/core/utils/file_utils.cc:253] GetRealPath] Get realpath failed, path[/tmp/ipykernel_272366/1339986826.py]\n",
      "[ERROR] CORE(272366,7f4009669740,python):2024-07-04-20:38:23.288.872 [mindspore/core/utils/file_utils.cc:253] GetRealPath] Get realpath failed, path[/tmp/ipykernel_272366/3428476077.py]\n",
      "[ERROR] CORE(272366,7f4009669740,python):2024-07-04-20:38:23.298.503 [mindspore/core/utils/file_utils.cc:253] GetRealPath] Get realpath failed, path[/tmp/ipykernel_272366/1339986826.py]\n",
      "[ERROR] CORE(272366,7f4009669740,python):2024-07-04-20:38:23.304.671 [mindspore/core/utils/file_utils.cc:253] GetRealPath] Get realpath failed, path[/tmp/ipykernel_272366/1339986826.py]\n",
      "[ERROR] CORE(272366,7f4009669740,python):2024-07-04-20:38:23.304.688 [mindspore/core/utils/file_utils.cc:253] GetRealPath] Get realpath failed, path[/tmp/ipykernel_272366/1339986826.py]\n"
     ]
    },
    {
     "name": "stdout",
     "output_type": "stream",
     "text": [
      "weight=\n",
      "(1024,  192,    1)\n",
      "91\n"
     ]
    },
    {
     "name": "stderr",
     "output_type": "stream",
     "text": [
      "[ERROR] CORE(272366,7f4009669740,python):2024-07-04-20:38:24.033.222 [mindspore/core/utils/file_utils.cc:253] GetRealPath] Get realpath failed, path[/tmp/ipykernel_272366/1339986826.py]\n",
      "[ERROR] CORE(272366,7f4009669740,python):2024-07-04-20:38:24.034.335 [mindspore/core/utils/file_utils.cc:253] GetRealPath] Get realpath failed, path[/tmp/ipykernel_272366/1339986826.py]\n",
      "[ERROR] CORE(272366,7f4009669740,python):2024-07-04-20:38:24.038.014 [mindspore/core/utils/file_utils.cc:253] GetRealPath] Get realpath failed, path[/tmp/ipykernel_272366/1339986826.py]\n",
      "[ERROR] CORE(272366,7f4009669740,python):2024-07-04-20:38:25.224.549 [mindspore/core/utils/file_utils.cc:253] GetRealPath] Get realpath failed, path[/tmp/ipykernel_272366/3428476077.py]\n",
      "[ERROR] CORE(272366,7f4009669740,python):2024-07-04-20:38:25.224.608 [mindspore/core/utils/file_utils.cc:253] GetRealPath] Get realpath failed, path[/tmp/ipykernel_272366/3428476077.py]\n",
      "[ERROR] CORE(272366,7f4009669740,python):2024-07-04-20:38:25.224.626 [mindspore/core/utils/file_utils.cc:253] GetRealPath] Get realpath failed, path[/tmp/ipykernel_272366/3428476077.py]\n",
      "[ERROR] CORE(272366,7f4009669740,python):2024-07-04-20:38:25.225.276 [mindspore/core/utils/file_utils.cc:253] GetRealPath] Get realpath failed, path[/tmp/ipykernel_272366/3428476077.py]\n",
      "[ERROR] CORE(272366,7f4009669740,python):2024-07-04-20:38:25.225.315 [mindspore/core/utils/file_utils.cc:253] GetRealPath] Get realpath failed, path[/tmp/ipykernel_272366/3428476077.py]\n",
      "[ERROR] CORE(272366,7f4009669740,python):2024-07-04-20:38:25.225.884 [mindspore/core/utils/file_utils.cc:253] GetRealPath] Get realpath failed, path[/tmp/ipykernel_272366/3428476077.py]\n",
      "[ERROR] CORE(272366,7f4009669740,python):2024-07-04-20:38:25.225.923 [mindspore/core/utils/file_utils.cc:253] GetRealPath] Get realpath failed, path[/tmp/ipykernel_272366/3428476077.py]\n",
      "[ERROR] CORE(272366,7f4009669740,python):2024-07-04-20:38:25.225.943 [mindspore/core/utils/file_utils.cc:253] GetRealPath] Get realpath failed, path[/tmp/ipykernel_272366/3428476077.py]\n",
      "[ERROR] CORE(272366,7f4009669740,python):2024-07-04-20:38:25.225.960 [mindspore/core/utils/file_utils.cc:253] GetRealPath] Get realpath failed, path[/tmp/ipykernel_272366/1339986826.py]\n",
      "[ERROR] CORE(272366,7f4009669740,python):2024-07-04-20:38:25.226.018 [mindspore/core/utils/file_utils.cc:253] GetRealPath] Get realpath failed, path[/tmp/ipykernel_272366/3428476077.py]\n",
      "[ERROR] CORE(272366,7f4009669740,python):2024-07-04-20:38:25.240.348 [mindspore/core/utils/file_utils.cc:253] GetRealPath] Get realpath failed, path[/tmp/ipykernel_272366/1339986826.py]\n",
      "[ERROR] CORE(272366,7f4009669740,python):2024-07-04-20:38:25.241.666 [mindspore/core/utils/file_utils.cc:253] GetRealPath] Get realpath failed, path[/tmp/ipykernel_272366/1339986826.py]\n",
      "[ERROR] CORE(272366,7f4009669740,python):2024-07-04-20:38:25.241.682 [mindspore/core/utils/file_utils.cc:253] GetRealPath] Get realpath failed, path[/tmp/ipykernel_272366/1339986826.py]\n"
     ]
    },
    {
     "name": "stdout",
     "output_type": "stream",
     "text": [
      "weight=\n",
      "(1024,  192,    1)\n",
      "92\n"
     ]
    },
    {
     "name": "stderr",
     "output_type": "stream",
     "text": [
      "[ERROR] CORE(272366,7f4009669740,python):2024-07-04-20:38:26.034.374 [mindspore/core/utils/file_utils.cc:253] GetRealPath] Get realpath failed, path[/tmp/ipykernel_272366/1339986826.py]\n",
      "[ERROR] CORE(272366,7f4009669740,python):2024-07-04-20:38:26.035.395 [mindspore/core/utils/file_utils.cc:253] GetRealPath] Get realpath failed, path[/tmp/ipykernel_272366/1339986826.py]\n",
      "[ERROR] CORE(272366,7f4009669740,python):2024-07-04-20:38:26.038.926 [mindspore/core/utils/file_utils.cc:253] GetRealPath] Get realpath failed, path[/tmp/ipykernel_272366/1339986826.py]\n",
      "[ERROR] CORE(272366,7f4009669740,python):2024-07-04-20:38:27.234.321 [mindspore/core/utils/file_utils.cc:253] GetRealPath] Get realpath failed, path[/tmp/ipykernel_272366/3428476077.py]\n",
      "[ERROR] CORE(272366,7f4009669740,python):2024-07-04-20:38:27.234.394 [mindspore/core/utils/file_utils.cc:253] GetRealPath] Get realpath failed, path[/tmp/ipykernel_272366/3428476077.py]\n",
      "[ERROR] CORE(272366,7f4009669740,python):2024-07-04-20:38:27.234.416 [mindspore/core/utils/file_utils.cc:253] GetRealPath] Get realpath failed, path[/tmp/ipykernel_272366/3428476077.py]\n",
      "[ERROR] CORE(272366,7f4009669740,python):2024-07-04-20:38:27.235.101 [mindspore/core/utils/file_utils.cc:253] GetRealPath] Get realpath failed, path[/tmp/ipykernel_272366/3428476077.py]\n",
      "[ERROR] CORE(272366,7f4009669740,python):2024-07-04-20:38:27.235.143 [mindspore/core/utils/file_utils.cc:253] GetRealPath] Get realpath failed, path[/tmp/ipykernel_272366/3428476077.py]\n",
      "[ERROR] CORE(272366,7f4009669740,python):2024-07-04-20:38:27.235.785 [mindspore/core/utils/file_utils.cc:253] GetRealPath] Get realpath failed, path[/tmp/ipykernel_272366/3428476077.py]\n",
      "[ERROR] CORE(272366,7f4009669740,python):2024-07-04-20:38:27.235.828 [mindspore/core/utils/file_utils.cc:253] GetRealPath] Get realpath failed, path[/tmp/ipykernel_272366/3428476077.py]\n",
      "[ERROR] CORE(272366,7f4009669740,python):2024-07-04-20:38:27.235.847 [mindspore/core/utils/file_utils.cc:253] GetRealPath] Get realpath failed, path[/tmp/ipykernel_272366/3428476077.py]\n",
      "[ERROR] CORE(272366,7f4009669740,python):2024-07-04-20:38:27.235.864 [mindspore/core/utils/file_utils.cc:253] GetRealPath] Get realpath failed, path[/tmp/ipykernel_272366/1339986826.py]\n",
      "[ERROR] CORE(272366,7f4009669740,python):2024-07-04-20:38:27.235.922 [mindspore/core/utils/file_utils.cc:253] GetRealPath] Get realpath failed, path[/tmp/ipykernel_272366/3428476077.py]\n",
      "[ERROR] CORE(272366,7f4009669740,python):2024-07-04-20:38:27.250.375 [mindspore/core/utils/file_utils.cc:253] GetRealPath] Get realpath failed, path[/tmp/ipykernel_272366/1339986826.py]\n",
      "[ERROR] CORE(272366,7f4009669740,python):2024-07-04-20:38:27.250.396 [mindspore/core/utils/file_utils.cc:253] GetRealPath] Get realpath failed, path[/tmp/ipykernel_272366/1339986826.py]\n",
      "[ERROR] CORE(272366,7f4009669740,python):2024-07-04-20:38:27.251.772 [mindspore/core/utils/file_utils.cc:253] GetRealPath] Get realpath failed, path[/tmp/ipykernel_272366/1339986826.py]\n"
     ]
    },
    {
     "name": "stdout",
     "output_type": "stream",
     "text": [
      "weight=\n",
      "(1024,  192,    1)\n",
      "93\n"
     ]
    },
    {
     "name": "stderr",
     "output_type": "stream",
     "text": [
      "[ERROR] CORE(272366,7f4009669740,python):2024-07-04-20:38:27.994.947 [mindspore/core/utils/file_utils.cc:253] GetRealPath] Get realpath failed, path[/tmp/ipykernel_272366/1339986826.py]\n",
      "[ERROR] CORE(272366,7f4009669740,python):2024-07-04-20:38:27.995.997 [mindspore/core/utils/file_utils.cc:253] GetRealPath] Get realpath failed, path[/tmp/ipykernel_272366/1339986826.py]\n",
      "[ERROR] CORE(272366,7f4009669740,python):2024-07-04-20:38:27.999.656 [mindspore/core/utils/file_utils.cc:253] GetRealPath] Get realpath failed, path[/tmp/ipykernel_272366/1339986826.py]\n",
      "[ERROR] CORE(272366,7f4009669740,python):2024-07-04-20:38:29.199.797 [mindspore/core/utils/file_utils.cc:253] GetRealPath] Get realpath failed, path[/tmp/ipykernel_272366/3428476077.py]\n",
      "[ERROR] CORE(272366,7f4009669740,python):2024-07-04-20:38:29.199.859 [mindspore/core/utils/file_utils.cc:253] GetRealPath] Get realpath failed, path[/tmp/ipykernel_272366/3428476077.py]\n",
      "[ERROR] CORE(272366,7f4009669740,python):2024-07-04-20:38:29.199.879 [mindspore/core/utils/file_utils.cc:253] GetRealPath] Get realpath failed, path[/tmp/ipykernel_272366/3428476077.py]\n",
      "[ERROR] CORE(272366,7f4009669740,python):2024-07-04-20:38:29.200.545 [mindspore/core/utils/file_utils.cc:253] GetRealPath] Get realpath failed, path[/tmp/ipykernel_272366/3428476077.py]\n",
      "[ERROR] CORE(272366,7f4009669740,python):2024-07-04-20:38:29.200.582 [mindspore/core/utils/file_utils.cc:253] GetRealPath] Get realpath failed, path[/tmp/ipykernel_272366/3428476077.py]\n",
      "[ERROR] CORE(272366,7f4009669740,python):2024-07-04-20:38:29.201.218 [mindspore/core/utils/file_utils.cc:253] GetRealPath] Get realpath failed, path[/tmp/ipykernel_272366/3428476077.py]\n",
      "[ERROR] CORE(272366,7f4009669740,python):2024-07-04-20:38:29.201.262 [mindspore/core/utils/file_utils.cc:253] GetRealPath] Get realpath failed, path[/tmp/ipykernel_272366/3428476077.py]\n",
      "[ERROR] CORE(272366,7f4009669740,python):2024-07-04-20:38:29.201.292 [mindspore/core/utils/file_utils.cc:253] GetRealPath] Get realpath failed, path[/tmp/ipykernel_272366/3428476077.py]\n",
      "[ERROR] CORE(272366,7f4009669740,python):2024-07-04-20:38:29.201.309 [mindspore/core/utils/file_utils.cc:253] GetRealPath] Get realpath failed, path[/tmp/ipykernel_272366/1339986826.py]\n",
      "[ERROR] CORE(272366,7f4009669740,python):2024-07-04-20:38:29.201.370 [mindspore/core/utils/file_utils.cc:253] GetRealPath] Get realpath failed, path[/tmp/ipykernel_272366/3428476077.py]\n",
      "[ERROR] CORE(272366,7f4009669740,python):2024-07-04-20:38:29.211.605 [mindspore/core/utils/file_utils.cc:253] GetRealPath] Get realpath failed, path[/tmp/ipykernel_272366/1339986826.py]\n",
      "[ERROR] CORE(272366,7f4009669740,python):2024-07-04-20:38:29.214.485 [mindspore/core/utils/file_utils.cc:253] GetRealPath] Get realpath failed, path[/tmp/ipykernel_272366/1339986826.py]\n",
      "[ERROR] CORE(272366,7f4009669740,python):2024-07-04-20:38:29.217.829 [mindspore/core/utils/file_utils.cc:253] GetRealPath] Get realpath failed, path[/tmp/ipykernel_272366/1339986826.py]\n"
     ]
    },
    {
     "name": "stdout",
     "output_type": "stream",
     "text": [
      "weight=\n",
      "(1024,  192,    1)\n",
      "94\n"
     ]
    },
    {
     "name": "stderr",
     "output_type": "stream",
     "text": [
      "[ERROR] CORE(272366,7f4009669740,python):2024-07-04-20:38:29.932.394 [mindspore/core/utils/file_utils.cc:253] GetRealPath] Get realpath failed, path[/tmp/ipykernel_272366/1339986826.py]\n",
      "[ERROR] CORE(272366,7f4009669740,python):2024-07-04-20:38:29.933.478 [mindspore/core/utils/file_utils.cc:253] GetRealPath] Get realpath failed, path[/tmp/ipykernel_272366/1339986826.py]\n",
      "[ERROR] CORE(272366,7f4009669740,python):2024-07-04-20:38:29.937.037 [mindspore/core/utils/file_utils.cc:253] GetRealPath] Get realpath failed, path[/tmp/ipykernel_272366/1339986826.py]\n",
      "[ERROR] CORE(272366,7f4009669740,python):2024-07-04-20:38:31.260.946 [mindspore/core/utils/file_utils.cc:253] GetRealPath] Get realpath failed, path[/tmp/ipykernel_272366/3428476077.py]\n",
      "[ERROR] CORE(272366,7f4009669740,python):2024-07-04-20:38:31.261.022 [mindspore/core/utils/file_utils.cc:253] GetRealPath] Get realpath failed, path[/tmp/ipykernel_272366/3428476077.py]\n",
      "[ERROR] CORE(272366,7f4009669740,python):2024-07-04-20:38:31.261.044 [mindspore/core/utils/file_utils.cc:253] GetRealPath] Get realpath failed, path[/tmp/ipykernel_272366/3428476077.py]\n",
      "[ERROR] CORE(272366,7f4009669740,python):2024-07-04-20:38:31.261.702 [mindspore/core/utils/file_utils.cc:253] GetRealPath] Get realpath failed, path[/tmp/ipykernel_272366/3428476077.py]\n",
      "[ERROR] CORE(272366,7f4009669740,python):2024-07-04-20:38:31.261.739 [mindspore/core/utils/file_utils.cc:253] GetRealPath] Get realpath failed, path[/tmp/ipykernel_272366/3428476077.py]\n",
      "[ERROR] CORE(272366,7f4009669740,python):2024-07-04-20:38:31.262.424 [mindspore/core/utils/file_utils.cc:253] GetRealPath] Get realpath failed, path[/tmp/ipykernel_272366/3428476077.py]\n",
      "[ERROR] CORE(272366,7f4009669740,python):2024-07-04-20:38:31.262.468 [mindspore/core/utils/file_utils.cc:253] GetRealPath] Get realpath failed, path[/tmp/ipykernel_272366/3428476077.py]\n",
      "[ERROR] CORE(272366,7f4009669740,python):2024-07-04-20:38:31.262.488 [mindspore/core/utils/file_utils.cc:253] GetRealPath] Get realpath failed, path[/tmp/ipykernel_272366/3428476077.py]\n",
      "[ERROR] CORE(272366,7f4009669740,python):2024-07-04-20:38:31.262.506 [mindspore/core/utils/file_utils.cc:253] GetRealPath] Get realpath failed, path[/tmp/ipykernel_272366/1339986826.py]\n",
      "[ERROR] CORE(272366,7f4009669740,python):2024-07-04-20:38:31.262.564 [mindspore/core/utils/file_utils.cc:253] GetRealPath] Get realpath failed, path[/tmp/ipykernel_272366/3428476077.py]\n",
      "[ERROR] CORE(272366,7f4009669740,python):2024-07-04-20:38:31.272.881 [mindspore/core/utils/file_utils.cc:253] GetRealPath] Get realpath failed, path[/tmp/ipykernel_272366/1339986826.py]\n",
      "[ERROR] CORE(272366,7f4009669740,python):2024-07-04-20:38:31.280.136 [mindspore/core/utils/file_utils.cc:253] GetRealPath] Get realpath failed, path[/tmp/ipykernel_272366/1339986826.py]\n",
      "[ERROR] CORE(272366,7f4009669740,python):2024-07-04-20:38:31.280.152 [mindspore/core/utils/file_utils.cc:253] GetRealPath] Get realpath failed, path[/tmp/ipykernel_272366/1339986826.py]\n"
     ]
    },
    {
     "name": "stdout",
     "output_type": "stream",
     "text": [
      "weight=\n",
      "(1024,  192,    1)\n",
      "95\n"
     ]
    },
    {
     "name": "stderr",
     "output_type": "stream",
     "text": [
      "[ERROR] CORE(272366,7f4009669740,python):2024-07-04-20:38:32.002.874 [mindspore/core/utils/file_utils.cc:253] GetRealPath] Get realpath failed, path[/tmp/ipykernel_272366/1339986826.py]\n",
      "[ERROR] CORE(272366,7f4009669740,python):2024-07-04-20:38:32.003.939 [mindspore/core/utils/file_utils.cc:253] GetRealPath] Get realpath failed, path[/tmp/ipykernel_272366/1339986826.py]\n",
      "[ERROR] CORE(272366,7f4009669740,python):2024-07-04-20:38:32.007.550 [mindspore/core/utils/file_utils.cc:253] GetRealPath] Get realpath failed, path[/tmp/ipykernel_272366/1339986826.py]\n",
      "[ERROR] CORE(272366,7f4009669740,python):2024-07-04-20:38:33.223.462 [mindspore/core/utils/file_utils.cc:253] GetRealPath] Get realpath failed, path[/tmp/ipykernel_272366/3428476077.py]\n",
      "[ERROR] CORE(272366,7f4009669740,python):2024-07-04-20:38:33.223.520 [mindspore/core/utils/file_utils.cc:253] GetRealPath] Get realpath failed, path[/tmp/ipykernel_272366/3428476077.py]\n",
      "[ERROR] CORE(272366,7f4009669740,python):2024-07-04-20:38:33.223.541 [mindspore/core/utils/file_utils.cc:253] GetRealPath] Get realpath failed, path[/tmp/ipykernel_272366/3428476077.py]\n",
      "[ERROR] CORE(272366,7f4009669740,python):2024-07-04-20:38:33.224.229 [mindspore/core/utils/file_utils.cc:253] GetRealPath] Get realpath failed, path[/tmp/ipykernel_272366/3428476077.py]\n",
      "[ERROR] CORE(272366,7f4009669740,python):2024-07-04-20:38:33.224.269 [mindspore/core/utils/file_utils.cc:253] GetRealPath] Get realpath failed, path[/tmp/ipykernel_272366/3428476077.py]\n",
      "[ERROR] CORE(272366,7f4009669740,python):2024-07-04-20:38:33.224.890 [mindspore/core/utils/file_utils.cc:253] GetRealPath] Get realpath failed, path[/tmp/ipykernel_272366/3428476077.py]\n",
      "[ERROR] CORE(272366,7f4009669740,python):2024-07-04-20:38:33.224.931 [mindspore/core/utils/file_utils.cc:253] GetRealPath] Get realpath failed, path[/tmp/ipykernel_272366/3428476077.py]\n",
      "[ERROR] CORE(272366,7f4009669740,python):2024-07-04-20:38:33.224.949 [mindspore/core/utils/file_utils.cc:253] GetRealPath] Get realpath failed, path[/tmp/ipykernel_272366/3428476077.py]\n",
      "[ERROR] CORE(272366,7f4009669740,python):2024-07-04-20:38:33.224.966 [mindspore/core/utils/file_utils.cc:253] GetRealPath] Get realpath failed, path[/tmp/ipykernel_272366/1339986826.py]\n",
      "[ERROR] CORE(272366,7f4009669740,python):2024-07-04-20:38:33.225.024 [mindspore/core/utils/file_utils.cc:253] GetRealPath] Get realpath failed, path[/tmp/ipykernel_272366/3428476077.py]\n",
      "[ERROR] CORE(272366,7f4009669740,python):2024-07-04-20:38:33.239.812 [mindspore/core/utils/file_utils.cc:253] GetRealPath] Get realpath failed, path[/tmp/ipykernel_272366/1339986826.py]\n",
      "[ERROR] CORE(272366,7f4009669740,python):2024-07-04-20:38:33.239.830 [mindspore/core/utils/file_utils.cc:253] GetRealPath] Get realpath failed, path[/tmp/ipykernel_272366/1339986826.py]\n",
      "[ERROR] CORE(272366,7f4009669740,python):2024-07-04-20:38:33.241.986 [mindspore/core/utils/file_utils.cc:253] GetRealPath] Get realpath failed, path[/tmp/ipykernel_272366/1339986826.py]\n"
     ]
    },
    {
     "name": "stdout",
     "output_type": "stream",
     "text": [
      "weight=\n",
      "(1024,  192,    1)\n",
      "96\n"
     ]
    },
    {
     "name": "stderr",
     "output_type": "stream",
     "text": [
      "[ERROR] CORE(272366,7f4009669740,python):2024-07-04-20:38:33.966.882 [mindspore/core/utils/file_utils.cc:253] GetRealPath] Get realpath failed, path[/tmp/ipykernel_272366/1339986826.py]\n",
      "[ERROR] CORE(272366,7f4009669740,python):2024-07-04-20:38:33.967.912 [mindspore/core/utils/file_utils.cc:253] GetRealPath] Get realpath failed, path[/tmp/ipykernel_272366/1339986826.py]\n",
      "[ERROR] CORE(272366,7f4009669740,python):2024-07-04-20:38:33.971.514 [mindspore/core/utils/file_utils.cc:253] GetRealPath] Get realpath failed, path[/tmp/ipykernel_272366/1339986826.py]\n",
      "[ERROR] CORE(272366,7f4009669740,python):2024-07-04-20:38:35.170.832 [mindspore/core/utils/file_utils.cc:253] GetRealPath] Get realpath failed, path[/tmp/ipykernel_272366/3428476077.py]\n",
      "[ERROR] CORE(272366,7f4009669740,python):2024-07-04-20:38:35.170.906 [mindspore/core/utils/file_utils.cc:253] GetRealPath] Get realpath failed, path[/tmp/ipykernel_272366/3428476077.py]\n",
      "[ERROR] CORE(272366,7f4009669740,python):2024-07-04-20:38:35.170.927 [mindspore/core/utils/file_utils.cc:253] GetRealPath] Get realpath failed, path[/tmp/ipykernel_272366/3428476077.py]\n",
      "[ERROR] CORE(272366,7f4009669740,python):2024-07-04-20:38:35.171.593 [mindspore/core/utils/file_utils.cc:253] GetRealPath] Get realpath failed, path[/tmp/ipykernel_272366/3428476077.py]\n",
      "[ERROR] CORE(272366,7f4009669740,python):2024-07-04-20:38:35.171.634 [mindspore/core/utils/file_utils.cc:253] GetRealPath] Get realpath failed, path[/tmp/ipykernel_272366/3428476077.py]\n",
      "[ERROR] CORE(272366,7f4009669740,python):2024-07-04-20:38:35.172.261 [mindspore/core/utils/file_utils.cc:253] GetRealPath] Get realpath failed, path[/tmp/ipykernel_272366/3428476077.py]\n",
      "[ERROR] CORE(272366,7f4009669740,python):2024-07-04-20:38:35.172.313 [mindspore/core/utils/file_utils.cc:253] GetRealPath] Get realpath failed, path[/tmp/ipykernel_272366/3428476077.py]\n",
      "[ERROR] CORE(272366,7f4009669740,python):2024-07-04-20:38:35.172.333 [mindspore/core/utils/file_utils.cc:253] GetRealPath] Get realpath failed, path[/tmp/ipykernel_272366/3428476077.py]\n",
      "[ERROR] CORE(272366,7f4009669740,python):2024-07-04-20:38:35.172.351 [mindspore/core/utils/file_utils.cc:253] GetRealPath] Get realpath failed, path[/tmp/ipykernel_272366/1339986826.py]\n",
      "[ERROR] CORE(272366,7f4009669740,python):2024-07-04-20:38:35.172.409 [mindspore/core/utils/file_utils.cc:253] GetRealPath] Get realpath failed, path[/tmp/ipykernel_272366/3428476077.py]\n",
      "[ERROR] CORE(272366,7f4009669740,python):2024-07-04-20:38:35.182.153 [mindspore/core/utils/file_utils.cc:253] GetRealPath] Get realpath failed, path[/tmp/ipykernel_272366/1339986826.py]\n",
      "[ERROR] CORE(272366,7f4009669740,python):2024-07-04-20:38:35.182.174 [mindspore/core/utils/file_utils.cc:253] GetRealPath] Get realpath failed, path[/tmp/ipykernel_272366/1339986826.py]\n",
      "[ERROR] CORE(272366,7f4009669740,python):2024-07-04-20:38:35.189.557 [mindspore/core/utils/file_utils.cc:253] GetRealPath] Get realpath failed, path[/tmp/ipykernel_272366/1339986826.py]\n"
     ]
    },
    {
     "name": "stdout",
     "output_type": "stream",
     "text": [
      "weight=\n",
      "(1024,  192,    1)\n",
      "97\n"
     ]
    },
    {
     "name": "stderr",
     "output_type": "stream",
     "text": [
      "[ERROR] CORE(272366,7f4009669740,python):2024-07-04-20:38:35.906.819 [mindspore/core/utils/file_utils.cc:253] GetRealPath] Get realpath failed, path[/tmp/ipykernel_272366/1339986826.py]\n",
      "[ERROR] CORE(272366,7f4009669740,python):2024-07-04-20:38:35.907.946 [mindspore/core/utils/file_utils.cc:253] GetRealPath] Get realpath failed, path[/tmp/ipykernel_272366/1339986826.py]\n",
      "[ERROR] CORE(272366,7f4009669740,python):2024-07-04-20:38:35.911.568 [mindspore/core/utils/file_utils.cc:253] GetRealPath] Get realpath failed, path[/tmp/ipykernel_272366/1339986826.py]\n",
      "[ERROR] CORE(272366,7f4009669740,python):2024-07-04-20:38:37.157.340 [mindspore/core/utils/file_utils.cc:253] GetRealPath] Get realpath failed, path[/tmp/ipykernel_272366/3428476077.py]\n",
      "[ERROR] CORE(272366,7f4009669740,python):2024-07-04-20:38:37.157.398 [mindspore/core/utils/file_utils.cc:253] GetRealPath] Get realpath failed, path[/tmp/ipykernel_272366/3428476077.py]\n",
      "[ERROR] CORE(272366,7f4009669740,python):2024-07-04-20:38:37.157.416 [mindspore/core/utils/file_utils.cc:253] GetRealPath] Get realpath failed, path[/tmp/ipykernel_272366/3428476077.py]\n",
      "[ERROR] CORE(272366,7f4009669740,python):2024-07-04-20:38:37.158.104 [mindspore/core/utils/file_utils.cc:253] GetRealPath] Get realpath failed, path[/tmp/ipykernel_272366/3428476077.py]\n",
      "[ERROR] CORE(272366,7f4009669740,python):2024-07-04-20:38:37.158.145 [mindspore/core/utils/file_utils.cc:253] GetRealPath] Get realpath failed, path[/tmp/ipykernel_272366/3428476077.py]\n",
      "[ERROR] CORE(272366,7f4009669740,python):2024-07-04-20:38:37.158.740 [mindspore/core/utils/file_utils.cc:253] GetRealPath] Get realpath failed, path[/tmp/ipykernel_272366/3428476077.py]\n",
      "[ERROR] CORE(272366,7f4009669740,python):2024-07-04-20:38:37.158.782 [mindspore/core/utils/file_utils.cc:253] GetRealPath] Get realpath failed, path[/tmp/ipykernel_272366/3428476077.py]\n",
      "[ERROR] CORE(272366,7f4009669740,python):2024-07-04-20:38:37.158.801 [mindspore/core/utils/file_utils.cc:253] GetRealPath] Get realpath failed, path[/tmp/ipykernel_272366/3428476077.py]\n",
      "[ERROR] CORE(272366,7f4009669740,python):2024-07-04-20:38:37.158.818 [mindspore/core/utils/file_utils.cc:253] GetRealPath] Get realpath failed, path[/tmp/ipykernel_272366/1339986826.py]\n",
      "[ERROR] CORE(272366,7f4009669740,python):2024-07-04-20:38:37.158.877 [mindspore/core/utils/file_utils.cc:253] GetRealPath] Get realpath failed, path[/tmp/ipykernel_272366/3428476077.py]\n",
      "[ERROR] CORE(272366,7f4009669740,python):2024-07-04-20:38:37.168.712 [mindspore/core/utils/file_utils.cc:253] GetRealPath] Get realpath failed, path[/tmp/ipykernel_272366/1339986826.py]\n",
      "[ERROR] CORE(272366,7f4009669740,python):2024-07-04-20:38:37.168.730 [mindspore/core/utils/file_utils.cc:253] GetRealPath] Get realpath failed, path[/tmp/ipykernel_272366/1339986826.py]\n",
      "[ERROR] CORE(272366,7f4009669740,python):2024-07-04-20:38:37.173.806 [mindspore/core/utils/file_utils.cc:253] GetRealPath] Get realpath failed, path[/tmp/ipykernel_272366/1339986826.py]\n"
     ]
    },
    {
     "name": "stdout",
     "output_type": "stream",
     "text": [
      "weight=\n",
      "(1024,  192,    1)\n",
      "98\n"
     ]
    },
    {
     "name": "stderr",
     "output_type": "stream",
     "text": [
      "[ERROR] CORE(272366,7f4009669740,python):2024-07-04-20:38:37.895.387 [mindspore/core/utils/file_utils.cc:253] GetRealPath] Get realpath failed, path[/tmp/ipykernel_272366/1339986826.py]\n",
      "[ERROR] CORE(272366,7f4009669740,python):2024-07-04-20:38:37.896.431 [mindspore/core/utils/file_utils.cc:253] GetRealPath] Get realpath failed, path[/tmp/ipykernel_272366/1339986826.py]\n",
      "[ERROR] CORE(272366,7f4009669740,python):2024-07-04-20:38:37.900.254 [mindspore/core/utils/file_utils.cc:253] GetRealPath] Get realpath failed, path[/tmp/ipykernel_272366/1339986826.py]\n",
      "[ERROR] CORE(272366,7f4009669740,python):2024-07-04-20:38:39.124.820 [mindspore/core/utils/file_utils.cc:253] GetRealPath] Get realpath failed, path[/tmp/ipykernel_272366/3428476077.py]\n",
      "[ERROR] CORE(272366,7f4009669740,python):2024-07-04-20:38:39.124.879 [mindspore/core/utils/file_utils.cc:253] GetRealPath] Get realpath failed, path[/tmp/ipykernel_272366/3428476077.py]\n",
      "[ERROR] CORE(272366,7f4009669740,python):2024-07-04-20:38:39.124.899 [mindspore/core/utils/file_utils.cc:253] GetRealPath] Get realpath failed, path[/tmp/ipykernel_272366/3428476077.py]\n",
      "[ERROR] CORE(272366,7f4009669740,python):2024-07-04-20:38:39.125.572 [mindspore/core/utils/file_utils.cc:253] GetRealPath] Get realpath failed, path[/tmp/ipykernel_272366/3428476077.py]\n",
      "[ERROR] CORE(272366,7f4009669740,python):2024-07-04-20:38:39.125.611 [mindspore/core/utils/file_utils.cc:253] GetRealPath] Get realpath failed, path[/tmp/ipykernel_272366/3428476077.py]\n",
      "[ERROR] CORE(272366,7f4009669740,python):2024-07-04-20:38:39.126.237 [mindspore/core/utils/file_utils.cc:253] GetRealPath] Get realpath failed, path[/tmp/ipykernel_272366/3428476077.py]\n",
      "[ERROR] CORE(272366,7f4009669740,python):2024-07-04-20:38:39.126.279 [mindspore/core/utils/file_utils.cc:253] GetRealPath] Get realpath failed, path[/tmp/ipykernel_272366/3428476077.py]\n",
      "[ERROR] CORE(272366,7f4009669740,python):2024-07-04-20:38:39.126.297 [mindspore/core/utils/file_utils.cc:253] GetRealPath] Get realpath failed, path[/tmp/ipykernel_272366/3428476077.py]\n",
      "[ERROR] CORE(272366,7f4009669740,python):2024-07-04-20:38:39.126.323 [mindspore/core/utils/file_utils.cc:253] GetRealPath] Get realpath failed, path[/tmp/ipykernel_272366/1339986826.py]\n",
      "[ERROR] CORE(272366,7f4009669740,python):2024-07-04-20:38:39.126.382 [mindspore/core/utils/file_utils.cc:253] GetRealPath] Get realpath failed, path[/tmp/ipykernel_272366/3428476077.py]\n",
      "[ERROR] CORE(272366,7f4009669740,python):2024-07-04-20:38:39.138.195 [mindspore/core/utils/file_utils.cc:253] GetRealPath] Get realpath failed, path[/tmp/ipykernel_272366/1339986826.py]\n",
      "[ERROR] CORE(272366,7f4009669740,python):2024-07-04-20:38:39.141.186 [mindspore/core/utils/file_utils.cc:253] GetRealPath] Get realpath failed, path[/tmp/ipykernel_272366/1339986826.py]\n",
      "[ERROR] CORE(272366,7f4009669740,python):2024-07-04-20:38:39.143.767 [mindspore/core/utils/file_utils.cc:253] GetRealPath] Get realpath failed, path[/tmp/ipykernel_272366/1339986826.py]\n"
     ]
    },
    {
     "name": "stdout",
     "output_type": "stream",
     "text": [
      "weight=\n",
      "(1024,  192,    1)\n",
      "99\n"
     ]
    },
    {
     "name": "stderr",
     "output_type": "stream",
     "text": [
      "[ERROR] CORE(272366,7f4009669740,python):2024-07-04-20:38:39.865.954 [mindspore/core/utils/file_utils.cc:253] GetRealPath] Get realpath failed, path[/tmp/ipykernel_272366/1339986826.py]\n",
      "[ERROR] CORE(272366,7f4009669740,python):2024-07-04-20:38:39.866.977 [mindspore/core/utils/file_utils.cc:253] GetRealPath] Get realpath failed, path[/tmp/ipykernel_272366/1339986826.py]\n",
      "[ERROR] CORE(272366,7f4009669740,python):2024-07-04-20:38:39.870.581 [mindspore/core/utils/file_utils.cc:253] GetRealPath] Get realpath failed, path[/tmp/ipykernel_272366/1339986826.py]\n",
      "[ERROR] CORE(272366,7f4009669740,python):2024-07-04-20:38:41.076.104 [mindspore/core/utils/file_utils.cc:253] GetRealPath] Get realpath failed, path[/tmp/ipykernel_272366/3428476077.py]\n",
      "[ERROR] CORE(272366,7f4009669740,python):2024-07-04-20:38:41.076.164 [mindspore/core/utils/file_utils.cc:253] GetRealPath] Get realpath failed, path[/tmp/ipykernel_272366/3428476077.py]\n",
      "[ERROR] CORE(272366,7f4009669740,python):2024-07-04-20:38:41.076.183 [mindspore/core/utils/file_utils.cc:253] GetRealPath] Get realpath failed, path[/tmp/ipykernel_272366/3428476077.py]\n",
      "[ERROR] CORE(272366,7f4009669740,python):2024-07-04-20:38:41.076.840 [mindspore/core/utils/file_utils.cc:253] GetRealPath] Get realpath failed, path[/tmp/ipykernel_272366/3428476077.py]\n",
      "[ERROR] CORE(272366,7f4009669740,python):2024-07-04-20:38:41.076.880 [mindspore/core/utils/file_utils.cc:253] GetRealPath] Get realpath failed, path[/tmp/ipykernel_272366/3428476077.py]\n",
      "[ERROR] CORE(272366,7f4009669740,python):2024-07-04-20:38:41.077.522 [mindspore/core/utils/file_utils.cc:253] GetRealPath] Get realpath failed, path[/tmp/ipykernel_272366/3428476077.py]\n",
      "[ERROR] CORE(272366,7f4009669740,python):2024-07-04-20:38:41.077.567 [mindspore/core/utils/file_utils.cc:253] GetRealPath] Get realpath failed, path[/tmp/ipykernel_272366/3428476077.py]\n",
      "[ERROR] CORE(272366,7f4009669740,python):2024-07-04-20:38:41.077.587 [mindspore/core/utils/file_utils.cc:253] GetRealPath] Get realpath failed, path[/tmp/ipykernel_272366/3428476077.py]\n",
      "[ERROR] CORE(272366,7f4009669740,python):2024-07-04-20:38:41.077.604 [mindspore/core/utils/file_utils.cc:253] GetRealPath] Get realpath failed, path[/tmp/ipykernel_272366/1339986826.py]\n",
      "[ERROR] CORE(272366,7f4009669740,python):2024-07-04-20:38:41.077.665 [mindspore/core/utils/file_utils.cc:253] GetRealPath] Get realpath failed, path[/tmp/ipykernel_272366/3428476077.py]\n",
      "[ERROR] CORE(272366,7f4009669740,python):2024-07-04-20:38:41.089.269 [mindspore/core/utils/file_utils.cc:253] GetRealPath] Get realpath failed, path[/tmp/ipykernel_272366/1339986826.py]\n",
      "[ERROR] CORE(272366,7f4009669740,python):2024-07-04-20:38:41.093.918 [mindspore/core/utils/file_utils.cc:253] GetRealPath] Get realpath failed, path[/tmp/ipykernel_272366/1339986826.py]\n",
      "[ERROR] CORE(272366,7f4009669740,python):2024-07-04-20:38:41.093.935 [mindspore/core/utils/file_utils.cc:253] GetRealPath] Get realpath failed, path[/tmp/ipykernel_272366/1339986826.py]\n"
     ]
    },
    {
     "name": "stdout",
     "output_type": "stream",
     "text": [
      "weight=\n",
      "(1024,  192,    1)\n",
      "100\n",
      "101\n"
     ]
    },
    {
     "name": "stderr",
     "output_type": "stream",
     "text": [
      "[ERROR] CORE(272366,7f4009669740,python):2024-07-04-20:38:43.964.575 [mindspore/core/utils/file_utils.cc:253] GetRealPath] Get realpath failed, path[/tmp/ipykernel_272366/1339986826.py]\n",
      "[ERROR] CORE(272366,7f4009669740,python):2024-07-04-20:38:43.965.669 [mindspore/core/utils/file_utils.cc:253] GetRealPath] Get realpath failed, path[/tmp/ipykernel_272366/1339986826.py]\n",
      "[ERROR] CORE(272366,7f4009669740,python):2024-07-04-20:38:43.969.802 [mindspore/core/utils/file_utils.cc:253] GetRealPath] Get realpath failed, path[/tmp/ipykernel_272366/1339986826.py]\n",
      "[ERROR] CORE(272366,7f4009669740,python):2024-07-04-20:38:45.158.332 [mindspore/core/utils/file_utils.cc:253] GetRealPath] Get realpath failed, path[/tmp/ipykernel_272366/3428476077.py]\n",
      "[ERROR] CORE(272366,7f4009669740,python):2024-07-04-20:38:45.158.414 [mindspore/core/utils/file_utils.cc:253] GetRealPath] Get realpath failed, path[/tmp/ipykernel_272366/3428476077.py]\n",
      "[ERROR] CORE(272366,7f4009669740,python):2024-07-04-20:38:45.158.437 [mindspore/core/utils/file_utils.cc:253] GetRealPath] Get realpath failed, path[/tmp/ipykernel_272366/3428476077.py]\n",
      "[ERROR] CORE(272366,7f4009669740,python):2024-07-04-20:38:45.159.114 [mindspore/core/utils/file_utils.cc:253] GetRealPath] Get realpath failed, path[/tmp/ipykernel_272366/3428476077.py]\n",
      "[ERROR] CORE(272366,7f4009669740,python):2024-07-04-20:38:45.159.153 [mindspore/core/utils/file_utils.cc:253] GetRealPath] Get realpath failed, path[/tmp/ipykernel_272366/3428476077.py]\n",
      "[ERROR] CORE(272366,7f4009669740,python):2024-07-04-20:38:45.159.748 [mindspore/core/utils/file_utils.cc:253] GetRealPath] Get realpath failed, path[/tmp/ipykernel_272366/3428476077.py]\n",
      "[ERROR] CORE(272366,7f4009669740,python):2024-07-04-20:38:45.159.790 [mindspore/core/utils/file_utils.cc:253] GetRealPath] Get realpath failed, path[/tmp/ipykernel_272366/3428476077.py]\n",
      "[ERROR] CORE(272366,7f4009669740,python):2024-07-04-20:38:45.159.809 [mindspore/core/utils/file_utils.cc:253] GetRealPath] Get realpath failed, path[/tmp/ipykernel_272366/3428476077.py]\n",
      "[ERROR] CORE(272366,7f4009669740,python):2024-07-04-20:38:45.159.826 [mindspore/core/utils/file_utils.cc:253] GetRealPath] Get realpath failed, path[/tmp/ipykernel_272366/1339986826.py]\n",
      "[ERROR] CORE(272366,7f4009669740,python):2024-07-04-20:38:45.159.883 [mindspore/core/utils/file_utils.cc:253] GetRealPath] Get realpath failed, path[/tmp/ipykernel_272366/3428476077.py]\n",
      "[ERROR] CORE(272366,7f4009669740,python):2024-07-04-20:38:45.169.687 [mindspore/core/utils/file_utils.cc:253] GetRealPath] Get realpath failed, path[/tmp/ipykernel_272366/1339986826.py]\n",
      "[ERROR] CORE(272366,7f4009669740,python):2024-07-04-20:38:45.173.119 [mindspore/core/utils/file_utils.cc:253] GetRealPath] Get realpath failed, path[/tmp/ipykernel_272366/1339986826.py]\n",
      "[ERROR] CORE(272366,7f4009669740,python):2024-07-04-20:38:45.174.577 [mindspore/core/utils/file_utils.cc:253] GetRealPath] Get realpath failed, path[/tmp/ipykernel_272366/1339986826.py]\n"
     ]
    },
    {
     "name": "stdout",
     "output_type": "stream",
     "text": [
      "weight=\n",
      "(1024,  192,    1)\n",
      "102\n"
     ]
    },
    {
     "name": "stderr",
     "output_type": "stream",
     "text": [
      "[ERROR] CORE(272366,7f4009669740,python):2024-07-04-20:38:45.908.767 [mindspore/core/utils/file_utils.cc:253] GetRealPath] Get realpath failed, path[/tmp/ipykernel_272366/1339986826.py]\n",
      "[ERROR] CORE(272366,7f4009669740,python):2024-07-04-20:38:45.909.832 [mindspore/core/utils/file_utils.cc:253] GetRealPath] Get realpath failed, path[/tmp/ipykernel_272366/1339986826.py]\n",
      "[ERROR] CORE(272366,7f4009669740,python):2024-07-04-20:38:45.913.463 [mindspore/core/utils/file_utils.cc:253] GetRealPath] Get realpath failed, path[/tmp/ipykernel_272366/1339986826.py]\n",
      "[ERROR] CORE(272366,7f4009669740,python):2024-07-04-20:38:47.126.722 [mindspore/core/utils/file_utils.cc:253] GetRealPath] Get realpath failed, path[/tmp/ipykernel_272366/3428476077.py]\n",
      "[ERROR] CORE(272366,7f4009669740,python):2024-07-04-20:38:47.126.782 [mindspore/core/utils/file_utils.cc:253] GetRealPath] Get realpath failed, path[/tmp/ipykernel_272366/3428476077.py]\n",
      "[ERROR] CORE(272366,7f4009669740,python):2024-07-04-20:38:47.126.803 [mindspore/core/utils/file_utils.cc:253] GetRealPath] Get realpath failed, path[/tmp/ipykernel_272366/3428476077.py]\n",
      "[ERROR] CORE(272366,7f4009669740,python):2024-07-04-20:38:47.127.466 [mindspore/core/utils/file_utils.cc:253] GetRealPath] Get realpath failed, path[/tmp/ipykernel_272366/3428476077.py]\n",
      "[ERROR] CORE(272366,7f4009669740,python):2024-07-04-20:38:47.127.506 [mindspore/core/utils/file_utils.cc:253] GetRealPath] Get realpath failed, path[/tmp/ipykernel_272366/3428476077.py]\n",
      "[ERROR] CORE(272366,7f4009669740,python):2024-07-04-20:38:47.128.138 [mindspore/core/utils/file_utils.cc:253] GetRealPath] Get realpath failed, path[/tmp/ipykernel_272366/3428476077.py]\n",
      "[ERROR] CORE(272366,7f4009669740,python):2024-07-04-20:38:47.128.180 [mindspore/core/utils/file_utils.cc:253] GetRealPath] Get realpath failed, path[/tmp/ipykernel_272366/3428476077.py]\n",
      "[ERROR] CORE(272366,7f4009669740,python):2024-07-04-20:38:47.128.200 [mindspore/core/utils/file_utils.cc:253] GetRealPath] Get realpath failed, path[/tmp/ipykernel_272366/3428476077.py]\n",
      "[ERROR] CORE(272366,7f4009669740,python):2024-07-04-20:38:47.128.217 [mindspore/core/utils/file_utils.cc:253] GetRealPath] Get realpath failed, path[/tmp/ipykernel_272366/1339986826.py]\n",
      "[ERROR] CORE(272366,7f4009669740,python):2024-07-04-20:38:47.128.275 [mindspore/core/utils/file_utils.cc:253] GetRealPath] Get realpath failed, path[/tmp/ipykernel_272366/3428476077.py]\n",
      "[ERROR] CORE(272366,7f4009669740,python):2024-07-04-20:38:47.138.578 [mindspore/core/utils/file_utils.cc:253] GetRealPath] Get realpath failed, path[/tmp/ipykernel_272366/1339986826.py]\n",
      "[ERROR] CORE(272366,7f4009669740,python):2024-07-04-20:38:47.142.993 [mindspore/core/utils/file_utils.cc:253] GetRealPath] Get realpath failed, path[/tmp/ipykernel_272366/1339986826.py]\n",
      "[ERROR] CORE(272366,7f4009669740,python):2024-07-04-20:38:47.143.248 [mindspore/core/utils/file_utils.cc:253] GetRealPath] Get realpath failed, path[/tmp/ipykernel_272366/1339986826.py]\n"
     ]
    },
    {
     "name": "stdout",
     "output_type": "stream",
     "text": [
      "weight=\n",
      "(1024,  192,    1)\n",
      "103\n"
     ]
    },
    {
     "name": "stderr",
     "output_type": "stream",
     "text": [
      "[ERROR] CORE(272366,7f4009669740,python):2024-07-04-20:38:47.857.935 [mindspore/core/utils/file_utils.cc:253] GetRealPath] Get realpath failed, path[/tmp/ipykernel_272366/1339986826.py]\n",
      "[ERROR] CORE(272366,7f4009669740,python):2024-07-04-20:38:47.858.991 [mindspore/core/utils/file_utils.cc:253] GetRealPath] Get realpath failed, path[/tmp/ipykernel_272366/1339986826.py]\n",
      "[ERROR] CORE(272366,7f4009669740,python):2024-07-04-20:38:47.862.807 [mindspore/core/utils/file_utils.cc:253] GetRealPath] Get realpath failed, path[/tmp/ipykernel_272366/1339986826.py]\n",
      "[ERROR] CORE(272366,7f4009669740,python):2024-07-04-20:38:49.235.852 [mindspore/core/utils/file_utils.cc:253] GetRealPath] Get realpath failed, path[/tmp/ipykernel_272366/3428476077.py]\n",
      "[ERROR] CORE(272366,7f4009669740,python):2024-07-04-20:38:49.235.911 [mindspore/core/utils/file_utils.cc:253] GetRealPath] Get realpath failed, path[/tmp/ipykernel_272366/3428476077.py]\n",
      "[ERROR] CORE(272366,7f4009669740,python):2024-07-04-20:38:49.235.932 [mindspore/core/utils/file_utils.cc:253] GetRealPath] Get realpath failed, path[/tmp/ipykernel_272366/3428476077.py]\n",
      "[ERROR] CORE(272366,7f4009669740,python):2024-07-04-20:38:49.236.621 [mindspore/core/utils/file_utils.cc:253] GetRealPath] Get realpath failed, path[/tmp/ipykernel_272366/3428476077.py]\n",
      "[ERROR] CORE(272366,7f4009669740,python):2024-07-04-20:38:49.236.661 [mindspore/core/utils/file_utils.cc:253] GetRealPath] Get realpath failed, path[/tmp/ipykernel_272366/3428476077.py]\n",
      "[ERROR] CORE(272366,7f4009669740,python):2024-07-04-20:38:49.237.309 [mindspore/core/utils/file_utils.cc:253] GetRealPath] Get realpath failed, path[/tmp/ipykernel_272366/3428476077.py]\n",
      "[ERROR] CORE(272366,7f4009669740,python):2024-07-04-20:38:49.237.353 [mindspore/core/utils/file_utils.cc:253] GetRealPath] Get realpath failed, path[/tmp/ipykernel_272366/3428476077.py]\n",
      "[ERROR] CORE(272366,7f4009669740,python):2024-07-04-20:38:49.237.382 [mindspore/core/utils/file_utils.cc:253] GetRealPath] Get realpath failed, path[/tmp/ipykernel_272366/3428476077.py]\n",
      "[ERROR] CORE(272366,7f4009669740,python):2024-07-04-20:38:49.237.400 [mindspore/core/utils/file_utils.cc:253] GetRealPath] Get realpath failed, path[/tmp/ipykernel_272366/1339986826.py]\n",
      "[ERROR] CORE(272366,7f4009669740,python):2024-07-04-20:38:49.237.457 [mindspore/core/utils/file_utils.cc:253] GetRealPath] Get realpath failed, path[/tmp/ipykernel_272366/3428476077.py]\n",
      "[ERROR] CORE(272366,7f4009669740,python):2024-07-04-20:38:49.249.017 [mindspore/core/utils/file_utils.cc:253] GetRealPath] Get realpath failed, path[/tmp/ipykernel_272366/1339986826.py]\n",
      "[ERROR] CORE(272366,7f4009669740,python):2024-07-04-20:38:49.249.037 [mindspore/core/utils/file_utils.cc:253] GetRealPath] Get realpath failed, path[/tmp/ipykernel_272366/1339986826.py]\n",
      "[ERROR] CORE(272366,7f4009669740,python):2024-07-04-20:38:49.249.062 [mindspore/core/utils/file_utils.cc:253] GetRealPath] Get realpath failed, path[/tmp/ipykernel_272366/1339986826.py]\n"
     ]
    },
    {
     "name": "stdout",
     "output_type": "stream",
     "text": [
      "weight=\n",
      "(1024,  192,    1)\n",
      "104\n"
     ]
    },
    {
     "name": "stderr",
     "output_type": "stream",
     "text": [
      "[ERROR] CORE(272366,7f4009669740,python):2024-07-04-20:38:49.979.315 [mindspore/core/utils/file_utils.cc:253] GetRealPath] Get realpath failed, path[/tmp/ipykernel_272366/1339986826.py]\n",
      "[ERROR] CORE(272366,7f4009669740,python):2024-07-04-20:38:49.980.344 [mindspore/core/utils/file_utils.cc:253] GetRealPath] Get realpath failed, path[/tmp/ipykernel_272366/1339986826.py]\n",
      "[ERROR] CORE(272366,7f4009669740,python):2024-07-04-20:38:49.984.167 [mindspore/core/utils/file_utils.cc:253] GetRealPath] Get realpath failed, path[/tmp/ipykernel_272366/1339986826.py]\n",
      "[ERROR] CORE(272366,7f4009669740,python):2024-07-04-20:38:51.216.237 [mindspore/core/utils/file_utils.cc:253] GetRealPath] Get realpath failed, path[/tmp/ipykernel_272366/3428476077.py]\n",
      "[ERROR] CORE(272366,7f4009669740,python):2024-07-04-20:38:51.216.312 [mindspore/core/utils/file_utils.cc:253] GetRealPath] Get realpath failed, path[/tmp/ipykernel_272366/3428476077.py]\n",
      "[ERROR] CORE(272366,7f4009669740,python):2024-07-04-20:38:51.216.332 [mindspore/core/utils/file_utils.cc:253] GetRealPath] Get realpath failed, path[/tmp/ipykernel_272366/3428476077.py]\n",
      "[ERROR] CORE(272366,7f4009669740,python):2024-07-04-20:38:51.216.995 [mindspore/core/utils/file_utils.cc:253] GetRealPath] Get realpath failed, path[/tmp/ipykernel_272366/3428476077.py]\n",
      "[ERROR] CORE(272366,7f4009669740,python):2024-07-04-20:38:51.217.033 [mindspore/core/utils/file_utils.cc:253] GetRealPath] Get realpath failed, path[/tmp/ipykernel_272366/3428476077.py]\n",
      "[ERROR] CORE(272366,7f4009669740,python):2024-07-04-20:38:51.217.678 [mindspore/core/utils/file_utils.cc:253] GetRealPath] Get realpath failed, path[/tmp/ipykernel_272366/3428476077.py]\n",
      "[ERROR] CORE(272366,7f4009669740,python):2024-07-04-20:38:51.217.722 [mindspore/core/utils/file_utils.cc:253] GetRealPath] Get realpath failed, path[/tmp/ipykernel_272366/3428476077.py]\n",
      "[ERROR] CORE(272366,7f4009669740,python):2024-07-04-20:38:51.217.740 [mindspore/core/utils/file_utils.cc:253] GetRealPath] Get realpath failed, path[/tmp/ipykernel_272366/3428476077.py]\n",
      "[ERROR] CORE(272366,7f4009669740,python):2024-07-04-20:38:51.217.757 [mindspore/core/utils/file_utils.cc:253] GetRealPath] Get realpath failed, path[/tmp/ipykernel_272366/1339986826.py]\n",
      "[ERROR] CORE(272366,7f4009669740,python):2024-07-04-20:38:51.217.816 [mindspore/core/utils/file_utils.cc:253] GetRealPath] Get realpath failed, path[/tmp/ipykernel_272366/3428476077.py]\n",
      "[ERROR] CORE(272366,7f4009669740,python):2024-07-04-20:38:51.229.268 [mindspore/core/utils/file_utils.cc:253] GetRealPath] Get realpath failed, path[/tmp/ipykernel_272366/1339986826.py]\n",
      "[ERROR] CORE(272366,7f4009669740,python):2024-07-04-20:38:51.232.655 [mindspore/core/utils/file_utils.cc:253] GetRealPath] Get realpath failed, path[/tmp/ipykernel_272366/1339986826.py]\n",
      "[ERROR] CORE(272366,7f4009669740,python):2024-07-04-20:38:51.233.837 [mindspore/core/utils/file_utils.cc:253] GetRealPath] Get realpath failed, path[/tmp/ipykernel_272366/1339986826.py]\n"
     ]
    },
    {
     "name": "stdout",
     "output_type": "stream",
     "text": [
      "weight=\n",
      "(1024,  192,    1)\n",
      "105\n"
     ]
    },
    {
     "name": "stderr",
     "output_type": "stream",
     "text": [
      "[ERROR] CORE(272366,7f4009669740,python):2024-07-04-20:38:51.957.136 [mindspore/core/utils/file_utils.cc:253] GetRealPath] Get realpath failed, path[/tmp/ipykernel_272366/1339986826.py]\n",
      "[ERROR] CORE(272366,7f4009669740,python):2024-07-04-20:38:51.958.190 [mindspore/core/utils/file_utils.cc:253] GetRealPath] Get realpath failed, path[/tmp/ipykernel_272366/1339986826.py]\n",
      "[ERROR] CORE(272366,7f4009669740,python):2024-07-04-20:38:51.961.837 [mindspore/core/utils/file_utils.cc:253] GetRealPath] Get realpath failed, path[/tmp/ipykernel_272366/1339986826.py]\n",
      "[ERROR] CORE(272366,7f4009669740,python):2024-07-04-20:38:53.174.486 [mindspore/core/utils/file_utils.cc:253] GetRealPath] Get realpath failed, path[/tmp/ipykernel_272366/3428476077.py]\n",
      "[ERROR] CORE(272366,7f4009669740,python):2024-07-04-20:38:53.174.546 [mindspore/core/utils/file_utils.cc:253] GetRealPath] Get realpath failed, path[/tmp/ipykernel_272366/3428476077.py]\n",
      "[ERROR] CORE(272366,7f4009669740,python):2024-07-04-20:38:53.174.564 [mindspore/core/utils/file_utils.cc:253] GetRealPath] Get realpath failed, path[/tmp/ipykernel_272366/3428476077.py]\n",
      "[ERROR] CORE(272366,7f4009669740,python):2024-07-04-20:38:53.175.241 [mindspore/core/utils/file_utils.cc:253] GetRealPath] Get realpath failed, path[/tmp/ipykernel_272366/3428476077.py]\n",
      "[ERROR] CORE(272366,7f4009669740,python):2024-07-04-20:38:53.175.281 [mindspore/core/utils/file_utils.cc:253] GetRealPath] Get realpath failed, path[/tmp/ipykernel_272366/3428476077.py]\n",
      "[ERROR] CORE(272366,7f4009669740,python):2024-07-04-20:38:53.175.872 [mindspore/core/utils/file_utils.cc:253] GetRealPath] Get realpath failed, path[/tmp/ipykernel_272366/3428476077.py]\n",
      "[ERROR] CORE(272366,7f4009669740,python):2024-07-04-20:38:53.175.914 [mindspore/core/utils/file_utils.cc:253] GetRealPath] Get realpath failed, path[/tmp/ipykernel_272366/3428476077.py]\n",
      "[ERROR] CORE(272366,7f4009669740,python):2024-07-04-20:38:53.175.932 [mindspore/core/utils/file_utils.cc:253] GetRealPath] Get realpath failed, path[/tmp/ipykernel_272366/3428476077.py]\n",
      "[ERROR] CORE(272366,7f4009669740,python):2024-07-04-20:38:53.175.949 [mindspore/core/utils/file_utils.cc:253] GetRealPath] Get realpath failed, path[/tmp/ipykernel_272366/1339986826.py]\n",
      "[ERROR] CORE(272366,7f4009669740,python):2024-07-04-20:38:53.176.008 [mindspore/core/utils/file_utils.cc:253] GetRealPath] Get realpath failed, path[/tmp/ipykernel_272366/3428476077.py]\n",
      "[ERROR] CORE(272366,7f4009669740,python):2024-07-04-20:38:53.186.921 [mindspore/core/utils/file_utils.cc:253] GetRealPath] Get realpath failed, path[/tmp/ipykernel_272366/1339986826.py]\n",
      "[ERROR] CORE(272366,7f4009669740,python):2024-07-04-20:38:53.187.173 [mindspore/core/utils/file_utils.cc:253] GetRealPath] Get realpath failed, path[/tmp/ipykernel_272366/1339986826.py]\n",
      "[ERROR] CORE(272366,7f4009669740,python):2024-07-04-20:38:53.192.735 [mindspore/core/utils/file_utils.cc:253] GetRealPath] Get realpath failed, path[/tmp/ipykernel_272366/1339986826.py]\n"
     ]
    },
    {
     "name": "stdout",
     "output_type": "stream",
     "text": [
      "weight=\n",
      "(1024,  192,    1)\n",
      "106\n"
     ]
    },
    {
     "name": "stderr",
     "output_type": "stream",
     "text": [
      "[ERROR] CORE(272366,7f4009669740,python):2024-07-04-20:38:53.915.032 [mindspore/core/utils/file_utils.cc:253] GetRealPath] Get realpath failed, path[/tmp/ipykernel_272366/1339986826.py]\n",
      "[ERROR] CORE(272366,7f4009669740,python):2024-07-04-20:38:53.916.091 [mindspore/core/utils/file_utils.cc:253] GetRealPath] Get realpath failed, path[/tmp/ipykernel_272366/1339986826.py]\n",
      "[ERROR] CORE(272366,7f4009669740,python):2024-07-04-20:38:53.919.814 [mindspore/core/utils/file_utils.cc:253] GetRealPath] Get realpath failed, path[/tmp/ipykernel_272366/1339986826.py]\n",
      "[ERROR] CORE(272366,7f4009669740,python):2024-07-04-20:38:55.100.984 [mindspore/core/utils/file_utils.cc:253] GetRealPath] Get realpath failed, path[/tmp/ipykernel_272366/3428476077.py]\n",
      "[ERROR] CORE(272366,7f4009669740,python):2024-07-04-20:38:55.101.058 [mindspore/core/utils/file_utils.cc:253] GetRealPath] Get realpath failed, path[/tmp/ipykernel_272366/3428476077.py]\n",
      "[ERROR] CORE(272366,7f4009669740,python):2024-07-04-20:38:55.101.090 [mindspore/core/utils/file_utils.cc:253] GetRealPath] Get realpath failed, path[/tmp/ipykernel_272366/3428476077.py]\n",
      "[ERROR] CORE(272366,7f4009669740,python):2024-07-04-20:38:55.101.717 [mindspore/core/utils/file_utils.cc:253] GetRealPath] Get realpath failed, path[/tmp/ipykernel_272366/3428476077.py]\n",
      "[ERROR] CORE(272366,7f4009669740,python):2024-07-04-20:38:55.101.753 [mindspore/core/utils/file_utils.cc:253] GetRealPath] Get realpath failed, path[/tmp/ipykernel_272366/3428476077.py]\n",
      "[ERROR] CORE(272366,7f4009669740,python):2024-07-04-20:38:55.102.376 [mindspore/core/utils/file_utils.cc:253] GetRealPath] Get realpath failed, path[/tmp/ipykernel_272366/3428476077.py]\n",
      "[ERROR] CORE(272366,7f4009669740,python):2024-07-04-20:38:55.102.426 [mindspore/core/utils/file_utils.cc:253] GetRealPath] Get realpath failed, path[/tmp/ipykernel_272366/3428476077.py]\n",
      "[ERROR] CORE(272366,7f4009669740,python):2024-07-04-20:38:55.102.445 [mindspore/core/utils/file_utils.cc:253] GetRealPath] Get realpath failed, path[/tmp/ipykernel_272366/3428476077.py]\n",
      "[ERROR] CORE(272366,7f4009669740,python):2024-07-04-20:38:55.102.462 [mindspore/core/utils/file_utils.cc:253] GetRealPath] Get realpath failed, path[/tmp/ipykernel_272366/1339986826.py]\n",
      "[ERROR] CORE(272366,7f4009669740,python):2024-07-04-20:38:55.102.518 [mindspore/core/utils/file_utils.cc:253] GetRealPath] Get realpath failed, path[/tmp/ipykernel_272366/3428476077.py]\n",
      "[ERROR] CORE(272366,7f4009669740,python):2024-07-04-20:38:55.114.816 [mindspore/core/utils/file_utils.cc:253] GetRealPath] Get realpath failed, path[/tmp/ipykernel_272366/1339986826.py]\n",
      "[ERROR] CORE(272366,7f4009669740,python):2024-07-04-20:38:55.114.954 [mindspore/core/utils/file_utils.cc:253] GetRealPath] Get realpath failed, path[/tmp/ipykernel_272366/1339986826.py]\n",
      "[ERROR] CORE(272366,7f4009669740,python):2024-07-04-20:38:55.114.967 [mindspore/core/utils/file_utils.cc:253] GetRealPath] Get realpath failed, path[/tmp/ipykernel_272366/1339986826.py]\n"
     ]
    },
    {
     "name": "stdout",
     "output_type": "stream",
     "text": [
      "weight=\n",
      "(1024,  192,    1)\n",
      "107\n"
     ]
    },
    {
     "name": "stderr",
     "output_type": "stream",
     "text": [
      "[ERROR] CORE(272366,7f4009669740,python):2024-07-04-20:38:55.829.888 [mindspore/core/utils/file_utils.cc:253] GetRealPath] Get realpath failed, path[/tmp/ipykernel_272366/1339986826.py]\n",
      "[ERROR] CORE(272366,7f4009669740,python):2024-07-04-20:38:55.830.954 [mindspore/core/utils/file_utils.cc:253] GetRealPath] Get realpath failed, path[/tmp/ipykernel_272366/1339986826.py]\n",
      "[ERROR] CORE(272366,7f4009669740,python):2024-07-04-20:38:55.834.541 [mindspore/core/utils/file_utils.cc:253] GetRealPath] Get realpath failed, path[/tmp/ipykernel_272366/1339986826.py]\n",
      "[ERROR] CORE(272366,7f4009669740,python):2024-07-04-20:38:57.046.149 [mindspore/core/utils/file_utils.cc:253] GetRealPath] Get realpath failed, path[/tmp/ipykernel_272366/3428476077.py]\n",
      "[ERROR] CORE(272366,7f4009669740,python):2024-07-04-20:38:57.046.223 [mindspore/core/utils/file_utils.cc:253] GetRealPath] Get realpath failed, path[/tmp/ipykernel_272366/3428476077.py]\n",
      "[ERROR] CORE(272366,7f4009669740,python):2024-07-04-20:38:57.046.246 [mindspore/core/utils/file_utils.cc:253] GetRealPath] Get realpath failed, path[/tmp/ipykernel_272366/3428476077.py]\n",
      "[ERROR] CORE(272366,7f4009669740,python):2024-07-04-20:38:57.046.888 [mindspore/core/utils/file_utils.cc:253] GetRealPath] Get realpath failed, path[/tmp/ipykernel_272366/3428476077.py]\n",
      "[ERROR] CORE(272366,7f4009669740,python):2024-07-04-20:38:57.046.926 [mindspore/core/utils/file_utils.cc:253] GetRealPath] Get realpath failed, path[/tmp/ipykernel_272366/3428476077.py]\n",
      "[ERROR] CORE(272366,7f4009669740,python):2024-07-04-20:38:57.047.557 [mindspore/core/utils/file_utils.cc:253] GetRealPath] Get realpath failed, path[/tmp/ipykernel_272366/3428476077.py]\n",
      "[ERROR] CORE(272366,7f4009669740,python):2024-07-04-20:38:57.047.600 [mindspore/core/utils/file_utils.cc:253] GetRealPath] Get realpath failed, path[/tmp/ipykernel_272366/3428476077.py]\n",
      "[ERROR] CORE(272366,7f4009669740,python):2024-07-04-20:38:57.047.619 [mindspore/core/utils/file_utils.cc:253] GetRealPath] Get realpath failed, path[/tmp/ipykernel_272366/3428476077.py]\n",
      "[ERROR] CORE(272366,7f4009669740,python):2024-07-04-20:38:57.047.638 [mindspore/core/utils/file_utils.cc:253] GetRealPath] Get realpath failed, path[/tmp/ipykernel_272366/1339986826.py]\n",
      "[ERROR] CORE(272366,7f4009669740,python):2024-07-04-20:38:57.047.696 [mindspore/core/utils/file_utils.cc:253] GetRealPath] Get realpath failed, path[/tmp/ipykernel_272366/3428476077.py]\n",
      "[ERROR] CORE(272366,7f4009669740,python):2024-07-04-20:38:57.060.252 [mindspore/core/utils/file_utils.cc:253] GetRealPath] Get realpath failed, path[/tmp/ipykernel_272366/1339986826.py]\n",
      "[ERROR] CORE(272366,7f4009669740,python):2024-07-04-20:38:57.060.271 [mindspore/core/utils/file_utils.cc:253] GetRealPath] Get realpath failed, path[/tmp/ipykernel_272366/1339986826.py]\n",
      "[ERROR] CORE(272366,7f4009669740,python):2024-07-04-20:38:57.062.591 [mindspore/core/utils/file_utils.cc:253] GetRealPath] Get realpath failed, path[/tmp/ipykernel_272366/1339986826.py]\n"
     ]
    },
    {
     "name": "stdout",
     "output_type": "stream",
     "text": [
      "weight=\n",
      "(1024,  192,    1)\n",
      "108\n"
     ]
    },
    {
     "name": "stderr",
     "output_type": "stream",
     "text": [
      "[ERROR] CORE(272366,7f4009669740,python):2024-07-04-20:38:57.809.001 [mindspore/core/utils/file_utils.cc:253] GetRealPath] Get realpath failed, path[/tmp/ipykernel_272366/1339986826.py]\n",
      "[ERROR] CORE(272366,7f4009669740,python):2024-07-04-20:38:57.810.037 [mindspore/core/utils/file_utils.cc:253] GetRealPath] Get realpath failed, path[/tmp/ipykernel_272366/1339986826.py]\n",
      "[ERROR] CORE(272366,7f4009669740,python):2024-07-04-20:38:57.813.662 [mindspore/core/utils/file_utils.cc:253] GetRealPath] Get realpath failed, path[/tmp/ipykernel_272366/1339986826.py]\n",
      "[ERROR] CORE(272366,7f4009669740,python):2024-07-04-20:38:59.041.543 [mindspore/core/utils/file_utils.cc:253] GetRealPath] Get realpath failed, path[/tmp/ipykernel_272366/3428476077.py]\n",
      "[ERROR] CORE(272366,7f4009669740,python):2024-07-04-20:38:59.041.603 [mindspore/core/utils/file_utils.cc:253] GetRealPath] Get realpath failed, path[/tmp/ipykernel_272366/3428476077.py]\n",
      "[ERROR] CORE(272366,7f4009669740,python):2024-07-04-20:38:59.041.623 [mindspore/core/utils/file_utils.cc:253] GetRealPath] Get realpath failed, path[/tmp/ipykernel_272366/3428476077.py]\n",
      "[ERROR] CORE(272366,7f4009669740,python):2024-07-04-20:38:59.042.299 [mindspore/core/utils/file_utils.cc:253] GetRealPath] Get realpath failed, path[/tmp/ipykernel_272366/3428476077.py]\n",
      "[ERROR] CORE(272366,7f4009669740,python):2024-07-04-20:38:59.042.339 [mindspore/core/utils/file_utils.cc:253] GetRealPath] Get realpath failed, path[/tmp/ipykernel_272366/3428476077.py]\n",
      "[ERROR] CORE(272366,7f4009669740,python):2024-07-04-20:38:59.042.952 [mindspore/core/utils/file_utils.cc:253] GetRealPath] Get realpath failed, path[/tmp/ipykernel_272366/3428476077.py]\n",
      "[ERROR] CORE(272366,7f4009669740,python):2024-07-04-20:38:59.042.995 [mindspore/core/utils/file_utils.cc:253] GetRealPath] Get realpath failed, path[/tmp/ipykernel_272366/3428476077.py]\n",
      "[ERROR] CORE(272366,7f4009669740,python):2024-07-04-20:38:59.043.015 [mindspore/core/utils/file_utils.cc:253] GetRealPath] Get realpath failed, path[/tmp/ipykernel_272366/3428476077.py]\n",
      "[ERROR] CORE(272366,7f4009669740,python):2024-07-04-20:38:59.043.032 [mindspore/core/utils/file_utils.cc:253] GetRealPath] Get realpath failed, path[/tmp/ipykernel_272366/1339986826.py]\n",
      "[ERROR] CORE(272366,7f4009669740,python):2024-07-04-20:38:59.043.126 [mindspore/core/utils/file_utils.cc:253] GetRealPath] Get realpath failed, path[/tmp/ipykernel_272366/3428476077.py]\n",
      "[ERROR] CORE(272366,7f4009669740,python):2024-07-04-20:38:59.057.812 [mindspore/core/utils/file_utils.cc:253] GetRealPath] Get realpath failed, path[/tmp/ipykernel_272366/1339986826.py]\n",
      "[ERROR] CORE(272366,7f4009669740,python):2024-07-04-20:38:59.057.965 [mindspore/core/utils/file_utils.cc:253] GetRealPath] Get realpath failed, path[/tmp/ipykernel_272366/1339986826.py]\n",
      "[ERROR] CORE(272366,7f4009669740,python):2024-07-04-20:38:59.059.164 [mindspore/core/utils/file_utils.cc:253] GetRealPath] Get realpath failed, path[/tmp/ipykernel_272366/1339986826.py]\n"
     ]
    },
    {
     "name": "stdout",
     "output_type": "stream",
     "text": [
      "weight=\n",
      "(1024,  192,    1)\n",
      "109\n"
     ]
    },
    {
     "name": "stderr",
     "output_type": "stream",
     "text": [
      "[ERROR] CORE(272366,7f4009669740,python):2024-07-04-20:38:59.774.526 [mindspore/core/utils/file_utils.cc:253] GetRealPath] Get realpath failed, path[/tmp/ipykernel_272366/1339986826.py]\n",
      "[ERROR] CORE(272366,7f4009669740,python):2024-07-04-20:38:59.775.608 [mindspore/core/utils/file_utils.cc:253] GetRealPath] Get realpath failed, path[/tmp/ipykernel_272366/1339986826.py]\n",
      "[ERROR] CORE(272366,7f4009669740,python):2024-07-04-20:38:59.779.207 [mindspore/core/utils/file_utils.cc:253] GetRealPath] Get realpath failed, path[/tmp/ipykernel_272366/1339986826.py]\n",
      "[ERROR] CORE(272366,7f4009669740,python):2024-07-04-20:39:00.958.700 [mindspore/core/utils/file_utils.cc:253] GetRealPath] Get realpath failed, path[/tmp/ipykernel_272366/3428476077.py]\n",
      "[ERROR] CORE(272366,7f4009669740,python):2024-07-04-20:39:00.958.772 [mindspore/core/utils/file_utils.cc:253] GetRealPath] Get realpath failed, path[/tmp/ipykernel_272366/3428476077.py]\n",
      "[ERROR] CORE(272366,7f4009669740,python):2024-07-04-20:39:00.958.792 [mindspore/core/utils/file_utils.cc:253] GetRealPath] Get realpath failed, path[/tmp/ipykernel_272366/3428476077.py]\n",
      "[ERROR] CORE(272366,7f4009669740,python):2024-07-04-20:39:00.959.469 [mindspore/core/utils/file_utils.cc:253] GetRealPath] Get realpath failed, path[/tmp/ipykernel_272366/3428476077.py]\n",
      "[ERROR] CORE(272366,7f4009669740,python):2024-07-04-20:39:00.959.509 [mindspore/core/utils/file_utils.cc:253] GetRealPath] Get realpath failed, path[/tmp/ipykernel_272366/3428476077.py]\n",
      "[ERROR] CORE(272366,7f4009669740,python):2024-07-04-20:39:00.960.136 [mindspore/core/utils/file_utils.cc:253] GetRealPath] Get realpath failed, path[/tmp/ipykernel_272366/3428476077.py]\n",
      "[ERROR] CORE(272366,7f4009669740,python):2024-07-04-20:39:00.960.183 [mindspore/core/utils/file_utils.cc:253] GetRealPath] Get realpath failed, path[/tmp/ipykernel_272366/3428476077.py]\n",
      "[ERROR] CORE(272366,7f4009669740,python):2024-07-04-20:39:00.960.217 [mindspore/core/utils/file_utils.cc:253] GetRealPath] Get realpath failed, path[/tmp/ipykernel_272366/3428476077.py]\n",
      "[ERROR] CORE(272366,7f4009669740,python):2024-07-04-20:39:00.960.236 [mindspore/core/utils/file_utils.cc:253] GetRealPath] Get realpath failed, path[/tmp/ipykernel_272366/1339986826.py]\n",
      "[ERROR] CORE(272366,7f4009669740,python):2024-07-04-20:39:00.960.293 [mindspore/core/utils/file_utils.cc:253] GetRealPath] Get realpath failed, path[/tmp/ipykernel_272366/3428476077.py]\n",
      "[ERROR] CORE(272366,7f4009669740,python):2024-07-04-20:39:00.969.944 [mindspore/core/utils/file_utils.cc:253] GetRealPath] Get realpath failed, path[/tmp/ipykernel_272366/1339986826.py]\n",
      "[ERROR] CORE(272366,7f4009669740,python):2024-07-04-20:39:00.969.964 [mindspore/core/utils/file_utils.cc:253] GetRealPath] Get realpath failed, path[/tmp/ipykernel_272366/1339986826.py]\n",
      "[ERROR] CORE(272366,7f4009669740,python):2024-07-04-20:39:00.971.575 [mindspore/core/utils/file_utils.cc:253] GetRealPath] Get realpath failed, path[/tmp/ipykernel_272366/1339986826.py]\n"
     ]
    },
    {
     "name": "stdout",
     "output_type": "stream",
     "text": [
      "weight=\n",
      "(1024,  192,    1)\n",
      "110\n"
     ]
    },
    {
     "name": "stderr",
     "output_type": "stream",
     "text": [
      "[ERROR] CORE(272366,7f4009669740,python):2024-07-04-20:39:01.700.183 [mindspore/core/utils/file_utils.cc:253] GetRealPath] Get realpath failed, path[/tmp/ipykernel_272366/1339986826.py]\n",
      "[ERROR] CORE(272366,7f4009669740,python):2024-07-04-20:39:01.701.227 [mindspore/core/utils/file_utils.cc:253] GetRealPath] Get realpath failed, path[/tmp/ipykernel_272366/1339986826.py]\n",
      "[ERROR] CORE(272366,7f4009669740,python):2024-07-04-20:39:01.704.902 [mindspore/core/utils/file_utils.cc:253] GetRealPath] Get realpath failed, path[/tmp/ipykernel_272366/1339986826.py]\n",
      "[ERROR] CORE(272366,7f4009669740,python):2024-07-04-20:39:02.916.518 [mindspore/core/utils/file_utils.cc:253] GetRealPath] Get realpath failed, path[/tmp/ipykernel_272366/3428476077.py]\n",
      "[ERROR] CORE(272366,7f4009669740,python):2024-07-04-20:39:02.916.579 [mindspore/core/utils/file_utils.cc:253] GetRealPath] Get realpath failed, path[/tmp/ipykernel_272366/3428476077.py]\n",
      "[ERROR] CORE(272366,7f4009669740,python):2024-07-04-20:39:02.916.599 [mindspore/core/utils/file_utils.cc:253] GetRealPath] Get realpath failed, path[/tmp/ipykernel_272366/3428476077.py]\n",
      "[ERROR] CORE(272366,7f4009669740,python):2024-07-04-20:39:02.917.287 [mindspore/core/utils/file_utils.cc:253] GetRealPath] Get realpath failed, path[/tmp/ipykernel_272366/3428476077.py]\n",
      "[ERROR] CORE(272366,7f4009669740,python):2024-07-04-20:39:02.917.326 [mindspore/core/utils/file_utils.cc:253] GetRealPath] Get realpath failed, path[/tmp/ipykernel_272366/3428476077.py]\n",
      "[ERROR] CORE(272366,7f4009669740,python):2024-07-04-20:39:02.917.919 [mindspore/core/utils/file_utils.cc:253] GetRealPath] Get realpath failed, path[/tmp/ipykernel_272366/3428476077.py]\n",
      "[ERROR] CORE(272366,7f4009669740,python):2024-07-04-20:39:02.917.961 [mindspore/core/utils/file_utils.cc:253] GetRealPath] Get realpath failed, path[/tmp/ipykernel_272366/3428476077.py]\n",
      "[ERROR] CORE(272366,7f4009669740,python):2024-07-04-20:39:02.917.980 [mindspore/core/utils/file_utils.cc:253] GetRealPath] Get realpath failed, path[/tmp/ipykernel_272366/3428476077.py]\n",
      "[ERROR] CORE(272366,7f4009669740,python):2024-07-04-20:39:02.917.997 [mindspore/core/utils/file_utils.cc:253] GetRealPath] Get realpath failed, path[/tmp/ipykernel_272366/1339986826.py]\n",
      "[ERROR] CORE(272366,7f4009669740,python):2024-07-04-20:39:02.918.071 [mindspore/core/utils/file_utils.cc:253] GetRealPath] Get realpath failed, path[/tmp/ipykernel_272366/3428476077.py]\n",
      "[ERROR] CORE(272366,7f4009669740,python):2024-07-04-20:39:02.927.907 [mindspore/core/utils/file_utils.cc:253] GetRealPath] Get realpath failed, path[/tmp/ipykernel_272366/1339986826.py]\n",
      "[ERROR] CORE(272366,7f4009669740,python):2024-07-04-20:39:02.929.469 [mindspore/core/utils/file_utils.cc:253] GetRealPath] Get realpath failed, path[/tmp/ipykernel_272366/1339986826.py]\n",
      "[ERROR] CORE(272366,7f4009669740,python):2024-07-04-20:39:02.931.835 [mindspore/core/utils/file_utils.cc:253] GetRealPath] Get realpath failed, path[/tmp/ipykernel_272366/1339986826.py]\n"
     ]
    },
    {
     "name": "stdout",
     "output_type": "stream",
     "text": [
      "weight=\n",
      "(1024,  192,    1)\n",
      "111\n"
     ]
    },
    {
     "name": "stderr",
     "output_type": "stream",
     "text": [
      "[ERROR] CORE(272366,7f4009669740,python):2024-07-04-20:39:03.668.751 [mindspore/core/utils/file_utils.cc:253] GetRealPath] Get realpath failed, path[/tmp/ipykernel_272366/1339986826.py]\n",
      "[ERROR] CORE(272366,7f4009669740,python):2024-07-04-20:39:03.670.030 [mindspore/core/utils/file_utils.cc:253] GetRealPath] Get realpath failed, path[/tmp/ipykernel_272366/1339986826.py]\n",
      "[ERROR] CORE(272366,7f4009669740,python):2024-07-04-20:39:03.674.151 [mindspore/core/utils/file_utils.cc:253] GetRealPath] Get realpath failed, path[/tmp/ipykernel_272366/1339986826.py]\n",
      "[ERROR] CORE(272366,7f4009669740,python):2024-07-04-20:39:04.877.877 [mindspore/core/utils/file_utils.cc:253] GetRealPath] Get realpath failed, path[/tmp/ipykernel_272366/3428476077.py]\n",
      "[ERROR] CORE(272366,7f4009669740,python):2024-07-04-20:39:04.877.937 [mindspore/core/utils/file_utils.cc:253] GetRealPath] Get realpath failed, path[/tmp/ipykernel_272366/3428476077.py]\n",
      "[ERROR] CORE(272366,7f4009669740,python):2024-07-04-20:39:04.877.957 [mindspore/core/utils/file_utils.cc:253] GetRealPath] Get realpath failed, path[/tmp/ipykernel_272366/3428476077.py]\n",
      "[ERROR] CORE(272366,7f4009669740,python):2024-07-04-20:39:04.878.628 [mindspore/core/utils/file_utils.cc:253] GetRealPath] Get realpath failed, path[/tmp/ipykernel_272366/3428476077.py]\n",
      "[ERROR] CORE(272366,7f4009669740,python):2024-07-04-20:39:04.878.666 [mindspore/core/utils/file_utils.cc:253] GetRealPath] Get realpath failed, path[/tmp/ipykernel_272366/3428476077.py]\n",
      "[ERROR] CORE(272366,7f4009669740,python):2024-07-04-20:39:04.879.291 [mindspore/core/utils/file_utils.cc:253] GetRealPath] Get realpath failed, path[/tmp/ipykernel_272366/3428476077.py]\n",
      "[ERROR] CORE(272366,7f4009669740,python):2024-07-04-20:39:04.879.333 [mindspore/core/utils/file_utils.cc:253] GetRealPath] Get realpath failed, path[/tmp/ipykernel_272366/3428476077.py]\n",
      "[ERROR] CORE(272366,7f4009669740,python):2024-07-04-20:39:04.879.352 [mindspore/core/utils/file_utils.cc:253] GetRealPath] Get realpath failed, path[/tmp/ipykernel_272366/3428476077.py]\n",
      "[ERROR] CORE(272366,7f4009669740,python):2024-07-04-20:39:04.879.369 [mindspore/core/utils/file_utils.cc:253] GetRealPath] Get realpath failed, path[/tmp/ipykernel_272366/1339986826.py]\n",
      "[ERROR] CORE(272366,7f4009669740,python):2024-07-04-20:39:04.879.427 [mindspore/core/utils/file_utils.cc:253] GetRealPath] Get realpath failed, path[/tmp/ipykernel_272366/3428476077.py]\n",
      "[ERROR] CORE(272366,7f4009669740,python):2024-07-04-20:39:04.894.857 [mindspore/core/utils/file_utils.cc:253] GetRealPath] Get realpath failed, path[/tmp/ipykernel_272366/1339986826.py]\n",
      "[ERROR] CORE(272366,7f4009669740,python):2024-07-04-20:39:04.897.398 [mindspore/core/utils/file_utils.cc:253] GetRealPath] Get realpath failed, path[/tmp/ipykernel_272366/1339986826.py]\n",
      "[ERROR] CORE(272366,7f4009669740,python):2024-07-04-20:39:04.897.414 [mindspore/core/utils/file_utils.cc:253] GetRealPath] Get realpath failed, path[/tmp/ipykernel_272366/1339986826.py]\n"
     ]
    },
    {
     "name": "stdout",
     "output_type": "stream",
     "text": [
      "weight=\n",
      "(1024,  192,    1)\n",
      "112\n"
     ]
    },
    {
     "name": "stderr",
     "output_type": "stream",
     "text": [
      "[ERROR] CORE(272366,7f4009669740,python):2024-07-04-20:39:05.609.043 [mindspore/core/utils/file_utils.cc:253] GetRealPath] Get realpath failed, path[/tmp/ipykernel_272366/1339986826.py]\n",
      "[ERROR] CORE(272366,7f4009669740,python):2024-07-04-20:39:05.610.114 [mindspore/core/utils/file_utils.cc:253] GetRealPath] Get realpath failed, path[/tmp/ipykernel_272366/1339986826.py]\n",
      "[ERROR] CORE(272366,7f4009669740,python):2024-07-04-20:39:05.613.672 [mindspore/core/utils/file_utils.cc:253] GetRealPath] Get realpath failed, path[/tmp/ipykernel_272366/1339986826.py]\n",
      "[ERROR] CORE(272366,7f4009669740,python):2024-07-04-20:39:06.823.908 [mindspore/core/utils/file_utils.cc:253] GetRealPath] Get realpath failed, path[/tmp/ipykernel_272366/3428476077.py]\n",
      "[ERROR] CORE(272366,7f4009669740,python):2024-07-04-20:39:06.823.997 [mindspore/core/utils/file_utils.cc:253] GetRealPath] Get realpath failed, path[/tmp/ipykernel_272366/3428476077.py]\n",
      "[ERROR] CORE(272366,7f4009669740,python):2024-07-04-20:39:06.824.028 [mindspore/core/utils/file_utils.cc:253] GetRealPath] Get realpath failed, path[/tmp/ipykernel_272366/3428476077.py]\n",
      "[ERROR] CORE(272366,7f4009669740,python):2024-07-04-20:39:06.825.017 [mindspore/core/utils/file_utils.cc:253] GetRealPath] Get realpath failed, path[/tmp/ipykernel_272366/3428476077.py]\n",
      "[ERROR] CORE(272366,7f4009669740,python):2024-07-04-20:39:06.825.089 [mindspore/core/utils/file_utils.cc:253] GetRealPath] Get realpath failed, path[/tmp/ipykernel_272366/3428476077.py]\n",
      "[ERROR] CORE(272366,7f4009669740,python):2024-07-04-20:39:06.825.733 [mindspore/core/utils/file_utils.cc:253] GetRealPath] Get realpath failed, path[/tmp/ipykernel_272366/3428476077.py]\n",
      "[ERROR] CORE(272366,7f4009669740,python):2024-07-04-20:39:06.825.778 [mindspore/core/utils/file_utils.cc:253] GetRealPath] Get realpath failed, path[/tmp/ipykernel_272366/3428476077.py]\n",
      "[ERROR] CORE(272366,7f4009669740,python):2024-07-04-20:39:06.825.797 [mindspore/core/utils/file_utils.cc:253] GetRealPath] Get realpath failed, path[/tmp/ipykernel_272366/3428476077.py]\n",
      "[ERROR] CORE(272366,7f4009669740,python):2024-07-04-20:39:06.825.815 [mindspore/core/utils/file_utils.cc:253] GetRealPath] Get realpath failed, path[/tmp/ipykernel_272366/1339986826.py]\n",
      "[ERROR] CORE(272366,7f4009669740,python):2024-07-04-20:39:06.825.879 [mindspore/core/utils/file_utils.cc:253] GetRealPath] Get realpath failed, path[/tmp/ipykernel_272366/3428476077.py]\n",
      "[ERROR] CORE(272366,7f4009669740,python):2024-07-04-20:39:06.836.136 [mindspore/core/utils/file_utils.cc:253] GetRealPath] Get realpath failed, path[/tmp/ipykernel_272366/1339986826.py]\n",
      "[ERROR] CORE(272366,7f4009669740,python):2024-07-04-20:39:06.836.156 [mindspore/core/utils/file_utils.cc:253] GetRealPath] Get realpath failed, path[/tmp/ipykernel_272366/1339986826.py]\n",
      "[ERROR] CORE(272366,7f4009669740,python):2024-07-04-20:39:06.839.954 [mindspore/core/utils/file_utils.cc:253] GetRealPath] Get realpath failed, path[/tmp/ipykernel_272366/1339986826.py]\n"
     ]
    },
    {
     "name": "stdout",
     "output_type": "stream",
     "text": [
      "weight=\n",
      "(1024,  192,    1)\n",
      "113\n"
     ]
    },
    {
     "name": "stderr",
     "output_type": "stream",
     "text": [
      "[ERROR] CORE(272366,7f4009669740,python):2024-07-04-20:39:07.550.783 [mindspore/core/utils/file_utils.cc:253] GetRealPath] Get realpath failed, path[/tmp/ipykernel_272366/1339986826.py]\n",
      "[ERROR] CORE(272366,7f4009669740,python):2024-07-04-20:39:07.551.832 [mindspore/core/utils/file_utils.cc:253] GetRealPath] Get realpath failed, path[/tmp/ipykernel_272366/1339986826.py]\n",
      "[ERROR] CORE(272366,7f4009669740,python):2024-07-04-20:39:07.555.361 [mindspore/core/utils/file_utils.cc:253] GetRealPath] Get realpath failed, path[/tmp/ipykernel_272366/1339986826.py]\n",
      "[ERROR] CORE(272366,7f4009669740,python):2024-07-04-20:39:08.768.393 [mindspore/core/utils/file_utils.cc:253] GetRealPath] Get realpath failed, path[/tmp/ipykernel_272366/3428476077.py]\n",
      "[ERROR] CORE(272366,7f4009669740,python):2024-07-04-20:39:08.768.463 [mindspore/core/utils/file_utils.cc:253] GetRealPath] Get realpath failed, path[/tmp/ipykernel_272366/3428476077.py]\n",
      "[ERROR] CORE(272366,7f4009669740,python):2024-07-04-20:39:08.768.484 [mindspore/core/utils/file_utils.cc:253] GetRealPath] Get realpath failed, path[/tmp/ipykernel_272366/3428476077.py]\n",
      "[ERROR] CORE(272366,7f4009669740,python):2024-07-04-20:39:08.769.177 [mindspore/core/utils/file_utils.cc:253] GetRealPath] Get realpath failed, path[/tmp/ipykernel_272366/3428476077.py]\n",
      "[ERROR] CORE(272366,7f4009669740,python):2024-07-04-20:39:08.769.217 [mindspore/core/utils/file_utils.cc:253] GetRealPath] Get realpath failed, path[/tmp/ipykernel_272366/3428476077.py]\n",
      "[ERROR] CORE(272366,7f4009669740,python):2024-07-04-20:39:08.769.825 [mindspore/core/utils/file_utils.cc:253] GetRealPath] Get realpath failed, path[/tmp/ipykernel_272366/3428476077.py]\n",
      "[ERROR] CORE(272366,7f4009669740,python):2024-07-04-20:39:08.769.866 [mindspore/core/utils/file_utils.cc:253] GetRealPath] Get realpath failed, path[/tmp/ipykernel_272366/3428476077.py]\n",
      "[ERROR] CORE(272366,7f4009669740,python):2024-07-04-20:39:08.769.885 [mindspore/core/utils/file_utils.cc:253] GetRealPath] Get realpath failed, path[/tmp/ipykernel_272366/3428476077.py]\n",
      "[ERROR] CORE(272366,7f4009669740,python):2024-07-04-20:39:08.769.903 [mindspore/core/utils/file_utils.cc:253] GetRealPath] Get realpath failed, path[/tmp/ipykernel_272366/1339986826.py]\n",
      "[ERROR] CORE(272366,7f4009669740,python):2024-07-04-20:39:08.769.962 [mindspore/core/utils/file_utils.cc:253] GetRealPath] Get realpath failed, path[/tmp/ipykernel_272366/3428476077.py]\n",
      "[ERROR] CORE(272366,7f4009669740,python):2024-07-04-20:39:08.784.777 [mindspore/core/utils/file_utils.cc:253] GetRealPath] Get realpath failed, path[/tmp/ipykernel_272366/1339986826.py]\n",
      "[ERROR] CORE(272366,7f4009669740,python):2024-07-04-20:39:08.784.795 [mindspore/core/utils/file_utils.cc:253] GetRealPath] Get realpath failed, path[/tmp/ipykernel_272366/1339986826.py]\n",
      "[ERROR] CORE(272366,7f4009669740,python):2024-07-04-20:39:08.785.981 [mindspore/core/utils/file_utils.cc:253] GetRealPath] Get realpath failed, path[/tmp/ipykernel_272366/1339986826.py]\n"
     ]
    },
    {
     "name": "stdout",
     "output_type": "stream",
     "text": [
      "weight=\n",
      "(1024,  192,    1)\n",
      "114\n"
     ]
    },
    {
     "name": "stderr",
     "output_type": "stream",
     "text": [
      "[ERROR] CORE(272366,7f4009669740,python):2024-07-04-20:39:09.536.264 [mindspore/core/utils/file_utils.cc:253] GetRealPath] Get realpath failed, path[/tmp/ipykernel_272366/1339986826.py]\n",
      "[ERROR] CORE(272366,7f4009669740,python):2024-07-04-20:39:09.537.308 [mindspore/core/utils/file_utils.cc:253] GetRealPath] Get realpath failed, path[/tmp/ipykernel_272366/1339986826.py]\n",
      "[ERROR] CORE(272366,7f4009669740,python):2024-07-04-20:39:09.541.040 [mindspore/core/utils/file_utils.cc:253] GetRealPath] Get realpath failed, path[/tmp/ipykernel_272366/1339986826.py]\n",
      "[ERROR] CORE(272366,7f4009669740,python):2024-07-04-20:39:10.719.895 [mindspore/core/utils/file_utils.cc:253] GetRealPath] Get realpath failed, path[/tmp/ipykernel_272366/3428476077.py]\n",
      "[ERROR] CORE(272366,7f4009669740,python):2024-07-04-20:39:10.719.970 [mindspore/core/utils/file_utils.cc:253] GetRealPath] Get realpath failed, path[/tmp/ipykernel_272366/3428476077.py]\n",
      "[ERROR] CORE(272366,7f4009669740,python):2024-07-04-20:39:10.719.993 [mindspore/core/utils/file_utils.cc:253] GetRealPath] Get realpath failed, path[/tmp/ipykernel_272366/3428476077.py]\n",
      "[ERROR] CORE(272366,7f4009669740,python):2024-07-04-20:39:10.720.669 [mindspore/core/utils/file_utils.cc:253] GetRealPath] Get realpath failed, path[/tmp/ipykernel_272366/3428476077.py]\n",
      "[ERROR] CORE(272366,7f4009669740,python):2024-07-04-20:39:10.720.709 [mindspore/core/utils/file_utils.cc:253] GetRealPath] Get realpath failed, path[/tmp/ipykernel_272366/3428476077.py]\n",
      "[ERROR] CORE(272366,7f4009669740,python):2024-07-04-20:39:10.721.339 [mindspore/core/utils/file_utils.cc:253] GetRealPath] Get realpath failed, path[/tmp/ipykernel_272366/3428476077.py]\n",
      "[ERROR] CORE(272366,7f4009669740,python):2024-07-04-20:39:10.721.381 [mindspore/core/utils/file_utils.cc:253] GetRealPath] Get realpath failed, path[/tmp/ipykernel_272366/3428476077.py]\n",
      "[ERROR] CORE(272366,7f4009669740,python):2024-07-04-20:39:10.721.400 [mindspore/core/utils/file_utils.cc:253] GetRealPath] Get realpath failed, path[/tmp/ipykernel_272366/3428476077.py]\n",
      "[ERROR] CORE(272366,7f4009669740,python):2024-07-04-20:39:10.721.417 [mindspore/core/utils/file_utils.cc:253] GetRealPath] Get realpath failed, path[/tmp/ipykernel_272366/1339986826.py]\n",
      "[ERROR] CORE(272366,7f4009669740,python):2024-07-04-20:39:10.721.485 [mindspore/core/utils/file_utils.cc:253] GetRealPath] Get realpath failed, path[/tmp/ipykernel_272366/3428476077.py]\n",
      "[ERROR] CORE(272366,7f4009669740,python):2024-07-04-20:39:10.732.439 [mindspore/core/utils/file_utils.cc:253] GetRealPath] Get realpath failed, path[/tmp/ipykernel_272366/1339986826.py]\n",
      "[ERROR] CORE(272366,7f4009669740,python):2024-07-04-20:39:10.734.648 [mindspore/core/utils/file_utils.cc:253] GetRealPath] Get realpath failed, path[/tmp/ipykernel_272366/1339986826.py]\n",
      "[ERROR] CORE(272366,7f4009669740,python):2024-07-04-20:39:10.738.320 [mindspore/core/utils/file_utils.cc:253] GetRealPath] Get realpath failed, path[/tmp/ipykernel_272366/1339986826.py]\n"
     ]
    },
    {
     "name": "stdout",
     "output_type": "stream",
     "text": [
      "weight=\n",
      "(1024,  192,    1)\n",
      "115\n"
     ]
    },
    {
     "name": "stderr",
     "output_type": "stream",
     "text": [
      "[ERROR] CORE(272366,7f4009669740,python):2024-07-04-20:39:11.448.438 [mindspore/core/utils/file_utils.cc:253] GetRealPath] Get realpath failed, path[/tmp/ipykernel_272366/1339986826.py]\n",
      "[ERROR] CORE(272366,7f4009669740,python):2024-07-04-20:39:11.449.494 [mindspore/core/utils/file_utils.cc:253] GetRealPath] Get realpath failed, path[/tmp/ipykernel_272366/1339986826.py]\n",
      "[ERROR] CORE(272366,7f4009669740,python):2024-07-04-20:39:11.453.026 [mindspore/core/utils/file_utils.cc:253] GetRealPath] Get realpath failed, path[/tmp/ipykernel_272366/1339986826.py]\n",
      "[ERROR] CORE(272366,7f4009669740,python):2024-07-04-20:39:12.663.979 [mindspore/core/utils/file_utils.cc:253] GetRealPath] Get realpath failed, path[/tmp/ipykernel_272366/3428476077.py]\n",
      "[ERROR] CORE(272366,7f4009669740,python):2024-07-04-20:39:12.664.038 [mindspore/core/utils/file_utils.cc:253] GetRealPath] Get realpath failed, path[/tmp/ipykernel_272366/3428476077.py]\n",
      "[ERROR] CORE(272366,7f4009669740,python):2024-07-04-20:39:12.664.076 [mindspore/core/utils/file_utils.cc:253] GetRealPath] Get realpath failed, path[/tmp/ipykernel_272366/3428476077.py]\n",
      "[ERROR] CORE(272366,7f4009669740,python):2024-07-04-20:39:12.664.733 [mindspore/core/utils/file_utils.cc:253] GetRealPath] Get realpath failed, path[/tmp/ipykernel_272366/3428476077.py]\n",
      "[ERROR] CORE(272366,7f4009669740,python):2024-07-04-20:39:12.664.772 [mindspore/core/utils/file_utils.cc:253] GetRealPath] Get realpath failed, path[/tmp/ipykernel_272366/3428476077.py]\n",
      "[ERROR] CORE(272366,7f4009669740,python):2024-07-04-20:39:12.665.407 [mindspore/core/utils/file_utils.cc:253] GetRealPath] Get realpath failed, path[/tmp/ipykernel_272366/3428476077.py]\n",
      "[ERROR] CORE(272366,7f4009669740,python):2024-07-04-20:39:12.665.449 [mindspore/core/utils/file_utils.cc:253] GetRealPath] Get realpath failed, path[/tmp/ipykernel_272366/3428476077.py]\n",
      "[ERROR] CORE(272366,7f4009669740,python):2024-07-04-20:39:12.665.468 [mindspore/core/utils/file_utils.cc:253] GetRealPath] Get realpath failed, path[/tmp/ipykernel_272366/3428476077.py]\n",
      "[ERROR] CORE(272366,7f4009669740,python):2024-07-04-20:39:12.665.497 [mindspore/core/utils/file_utils.cc:253] GetRealPath] Get realpath failed, path[/tmp/ipykernel_272366/1339986826.py]\n",
      "[ERROR] CORE(272366,7f4009669740,python):2024-07-04-20:39:12.665.557 [mindspore/core/utils/file_utils.cc:253] GetRealPath] Get realpath failed, path[/tmp/ipykernel_272366/3428476077.py]\n",
      "[ERROR] CORE(272366,7f4009669740,python):2024-07-04-20:39:12.676.697 [mindspore/core/utils/file_utils.cc:253] GetRealPath] Get realpath failed, path[/tmp/ipykernel_272366/1339986826.py]\n",
      "[ERROR] CORE(272366,7f4009669740,python):2024-07-04-20:39:12.681.587 [mindspore/core/utils/file_utils.cc:253] GetRealPath] Get realpath failed, path[/tmp/ipykernel_272366/1339986826.py]\n",
      "[ERROR] CORE(272366,7f4009669740,python):2024-07-04-20:39:12.681.603 [mindspore/core/utils/file_utils.cc:253] GetRealPath] Get realpath failed, path[/tmp/ipykernel_272366/1339986826.py]\n"
     ]
    },
    {
     "name": "stdout",
     "output_type": "stream",
     "text": [
      "weight=\n",
      "(1024,  192,    1)\n",
      "116\n"
     ]
    },
    {
     "name": "stderr",
     "output_type": "stream",
     "text": [
      "[ERROR] CORE(272366,7f4009669740,python):2024-07-04-20:39:13.404.383 [mindspore/core/utils/file_utils.cc:253] GetRealPath] Get realpath failed, path[/tmp/ipykernel_272366/1339986826.py]\n",
      "[ERROR] CORE(272366,7f4009669740,python):2024-07-04-20:39:13.405.424 [mindspore/core/utils/file_utils.cc:253] GetRealPath] Get realpath failed, path[/tmp/ipykernel_272366/1339986826.py]\n",
      "[ERROR] CORE(272366,7f4009669740,python):2024-07-04-20:39:13.409.014 [mindspore/core/utils/file_utils.cc:253] GetRealPath] Get realpath failed, path[/tmp/ipykernel_272366/1339986826.py]\n",
      "[ERROR] CORE(272366,7f4009669740,python):2024-07-04-20:39:14.608.004 [mindspore/core/utils/file_utils.cc:253] GetRealPath] Get realpath failed, path[/tmp/ipykernel_272366/3428476077.py]\n",
      "[ERROR] CORE(272366,7f4009669740,python):2024-07-04-20:39:14.608.098 [mindspore/core/utils/file_utils.cc:253] GetRealPath] Get realpath failed, path[/tmp/ipykernel_272366/3428476077.py]\n",
      "[ERROR] CORE(272366,7f4009669740,python):2024-07-04-20:39:14.608.120 [mindspore/core/utils/file_utils.cc:253] GetRealPath] Get realpath failed, path[/tmp/ipykernel_272366/3428476077.py]\n",
      "[ERROR] CORE(272366,7f4009669740,python):2024-07-04-20:39:14.608.755 [mindspore/core/utils/file_utils.cc:253] GetRealPath] Get realpath failed, path[/tmp/ipykernel_272366/3428476077.py]\n",
      "[ERROR] CORE(272366,7f4009669740,python):2024-07-04-20:39:14.608.790 [mindspore/core/utils/file_utils.cc:253] GetRealPath] Get realpath failed, path[/tmp/ipykernel_272366/3428476077.py]\n",
      "[ERROR] CORE(272366,7f4009669740,python):2024-07-04-20:39:14.609.379 [mindspore/core/utils/file_utils.cc:253] GetRealPath] Get realpath failed, path[/tmp/ipykernel_272366/3428476077.py]\n",
      "[ERROR] CORE(272366,7f4009669740,python):2024-07-04-20:39:14.609.422 [mindspore/core/utils/file_utils.cc:253] GetRealPath] Get realpath failed, path[/tmp/ipykernel_272366/3428476077.py]\n",
      "[ERROR] CORE(272366,7f4009669740,python):2024-07-04-20:39:14.609.442 [mindspore/core/utils/file_utils.cc:253] GetRealPath] Get realpath failed, path[/tmp/ipykernel_272366/3428476077.py]\n",
      "[ERROR] CORE(272366,7f4009669740,python):2024-07-04-20:39:14.609.460 [mindspore/core/utils/file_utils.cc:253] GetRealPath] Get realpath failed, path[/tmp/ipykernel_272366/1339986826.py]\n",
      "[ERROR] CORE(272366,7f4009669740,python):2024-07-04-20:39:14.609.529 [mindspore/core/utils/file_utils.cc:253] GetRealPath] Get realpath failed, path[/tmp/ipykernel_272366/3428476077.py]\n",
      "[ERROR] CORE(272366,7f4009669740,python):2024-07-04-20:39:14.622.882 [mindspore/core/utils/file_utils.cc:253] GetRealPath] Get realpath failed, path[/tmp/ipykernel_272366/1339986826.py]\n",
      "[ERROR] CORE(272366,7f4009669740,python):2024-07-04-20:39:14.624.233 [mindspore/core/utils/file_utils.cc:253] GetRealPath] Get realpath failed, path[/tmp/ipykernel_272366/1339986826.py]\n",
      "[ERROR] CORE(272366,7f4009669740,python):2024-07-04-20:39:14.625.529 [mindspore/core/utils/file_utils.cc:253] GetRealPath] Get realpath failed, path[/tmp/ipykernel_272366/1339986826.py]\n"
     ]
    },
    {
     "name": "stdout",
     "output_type": "stream",
     "text": [
      "weight=\n",
      "(1024,  192,    1)\n",
      "117\n"
     ]
    },
    {
     "name": "stderr",
     "output_type": "stream",
     "text": [
      "[ERROR] CORE(272366,7f4009669740,python):2024-07-04-20:39:15.359.398 [mindspore/core/utils/file_utils.cc:253] GetRealPath] Get realpath failed, path[/tmp/ipykernel_272366/1339986826.py]\n",
      "[ERROR] CORE(272366,7f4009669740,python):2024-07-04-20:39:15.360.465 [mindspore/core/utils/file_utils.cc:253] GetRealPath] Get realpath failed, path[/tmp/ipykernel_272366/1339986826.py]\n",
      "[ERROR] CORE(272366,7f4009669740,python):2024-07-04-20:39:15.364.153 [mindspore/core/utils/file_utils.cc:253] GetRealPath] Get realpath failed, path[/tmp/ipykernel_272366/1339986826.py]\n",
      "[ERROR] CORE(272366,7f4009669740,python):2024-07-04-20:39:16.568.956 [mindspore/core/utils/file_utils.cc:253] GetRealPath] Get realpath failed, path[/tmp/ipykernel_272366/3428476077.py]\n",
      "[ERROR] CORE(272366,7f4009669740,python):2024-07-04-20:39:16.569.015 [mindspore/core/utils/file_utils.cc:253] GetRealPath] Get realpath failed, path[/tmp/ipykernel_272366/3428476077.py]\n",
      "[ERROR] CORE(272366,7f4009669740,python):2024-07-04-20:39:16.569.035 [mindspore/core/utils/file_utils.cc:253] GetRealPath] Get realpath failed, path[/tmp/ipykernel_272366/3428476077.py]\n",
      "[ERROR] CORE(272366,7f4009669740,python):2024-07-04-20:39:16.569.712 [mindspore/core/utils/file_utils.cc:253] GetRealPath] Get realpath failed, path[/tmp/ipykernel_272366/3428476077.py]\n",
      "[ERROR] CORE(272366,7f4009669740,python):2024-07-04-20:39:16.569.751 [mindspore/core/utils/file_utils.cc:253] GetRealPath] Get realpath failed, path[/tmp/ipykernel_272366/3428476077.py]\n",
      "[ERROR] CORE(272366,7f4009669740,python):2024-07-04-20:39:16.570.378 [mindspore/core/utils/file_utils.cc:253] GetRealPath] Get realpath failed, path[/tmp/ipykernel_272366/3428476077.py]\n",
      "[ERROR] CORE(272366,7f4009669740,python):2024-07-04-20:39:16.570.420 [mindspore/core/utils/file_utils.cc:253] GetRealPath] Get realpath failed, path[/tmp/ipykernel_272366/3428476077.py]\n",
      "[ERROR] CORE(272366,7f4009669740,python):2024-07-04-20:39:16.570.439 [mindspore/core/utils/file_utils.cc:253] GetRealPath] Get realpath failed, path[/tmp/ipykernel_272366/3428476077.py]\n",
      "[ERROR] CORE(272366,7f4009669740,python):2024-07-04-20:39:16.570.456 [mindspore/core/utils/file_utils.cc:253] GetRealPath] Get realpath failed, path[/tmp/ipykernel_272366/1339986826.py]\n",
      "[ERROR] CORE(272366,7f4009669740,python):2024-07-04-20:39:16.570.523 [mindspore/core/utils/file_utils.cc:253] GetRealPath] Get realpath failed, path[/tmp/ipykernel_272366/3428476077.py]\n",
      "[ERROR] CORE(272366,7f4009669740,python):2024-07-04-20:39:16.582.776 [mindspore/core/utils/file_utils.cc:253] GetRealPath] Get realpath failed, path[/tmp/ipykernel_272366/1339986826.py]\n",
      "[ERROR] CORE(272366,7f4009669740,python):2024-07-04-20:39:16.584.117 [mindspore/core/utils/file_utils.cc:253] GetRealPath] Get realpath failed, path[/tmp/ipykernel_272366/1339986826.py]\n",
      "[ERROR] CORE(272366,7f4009669740,python):2024-07-04-20:39:16.586.503 [mindspore/core/utils/file_utils.cc:253] GetRealPath] Get realpath failed, path[/tmp/ipykernel_272366/1339986826.py]\n"
     ]
    },
    {
     "name": "stdout",
     "output_type": "stream",
     "text": [
      "weight=\n",
      "(1024,  192,    1)\n",
      "118\n"
     ]
    },
    {
     "name": "stderr",
     "output_type": "stream",
     "text": [
      "[ERROR] CORE(272366,7f4009669740,python):2024-07-04-20:39:17.315.377 [mindspore/core/utils/file_utils.cc:253] GetRealPath] Get realpath failed, path[/tmp/ipykernel_272366/1339986826.py]\n",
      "[ERROR] CORE(272366,7f4009669740,python):2024-07-04-20:39:17.316.441 [mindspore/core/utils/file_utils.cc:253] GetRealPath] Get realpath failed, path[/tmp/ipykernel_272366/1339986826.py]\n",
      "[ERROR] CORE(272366,7f4009669740,python):2024-07-04-20:39:17.320.149 [mindspore/core/utils/file_utils.cc:253] GetRealPath] Get realpath failed, path[/tmp/ipykernel_272366/1339986826.py]\n",
      "[ERROR] CORE(272366,7f4009669740,python):2024-07-04-20:39:18.557.404 [mindspore/core/utils/file_utils.cc:253] GetRealPath] Get realpath failed, path[/tmp/ipykernel_272366/3428476077.py]\n",
      "[ERROR] CORE(272366,7f4009669740,python):2024-07-04-20:39:18.557.465 [mindspore/core/utils/file_utils.cc:253] GetRealPath] Get realpath failed, path[/tmp/ipykernel_272366/3428476077.py]\n",
      "[ERROR] CORE(272366,7f4009669740,python):2024-07-04-20:39:18.557.485 [mindspore/core/utils/file_utils.cc:253] GetRealPath] Get realpath failed, path[/tmp/ipykernel_272366/3428476077.py]\n",
      "[ERROR] CORE(272366,7f4009669740,python):2024-07-04-20:39:18.558.181 [mindspore/core/utils/file_utils.cc:253] GetRealPath] Get realpath failed, path[/tmp/ipykernel_272366/3428476077.py]\n",
      "[ERROR] CORE(272366,7f4009669740,python):2024-07-04-20:39:18.558.220 [mindspore/core/utils/file_utils.cc:253] GetRealPath] Get realpath failed, path[/tmp/ipykernel_272366/3428476077.py]\n",
      "[ERROR] CORE(272366,7f4009669740,python):2024-07-04-20:39:18.558.825 [mindspore/core/utils/file_utils.cc:253] GetRealPath] Get realpath failed, path[/tmp/ipykernel_272366/3428476077.py]\n",
      "[ERROR] CORE(272366,7f4009669740,python):2024-07-04-20:39:18.558.867 [mindspore/core/utils/file_utils.cc:253] GetRealPath] Get realpath failed, path[/tmp/ipykernel_272366/3428476077.py]\n",
      "[ERROR] CORE(272366,7f4009669740,python):2024-07-04-20:39:18.558.886 [mindspore/core/utils/file_utils.cc:253] GetRealPath] Get realpath failed, path[/tmp/ipykernel_272366/3428476077.py]\n",
      "[ERROR] CORE(272366,7f4009669740,python):2024-07-04-20:39:18.558.903 [mindspore/core/utils/file_utils.cc:253] GetRealPath] Get realpath failed, path[/tmp/ipykernel_272366/1339986826.py]\n",
      "[ERROR] CORE(272366,7f4009669740,python):2024-07-04-20:39:18.558.961 [mindspore/core/utils/file_utils.cc:253] GetRealPath] Get realpath failed, path[/tmp/ipykernel_272366/3428476077.py]\n",
      "[ERROR] CORE(272366,7f4009669740,python):2024-07-04-20:39:18.569.380 [mindspore/core/utils/file_utils.cc:253] GetRealPath] Get realpath failed, path[/tmp/ipykernel_272366/1339986826.py]\n",
      "[ERROR] CORE(272366,7f4009669740,python):2024-07-04-20:39:18.569.402 [mindspore/core/utils/file_utils.cc:253] GetRealPath] Get realpath failed, path[/tmp/ipykernel_272366/1339986826.py]\n",
      "[ERROR] CORE(272366,7f4009669740,python):2024-07-04-20:39:18.571.918 [mindspore/core/utils/file_utils.cc:253] GetRealPath] Get realpath failed, path[/tmp/ipykernel_272366/1339986826.py]\n"
     ]
    },
    {
     "name": "stdout",
     "output_type": "stream",
     "text": [
      "weight=\n",
      "(1024,  192,    1)\n",
      "119\n"
     ]
    },
    {
     "name": "stderr",
     "output_type": "stream",
     "text": [
      "[ERROR] CORE(272366,7f4009669740,python):2024-07-04-20:39:19.306.003 [mindspore/core/utils/file_utils.cc:253] GetRealPath] Get realpath failed, path[/tmp/ipykernel_272366/1339986826.py]\n",
      "[ERROR] CORE(272366,7f4009669740,python):2024-07-04-20:39:19.307.038 [mindspore/core/utils/file_utils.cc:253] GetRealPath] Get realpath failed, path[/tmp/ipykernel_272366/1339986826.py]\n",
      "[ERROR] CORE(272366,7f4009669740,python):2024-07-04-20:39:19.310.648 [mindspore/core/utils/file_utils.cc:253] GetRealPath] Get realpath failed, path[/tmp/ipykernel_272366/1339986826.py]\n",
      "[ERROR] CORE(272366,7f4009669740,python):2024-07-04-20:39:20.504.552 [mindspore/core/utils/file_utils.cc:253] GetRealPath] Get realpath failed, path[/tmp/ipykernel_272366/3428476077.py]\n",
      "[ERROR] CORE(272366,7f4009669740,python):2024-07-04-20:39:20.504.611 [mindspore/core/utils/file_utils.cc:253] GetRealPath] Get realpath failed, path[/tmp/ipykernel_272366/3428476077.py]\n",
      "[ERROR] CORE(272366,7f4009669740,python):2024-07-04-20:39:20.504.631 [mindspore/core/utils/file_utils.cc:253] GetRealPath] Get realpath failed, path[/tmp/ipykernel_272366/3428476077.py]\n",
      "[ERROR] CORE(272366,7f4009669740,python):2024-07-04-20:39:20.505.300 [mindspore/core/utils/file_utils.cc:253] GetRealPath] Get realpath failed, path[/tmp/ipykernel_272366/3428476077.py]\n",
      "[ERROR] CORE(272366,7f4009669740,python):2024-07-04-20:39:20.505.339 [mindspore/core/utils/file_utils.cc:253] GetRealPath] Get realpath failed, path[/tmp/ipykernel_272366/3428476077.py]\n",
      "[ERROR] CORE(272366,7f4009669740,python):2024-07-04-20:39:20.505.924 [mindspore/core/utils/file_utils.cc:253] GetRealPath] Get realpath failed, path[/tmp/ipykernel_272366/3428476077.py]\n",
      "[ERROR] CORE(272366,7f4009669740,python):2024-07-04-20:39:20.505.963 [mindspore/core/utils/file_utils.cc:253] GetRealPath] Get realpath failed, path[/tmp/ipykernel_272366/3428476077.py]\n",
      "[ERROR] CORE(272366,7f4009669740,python):2024-07-04-20:39:20.505.981 [mindspore/core/utils/file_utils.cc:253] GetRealPath] Get realpath failed, path[/tmp/ipykernel_272366/3428476077.py]\n",
      "[ERROR] CORE(272366,7f4009669740,python):2024-07-04-20:39:20.505.997 [mindspore/core/utils/file_utils.cc:253] GetRealPath] Get realpath failed, path[/tmp/ipykernel_272366/1339986826.py]\n",
      "[ERROR] CORE(272366,7f4009669740,python):2024-07-04-20:39:20.506.070 [mindspore/core/utils/file_utils.cc:253] GetRealPath] Get realpath failed, path[/tmp/ipykernel_272366/3428476077.py]\n",
      "[ERROR] CORE(272366,7f4009669740,python):2024-07-04-20:39:20.516.823 [mindspore/core/utils/file_utils.cc:253] GetRealPath] Get realpath failed, path[/tmp/ipykernel_272366/1339986826.py]\n",
      "[ERROR] CORE(272366,7f4009669740,python):2024-07-04-20:39:20.517.932 [mindspore/core/utils/file_utils.cc:253] GetRealPath] Get realpath failed, path[/tmp/ipykernel_272366/1339986826.py]\n",
      "[ERROR] CORE(272366,7f4009669740,python):2024-07-04-20:39:20.521.752 [mindspore/core/utils/file_utils.cc:253] GetRealPath] Get realpath failed, path[/tmp/ipykernel_272366/1339986826.py]\n"
     ]
    },
    {
     "name": "stdout",
     "output_type": "stream",
     "text": [
      "weight=\n",
      "(1024,  192,    1)\n",
      "120\n"
     ]
    },
    {
     "name": "stderr",
     "output_type": "stream",
     "text": [
      "[ERROR] CORE(272366,7f4009669740,python):2024-07-04-20:39:21.267.929 [mindspore/core/utils/file_utils.cc:253] GetRealPath] Get realpath failed, path[/tmp/ipykernel_272366/1339986826.py]\n",
      "[ERROR] CORE(272366,7f4009669740,python):2024-07-04-20:39:21.269.295 [mindspore/core/utils/file_utils.cc:253] GetRealPath] Get realpath failed, path[/tmp/ipykernel_272366/1339986826.py]\n",
      "[ERROR] CORE(272366,7f4009669740,python):2024-07-04-20:39:21.273.663 [mindspore/core/utils/file_utils.cc:253] GetRealPath] Get realpath failed, path[/tmp/ipykernel_272366/1339986826.py]\n",
      "[ERROR] CORE(272366,7f4009669740,python):2024-07-04-20:39:22.498.530 [mindspore/core/utils/file_utils.cc:253] GetRealPath] Get realpath failed, path[/tmp/ipykernel_272366/3428476077.py]\n",
      "[ERROR] CORE(272366,7f4009669740,python):2024-07-04-20:39:22.498.602 [mindspore/core/utils/file_utils.cc:253] GetRealPath] Get realpath failed, path[/tmp/ipykernel_272366/3428476077.py]\n",
      "[ERROR] CORE(272366,7f4009669740,python):2024-07-04-20:39:22.498.622 [mindspore/core/utils/file_utils.cc:253] GetRealPath] Get realpath failed, path[/tmp/ipykernel_272366/3428476077.py]\n",
      "[ERROR] CORE(272366,7f4009669740,python):2024-07-04-20:39:22.499.310 [mindspore/core/utils/file_utils.cc:253] GetRealPath] Get realpath failed, path[/tmp/ipykernel_272366/3428476077.py]\n",
      "[ERROR] CORE(272366,7f4009669740,python):2024-07-04-20:39:22.499.350 [mindspore/core/utils/file_utils.cc:253] GetRealPath] Get realpath failed, path[/tmp/ipykernel_272366/3428476077.py]\n",
      "[ERROR] CORE(272366,7f4009669740,python):2024-07-04-20:39:22.499.951 [mindspore/core/utils/file_utils.cc:253] GetRealPath] Get realpath failed, path[/tmp/ipykernel_272366/3428476077.py]\n",
      "[ERROR] CORE(272366,7f4009669740,python):2024-07-04-20:39:22.499.992 [mindspore/core/utils/file_utils.cc:253] GetRealPath] Get realpath failed, path[/tmp/ipykernel_272366/3428476077.py]\n",
      "[ERROR] CORE(272366,7f4009669740,python):2024-07-04-20:39:22.500.010 [mindspore/core/utils/file_utils.cc:253] GetRealPath] Get realpath failed, path[/tmp/ipykernel_272366/3428476077.py]\n",
      "[ERROR] CORE(272366,7f4009669740,python):2024-07-04-20:39:22.500.026 [mindspore/core/utils/file_utils.cc:253] GetRealPath] Get realpath failed, path[/tmp/ipykernel_272366/1339986826.py]\n",
      "[ERROR] CORE(272366,7f4009669740,python):2024-07-04-20:39:22.500.101 [mindspore/core/utils/file_utils.cc:253] GetRealPath] Get realpath failed, path[/tmp/ipykernel_272366/3428476077.py]\n",
      "[ERROR] CORE(272366,7f4009669740,python):2024-07-04-20:39:22.512.711 [mindspore/core/utils/file_utils.cc:253] GetRealPath] Get realpath failed, path[/tmp/ipykernel_272366/1339986826.py]\n",
      "[ERROR] CORE(272366,7f4009669740,python):2024-07-04-20:39:22.512.730 [mindspore/core/utils/file_utils.cc:253] GetRealPath] Get realpath failed, path[/tmp/ipykernel_272366/1339986826.py]\n",
      "[ERROR] CORE(272366,7f4009669740,python):2024-07-04-20:39:22.515.131 [mindspore/core/utils/file_utils.cc:253] GetRealPath] Get realpath failed, path[/tmp/ipykernel_272366/1339986826.py]\n"
     ]
    },
    {
     "name": "stdout",
     "output_type": "stream",
     "text": [
      "weight=\n",
      "(1024,  192,    1)\n",
      "121\n"
     ]
    },
    {
     "name": "stderr",
     "output_type": "stream",
     "text": [
      "[ERROR] CORE(272366,7f4009669740,python):2024-07-04-20:39:23.245.123 [mindspore/core/utils/file_utils.cc:253] GetRealPath] Get realpath failed, path[/tmp/ipykernel_272366/1339986826.py]\n",
      "[ERROR] CORE(272366,7f4009669740,python):2024-07-04-20:39:23.246.137 [mindspore/core/utils/file_utils.cc:253] GetRealPath] Get realpath failed, path[/tmp/ipykernel_272366/1339986826.py]\n",
      "[ERROR] CORE(272366,7f4009669740,python):2024-07-04-20:39:23.249.760 [mindspore/core/utils/file_utils.cc:253] GetRealPath] Get realpath failed, path[/tmp/ipykernel_272366/1339986826.py]\n",
      "[ERROR] CORE(272366,7f4009669740,python):2024-07-04-20:39:24.465.505 [mindspore/core/utils/file_utils.cc:253] GetRealPath] Get realpath failed, path[/tmp/ipykernel_272366/3428476077.py]\n",
      "[ERROR] CORE(272366,7f4009669740,python):2024-07-04-20:39:24.465.572 [mindspore/core/utils/file_utils.cc:253] GetRealPath] Get realpath failed, path[/tmp/ipykernel_272366/3428476077.py]\n",
      "[ERROR] CORE(272366,7f4009669740,python):2024-07-04-20:39:24.465.591 [mindspore/core/utils/file_utils.cc:253] GetRealPath] Get realpath failed, path[/tmp/ipykernel_272366/3428476077.py]\n",
      "[ERROR] CORE(272366,7f4009669740,python):2024-07-04-20:39:24.466.296 [mindspore/core/utils/file_utils.cc:253] GetRealPath] Get realpath failed, path[/tmp/ipykernel_272366/3428476077.py]\n",
      "[ERROR] CORE(272366,7f4009669740,python):2024-07-04-20:39:24.466.335 [mindspore/core/utils/file_utils.cc:253] GetRealPath] Get realpath failed, path[/tmp/ipykernel_272366/3428476077.py]\n",
      "[ERROR] CORE(272366,7f4009669740,python):2024-07-04-20:39:24.466.929 [mindspore/core/utils/file_utils.cc:253] GetRealPath] Get realpath failed, path[/tmp/ipykernel_272366/3428476077.py]\n",
      "[ERROR] CORE(272366,7f4009669740,python):2024-07-04-20:39:24.466.970 [mindspore/core/utils/file_utils.cc:253] GetRealPath] Get realpath failed, path[/tmp/ipykernel_272366/3428476077.py]\n",
      "[ERROR] CORE(272366,7f4009669740,python):2024-07-04-20:39:24.466.989 [mindspore/core/utils/file_utils.cc:253] GetRealPath] Get realpath failed, path[/tmp/ipykernel_272366/3428476077.py]\n",
      "[ERROR] CORE(272366,7f4009669740,python):2024-07-04-20:39:24.467.007 [mindspore/core/utils/file_utils.cc:253] GetRealPath] Get realpath failed, path[/tmp/ipykernel_272366/1339986826.py]\n",
      "[ERROR] CORE(272366,7f4009669740,python):2024-07-04-20:39:24.467.083 [mindspore/core/utils/file_utils.cc:253] GetRealPath] Get realpath failed, path[/tmp/ipykernel_272366/3428476077.py]\n",
      "[ERROR] CORE(272366,7f4009669740,python):2024-07-04-20:39:24.479.184 [mindspore/core/utils/file_utils.cc:253] GetRealPath] Get realpath failed, path[/tmp/ipykernel_272366/1339986826.py]\n",
      "[ERROR] CORE(272366,7f4009669740,python):2024-07-04-20:39:24.479.202 [mindspore/core/utils/file_utils.cc:253] GetRealPath] Get realpath failed, path[/tmp/ipykernel_272366/1339986826.py]\n",
      "[ERROR] CORE(272366,7f4009669740,python):2024-07-04-20:39:24.484.056 [mindspore/core/utils/file_utils.cc:253] GetRealPath] Get realpath failed, path[/tmp/ipykernel_272366/1339986826.py]\n"
     ]
    },
    {
     "name": "stdout",
     "output_type": "stream",
     "text": [
      "weight=\n",
      "(1024,  192,    1)\n",
      "122\n"
     ]
    },
    {
     "name": "stderr",
     "output_type": "stream",
     "text": [
      "[ERROR] CORE(272366,7f4009669740,python):2024-07-04-20:39:25.211.748 [mindspore/core/utils/file_utils.cc:253] GetRealPath] Get realpath failed, path[/tmp/ipykernel_272366/1339986826.py]\n",
      "[ERROR] CORE(272366,7f4009669740,python):2024-07-04-20:39:25.212.833 [mindspore/core/utils/file_utils.cc:253] GetRealPath] Get realpath failed, path[/tmp/ipykernel_272366/1339986826.py]\n",
      "[ERROR] CORE(272366,7f4009669740,python):2024-07-04-20:39:25.216.357 [mindspore/core/utils/file_utils.cc:253] GetRealPath] Get realpath failed, path[/tmp/ipykernel_272366/1339986826.py]\n",
      "[ERROR] CORE(272366,7f4009669740,python):2024-07-04-20:39:26.399.810 [mindspore/core/utils/file_utils.cc:253] GetRealPath] Get realpath failed, path[/tmp/ipykernel_272366/3428476077.py]\n",
      "[ERROR] CORE(272366,7f4009669740,python):2024-07-04-20:39:26.399.873 [mindspore/core/utils/file_utils.cc:253] GetRealPath] Get realpath failed, path[/tmp/ipykernel_272366/3428476077.py]\n",
      "[ERROR] CORE(272366,7f4009669740,python):2024-07-04-20:39:26.399.893 [mindspore/core/utils/file_utils.cc:253] GetRealPath] Get realpath failed, path[/tmp/ipykernel_272366/3428476077.py]\n",
      "[ERROR] CORE(272366,7f4009669740,python):2024-07-04-20:39:26.400.596 [mindspore/core/utils/file_utils.cc:253] GetRealPath] Get realpath failed, path[/tmp/ipykernel_272366/3428476077.py]\n",
      "[ERROR] CORE(272366,7f4009669740,python):2024-07-04-20:39:26.400.639 [mindspore/core/utils/file_utils.cc:253] GetRealPath] Get realpath failed, path[/tmp/ipykernel_272366/3428476077.py]\n",
      "[ERROR] CORE(272366,7f4009669740,python):2024-07-04-20:39:26.401.277 [mindspore/core/utils/file_utils.cc:253] GetRealPath] Get realpath failed, path[/tmp/ipykernel_272366/3428476077.py]\n",
      "[ERROR] CORE(272366,7f4009669740,python):2024-07-04-20:39:26.401.321 [mindspore/core/utils/file_utils.cc:253] GetRealPath] Get realpath failed, path[/tmp/ipykernel_272366/3428476077.py]\n",
      "[ERROR] CORE(272366,7f4009669740,python):2024-07-04-20:39:26.401.340 [mindspore/core/utils/file_utils.cc:253] GetRealPath] Get realpath failed, path[/tmp/ipykernel_272366/3428476077.py]\n",
      "[ERROR] CORE(272366,7f4009669740,python):2024-07-04-20:39:26.401.358 [mindspore/core/utils/file_utils.cc:253] GetRealPath] Get realpath failed, path[/tmp/ipykernel_272366/1339986826.py]\n",
      "[ERROR] CORE(272366,7f4009669740,python):2024-07-04-20:39:26.401.428 [mindspore/core/utils/file_utils.cc:253] GetRealPath] Get realpath failed, path[/tmp/ipykernel_272366/3428476077.py]\n",
      "[ERROR] CORE(272366,7f4009669740,python):2024-07-04-20:39:26.415.020 [mindspore/core/utils/file_utils.cc:253] GetRealPath] Get realpath failed, path[/tmp/ipykernel_272366/1339986826.py]\n",
      "[ERROR] CORE(272366,7f4009669740,python):2024-07-04-20:39:26.415.039 [mindspore/core/utils/file_utils.cc:253] GetRealPath] Get realpath failed, path[/tmp/ipykernel_272366/1339986826.py]\n",
      "[ERROR] CORE(272366,7f4009669740,python):2024-07-04-20:39:26.417.951 [mindspore/core/utils/file_utils.cc:253] GetRealPath] Get realpath failed, path[/tmp/ipykernel_272366/1339986826.py]\n"
     ]
    },
    {
     "name": "stdout",
     "output_type": "stream",
     "text": [
      "weight=\n",
      "(1024,  192,    1)\n",
      "123\n"
     ]
    },
    {
     "name": "stderr",
     "output_type": "stream",
     "text": [
      "[ERROR] CORE(272366,7f4009669740,python):2024-07-04-20:39:27.138.670 [mindspore/core/utils/file_utils.cc:253] GetRealPath] Get realpath failed, path[/tmp/ipykernel_272366/1339986826.py]\n",
      "[ERROR] CORE(272366,7f4009669740,python):2024-07-04-20:39:27.139.965 [mindspore/core/utils/file_utils.cc:253] GetRealPath] Get realpath failed, path[/tmp/ipykernel_272366/1339986826.py]\n",
      "[ERROR] CORE(272366,7f4009669740,python):2024-07-04-20:39:27.143.657 [mindspore/core/utils/file_utils.cc:253] GetRealPath] Get realpath failed, path[/tmp/ipykernel_272366/1339986826.py]\n",
      "[ERROR] CORE(272366,7f4009669740,python):2024-07-04-20:39:28.360.012 [mindspore/core/utils/file_utils.cc:253] GetRealPath] Get realpath failed, path[/tmp/ipykernel_272366/3428476077.py]\n",
      "[ERROR] CORE(272366,7f4009669740,python):2024-07-04-20:39:28.360.107 [mindspore/core/utils/file_utils.cc:253] GetRealPath] Get realpath failed, path[/tmp/ipykernel_272366/3428476077.py]\n",
      "[ERROR] CORE(272366,7f4009669740,python):2024-07-04-20:39:28.360.129 [mindspore/core/utils/file_utils.cc:253] GetRealPath] Get realpath failed, path[/tmp/ipykernel_272366/3428476077.py]\n",
      "[ERROR] CORE(272366,7f4009669740,python):2024-07-04-20:39:28.360.779 [mindspore/core/utils/file_utils.cc:253] GetRealPath] Get realpath failed, path[/tmp/ipykernel_272366/3428476077.py]\n",
      "[ERROR] CORE(272366,7f4009669740,python):2024-07-04-20:39:28.360.818 [mindspore/core/utils/file_utils.cc:253] GetRealPath] Get realpath failed, path[/tmp/ipykernel_272366/3428476077.py]\n",
      "[ERROR] CORE(272366,7f4009669740,python):2024-07-04-20:39:28.361.462 [mindspore/core/utils/file_utils.cc:253] GetRealPath] Get realpath failed, path[/tmp/ipykernel_272366/3428476077.py]\n",
      "[ERROR] CORE(272366,7f4009669740,python):2024-07-04-20:39:28.361.505 [mindspore/core/utils/file_utils.cc:253] GetRealPath] Get realpath failed, path[/tmp/ipykernel_272366/3428476077.py]\n",
      "[ERROR] CORE(272366,7f4009669740,python):2024-07-04-20:39:28.361.525 [mindspore/core/utils/file_utils.cc:253] GetRealPath] Get realpath failed, path[/tmp/ipykernel_272366/3428476077.py]\n",
      "[ERROR] CORE(272366,7f4009669740,python):2024-07-04-20:39:28.361.542 [mindspore/core/utils/file_utils.cc:253] GetRealPath] Get realpath failed, path[/tmp/ipykernel_272366/1339986826.py]\n",
      "[ERROR] CORE(272366,7f4009669740,python):2024-07-04-20:39:28.361.611 [mindspore/core/utils/file_utils.cc:253] GetRealPath] Get realpath failed, path[/tmp/ipykernel_272366/3428476077.py]\n",
      "[ERROR] CORE(272366,7f4009669740,python):2024-07-04-20:39:28.371.333 [mindspore/core/utils/file_utils.cc:253] GetRealPath] Get realpath failed, path[/tmp/ipykernel_272366/1339986826.py]\n",
      "[ERROR] CORE(272366,7f4009669740,python):2024-07-04-20:39:28.372.880 [mindspore/core/utils/file_utils.cc:253] GetRealPath] Get realpath failed, path[/tmp/ipykernel_272366/1339986826.py]\n",
      "[ERROR] CORE(272366,7f4009669740,python):2024-07-04-20:39:28.378.716 [mindspore/core/utils/file_utils.cc:253] GetRealPath] Get realpath failed, path[/tmp/ipykernel_272366/1339986826.py]\n"
     ]
    },
    {
     "name": "stdout",
     "output_type": "stream",
     "text": [
      "weight=\n",
      "(1024,  192,    1)\n",
      "124\n"
     ]
    },
    {
     "name": "stderr",
     "output_type": "stream",
     "text": [
      "[ERROR] CORE(272366,7f4009669740,python):2024-07-04-20:39:29.104.585 [mindspore/core/utils/file_utils.cc:253] GetRealPath] Get realpath failed, path[/tmp/ipykernel_272366/1339986826.py]\n",
      "[ERROR] CORE(272366,7f4009669740,python):2024-07-04-20:39:29.105.683 [mindspore/core/utils/file_utils.cc:253] GetRealPath] Get realpath failed, path[/tmp/ipykernel_272366/1339986826.py]\n",
      "[ERROR] CORE(272366,7f4009669740,python):2024-07-04-20:39:29.109.565 [mindspore/core/utils/file_utils.cc:253] GetRealPath] Get realpath failed, path[/tmp/ipykernel_272366/1339986826.py]\n",
      "[ERROR] CORE(272366,7f4009669740,python):2024-07-04-20:39:30.386.087 [mindspore/core/utils/file_utils.cc:253] GetRealPath] Get realpath failed, path[/tmp/ipykernel_272366/3428476077.py]\n",
      "[ERROR] CORE(272366,7f4009669740,python):2024-07-04-20:39:30.386.159 [mindspore/core/utils/file_utils.cc:253] GetRealPath] Get realpath failed, path[/tmp/ipykernel_272366/3428476077.py]\n",
      "[ERROR] CORE(272366,7f4009669740,python):2024-07-04-20:39:30.386.183 [mindspore/core/utils/file_utils.cc:253] GetRealPath] Get realpath failed, path[/tmp/ipykernel_272366/3428476077.py]\n",
      "[ERROR] CORE(272366,7f4009669740,python):2024-07-04-20:39:30.386.888 [mindspore/core/utils/file_utils.cc:253] GetRealPath] Get realpath failed, path[/tmp/ipykernel_272366/3428476077.py]\n",
      "[ERROR] CORE(272366,7f4009669740,python):2024-07-04-20:39:30.386.928 [mindspore/core/utils/file_utils.cc:253] GetRealPath] Get realpath failed, path[/tmp/ipykernel_272366/3428476077.py]\n",
      "[ERROR] CORE(272366,7f4009669740,python):2024-07-04-20:39:30.387.593 [mindspore/core/utils/file_utils.cc:253] GetRealPath] Get realpath failed, path[/tmp/ipykernel_272366/3428476077.py]\n",
      "[ERROR] CORE(272366,7f4009669740,python):2024-07-04-20:39:30.387.638 [mindspore/core/utils/file_utils.cc:253] GetRealPath] Get realpath failed, path[/tmp/ipykernel_272366/3428476077.py]\n",
      "[ERROR] CORE(272366,7f4009669740,python):2024-07-04-20:39:30.387.656 [mindspore/core/utils/file_utils.cc:253] GetRealPath] Get realpath failed, path[/tmp/ipykernel_272366/3428476077.py]\n",
      "[ERROR] CORE(272366,7f4009669740,python):2024-07-04-20:39:30.387.673 [mindspore/core/utils/file_utils.cc:253] GetRealPath] Get realpath failed, path[/tmp/ipykernel_272366/1339986826.py]\n",
      "[ERROR] CORE(272366,7f4009669740,python):2024-07-04-20:39:30.387.738 [mindspore/core/utils/file_utils.cc:253] GetRealPath] Get realpath failed, path[/tmp/ipykernel_272366/3428476077.py]\n",
      "[ERROR] CORE(272366,7f4009669740,python):2024-07-04-20:39:30.398.980 [mindspore/core/utils/file_utils.cc:253] GetRealPath] Get realpath failed, path[/tmp/ipykernel_272366/1339986826.py]\n",
      "[ERROR] CORE(272366,7f4009669740,python):2024-07-04-20:39:30.401.363 [mindspore/core/utils/file_utils.cc:253] GetRealPath] Get realpath failed, path[/tmp/ipykernel_272366/1339986826.py]\n",
      "[ERROR] CORE(272366,7f4009669740,python):2024-07-04-20:39:30.401.516 [mindspore/core/utils/file_utils.cc:253] GetRealPath] Get realpath failed, path[/tmp/ipykernel_272366/1339986826.py]\n"
     ]
    },
    {
     "name": "stdout",
     "output_type": "stream",
     "text": [
      "weight=\n",
      "(1024,  192,    1)\n",
      "125\n"
     ]
    },
    {
     "name": "stderr",
     "output_type": "stream",
     "text": [
      "[ERROR] CORE(272366,7f4009669740,python):2024-07-04-20:39:31.178.873 [mindspore/core/utils/file_utils.cc:253] GetRealPath] Get realpath failed, path[/tmp/ipykernel_272366/1339986826.py]\n",
      "[ERROR] CORE(272366,7f4009669740,python):2024-07-04-20:39:31.179.936 [mindspore/core/utils/file_utils.cc:253] GetRealPath] Get realpath failed, path[/tmp/ipykernel_272366/1339986826.py]\n",
      "[ERROR] CORE(272366,7f4009669740,python):2024-07-04-20:39:31.183.627 [mindspore/core/utils/file_utils.cc:253] GetRealPath] Get realpath failed, path[/tmp/ipykernel_272366/1339986826.py]\n",
      "[ERROR] CORE(272366,7f4009669740,python):2024-07-04-20:39:32.370.348 [mindspore/core/utils/file_utils.cc:253] GetRealPath] Get realpath failed, path[/tmp/ipykernel_272366/3428476077.py]\n",
      "[ERROR] CORE(272366,7f4009669740,python):2024-07-04-20:39:32.370.421 [mindspore/core/utils/file_utils.cc:253] GetRealPath] Get realpath failed, path[/tmp/ipykernel_272366/3428476077.py]\n",
      "[ERROR] CORE(272366,7f4009669740,python):2024-07-04-20:39:32.370.442 [mindspore/core/utils/file_utils.cc:253] GetRealPath] Get realpath failed, path[/tmp/ipykernel_272366/3428476077.py]\n",
      "[ERROR] CORE(272366,7f4009669740,python):2024-07-04-20:39:32.371.123 [mindspore/core/utils/file_utils.cc:253] GetRealPath] Get realpath failed, path[/tmp/ipykernel_272366/3428476077.py]\n",
      "[ERROR] CORE(272366,7f4009669740,python):2024-07-04-20:39:32.371.163 [mindspore/core/utils/file_utils.cc:253] GetRealPath] Get realpath failed, path[/tmp/ipykernel_272366/3428476077.py]\n",
      "[ERROR] CORE(272366,7f4009669740,python):2024-07-04-20:39:32.371.784 [mindspore/core/utils/file_utils.cc:253] GetRealPath] Get realpath failed, path[/tmp/ipykernel_272366/3428476077.py]\n",
      "[ERROR] CORE(272366,7f4009669740,python):2024-07-04-20:39:32.371.824 [mindspore/core/utils/file_utils.cc:253] GetRealPath] Get realpath failed, path[/tmp/ipykernel_272366/3428476077.py]\n",
      "[ERROR] CORE(272366,7f4009669740,python):2024-07-04-20:39:32.371.843 [mindspore/core/utils/file_utils.cc:253] GetRealPath] Get realpath failed, path[/tmp/ipykernel_272366/3428476077.py]\n",
      "[ERROR] CORE(272366,7f4009669740,python):2024-07-04-20:39:32.371.860 [mindspore/core/utils/file_utils.cc:253] GetRealPath] Get realpath failed, path[/tmp/ipykernel_272366/1339986826.py]\n",
      "[ERROR] CORE(272366,7f4009669740,python):2024-07-04-20:39:32.371.920 [mindspore/core/utils/file_utils.cc:253] GetRealPath] Get realpath failed, path[/tmp/ipykernel_272366/3428476077.py]\n",
      "[ERROR] CORE(272366,7f4009669740,python):2024-07-04-20:39:32.381.967 [mindspore/core/utils/file_utils.cc:253] GetRealPath] Get realpath failed, path[/tmp/ipykernel_272366/1339986826.py]\n",
      "[ERROR] CORE(272366,7f4009669740,python):2024-07-04-20:39:32.385.746 [mindspore/core/utils/file_utils.cc:253] GetRealPath] Get realpath failed, path[/tmp/ipykernel_272366/1339986826.py]\n",
      "[ERROR] CORE(272366,7f4009669740,python):2024-07-04-20:39:32.389.199 [mindspore/core/utils/file_utils.cc:253] GetRealPath] Get realpath failed, path[/tmp/ipykernel_272366/1339986826.py]\n"
     ]
    },
    {
     "name": "stdout",
     "output_type": "stream",
     "text": [
      "weight=\n",
      "(1024,  192,    1)\n",
      "126\n"
     ]
    },
    {
     "name": "stderr",
     "output_type": "stream",
     "text": [
      "[ERROR] CORE(272366,7f4009669740,python):2024-07-04-20:39:33.101.240 [mindspore/core/utils/file_utils.cc:253] GetRealPath] Get realpath failed, path[/tmp/ipykernel_272366/1339986826.py]\n",
      "[ERROR] CORE(272366,7f4009669740,python):2024-07-04-20:39:33.102.287 [mindspore/core/utils/file_utils.cc:253] GetRealPath] Get realpath failed, path[/tmp/ipykernel_272366/1339986826.py]\n",
      "[ERROR] CORE(272366,7f4009669740,python):2024-07-04-20:39:33.106.214 [mindspore/core/utils/file_utils.cc:253] GetRealPath] Get realpath failed, path[/tmp/ipykernel_272366/1339986826.py]\n",
      "[ERROR] CORE(272366,7f4009669740,python):2024-07-04-20:39:34.315.772 [mindspore/core/utils/file_utils.cc:253] GetRealPath] Get realpath failed, path[/tmp/ipykernel_272366/3428476077.py]\n",
      "[ERROR] CORE(272366,7f4009669740,python):2024-07-04-20:39:34.315.833 [mindspore/core/utils/file_utils.cc:253] GetRealPath] Get realpath failed, path[/tmp/ipykernel_272366/3428476077.py]\n",
      "[ERROR] CORE(272366,7f4009669740,python):2024-07-04-20:39:34.315.852 [mindspore/core/utils/file_utils.cc:253] GetRealPath] Get realpath failed, path[/tmp/ipykernel_272366/3428476077.py]\n",
      "[ERROR] CORE(272366,7f4009669740,python):2024-07-04-20:39:34.316.514 [mindspore/core/utils/file_utils.cc:253] GetRealPath] Get realpath failed, path[/tmp/ipykernel_272366/3428476077.py]\n",
      "[ERROR] CORE(272366,7f4009669740,python):2024-07-04-20:39:34.316.552 [mindspore/core/utils/file_utils.cc:253] GetRealPath] Get realpath failed, path[/tmp/ipykernel_272366/3428476077.py]\n",
      "[ERROR] CORE(272366,7f4009669740,python):2024-07-04-20:39:34.317.165 [mindspore/core/utils/file_utils.cc:253] GetRealPath] Get realpath failed, path[/tmp/ipykernel_272366/3428476077.py]\n",
      "[ERROR] CORE(272366,7f4009669740,python):2024-07-04-20:39:34.317.208 [mindspore/core/utils/file_utils.cc:253] GetRealPath] Get realpath failed, path[/tmp/ipykernel_272366/3428476077.py]\n",
      "[ERROR] CORE(272366,7f4009669740,python):2024-07-04-20:39:34.317.228 [mindspore/core/utils/file_utils.cc:253] GetRealPath] Get realpath failed, path[/tmp/ipykernel_272366/3428476077.py]\n",
      "[ERROR] CORE(272366,7f4009669740,python):2024-07-04-20:39:34.317.244 [mindspore/core/utils/file_utils.cc:253] GetRealPath] Get realpath failed, path[/tmp/ipykernel_272366/1339986826.py]\n",
      "[ERROR] CORE(272366,7f4009669740,python):2024-07-04-20:39:34.317.304 [mindspore/core/utils/file_utils.cc:253] GetRealPath] Get realpath failed, path[/tmp/ipykernel_272366/3428476077.py]\n",
      "[ERROR] CORE(272366,7f4009669740,python):2024-07-04-20:39:34.330.240 [mindspore/core/utils/file_utils.cc:253] GetRealPath] Get realpath failed, path[/tmp/ipykernel_272366/1339986826.py]\n",
      "[ERROR] CORE(272366,7f4009669740,python):2024-07-04-20:39:34.332.521 [mindspore/core/utils/file_utils.cc:253] GetRealPath] Get realpath failed, path[/tmp/ipykernel_272366/1339986826.py]\n",
      "[ERROR] CORE(272366,7f4009669740,python):2024-07-04-20:39:34.333.714 [mindspore/core/utils/file_utils.cc:253] GetRealPath] Get realpath failed, path[/tmp/ipykernel_272366/1339986826.py]\n"
     ]
    },
    {
     "name": "stdout",
     "output_type": "stream",
     "text": [
      "weight=\n",
      "(1024,  192,    1)\n",
      "127\n"
     ]
    },
    {
     "name": "stderr",
     "output_type": "stream",
     "text": [
      "[ERROR] CORE(272366,7f4009669740,python):2024-07-04-20:39:35.063.815 [mindspore/core/utils/file_utils.cc:253] GetRealPath] Get realpath failed, path[/tmp/ipykernel_272366/1339986826.py]\n",
      "[ERROR] CORE(272366,7f4009669740,python):2024-07-04-20:39:35.064.888 [mindspore/core/utils/file_utils.cc:253] GetRealPath] Get realpath failed, path[/tmp/ipykernel_272366/1339986826.py]\n",
      "[ERROR] CORE(272366,7f4009669740,python):2024-07-04-20:39:35.068.518 [mindspore/core/utils/file_utils.cc:253] GetRealPath] Get realpath failed, path[/tmp/ipykernel_272366/1339986826.py]\n",
      "[ERROR] CORE(272366,7f4009669740,python):2024-07-04-20:39:36.259.771 [mindspore/core/utils/file_utils.cc:253] GetRealPath] Get realpath failed, path[/tmp/ipykernel_272366/3428476077.py]\n",
      "[ERROR] CORE(272366,7f4009669740,python):2024-07-04-20:39:36.259.852 [mindspore/core/utils/file_utils.cc:253] GetRealPath] Get realpath failed, path[/tmp/ipykernel_272366/3428476077.py]\n",
      "[ERROR] CORE(272366,7f4009669740,python):2024-07-04-20:39:36.259.872 [mindspore/core/utils/file_utils.cc:253] GetRealPath] Get realpath failed, path[/tmp/ipykernel_272366/3428476077.py]\n",
      "[ERROR] CORE(272366,7f4009669740,python):2024-07-04-20:39:36.260.545 [mindspore/core/utils/file_utils.cc:253] GetRealPath] Get realpath failed, path[/tmp/ipykernel_272366/3428476077.py]\n",
      "[ERROR] CORE(272366,7f4009669740,python):2024-07-04-20:39:36.260.594 [mindspore/core/utils/file_utils.cc:253] GetRealPath] Get realpath failed, path[/tmp/ipykernel_272366/3428476077.py]\n",
      "[ERROR] CORE(272366,7f4009669740,python):2024-07-04-20:39:36.261.223 [mindspore/core/utils/file_utils.cc:253] GetRealPath] Get realpath failed, path[/tmp/ipykernel_272366/3428476077.py]\n",
      "[ERROR] CORE(272366,7f4009669740,python):2024-07-04-20:39:36.261.265 [mindspore/core/utils/file_utils.cc:253] GetRealPath] Get realpath failed, path[/tmp/ipykernel_272366/3428476077.py]\n",
      "[ERROR] CORE(272366,7f4009669740,python):2024-07-04-20:39:36.261.284 [mindspore/core/utils/file_utils.cc:253] GetRealPath] Get realpath failed, path[/tmp/ipykernel_272366/3428476077.py]\n",
      "[ERROR] CORE(272366,7f4009669740,python):2024-07-04-20:39:36.261.301 [mindspore/core/utils/file_utils.cc:253] GetRealPath] Get realpath failed, path[/tmp/ipykernel_272366/1339986826.py]\n",
      "[ERROR] CORE(272366,7f4009669740,python):2024-07-04-20:39:36.261.360 [mindspore/core/utils/file_utils.cc:253] GetRealPath] Get realpath failed, path[/tmp/ipykernel_272366/3428476077.py]\n",
      "[ERROR] CORE(272366,7f4009669740,python):2024-07-04-20:39:36.271.482 [mindspore/core/utils/file_utils.cc:253] GetRealPath] Get realpath failed, path[/tmp/ipykernel_272366/1339986826.py]\n",
      "[ERROR] CORE(272366,7f4009669740,python):2024-07-04-20:39:36.278.252 [mindspore/core/utils/file_utils.cc:253] GetRealPath] Get realpath failed, path[/tmp/ipykernel_272366/1339986826.py]\n",
      "[ERROR] CORE(272366,7f4009669740,python):2024-07-04-20:39:36.278.268 [mindspore/core/utils/file_utils.cc:253] GetRealPath] Get realpath failed, path[/tmp/ipykernel_272366/1339986826.py]\n"
     ]
    },
    {
     "name": "stdout",
     "output_type": "stream",
     "text": [
      "weight=\n",
      "(1024,  192,    1)\n",
      "128\n"
     ]
    },
    {
     "name": "stderr",
     "output_type": "stream",
     "text": [
      "[ERROR] CORE(272366,7f4009669740,python):2024-07-04-20:39:36.994.038 [mindspore/core/utils/file_utils.cc:253] GetRealPath] Get realpath failed, path[/tmp/ipykernel_272366/1339986826.py]\n",
      "[ERROR] CORE(272366,7f4009669740,python):2024-07-04-20:39:36.995.115 [mindspore/core/utils/file_utils.cc:253] GetRealPath] Get realpath failed, path[/tmp/ipykernel_272366/1339986826.py]\n",
      "[ERROR] CORE(272366,7f4009669740,python):2024-07-04-20:39:36.998.732 [mindspore/core/utils/file_utils.cc:253] GetRealPath] Get realpath failed, path[/tmp/ipykernel_272366/1339986826.py]\n",
      "[ERROR] CORE(272366,7f4009669740,python):2024-07-04-20:39:38.242.351 [mindspore/core/utils/file_utils.cc:253] GetRealPath] Get realpath failed, path[/tmp/ipykernel_272366/3428476077.py]\n",
      "[ERROR] CORE(272366,7f4009669740,python):2024-07-04-20:39:38.242.408 [mindspore/core/utils/file_utils.cc:253] GetRealPath] Get realpath failed, path[/tmp/ipykernel_272366/3428476077.py]\n",
      "[ERROR] CORE(272366,7f4009669740,python):2024-07-04-20:39:38.242.428 [mindspore/core/utils/file_utils.cc:253] GetRealPath] Get realpath failed, path[/tmp/ipykernel_272366/3428476077.py]\n",
      "[ERROR] CORE(272366,7f4009669740,python):2024-07-04-20:39:38.243.108 [mindspore/core/utils/file_utils.cc:253] GetRealPath] Get realpath failed, path[/tmp/ipykernel_272366/3428476077.py]\n",
      "[ERROR] CORE(272366,7f4009669740,python):2024-07-04-20:39:38.243.145 [mindspore/core/utils/file_utils.cc:253] GetRealPath] Get realpath failed, path[/tmp/ipykernel_272366/3428476077.py]\n",
      "[ERROR] CORE(272366,7f4009669740,python):2024-07-04-20:39:38.243.758 [mindspore/core/utils/file_utils.cc:253] GetRealPath] Get realpath failed, path[/tmp/ipykernel_272366/3428476077.py]\n",
      "[ERROR] CORE(272366,7f4009669740,python):2024-07-04-20:39:38.243.800 [mindspore/core/utils/file_utils.cc:253] GetRealPath] Get realpath failed, path[/tmp/ipykernel_272366/3428476077.py]\n",
      "[ERROR] CORE(272366,7f4009669740,python):2024-07-04-20:39:38.243.820 [mindspore/core/utils/file_utils.cc:253] GetRealPath] Get realpath failed, path[/tmp/ipykernel_272366/3428476077.py]\n",
      "[ERROR] CORE(272366,7f4009669740,python):2024-07-04-20:39:38.243.837 [mindspore/core/utils/file_utils.cc:253] GetRealPath] Get realpath failed, path[/tmp/ipykernel_272366/1339986826.py]\n",
      "[ERROR] CORE(272366,7f4009669740,python):2024-07-04-20:39:38.243.894 [mindspore/core/utils/file_utils.cc:253] GetRealPath] Get realpath failed, path[/tmp/ipykernel_272366/3428476077.py]\n",
      "[ERROR] CORE(272366,7f4009669740,python):2024-07-04-20:39:38.263.949 [mindspore/core/utils/file_utils.cc:253] GetRealPath] Get realpath failed, path[/tmp/ipykernel_272366/1339986826.py]\n",
      "[ERROR] CORE(272366,7f4009669740,python):2024-07-04-20:39:38.265.041 [mindspore/core/utils/file_utils.cc:253] GetRealPath] Get realpath failed, path[/tmp/ipykernel_272366/1339986826.py]\n",
      "[ERROR] CORE(272366,7f4009669740,python):2024-07-04-20:39:38.266.412 [mindspore/core/utils/file_utils.cc:253] GetRealPath] Get realpath failed, path[/tmp/ipykernel_272366/1339986826.py]\n"
     ]
    },
    {
     "name": "stdout",
     "output_type": "stream",
     "text": [
      "weight=\n",
      "(1024,  192,    1)\n",
      "129\n"
     ]
    },
    {
     "name": "stderr",
     "output_type": "stream",
     "text": [
      "[ERROR] CORE(272366,7f4009669740,python):2024-07-04-20:39:39.002.803 [mindspore/core/utils/file_utils.cc:253] GetRealPath] Get realpath failed, path[/tmp/ipykernel_272366/1339986826.py]\n",
      "[ERROR] CORE(272366,7f4009669740,python):2024-07-04-20:39:39.003.869 [mindspore/core/utils/file_utils.cc:253] GetRealPath] Get realpath failed, path[/tmp/ipykernel_272366/1339986826.py]\n",
      "[ERROR] CORE(272366,7f4009669740,python):2024-07-04-20:39:39.007.572 [mindspore/core/utils/file_utils.cc:253] GetRealPath] Get realpath failed, path[/tmp/ipykernel_272366/1339986826.py]\n",
      "[ERROR] CORE(272366,7f4009669740,python):2024-07-04-20:39:40.183.410 [mindspore/core/utils/file_utils.cc:253] GetRealPath] Get realpath failed, path[/tmp/ipykernel_272366/3428476077.py]\n",
      "[ERROR] CORE(272366,7f4009669740,python):2024-07-04-20:39:40.183.467 [mindspore/core/utils/file_utils.cc:253] GetRealPath] Get realpath failed, path[/tmp/ipykernel_272366/3428476077.py]\n",
      "[ERROR] CORE(272366,7f4009669740,python):2024-07-04-20:39:40.183.488 [mindspore/core/utils/file_utils.cc:253] GetRealPath] Get realpath failed, path[/tmp/ipykernel_272366/3428476077.py]\n",
      "[ERROR] CORE(272366,7f4009669740,python):2024-07-04-20:39:40.184.178 [mindspore/core/utils/file_utils.cc:253] GetRealPath] Get realpath failed, path[/tmp/ipykernel_272366/3428476077.py]\n",
      "[ERROR] CORE(272366,7f4009669740,python):2024-07-04-20:39:40.184.218 [mindspore/core/utils/file_utils.cc:253] GetRealPath] Get realpath failed, path[/tmp/ipykernel_272366/3428476077.py]\n",
      "[ERROR] CORE(272366,7f4009669740,python):2024-07-04-20:39:40.184.830 [mindspore/core/utils/file_utils.cc:253] GetRealPath] Get realpath failed, path[/tmp/ipykernel_272366/3428476077.py]\n",
      "[ERROR] CORE(272366,7f4009669740,python):2024-07-04-20:39:40.184.871 [mindspore/core/utils/file_utils.cc:253] GetRealPath] Get realpath failed, path[/tmp/ipykernel_272366/3428476077.py]\n",
      "[ERROR] CORE(272366,7f4009669740,python):2024-07-04-20:39:40.184.890 [mindspore/core/utils/file_utils.cc:253] GetRealPath] Get realpath failed, path[/tmp/ipykernel_272366/3428476077.py]\n",
      "[ERROR] CORE(272366,7f4009669740,python):2024-07-04-20:39:40.184.907 [mindspore/core/utils/file_utils.cc:253] GetRealPath] Get realpath failed, path[/tmp/ipykernel_272366/1339986826.py]\n",
      "[ERROR] CORE(272366,7f4009669740,python):2024-07-04-20:39:40.184.965 [mindspore/core/utils/file_utils.cc:253] GetRealPath] Get realpath failed, path[/tmp/ipykernel_272366/3428476077.py]\n",
      "[ERROR] CORE(272366,7f4009669740,python):2024-07-04-20:39:40.195.853 [mindspore/core/utils/file_utils.cc:253] GetRealPath] Get realpath failed, path[/tmp/ipykernel_272366/1339986826.py]\n",
      "[ERROR] CORE(272366,7f4009669740,python):2024-07-04-20:39:40.197.098 [mindspore/core/utils/file_utils.cc:253] GetRealPath] Get realpath failed, path[/tmp/ipykernel_272366/1339986826.py]\n",
      "[ERROR] CORE(272366,7f4009669740,python):2024-07-04-20:39:40.197.114 [mindspore/core/utils/file_utils.cc:253] GetRealPath] Get realpath failed, path[/tmp/ipykernel_272366/1339986826.py]\n"
     ]
    },
    {
     "name": "stdout",
     "output_type": "stream",
     "text": [
      "weight=\n",
      "(1024,  192,    1)\n",
      "130\n"
     ]
    },
    {
     "name": "stderr",
     "output_type": "stream",
     "text": [
      "[ERROR] CORE(272366,7f4009669740,python):2024-07-04-20:39:40.923.036 [mindspore/core/utils/file_utils.cc:253] GetRealPath] Get realpath failed, path[/tmp/ipykernel_272366/1339986826.py]\n",
      "[ERROR] CORE(272366,7f4009669740,python):2024-07-04-20:39:40.924.085 [mindspore/core/utils/file_utils.cc:253] GetRealPath] Get realpath failed, path[/tmp/ipykernel_272366/1339986826.py]\n",
      "[ERROR] CORE(272366,7f4009669740,python):2024-07-04-20:39:40.927.703 [mindspore/core/utils/file_utils.cc:253] GetRealPath] Get realpath failed, path[/tmp/ipykernel_272366/1339986826.py]\n",
      "[ERROR] CORE(272366,7f4009669740,python):2024-07-04-20:39:42.129.476 [mindspore/core/utils/file_utils.cc:253] GetRealPath] Get realpath failed, path[/tmp/ipykernel_272366/3428476077.py]\n",
      "[ERROR] CORE(272366,7f4009669740,python):2024-07-04-20:39:42.129.531 [mindspore/core/utils/file_utils.cc:253] GetRealPath] Get realpath failed, path[/tmp/ipykernel_272366/3428476077.py]\n",
      "[ERROR] CORE(272366,7f4009669740,python):2024-07-04-20:39:42.129.550 [mindspore/core/utils/file_utils.cc:253] GetRealPath] Get realpath failed, path[/tmp/ipykernel_272366/3428476077.py]\n",
      "[ERROR] CORE(272366,7f4009669740,python):2024-07-04-20:39:42.130.290 [mindspore/core/utils/file_utils.cc:253] GetRealPath] Get realpath failed, path[/tmp/ipykernel_272366/3428476077.py]\n",
      "[ERROR] CORE(272366,7f4009669740,python):2024-07-04-20:39:42.130.333 [mindspore/core/utils/file_utils.cc:253] GetRealPath] Get realpath failed, path[/tmp/ipykernel_272366/3428476077.py]\n",
      "[ERROR] CORE(272366,7f4009669740,python):2024-07-04-20:39:42.130.948 [mindspore/core/utils/file_utils.cc:253] GetRealPath] Get realpath failed, path[/tmp/ipykernel_272366/3428476077.py]\n",
      "[ERROR] CORE(272366,7f4009669740,python):2024-07-04-20:39:42.131.000 [mindspore/core/utils/file_utils.cc:253] GetRealPath] Get realpath failed, path[/tmp/ipykernel_272366/3428476077.py]\n",
      "[ERROR] CORE(272366,7f4009669740,python):2024-07-04-20:39:42.131.023 [mindspore/core/utils/file_utils.cc:253] GetRealPath] Get realpath failed, path[/tmp/ipykernel_272366/3428476077.py]\n",
      "[ERROR] CORE(272366,7f4009669740,python):2024-07-04-20:39:42.131.062 [mindspore/core/utils/file_utils.cc:253] GetRealPath] Get realpath failed, path[/tmp/ipykernel_272366/1339986826.py]\n",
      "[ERROR] CORE(272366,7f4009669740,python):2024-07-04-20:39:42.131.124 [mindspore/core/utils/file_utils.cc:253] GetRealPath] Get realpath failed, path[/tmp/ipykernel_272366/3428476077.py]\n",
      "[ERROR] CORE(272366,7f4009669740,python):2024-07-04-20:39:42.148.517 [mindspore/core/utils/file_utils.cc:253] GetRealPath] Get realpath failed, path[/tmp/ipykernel_272366/1339986826.py]\n",
      "[ERROR] CORE(272366,7f4009669740,python):2024-07-04-20:39:42.148.658 [mindspore/core/utils/file_utils.cc:253] GetRealPath] Get realpath failed, path[/tmp/ipykernel_272366/1339986826.py]\n",
      "[ERROR] CORE(272366,7f4009669740,python):2024-07-04-20:39:42.150.832 [mindspore/core/utils/file_utils.cc:253] GetRealPath] Get realpath failed, path[/tmp/ipykernel_272366/1339986826.py]\n"
     ]
    },
    {
     "name": "stdout",
     "output_type": "stream",
     "text": [
      "weight=\n",
      "(1024,  192,    1)\n",
      "131\n"
     ]
    },
    {
     "name": "stderr",
     "output_type": "stream",
     "text": [
      "[ERROR] CORE(272366,7f4009669740,python):2024-07-04-20:39:42.874.524 [mindspore/core/utils/file_utils.cc:253] GetRealPath] Get realpath failed, path[/tmp/ipykernel_272366/1339986826.py]\n",
      "[ERROR] CORE(272366,7f4009669740,python):2024-07-04-20:39:42.875.586 [mindspore/core/utils/file_utils.cc:253] GetRealPath] Get realpath failed, path[/tmp/ipykernel_272366/1339986826.py]\n",
      "[ERROR] CORE(272366,7f4009669740,python):2024-07-04-20:39:42.879.228 [mindspore/core/utils/file_utils.cc:253] GetRealPath] Get realpath failed, path[/tmp/ipykernel_272366/1339986826.py]\n",
      "[ERROR] CORE(272366,7f4009669740,python):2024-07-04-20:39:44.060.727 [mindspore/core/utils/file_utils.cc:253] GetRealPath] Get realpath failed, path[/tmp/ipykernel_272366/3428476077.py]\n",
      "[ERROR] CORE(272366,7f4009669740,python):2024-07-04-20:39:44.060.785 [mindspore/core/utils/file_utils.cc:253] GetRealPath] Get realpath failed, path[/tmp/ipykernel_272366/3428476077.py]\n",
      "[ERROR] CORE(272366,7f4009669740,python):2024-07-04-20:39:44.060.803 [mindspore/core/utils/file_utils.cc:253] GetRealPath] Get realpath failed, path[/tmp/ipykernel_272366/3428476077.py]\n",
      "[ERROR] CORE(272366,7f4009669740,python):2024-07-04-20:39:44.061.472 [mindspore/core/utils/file_utils.cc:253] GetRealPath] Get realpath failed, path[/tmp/ipykernel_272366/3428476077.py]\n",
      "[ERROR] CORE(272366,7f4009669740,python):2024-07-04-20:39:44.061.512 [mindspore/core/utils/file_utils.cc:253] GetRealPath] Get realpath failed, path[/tmp/ipykernel_272366/3428476077.py]\n",
      "[ERROR] CORE(272366,7f4009669740,python):2024-07-04-20:39:44.062.114 [mindspore/core/utils/file_utils.cc:253] GetRealPath] Get realpath failed, path[/tmp/ipykernel_272366/3428476077.py]\n",
      "[ERROR] CORE(272366,7f4009669740,python):2024-07-04-20:39:44.062.156 [mindspore/core/utils/file_utils.cc:253] GetRealPath] Get realpath failed, path[/tmp/ipykernel_272366/3428476077.py]\n",
      "[ERROR] CORE(272366,7f4009669740,python):2024-07-04-20:39:44.062.175 [mindspore/core/utils/file_utils.cc:253] GetRealPath] Get realpath failed, path[/tmp/ipykernel_272366/3428476077.py]\n",
      "[ERROR] CORE(272366,7f4009669740,python):2024-07-04-20:39:44.062.193 [mindspore/core/utils/file_utils.cc:253] GetRealPath] Get realpath failed, path[/tmp/ipykernel_272366/1339986826.py]\n",
      "[ERROR] CORE(272366,7f4009669740,python):2024-07-04-20:39:44.062.250 [mindspore/core/utils/file_utils.cc:253] GetRealPath] Get realpath failed, path[/tmp/ipykernel_272366/3428476077.py]\n",
      "[ERROR] CORE(272366,7f4009669740,python):2024-07-04-20:39:44.074.521 [mindspore/core/utils/file_utils.cc:253] GetRealPath] Get realpath failed, path[/tmp/ipykernel_272366/1339986826.py]\n",
      "[ERROR] CORE(272366,7f4009669740,python):2024-07-04-20:39:44.077.750 [mindspore/core/utils/file_utils.cc:253] GetRealPath] Get realpath failed, path[/tmp/ipykernel_272366/1339986826.py]\n",
      "[ERROR] CORE(272366,7f4009669740,python):2024-07-04-20:39:44.079.035 [mindspore/core/utils/file_utils.cc:253] GetRealPath] Get realpath failed, path[/tmp/ipykernel_272366/1339986826.py]\n"
     ]
    },
    {
     "name": "stdout",
     "output_type": "stream",
     "text": [
      "weight=\n",
      "(1024,  192,    1)\n",
      "132\n"
     ]
    },
    {
     "name": "stderr",
     "output_type": "stream",
     "text": [
      "[ERROR] CORE(272366,7f4009669740,python):2024-07-04-20:39:44.797.239 [mindspore/core/utils/file_utils.cc:253] GetRealPath] Get realpath failed, path[/tmp/ipykernel_272366/1339986826.py]\n",
      "[ERROR] CORE(272366,7f4009669740,python):2024-07-04-20:39:44.798.271 [mindspore/core/utils/file_utils.cc:253] GetRealPath] Get realpath failed, path[/tmp/ipykernel_272366/1339986826.py]\n",
      "[ERROR] CORE(272366,7f4009669740,python):2024-07-04-20:39:44.802.021 [mindspore/core/utils/file_utils.cc:253] GetRealPath] Get realpath failed, path[/tmp/ipykernel_272366/1339986826.py]\n",
      "[ERROR] CORE(272366,7f4009669740,python):2024-07-04-20:39:45.999.346 [mindspore/core/utils/file_utils.cc:253] GetRealPath] Get realpath failed, path[/tmp/ipykernel_272366/3428476077.py]\n",
      "[ERROR] CORE(272366,7f4009669740,python):2024-07-04-20:39:45.999.404 [mindspore/core/utils/file_utils.cc:253] GetRealPath] Get realpath failed, path[/tmp/ipykernel_272366/3428476077.py]\n",
      "[ERROR] CORE(272366,7f4009669740,python):2024-07-04-20:39:45.999.422 [mindspore/core/utils/file_utils.cc:253] GetRealPath] Get realpath failed, path[/tmp/ipykernel_272366/3428476077.py]\n",
      "[ERROR] CORE(272366,7f4009669740,python):2024-07-04-20:39:46.000.067 [mindspore/core/utils/file_utils.cc:253] GetRealPath] Get realpath failed, path[/tmp/ipykernel_272366/3428476077.py]\n",
      "[ERROR] CORE(272366,7f4009669740,python):2024-07-04-20:39:46.000.125 [mindspore/core/utils/file_utils.cc:253] GetRealPath] Get realpath failed, path[/tmp/ipykernel_272366/3428476077.py]\n",
      "[ERROR] CORE(272366,7f4009669740,python):2024-07-04-20:39:46.000.757 [mindspore/core/utils/file_utils.cc:253] GetRealPath] Get realpath failed, path[/tmp/ipykernel_272366/3428476077.py]\n",
      "[ERROR] CORE(272366,7f4009669740,python):2024-07-04-20:39:46.000.799 [mindspore/core/utils/file_utils.cc:253] GetRealPath] Get realpath failed, path[/tmp/ipykernel_272366/3428476077.py]\n",
      "[ERROR] CORE(272366,7f4009669740,python):2024-07-04-20:39:46.000.818 [mindspore/core/utils/file_utils.cc:253] GetRealPath] Get realpath failed, path[/tmp/ipykernel_272366/3428476077.py]\n",
      "[ERROR] CORE(272366,7f4009669740,python):2024-07-04-20:39:46.000.834 [mindspore/core/utils/file_utils.cc:253] GetRealPath] Get realpath failed, path[/tmp/ipykernel_272366/1339986826.py]\n",
      "[ERROR] CORE(272366,7f4009669740,python):2024-07-04-20:39:46.000.893 [mindspore/core/utils/file_utils.cc:253] GetRealPath] Get realpath failed, path[/tmp/ipykernel_272366/3428476077.py]\n",
      "[ERROR] CORE(272366,7f4009669740,python):2024-07-04-20:39:46.013.182 [mindspore/core/utils/file_utils.cc:253] GetRealPath] Get realpath failed, path[/tmp/ipykernel_272366/1339986826.py]\n",
      "[ERROR] CORE(272366,7f4009669740,python):2024-07-04-20:39:46.013.317 [mindspore/core/utils/file_utils.cc:253] GetRealPath] Get realpath failed, path[/tmp/ipykernel_272366/1339986826.py]\n",
      "[ERROR] CORE(272366,7f4009669740,python):2024-07-04-20:39:46.017.802 [mindspore/core/utils/file_utils.cc:253] GetRealPath] Get realpath failed, path[/tmp/ipykernel_272366/1339986826.py]\n"
     ]
    },
    {
     "name": "stdout",
     "output_type": "stream",
     "text": [
      "weight=\n",
      "(1024,  192,    1)\n",
      "133\n"
     ]
    },
    {
     "name": "stderr",
     "output_type": "stream",
     "text": [
      "[ERROR] CORE(272366,7f4009669740,python):2024-07-04-20:39:46.747.981 [mindspore/core/utils/file_utils.cc:253] GetRealPath] Get realpath failed, path[/tmp/ipykernel_272366/1339986826.py]\n",
      "[ERROR] CORE(272366,7f4009669740,python):2024-07-04-20:39:46.749.038 [mindspore/core/utils/file_utils.cc:253] GetRealPath] Get realpath failed, path[/tmp/ipykernel_272366/1339986826.py]\n",
      "[ERROR] CORE(272366,7f4009669740,python):2024-07-04-20:39:46.752.665 [mindspore/core/utils/file_utils.cc:253] GetRealPath] Get realpath failed, path[/tmp/ipykernel_272366/1339986826.py]\n",
      "[ERROR] CORE(272366,7f4009669740,python):2024-07-04-20:39:47.959.802 [mindspore/core/utils/file_utils.cc:253] GetRealPath] Get realpath failed, path[/tmp/ipykernel_272366/3428476077.py]\n",
      "[ERROR] CORE(272366,7f4009669740,python):2024-07-04-20:39:47.959.867 [mindspore/core/utils/file_utils.cc:253] GetRealPath] Get realpath failed, path[/tmp/ipykernel_272366/3428476077.py]\n",
      "[ERROR] CORE(272366,7f4009669740,python):2024-07-04-20:39:47.959.887 [mindspore/core/utils/file_utils.cc:253] GetRealPath] Get realpath failed, path[/tmp/ipykernel_272366/3428476077.py]\n",
      "[ERROR] CORE(272366,7f4009669740,python):2024-07-04-20:39:47.960.585 [mindspore/core/utils/file_utils.cc:253] GetRealPath] Get realpath failed, path[/tmp/ipykernel_272366/3428476077.py]\n",
      "[ERROR] CORE(272366,7f4009669740,python):2024-07-04-20:39:47.960.626 [mindspore/core/utils/file_utils.cc:253] GetRealPath] Get realpath failed, path[/tmp/ipykernel_272366/3428476077.py]\n",
      "[ERROR] CORE(272366,7f4009669740,python):2024-07-04-20:39:47.961.287 [mindspore/core/utils/file_utils.cc:253] GetRealPath] Get realpath failed, path[/tmp/ipykernel_272366/3428476077.py]\n",
      "[ERROR] CORE(272366,7f4009669740,python):2024-07-04-20:39:47.961.332 [mindspore/core/utils/file_utils.cc:253] GetRealPath] Get realpath failed, path[/tmp/ipykernel_272366/3428476077.py]\n",
      "[ERROR] CORE(272366,7f4009669740,python):2024-07-04-20:39:47.961.351 [mindspore/core/utils/file_utils.cc:253] GetRealPath] Get realpath failed, path[/tmp/ipykernel_272366/3428476077.py]\n",
      "[ERROR] CORE(272366,7f4009669740,python):2024-07-04-20:39:47.961.369 [mindspore/core/utils/file_utils.cc:253] GetRealPath] Get realpath failed, path[/tmp/ipykernel_272366/1339986826.py]\n",
      "[ERROR] CORE(272366,7f4009669740,python):2024-07-04-20:39:47.961.432 [mindspore/core/utils/file_utils.cc:253] GetRealPath] Get realpath failed, path[/tmp/ipykernel_272366/3428476077.py]\n",
      "[ERROR] CORE(272366,7f4009669740,python):2024-07-04-20:39:47.977.378 [mindspore/core/utils/file_utils.cc:253] GetRealPath] Get realpath failed, path[/tmp/ipykernel_272366/1339986826.py]\n",
      "[ERROR] CORE(272366,7f4009669740,python):2024-07-04-20:39:47.977.404 [mindspore/core/utils/file_utils.cc:253] GetRealPath] Get realpath failed, path[/tmp/ipykernel_272366/1339986826.py]\n",
      "[ERROR] CORE(272366,7f4009669740,python):2024-07-04-20:39:47.978.482 [mindspore/core/utils/file_utils.cc:253] GetRealPath] Get realpath failed, path[/tmp/ipykernel_272366/1339986826.py]\n"
     ]
    },
    {
     "name": "stdout",
     "output_type": "stream",
     "text": [
      "weight=\n",
      "(1024,  192,    1)\n",
      "134\n"
     ]
    },
    {
     "name": "stderr",
     "output_type": "stream",
     "text": [
      "[ERROR] CORE(272366,7f4009669740,python):2024-07-04-20:39:48.717.329 [mindspore/core/utils/file_utils.cc:253] GetRealPath] Get realpath failed, path[/tmp/ipykernel_272366/1339986826.py]\n",
      "[ERROR] CORE(272366,7f4009669740,python):2024-07-04-20:39:48.718.374 [mindspore/core/utils/file_utils.cc:253] GetRealPath] Get realpath failed, path[/tmp/ipykernel_272366/1339986826.py]\n",
      "[ERROR] CORE(272366,7f4009669740,python):2024-07-04-20:39:48.721.956 [mindspore/core/utils/file_utils.cc:253] GetRealPath] Get realpath failed, path[/tmp/ipykernel_272366/1339986826.py]\n",
      "[ERROR] CORE(272366,7f4009669740,python):2024-07-04-20:39:49.970.282 [mindspore/core/utils/file_utils.cc:253] GetRealPath] Get realpath failed, path[/tmp/ipykernel_272366/3428476077.py]\n",
      "[ERROR] CORE(272366,7f4009669740,python):2024-07-04-20:39:49.970.340 [mindspore/core/utils/file_utils.cc:253] GetRealPath] Get realpath failed, path[/tmp/ipykernel_272366/3428476077.py]\n",
      "[ERROR] CORE(272366,7f4009669740,python):2024-07-04-20:39:49.970.359 [mindspore/core/utils/file_utils.cc:253] GetRealPath] Get realpath failed, path[/tmp/ipykernel_272366/3428476077.py]\n",
      "[ERROR] CORE(272366,7f4009669740,python):2024-07-04-20:39:49.970.994 [mindspore/core/utils/file_utils.cc:253] GetRealPath] Get realpath failed, path[/tmp/ipykernel_272366/3428476077.py]\n",
      "[ERROR] CORE(272366,7f4009669740,python):2024-07-04-20:39:49.971.030 [mindspore/core/utils/file_utils.cc:253] GetRealPath] Get realpath failed, path[/tmp/ipykernel_272366/3428476077.py]\n",
      "[ERROR] CORE(272366,7f4009669740,python):2024-07-04-20:39:49.971.623 [mindspore/core/utils/file_utils.cc:253] GetRealPath] Get realpath failed, path[/tmp/ipykernel_272366/3428476077.py]\n",
      "[ERROR] CORE(272366,7f4009669740,python):2024-07-04-20:39:49.971.676 [mindspore/core/utils/file_utils.cc:253] GetRealPath] Get realpath failed, path[/tmp/ipykernel_272366/3428476077.py]\n",
      "[ERROR] CORE(272366,7f4009669740,python):2024-07-04-20:39:49.971.695 [mindspore/core/utils/file_utils.cc:253] GetRealPath] Get realpath failed, path[/tmp/ipykernel_272366/3428476077.py]\n",
      "[ERROR] CORE(272366,7f4009669740,python):2024-07-04-20:39:49.971.711 [mindspore/core/utils/file_utils.cc:253] GetRealPath] Get realpath failed, path[/tmp/ipykernel_272366/1339986826.py]\n",
      "[ERROR] CORE(272366,7f4009669740,python):2024-07-04-20:39:49.971.767 [mindspore/core/utils/file_utils.cc:253] GetRealPath] Get realpath failed, path[/tmp/ipykernel_272366/3428476077.py]\n",
      "[ERROR] CORE(272366,7f4009669740,python):2024-07-04-20:39:49.981.540 [mindspore/core/utils/file_utils.cc:253] GetRealPath] Get realpath failed, path[/tmp/ipykernel_272366/1339986826.py]\n",
      "[ERROR] CORE(272366,7f4009669740,python):2024-07-04-20:39:49.984.109 [mindspore/core/utils/file_utils.cc:253] GetRealPath] Get realpath failed, path[/tmp/ipykernel_272366/1339986826.py]\n",
      "[ERROR] CORE(272366,7f4009669740,python):2024-07-04-20:39:49.985.428 [mindspore/core/utils/file_utils.cc:253] GetRealPath] Get realpath failed, path[/tmp/ipykernel_272366/1339986826.py]\n"
     ]
    },
    {
     "name": "stdout",
     "output_type": "stream",
     "text": [
      "weight=\n",
      "(1024,  192,    1)\n",
      "135\n"
     ]
    },
    {
     "name": "stderr",
     "output_type": "stream",
     "text": [
      "[ERROR] CORE(272366,7f4009669740,python):2024-07-04-20:39:50.713.498 [mindspore/core/utils/file_utils.cc:253] GetRealPath] Get realpath failed, path[/tmp/ipykernel_272366/1339986826.py]\n",
      "[ERROR] CORE(272366,7f4009669740,python):2024-07-04-20:39:50.714.564 [mindspore/core/utils/file_utils.cc:253] GetRealPath] Get realpath failed, path[/tmp/ipykernel_272366/1339986826.py]\n",
      "[ERROR] CORE(272366,7f4009669740,python):2024-07-04-20:39:50.718.207 [mindspore/core/utils/file_utils.cc:253] GetRealPath] Get realpath failed, path[/tmp/ipykernel_272366/1339986826.py]\n",
      "[ERROR] CORE(272366,7f4009669740,python):2024-07-04-20:39:51.927.129 [mindspore/core/utils/file_utils.cc:253] GetRealPath] Get realpath failed, path[/tmp/ipykernel_272366/3428476077.py]\n",
      "[ERROR] CORE(272366,7f4009669740,python):2024-07-04-20:39:51.927.202 [mindspore/core/utils/file_utils.cc:253] GetRealPath] Get realpath failed, path[/tmp/ipykernel_272366/3428476077.py]\n",
      "[ERROR] CORE(272366,7f4009669740,python):2024-07-04-20:39:51.927.223 [mindspore/core/utils/file_utils.cc:253] GetRealPath] Get realpath failed, path[/tmp/ipykernel_272366/3428476077.py]\n",
      "[ERROR] CORE(272366,7f4009669740,python):2024-07-04-20:39:51.927.882 [mindspore/core/utils/file_utils.cc:253] GetRealPath] Get realpath failed, path[/tmp/ipykernel_272366/3428476077.py]\n",
      "[ERROR] CORE(272366,7f4009669740,python):2024-07-04-20:39:51.927.919 [mindspore/core/utils/file_utils.cc:253] GetRealPath] Get realpath failed, path[/tmp/ipykernel_272366/3428476077.py]\n",
      "[ERROR] CORE(272366,7f4009669740,python):2024-07-04-20:39:51.928.514 [mindspore/core/utils/file_utils.cc:253] GetRealPath] Get realpath failed, path[/tmp/ipykernel_272366/3428476077.py]\n",
      "[ERROR] CORE(272366,7f4009669740,python):2024-07-04-20:39:51.928.556 [mindspore/core/utils/file_utils.cc:253] GetRealPath] Get realpath failed, path[/tmp/ipykernel_272366/3428476077.py]\n",
      "[ERROR] CORE(272366,7f4009669740,python):2024-07-04-20:39:51.928.575 [mindspore/core/utils/file_utils.cc:253] GetRealPath] Get realpath failed, path[/tmp/ipykernel_272366/3428476077.py]\n",
      "[ERROR] CORE(272366,7f4009669740,python):2024-07-04-20:39:51.928.592 [mindspore/core/utils/file_utils.cc:253] GetRealPath] Get realpath failed, path[/tmp/ipykernel_272366/1339986826.py]\n",
      "[ERROR] CORE(272366,7f4009669740,python):2024-07-04-20:39:51.928.651 [mindspore/core/utils/file_utils.cc:253] GetRealPath] Get realpath failed, path[/tmp/ipykernel_272366/3428476077.py]\n",
      "[ERROR] CORE(272366,7f4009669740,python):2024-07-04-20:39:51.939.580 [mindspore/core/utils/file_utils.cc:253] GetRealPath] Get realpath failed, path[/tmp/ipykernel_272366/1339986826.py]\n",
      "[ERROR] CORE(272366,7f4009669740,python):2024-07-04-20:39:51.943.142 [mindspore/core/utils/file_utils.cc:253] GetRealPath] Get realpath failed, path[/tmp/ipykernel_272366/1339986826.py]\n",
      "[ERROR] CORE(272366,7f4009669740,python):2024-07-04-20:39:51.944.375 [mindspore/core/utils/file_utils.cc:253] GetRealPath] Get realpath failed, path[/tmp/ipykernel_272366/1339986826.py]\n"
     ]
    },
    {
     "name": "stdout",
     "output_type": "stream",
     "text": [
      "weight=\n",
      "(1024,  192,    1)\n",
      "136\n"
     ]
    },
    {
     "name": "stderr",
     "output_type": "stream",
     "text": [
      "[ERROR] CORE(272366,7f4009669740,python):2024-07-04-20:39:52.670.829 [mindspore/core/utils/file_utils.cc:253] GetRealPath] Get realpath failed, path[/tmp/ipykernel_272366/1339986826.py]\n",
      "[ERROR] CORE(272366,7f4009669740,python):2024-07-04-20:39:52.671.867 [mindspore/core/utils/file_utils.cc:253] GetRealPath] Get realpath failed, path[/tmp/ipykernel_272366/1339986826.py]\n",
      "[ERROR] CORE(272366,7f4009669740,python):2024-07-04-20:39:52.675.644 [mindspore/core/utils/file_utils.cc:253] GetRealPath] Get realpath failed, path[/tmp/ipykernel_272366/1339986826.py]\n",
      "[ERROR] CORE(272366,7f4009669740,python):2024-07-04-20:39:53.873.287 [mindspore/core/utils/file_utils.cc:253] GetRealPath] Get realpath failed, path[/tmp/ipykernel_272366/3428476077.py]\n",
      "[ERROR] CORE(272366,7f4009669740,python):2024-07-04-20:39:53.873.348 [mindspore/core/utils/file_utils.cc:253] GetRealPath] Get realpath failed, path[/tmp/ipykernel_272366/3428476077.py]\n",
      "[ERROR] CORE(272366,7f4009669740,python):2024-07-04-20:39:53.873.366 [mindspore/core/utils/file_utils.cc:253] GetRealPath] Get realpath failed, path[/tmp/ipykernel_272366/3428476077.py]\n",
      "[ERROR] CORE(272366,7f4009669740,python):2024-07-04-20:39:53.874.000 [mindspore/core/utils/file_utils.cc:253] GetRealPath] Get realpath failed, path[/tmp/ipykernel_272366/3428476077.py]\n",
      "[ERROR] CORE(272366,7f4009669740,python):2024-07-04-20:39:53.874.039 [mindspore/core/utils/file_utils.cc:253] GetRealPath] Get realpath failed, path[/tmp/ipykernel_272366/3428476077.py]\n",
      "[ERROR] CORE(272366,7f4009669740,python):2024-07-04-20:39:53.874.657 [mindspore/core/utils/file_utils.cc:253] GetRealPath] Get realpath failed, path[/tmp/ipykernel_272366/3428476077.py]\n",
      "[ERROR] CORE(272366,7f4009669740,python):2024-07-04-20:39:53.874.714 [mindspore/core/utils/file_utils.cc:253] GetRealPath] Get realpath failed, path[/tmp/ipykernel_272366/3428476077.py]\n",
      "[ERROR] CORE(272366,7f4009669740,python):2024-07-04-20:39:53.874.734 [mindspore/core/utils/file_utils.cc:253] GetRealPath] Get realpath failed, path[/tmp/ipykernel_272366/3428476077.py]\n",
      "[ERROR] CORE(272366,7f4009669740,python):2024-07-04-20:39:53.874.751 [mindspore/core/utils/file_utils.cc:253] GetRealPath] Get realpath failed, path[/tmp/ipykernel_272366/1339986826.py]\n",
      "[ERROR] CORE(272366,7f4009669740,python):2024-07-04-20:39:53.874.810 [mindspore/core/utils/file_utils.cc:253] GetRealPath] Get realpath failed, path[/tmp/ipykernel_272366/3428476077.py]\n",
      "[ERROR] CORE(272366,7f4009669740,python):2024-07-04-20:39:53.889.205 [mindspore/core/utils/file_utils.cc:253] GetRealPath] Get realpath failed, path[/tmp/ipykernel_272366/1339986826.py]\n",
      "[ERROR] CORE(272366,7f4009669740,python):2024-07-04-20:39:53.891.086 [mindspore/core/utils/file_utils.cc:253] GetRealPath] Get realpath failed, path[/tmp/ipykernel_272366/1339986826.py]\n",
      "[ERROR] CORE(272366,7f4009669740,python):2024-07-04-20:39:53.891.319 [mindspore/core/utils/file_utils.cc:253] GetRealPath] Get realpath failed, path[/tmp/ipykernel_272366/1339986826.py]\n"
     ]
    },
    {
     "name": "stdout",
     "output_type": "stream",
     "text": [
      "weight=\n",
      "(1024,  192,    1)\n",
      "137\n"
     ]
    },
    {
     "name": "stderr",
     "output_type": "stream",
     "text": [
      "[ERROR] CORE(272366,7f4009669740,python):2024-07-04-20:39:54.614.025 [mindspore/core/utils/file_utils.cc:253] GetRealPath] Get realpath failed, path[/tmp/ipykernel_272366/1339986826.py]\n",
      "[ERROR] CORE(272366,7f4009669740,python):2024-07-04-20:39:54.615.086 [mindspore/core/utils/file_utils.cc:253] GetRealPath] Get realpath failed, path[/tmp/ipykernel_272366/1339986826.py]\n",
      "[ERROR] CORE(272366,7f4009669740,python):2024-07-04-20:39:54.618.721 [mindspore/core/utils/file_utils.cc:253] GetRealPath] Get realpath failed, path[/tmp/ipykernel_272366/1339986826.py]\n",
      "[ERROR] CORE(272366,7f4009669740,python):2024-07-04-20:39:55.808.068 [mindspore/core/utils/file_utils.cc:253] GetRealPath] Get realpath failed, path[/tmp/ipykernel_272366/3428476077.py]\n",
      "[ERROR] CORE(272366,7f4009669740,python):2024-07-04-20:39:55.808.126 [mindspore/core/utils/file_utils.cc:253] GetRealPath] Get realpath failed, path[/tmp/ipykernel_272366/3428476077.py]\n",
      "[ERROR] CORE(272366,7f4009669740,python):2024-07-04-20:39:55.808.147 [mindspore/core/utils/file_utils.cc:253] GetRealPath] Get realpath failed, path[/tmp/ipykernel_272366/3428476077.py]\n",
      "[ERROR] CORE(272366,7f4009669740,python):2024-07-04-20:39:55.808.806 [mindspore/core/utils/file_utils.cc:253] GetRealPath] Get realpath failed, path[/tmp/ipykernel_272366/3428476077.py]\n",
      "[ERROR] CORE(272366,7f4009669740,python):2024-07-04-20:39:55.808.844 [mindspore/core/utils/file_utils.cc:253] GetRealPath] Get realpath failed, path[/tmp/ipykernel_272366/3428476077.py]\n",
      "[ERROR] CORE(272366,7f4009669740,python):2024-07-04-20:39:55.809.476 [mindspore/core/utils/file_utils.cc:253] GetRealPath] Get realpath failed, path[/tmp/ipykernel_272366/3428476077.py]\n",
      "[ERROR] CORE(272366,7f4009669740,python):2024-07-04-20:39:55.809.518 [mindspore/core/utils/file_utils.cc:253] GetRealPath] Get realpath failed, path[/tmp/ipykernel_272366/3428476077.py]\n",
      "[ERROR] CORE(272366,7f4009669740,python):2024-07-04-20:39:55.809.538 [mindspore/core/utils/file_utils.cc:253] GetRealPath] Get realpath failed, path[/tmp/ipykernel_272366/3428476077.py]\n",
      "[ERROR] CORE(272366,7f4009669740,python):2024-07-04-20:39:55.809.554 [mindspore/core/utils/file_utils.cc:253] GetRealPath] Get realpath failed, path[/tmp/ipykernel_272366/1339986826.py]\n",
      "[ERROR] CORE(272366,7f4009669740,python):2024-07-04-20:39:55.809.612 [mindspore/core/utils/file_utils.cc:253] GetRealPath] Get realpath failed, path[/tmp/ipykernel_272366/3428476077.py]\n",
      "[ERROR] CORE(272366,7f4009669740,python):2024-07-04-20:39:55.819.486 [mindspore/core/utils/file_utils.cc:253] GetRealPath] Get realpath failed, path[/tmp/ipykernel_272366/1339986826.py]\n",
      "[ERROR] CORE(272366,7f4009669740,python):2024-07-04-20:39:55.820.741 [mindspore/core/utils/file_utils.cc:253] GetRealPath] Get realpath failed, path[/tmp/ipykernel_272366/1339986826.py]\n",
      "[ERROR] CORE(272366,7f4009669740,python):2024-07-04-20:39:55.825.378 [mindspore/core/utils/file_utils.cc:253] GetRealPath] Get realpath failed, path[/tmp/ipykernel_272366/1339986826.py]\n"
     ]
    },
    {
     "name": "stdout",
     "output_type": "stream",
     "text": [
      "weight=\n",
      "(1024,  192,    1)\n",
      "138\n"
     ]
    },
    {
     "name": "stderr",
     "output_type": "stream",
     "text": [
      "[ERROR] CORE(272366,7f4009669740,python):2024-07-04-20:39:56.548.357 [mindspore/core/utils/file_utils.cc:253] GetRealPath] Get realpath failed, path[/tmp/ipykernel_272366/1339986826.py]\n",
      "[ERROR] CORE(272366,7f4009669740,python):2024-07-04-20:39:56.549.411 [mindspore/core/utils/file_utils.cc:253] GetRealPath] Get realpath failed, path[/tmp/ipykernel_272366/1339986826.py]\n",
      "[ERROR] CORE(272366,7f4009669740,python):2024-07-04-20:39:56.553.105 [mindspore/core/utils/file_utils.cc:253] GetRealPath] Get realpath failed, path[/tmp/ipykernel_272366/1339986826.py]\n",
      "[ERROR] CORE(272366,7f4009669740,python):2024-07-04-20:39:57.791.285 [mindspore/core/utils/file_utils.cc:253] GetRealPath] Get realpath failed, path[/tmp/ipykernel_272366/3428476077.py]\n",
      "[ERROR] CORE(272366,7f4009669740,python):2024-07-04-20:39:57.791.365 [mindspore/core/utils/file_utils.cc:253] GetRealPath] Get realpath failed, path[/tmp/ipykernel_272366/3428476077.py]\n",
      "[ERROR] CORE(272366,7f4009669740,python):2024-07-04-20:39:57.791.388 [mindspore/core/utils/file_utils.cc:253] GetRealPath] Get realpath failed, path[/tmp/ipykernel_272366/3428476077.py]\n",
      "[ERROR] CORE(272366,7f4009669740,python):2024-07-04-20:39:57.792.033 [mindspore/core/utils/file_utils.cc:253] GetRealPath] Get realpath failed, path[/tmp/ipykernel_272366/3428476077.py]\n",
      "[ERROR] CORE(272366,7f4009669740,python):2024-07-04-20:39:57.792.088 [mindspore/core/utils/file_utils.cc:253] GetRealPath] Get realpath failed, path[/tmp/ipykernel_272366/3428476077.py]\n",
      "[ERROR] CORE(272366,7f4009669740,python):2024-07-04-20:39:57.792.719 [mindspore/core/utils/file_utils.cc:253] GetRealPath] Get realpath failed, path[/tmp/ipykernel_272366/3428476077.py]\n",
      "[ERROR] CORE(272366,7f4009669740,python):2024-07-04-20:39:57.792.761 [mindspore/core/utils/file_utils.cc:253] GetRealPath] Get realpath failed, path[/tmp/ipykernel_272366/3428476077.py]\n",
      "[ERROR] CORE(272366,7f4009669740,python):2024-07-04-20:39:57.792.780 [mindspore/core/utils/file_utils.cc:253] GetRealPath] Get realpath failed, path[/tmp/ipykernel_272366/3428476077.py]\n",
      "[ERROR] CORE(272366,7f4009669740,python):2024-07-04-20:39:57.792.797 [mindspore/core/utils/file_utils.cc:253] GetRealPath] Get realpath failed, path[/tmp/ipykernel_272366/1339986826.py]\n",
      "[ERROR] CORE(272366,7f4009669740,python):2024-07-04-20:39:57.792.855 [mindspore/core/utils/file_utils.cc:253] GetRealPath] Get realpath failed, path[/tmp/ipykernel_272366/3428476077.py]\n",
      "[ERROR] CORE(272366,7f4009669740,python):2024-07-04-20:39:57.806.628 [mindspore/core/utils/file_utils.cc:253] GetRealPath] Get realpath failed, path[/tmp/ipykernel_272366/1339986826.py]\n",
      "[ERROR] CORE(272366,7f4009669740,python):2024-07-04-20:39:57.810.062 [mindspore/core/utils/file_utils.cc:253] GetRealPath] Get realpath failed, path[/tmp/ipykernel_272366/1339986826.py]\n",
      "[ERROR] CORE(272366,7f4009669740,python):2024-07-04-20:39:57.810.078 [mindspore/core/utils/file_utils.cc:253] GetRealPath] Get realpath failed, path[/tmp/ipykernel_272366/1339986826.py]\n"
     ]
    },
    {
     "name": "stdout",
     "output_type": "stream",
     "text": [
      "weight=\n",
      "(1024,  192,    1)\n",
      "139\n"
     ]
    },
    {
     "name": "stderr",
     "output_type": "stream",
     "text": [
      "[ERROR] CORE(272366,7f4009669740,python):2024-07-04-20:39:58.557.868 [mindspore/core/utils/file_utils.cc:253] GetRealPath] Get realpath failed, path[/tmp/ipykernel_272366/1339986826.py]\n",
      "[ERROR] CORE(272366,7f4009669740,python):2024-07-04-20:39:58.558.937 [mindspore/core/utils/file_utils.cc:253] GetRealPath] Get realpath failed, path[/tmp/ipykernel_272366/1339986826.py]\n",
      "[ERROR] CORE(272366,7f4009669740,python):2024-07-04-20:39:58.562.554 [mindspore/core/utils/file_utils.cc:253] GetRealPath] Get realpath failed, path[/tmp/ipykernel_272366/1339986826.py]\n",
      "[ERROR] CORE(272366,7f4009669740,python):2024-07-04-20:39:59.787.622 [mindspore/core/utils/file_utils.cc:253] GetRealPath] Get realpath failed, path[/tmp/ipykernel_272366/3428476077.py]\n",
      "[ERROR] CORE(272366,7f4009669740,python):2024-07-04-20:39:59.787.679 [mindspore/core/utils/file_utils.cc:253] GetRealPath] Get realpath failed, path[/tmp/ipykernel_272366/3428476077.py]\n",
      "[ERROR] CORE(272366,7f4009669740,python):2024-07-04-20:39:59.787.708 [mindspore/core/utils/file_utils.cc:253] GetRealPath] Get realpath failed, path[/tmp/ipykernel_272366/3428476077.py]\n",
      "[ERROR] CORE(272366,7f4009669740,python):2024-07-04-20:39:59.788.384 [mindspore/core/utils/file_utils.cc:253] GetRealPath] Get realpath failed, path[/tmp/ipykernel_272366/3428476077.py]\n",
      "[ERROR] CORE(272366,7f4009669740,python):2024-07-04-20:39:59.788.424 [mindspore/core/utils/file_utils.cc:253] GetRealPath] Get realpath failed, path[/tmp/ipykernel_272366/3428476077.py]\n",
      "[ERROR] CORE(272366,7f4009669740,python):2024-07-04-20:39:59.789.013 [mindspore/core/utils/file_utils.cc:253] GetRealPath] Get realpath failed, path[/tmp/ipykernel_272366/3428476077.py]\n",
      "[ERROR] CORE(272366,7f4009669740,python):2024-07-04-20:39:59.789.077 [mindspore/core/utils/file_utils.cc:253] GetRealPath] Get realpath failed, path[/tmp/ipykernel_272366/3428476077.py]\n",
      "[ERROR] CORE(272366,7f4009669740,python):2024-07-04-20:39:59.789.112 [mindspore/core/utils/file_utils.cc:253] GetRealPath] Get realpath failed, path[/tmp/ipykernel_272366/3428476077.py]\n",
      "[ERROR] CORE(272366,7f4009669740,python):2024-07-04-20:39:59.789.131 [mindspore/core/utils/file_utils.cc:253] GetRealPath] Get realpath failed, path[/tmp/ipykernel_272366/1339986826.py]\n",
      "[ERROR] CORE(272366,7f4009669740,python):2024-07-04-20:39:59.789.193 [mindspore/core/utils/file_utils.cc:253] GetRealPath] Get realpath failed, path[/tmp/ipykernel_272366/3428476077.py]\n",
      "[ERROR] CORE(272366,7f4009669740,python):2024-07-04-20:39:59.800.946 [mindspore/core/utils/file_utils.cc:253] GetRealPath] Get realpath failed, path[/tmp/ipykernel_272366/1339986826.py]\n",
      "[ERROR] CORE(272366,7f4009669740,python):2024-07-04-20:39:59.800.965 [mindspore/core/utils/file_utils.cc:253] GetRealPath] Get realpath failed, path[/tmp/ipykernel_272366/1339986826.py]\n",
      "[ERROR] CORE(272366,7f4009669740,python):2024-07-04-20:39:59.804.228 [mindspore/core/utils/file_utils.cc:253] GetRealPath] Get realpath failed, path[/tmp/ipykernel_272366/1339986826.py]\n"
     ]
    },
    {
     "name": "stdout",
     "output_type": "stream",
     "text": [
      "weight=\n",
      "(1024,  192,    1)\n",
      "140\n"
     ]
    },
    {
     "name": "stderr",
     "output_type": "stream",
     "text": [
      "[ERROR] CORE(272366,7f4009669740,python):2024-07-04-20:40:00.552.387 [mindspore/core/utils/file_utils.cc:253] GetRealPath] Get realpath failed, path[/tmp/ipykernel_272366/1339986826.py]\n",
      "[ERROR] CORE(272366,7f4009669740,python):2024-07-04-20:40:00.553.455 [mindspore/core/utils/file_utils.cc:253] GetRealPath] Get realpath failed, path[/tmp/ipykernel_272366/1339986826.py]\n",
      "[ERROR] CORE(272366,7f4009669740,python):2024-07-04-20:40:00.557.027 [mindspore/core/utils/file_utils.cc:253] GetRealPath] Get realpath failed, path[/tmp/ipykernel_272366/1339986826.py]\n",
      "[ERROR] CORE(272366,7f4009669740,python):2024-07-04-20:40:01.844.450 [mindspore/core/utils/file_utils.cc:253] GetRealPath] Get realpath failed, path[/tmp/ipykernel_272366/3428476077.py]\n",
      "[ERROR] CORE(272366,7f4009669740,python):2024-07-04-20:40:01.844.516 [mindspore/core/utils/file_utils.cc:253] GetRealPath] Get realpath failed, path[/tmp/ipykernel_272366/3428476077.py]\n",
      "[ERROR] CORE(272366,7f4009669740,python):2024-07-04-20:40:01.844.536 [mindspore/core/utils/file_utils.cc:253] GetRealPath] Get realpath failed, path[/tmp/ipykernel_272366/3428476077.py]\n",
      "[ERROR] CORE(272366,7f4009669740,python):2024-07-04-20:40:01.845.229 [mindspore/core/utils/file_utils.cc:253] GetRealPath] Get realpath failed, path[/tmp/ipykernel_272366/3428476077.py]\n",
      "[ERROR] CORE(272366,7f4009669740,python):2024-07-04-20:40:01.845.269 [mindspore/core/utils/file_utils.cc:253] GetRealPath] Get realpath failed, path[/tmp/ipykernel_272366/3428476077.py]\n",
      "[ERROR] CORE(272366,7f4009669740,python):2024-07-04-20:40:01.845.917 [mindspore/core/utils/file_utils.cc:253] GetRealPath] Get realpath failed, path[/tmp/ipykernel_272366/3428476077.py]\n",
      "[ERROR] CORE(272366,7f4009669740,python):2024-07-04-20:40:01.845.963 [mindspore/core/utils/file_utils.cc:253] GetRealPath] Get realpath failed, path[/tmp/ipykernel_272366/3428476077.py]\n",
      "[ERROR] CORE(272366,7f4009669740,python):2024-07-04-20:40:01.845.983 [mindspore/core/utils/file_utils.cc:253] GetRealPath] Get realpath failed, path[/tmp/ipykernel_272366/3428476077.py]\n",
      "[ERROR] CORE(272366,7f4009669740,python):2024-07-04-20:40:01.846.000 [mindspore/core/utils/file_utils.cc:253] GetRealPath] Get realpath failed, path[/tmp/ipykernel_272366/1339986826.py]\n",
      "[ERROR] CORE(272366,7f4009669740,python):2024-07-04-20:40:01.846.083 [mindspore/core/utils/file_utils.cc:253] GetRealPath] Get realpath failed, path[/tmp/ipykernel_272366/3428476077.py]\n",
      "[ERROR] CORE(272366,7f4009669740,python):2024-07-04-20:40:01.858.433 [mindspore/core/utils/file_utils.cc:253] GetRealPath] Get realpath failed, path[/tmp/ipykernel_272366/1339986826.py]\n",
      "[ERROR] CORE(272366,7f4009669740,python):2024-07-04-20:40:01.860.780 [mindspore/core/utils/file_utils.cc:253] GetRealPath] Get realpath failed, path[/tmp/ipykernel_272366/1339986826.py]\n",
      "[ERROR] CORE(272366,7f4009669740,python):2024-07-04-20:40:01.862.250 [mindspore/core/utils/file_utils.cc:253] GetRealPath] Get realpath failed, path[/tmp/ipykernel_272366/1339986826.py]\n"
     ]
    },
    {
     "name": "stdout",
     "output_type": "stream",
     "text": [
      "weight=\n",
      "(1024,  192,    1)\n",
      "141\n"
     ]
    },
    {
     "name": "stderr",
     "output_type": "stream",
     "text": [
      "[ERROR] CORE(272366,7f4009669740,python):2024-07-04-20:40:02.592.341 [mindspore/core/utils/file_utils.cc:253] GetRealPath] Get realpath failed, path[/tmp/ipykernel_272366/1339986826.py]\n",
      "[ERROR] CORE(272366,7f4009669740,python):2024-07-04-20:40:02.593.390 [mindspore/core/utils/file_utils.cc:253] GetRealPath] Get realpath failed, path[/tmp/ipykernel_272366/1339986826.py]\n",
      "[ERROR] CORE(272366,7f4009669740,python):2024-07-04-20:40:02.597.020 [mindspore/core/utils/file_utils.cc:253] GetRealPath] Get realpath failed, path[/tmp/ipykernel_272366/1339986826.py]\n",
      "[ERROR] CORE(272366,7f4009669740,python):2024-07-04-20:40:03.837.501 [mindspore/core/utils/file_utils.cc:253] GetRealPath] Get realpath failed, path[/tmp/ipykernel_272366/3428476077.py]\n",
      "[ERROR] CORE(272366,7f4009669740,python):2024-07-04-20:40:03.837.561 [mindspore/core/utils/file_utils.cc:253] GetRealPath] Get realpath failed, path[/tmp/ipykernel_272366/3428476077.py]\n",
      "[ERROR] CORE(272366,7f4009669740,python):2024-07-04-20:40:03.837.582 [mindspore/core/utils/file_utils.cc:253] GetRealPath] Get realpath failed, path[/tmp/ipykernel_272366/3428476077.py]\n",
      "[ERROR] CORE(272366,7f4009669740,python):2024-07-04-20:40:03.838.280 [mindspore/core/utils/file_utils.cc:253] GetRealPath] Get realpath failed, path[/tmp/ipykernel_272366/3428476077.py]\n",
      "[ERROR] CORE(272366,7f4009669740,python):2024-07-04-20:40:03.838.321 [mindspore/core/utils/file_utils.cc:253] GetRealPath] Get realpath failed, path[/tmp/ipykernel_272366/3428476077.py]\n",
      "[ERROR] CORE(272366,7f4009669740,python):2024-07-04-20:40:03.838.942 [mindspore/core/utils/file_utils.cc:253] GetRealPath] Get realpath failed, path[/tmp/ipykernel_272366/3428476077.py]\n",
      "[ERROR] CORE(272366,7f4009669740,python):2024-07-04-20:40:03.838.984 [mindspore/core/utils/file_utils.cc:253] GetRealPath] Get realpath failed, path[/tmp/ipykernel_272366/3428476077.py]\n",
      "[ERROR] CORE(272366,7f4009669740,python):2024-07-04-20:40:03.839.003 [mindspore/core/utils/file_utils.cc:253] GetRealPath] Get realpath failed, path[/tmp/ipykernel_272366/3428476077.py]\n",
      "[ERROR] CORE(272366,7f4009669740,python):2024-07-04-20:40:03.839.021 [mindspore/core/utils/file_utils.cc:253] GetRealPath] Get realpath failed, path[/tmp/ipykernel_272366/1339986826.py]\n",
      "[ERROR] CORE(272366,7f4009669740,python):2024-07-04-20:40:03.839.096 [mindspore/core/utils/file_utils.cc:253] GetRealPath] Get realpath failed, path[/tmp/ipykernel_272366/3428476077.py]\n",
      "[ERROR] CORE(272366,7f4009669740,python):2024-07-04-20:40:03.852.508 [mindspore/core/utils/file_utils.cc:253] GetRealPath] Get realpath failed, path[/tmp/ipykernel_272366/1339986826.py]\n",
      "[ERROR] CORE(272366,7f4009669740,python):2024-07-04-20:40:03.853.724 [mindspore/core/utils/file_utils.cc:253] GetRealPath] Get realpath failed, path[/tmp/ipykernel_272366/1339986826.py]\n",
      "[ERROR] CORE(272366,7f4009669740,python):2024-07-04-20:40:03.854.800 [mindspore/core/utils/file_utils.cc:253] GetRealPath] Get realpath failed, path[/tmp/ipykernel_272366/1339986826.py]\n"
     ]
    },
    {
     "name": "stdout",
     "output_type": "stream",
     "text": [
      "weight=\n",
      "(1024,  192,    1)\n",
      "142\n"
     ]
    },
    {
     "name": "stderr",
     "output_type": "stream",
     "text": [
      "[ERROR] CORE(272366,7f4009669740,python):2024-07-04-20:40:04.579.099 [mindspore/core/utils/file_utils.cc:253] GetRealPath] Get realpath failed, path[/tmp/ipykernel_272366/1339986826.py]\n",
      "[ERROR] CORE(272366,7f4009669740,python):2024-07-04-20:40:04.580.128 [mindspore/core/utils/file_utils.cc:253] GetRealPath] Get realpath failed, path[/tmp/ipykernel_272366/1339986826.py]\n",
      "[ERROR] CORE(272366,7f4009669740,python):2024-07-04-20:40:04.583.734 [mindspore/core/utils/file_utils.cc:253] GetRealPath] Get realpath failed, path[/tmp/ipykernel_272366/1339986826.py]\n",
      "[ERROR] CORE(272366,7f4009669740,python):2024-07-04-20:40:05.811.211 [mindspore/core/utils/file_utils.cc:253] GetRealPath] Get realpath failed, path[/tmp/ipykernel_272366/3428476077.py]\n",
      "[ERROR] CORE(272366,7f4009669740,python):2024-07-04-20:40:05.811.272 [mindspore/core/utils/file_utils.cc:253] GetRealPath] Get realpath failed, path[/tmp/ipykernel_272366/3428476077.py]\n",
      "[ERROR] CORE(272366,7f4009669740,python):2024-07-04-20:40:05.811.292 [mindspore/core/utils/file_utils.cc:253] GetRealPath] Get realpath failed, path[/tmp/ipykernel_272366/3428476077.py]\n",
      "[ERROR] CORE(272366,7f4009669740,python):2024-07-04-20:40:05.811.948 [mindspore/core/utils/file_utils.cc:253] GetRealPath] Get realpath failed, path[/tmp/ipykernel_272366/3428476077.py]\n",
      "[ERROR] CORE(272366,7f4009669740,python):2024-07-04-20:40:05.811.986 [mindspore/core/utils/file_utils.cc:253] GetRealPath] Get realpath failed, path[/tmp/ipykernel_272366/3428476077.py]\n",
      "[ERROR] CORE(272366,7f4009669740,python):2024-07-04-20:40:05.812.617 [mindspore/core/utils/file_utils.cc:253] GetRealPath] Get realpath failed, path[/tmp/ipykernel_272366/3428476077.py]\n",
      "[ERROR] CORE(272366,7f4009669740,python):2024-07-04-20:40:05.812.659 [mindspore/core/utils/file_utils.cc:253] GetRealPath] Get realpath failed, path[/tmp/ipykernel_272366/3428476077.py]\n",
      "[ERROR] CORE(272366,7f4009669740,python):2024-07-04-20:40:05.812.678 [mindspore/core/utils/file_utils.cc:253] GetRealPath] Get realpath failed, path[/tmp/ipykernel_272366/3428476077.py]\n",
      "[ERROR] CORE(272366,7f4009669740,python):2024-07-04-20:40:05.812.695 [mindspore/core/utils/file_utils.cc:253] GetRealPath] Get realpath failed, path[/tmp/ipykernel_272366/1339986826.py]\n",
      "[ERROR] CORE(272366,7f4009669740,python):2024-07-04-20:40:05.812.753 [mindspore/core/utils/file_utils.cc:253] GetRealPath] Get realpath failed, path[/tmp/ipykernel_272366/3428476077.py]\n",
      "[ERROR] CORE(272366,7f4009669740,python):2024-07-04-20:40:05.823.856 [mindspore/core/utils/file_utils.cc:253] GetRealPath] Get realpath failed, path[/tmp/ipykernel_272366/1339986826.py]\n",
      "[ERROR] CORE(272366,7f4009669740,python):2024-07-04-20:40:05.826.185 [mindspore/core/utils/file_utils.cc:253] GetRealPath] Get realpath failed, path[/tmp/ipykernel_272366/1339986826.py]\n",
      "[ERROR] CORE(272366,7f4009669740,python):2024-07-04-20:40:05.826.374 [mindspore/core/utils/file_utils.cc:253] GetRealPath] Get realpath failed, path[/tmp/ipykernel_272366/1339986826.py]\n"
     ]
    },
    {
     "name": "stdout",
     "output_type": "stream",
     "text": [
      "weight=\n",
      "(1024,  192,    1)\n",
      "143\n"
     ]
    },
    {
     "name": "stderr",
     "output_type": "stream",
     "text": [
      "[ERROR] CORE(272366,7f4009669740,python):2024-07-04-20:40:06.564.332 [mindspore/core/utils/file_utils.cc:253] GetRealPath] Get realpath failed, path[/tmp/ipykernel_272366/1339986826.py]\n",
      "[ERROR] CORE(272366,7f4009669740,python):2024-07-04-20:40:06.565.649 [mindspore/core/utils/file_utils.cc:253] GetRealPath] Get realpath failed, path[/tmp/ipykernel_272366/1339986826.py]\n",
      "[ERROR] CORE(272366,7f4009669740,python):2024-07-04-20:40:06.569.275 [mindspore/core/utils/file_utils.cc:253] GetRealPath] Get realpath failed, path[/tmp/ipykernel_272366/1339986826.py]\n",
      "[ERROR] CORE(272366,7f4009669740,python):2024-07-04-20:40:07.801.495 [mindspore/core/utils/file_utils.cc:253] GetRealPath] Get realpath failed, path[/tmp/ipykernel_272366/3428476077.py]\n",
      "[ERROR] CORE(272366,7f4009669740,python):2024-07-04-20:40:07.801.576 [mindspore/core/utils/file_utils.cc:253] GetRealPath] Get realpath failed, path[/tmp/ipykernel_272366/3428476077.py]\n",
      "[ERROR] CORE(272366,7f4009669740,python):2024-07-04-20:40:07.801.600 [mindspore/core/utils/file_utils.cc:253] GetRealPath] Get realpath failed, path[/tmp/ipykernel_272366/3428476077.py]\n",
      "[ERROR] CORE(272366,7f4009669740,python):2024-07-04-20:40:07.802.304 [mindspore/core/utils/file_utils.cc:253] GetRealPath] Get realpath failed, path[/tmp/ipykernel_272366/3428476077.py]\n",
      "[ERROR] CORE(272366,7f4009669740,python):2024-07-04-20:40:07.802.346 [mindspore/core/utils/file_utils.cc:253] GetRealPath] Get realpath failed, path[/tmp/ipykernel_272366/3428476077.py]\n",
      "[ERROR] CORE(272366,7f4009669740,python):2024-07-04-20:40:07.802.967 [mindspore/core/utils/file_utils.cc:253] GetRealPath] Get realpath failed, path[/tmp/ipykernel_272366/3428476077.py]\n",
      "[ERROR] CORE(272366,7f4009669740,python):2024-07-04-20:40:07.803.010 [mindspore/core/utils/file_utils.cc:253] GetRealPath] Get realpath failed, path[/tmp/ipykernel_272366/3428476077.py]\n",
      "[ERROR] CORE(272366,7f4009669740,python):2024-07-04-20:40:07.803.029 [mindspore/core/utils/file_utils.cc:253] GetRealPath] Get realpath failed, path[/tmp/ipykernel_272366/3428476077.py]\n",
      "[ERROR] CORE(272366,7f4009669740,python):2024-07-04-20:40:07.803.059 [mindspore/core/utils/file_utils.cc:253] GetRealPath] Get realpath failed, path[/tmp/ipykernel_272366/1339986826.py]\n",
      "[ERROR] CORE(272366,7f4009669740,python):2024-07-04-20:40:07.803.124 [mindspore/core/utils/file_utils.cc:253] GetRealPath] Get realpath failed, path[/tmp/ipykernel_272366/3428476077.py]\n",
      "[ERROR] CORE(272366,7f4009669740,python):2024-07-04-20:40:07.814.980 [mindspore/core/utils/file_utils.cc:253] GetRealPath] Get realpath failed, path[/tmp/ipykernel_272366/1339986826.py]\n",
      "[ERROR] CORE(272366,7f4009669740,python):2024-07-04-20:40:07.816.073 [mindspore/core/utils/file_utils.cc:253] GetRealPath] Get realpath failed, path[/tmp/ipykernel_272366/1339986826.py]\n",
      "[ERROR] CORE(272366,7f4009669740,python):2024-07-04-20:40:07.819.528 [mindspore/core/utils/file_utils.cc:253] GetRealPath] Get realpath failed, path[/tmp/ipykernel_272366/1339986826.py]\n"
     ]
    },
    {
     "name": "stdout",
     "output_type": "stream",
     "text": [
      "weight=\n",
      "(1024,  192,    1)\n",
      "144\n"
     ]
    },
    {
     "name": "stderr",
     "output_type": "stream",
     "text": [
      "[ERROR] CORE(272366,7f4009669740,python):2024-07-04-20:40:08.548.220 [mindspore/core/utils/file_utils.cc:253] GetRealPath] Get realpath failed, path[/tmp/ipykernel_272366/1339986826.py]\n",
      "[ERROR] CORE(272366,7f4009669740,python):2024-07-04-20:40:08.549.320 [mindspore/core/utils/file_utils.cc:253] GetRealPath] Get realpath failed, path[/tmp/ipykernel_272366/1339986826.py]\n",
      "[ERROR] CORE(272366,7f4009669740,python):2024-07-04-20:40:08.552.928 [mindspore/core/utils/file_utils.cc:253] GetRealPath] Get realpath failed, path[/tmp/ipykernel_272366/1339986826.py]\n",
      "[ERROR] CORE(272366,7f4009669740,python):2024-07-04-20:40:09.778.398 [mindspore/core/utils/file_utils.cc:253] GetRealPath] Get realpath failed, path[/tmp/ipykernel_272366/3428476077.py]\n",
      "[ERROR] CORE(272366,7f4009669740,python):2024-07-04-20:40:09.778.456 [mindspore/core/utils/file_utils.cc:253] GetRealPath] Get realpath failed, path[/tmp/ipykernel_272366/3428476077.py]\n",
      "[ERROR] CORE(272366,7f4009669740,python):2024-07-04-20:40:09.778.477 [mindspore/core/utils/file_utils.cc:253] GetRealPath] Get realpath failed, path[/tmp/ipykernel_272366/3428476077.py]\n",
      "[ERROR] CORE(272366,7f4009669740,python):2024-07-04-20:40:09.779.151 [mindspore/core/utils/file_utils.cc:253] GetRealPath] Get realpath failed, path[/tmp/ipykernel_272366/3428476077.py]\n",
      "[ERROR] CORE(272366,7f4009669740,python):2024-07-04-20:40:09.779.192 [mindspore/core/utils/file_utils.cc:253] GetRealPath] Get realpath failed, path[/tmp/ipykernel_272366/3428476077.py]\n",
      "[ERROR] CORE(272366,7f4009669740,python):2024-07-04-20:40:09.779.819 [mindspore/core/utils/file_utils.cc:253] GetRealPath] Get realpath failed, path[/tmp/ipykernel_272366/3428476077.py]\n",
      "[ERROR] CORE(272366,7f4009669740,python):2024-07-04-20:40:09.779.861 [mindspore/core/utils/file_utils.cc:253] GetRealPath] Get realpath failed, path[/tmp/ipykernel_272366/3428476077.py]\n",
      "[ERROR] CORE(272366,7f4009669740,python):2024-07-04-20:40:09.779.880 [mindspore/core/utils/file_utils.cc:253] GetRealPath] Get realpath failed, path[/tmp/ipykernel_272366/3428476077.py]\n",
      "[ERROR] CORE(272366,7f4009669740,python):2024-07-04-20:40:09.779.898 [mindspore/core/utils/file_utils.cc:253] GetRealPath] Get realpath failed, path[/tmp/ipykernel_272366/1339986826.py]\n",
      "[ERROR] CORE(272366,7f4009669740,python):2024-07-04-20:40:09.779.957 [mindspore/core/utils/file_utils.cc:253] GetRealPath] Get realpath failed, path[/tmp/ipykernel_272366/3428476077.py]\n",
      "[ERROR] CORE(272366,7f4009669740,python):2024-07-04-20:40:09.789.898 [mindspore/core/utils/file_utils.cc:253] GetRealPath] Get realpath failed, path[/tmp/ipykernel_272366/1339986826.py]\n",
      "[ERROR] CORE(272366,7f4009669740,python):2024-07-04-20:40:09.793.331 [mindspore/core/utils/file_utils.cc:253] GetRealPath] Get realpath failed, path[/tmp/ipykernel_272366/1339986826.py]\n",
      "[ERROR] CORE(272366,7f4009669740,python):2024-07-04-20:40:09.795.717 [mindspore/core/utils/file_utils.cc:253] GetRealPath] Get realpath failed, path[/tmp/ipykernel_272366/1339986826.py]\n"
     ]
    },
    {
     "name": "stdout",
     "output_type": "stream",
     "text": [
      "weight=\n",
      "(1024,  192,    1)\n",
      "145\n"
     ]
    },
    {
     "name": "stderr",
     "output_type": "stream",
     "text": [
      "[ERROR] CORE(272366,7f4009669740,python):2024-07-04-20:40:10.527.138 [mindspore/core/utils/file_utils.cc:253] GetRealPath] Get realpath failed, path[/tmp/ipykernel_272366/1339986826.py]\n",
      "[ERROR] CORE(272366,7f4009669740,python):2024-07-04-20:40:10.528.164 [mindspore/core/utils/file_utils.cc:253] GetRealPath] Get realpath failed, path[/tmp/ipykernel_272366/1339986826.py]\n",
      "[ERROR] CORE(272366,7f4009669740,python):2024-07-04-20:40:10.531.760 [mindspore/core/utils/file_utils.cc:253] GetRealPath] Get realpath failed, path[/tmp/ipykernel_272366/1339986826.py]\n",
      "[ERROR] CORE(272366,7f4009669740,python):2024-07-04-20:40:11.709.369 [mindspore/core/utils/file_utils.cc:253] GetRealPath] Get realpath failed, path[/tmp/ipykernel_272366/3428476077.py]\n",
      "[ERROR] CORE(272366,7f4009669740,python):2024-07-04-20:40:11.709.428 [mindspore/core/utils/file_utils.cc:253] GetRealPath] Get realpath failed, path[/tmp/ipykernel_272366/3428476077.py]\n",
      "[ERROR] CORE(272366,7f4009669740,python):2024-07-04-20:40:11.709.448 [mindspore/core/utils/file_utils.cc:253] GetRealPath] Get realpath failed, path[/tmp/ipykernel_272366/3428476077.py]\n",
      "[ERROR] CORE(272366,7f4009669740,python):2024-07-04-20:40:11.710.132 [mindspore/core/utils/file_utils.cc:253] GetRealPath] Get realpath failed, path[/tmp/ipykernel_272366/3428476077.py]\n",
      "[ERROR] CORE(272366,7f4009669740,python):2024-07-04-20:40:11.710.172 [mindspore/core/utils/file_utils.cc:253] GetRealPath] Get realpath failed, path[/tmp/ipykernel_272366/3428476077.py]\n",
      "[ERROR] CORE(272366,7f4009669740,python):2024-07-04-20:40:11.710.762 [mindspore/core/utils/file_utils.cc:253] GetRealPath] Get realpath failed, path[/tmp/ipykernel_272366/3428476077.py]\n",
      "[ERROR] CORE(272366,7f4009669740,python):2024-07-04-20:40:11.710.802 [mindspore/core/utils/file_utils.cc:253] GetRealPath] Get realpath failed, path[/tmp/ipykernel_272366/3428476077.py]\n",
      "[ERROR] CORE(272366,7f4009669740,python):2024-07-04-20:40:11.710.821 [mindspore/core/utils/file_utils.cc:253] GetRealPath] Get realpath failed, path[/tmp/ipykernel_272366/3428476077.py]\n",
      "[ERROR] CORE(272366,7f4009669740,python):2024-07-04-20:40:11.710.838 [mindspore/core/utils/file_utils.cc:253] GetRealPath] Get realpath failed, path[/tmp/ipykernel_272366/1339986826.py]\n",
      "[ERROR] CORE(272366,7f4009669740,python):2024-07-04-20:40:11.710.895 [mindspore/core/utils/file_utils.cc:253] GetRealPath] Get realpath failed, path[/tmp/ipykernel_272366/3428476077.py]\n",
      "[ERROR] CORE(272366,7f4009669740,python):2024-07-04-20:40:11.723.540 [mindspore/core/utils/file_utils.cc:253] GetRealPath] Get realpath failed, path[/tmp/ipykernel_272366/1339986826.py]\n",
      "[ERROR] CORE(272366,7f4009669740,python):2024-07-04-20:40:11.723.662 [mindspore/core/utils/file_utils.cc:253] GetRealPath] Get realpath failed, path[/tmp/ipykernel_272366/1339986826.py]\n",
      "[ERROR] CORE(272366,7f4009669740,python):2024-07-04-20:40:11.723.675 [mindspore/core/utils/file_utils.cc:253] GetRealPath] Get realpath failed, path[/tmp/ipykernel_272366/1339986826.py]\n"
     ]
    },
    {
     "name": "stdout",
     "output_type": "stream",
     "text": [
      "weight=\n",
      "(1024,  192,    1)\n",
      "146\n"
     ]
    },
    {
     "name": "stderr",
     "output_type": "stream",
     "text": [
      "[ERROR] CORE(272366,7f4009669740,python):2024-07-04-20:40:12.452.271 [mindspore/core/utils/file_utils.cc:253] GetRealPath] Get realpath failed, path[/tmp/ipykernel_272366/1339986826.py]\n",
      "[ERROR] CORE(272366,7f4009669740,python):2024-07-04-20:40:12.453.294 [mindspore/core/utils/file_utils.cc:253] GetRealPath] Get realpath failed, path[/tmp/ipykernel_272366/1339986826.py]\n",
      "[ERROR] CORE(272366,7f4009669740,python):2024-07-04-20:40:12.456.912 [mindspore/core/utils/file_utils.cc:253] GetRealPath] Get realpath failed, path[/tmp/ipykernel_272366/1339986826.py]\n",
      "[ERROR] CORE(272366,7f4009669740,python):2024-07-04-20:40:13.676.514 [mindspore/core/utils/file_utils.cc:253] GetRealPath] Get realpath failed, path[/tmp/ipykernel_272366/3428476077.py]\n",
      "[ERROR] CORE(272366,7f4009669740,python):2024-07-04-20:40:13.676.573 [mindspore/core/utils/file_utils.cc:253] GetRealPath] Get realpath failed, path[/tmp/ipykernel_272366/3428476077.py]\n",
      "[ERROR] CORE(272366,7f4009669740,python):2024-07-04-20:40:13.676.593 [mindspore/core/utils/file_utils.cc:253] GetRealPath] Get realpath failed, path[/tmp/ipykernel_272366/3428476077.py]\n",
      "[ERROR] CORE(272366,7f4009669740,python):2024-07-04-20:40:13.677.272 [mindspore/core/utils/file_utils.cc:253] GetRealPath] Get realpath failed, path[/tmp/ipykernel_272366/3428476077.py]\n",
      "[ERROR] CORE(272366,7f4009669740,python):2024-07-04-20:40:13.677.319 [mindspore/core/utils/file_utils.cc:253] GetRealPath] Get realpath failed, path[/tmp/ipykernel_272366/3428476077.py]\n",
      "[ERROR] CORE(272366,7f4009669740,python):2024-07-04-20:40:13.677.895 [mindspore/core/utils/file_utils.cc:253] GetRealPath] Get realpath failed, path[/tmp/ipykernel_272366/3428476077.py]\n",
      "[ERROR] CORE(272366,7f4009669740,python):2024-07-04-20:40:13.677.933 [mindspore/core/utils/file_utils.cc:253] GetRealPath] Get realpath failed, path[/tmp/ipykernel_272366/3428476077.py]\n",
      "[ERROR] CORE(272366,7f4009669740,python):2024-07-04-20:40:13.677.951 [mindspore/core/utils/file_utils.cc:253] GetRealPath] Get realpath failed, path[/tmp/ipykernel_272366/3428476077.py]\n",
      "[ERROR] CORE(272366,7f4009669740,python):2024-07-04-20:40:13.677.967 [mindspore/core/utils/file_utils.cc:253] GetRealPath] Get realpath failed, path[/tmp/ipykernel_272366/1339986826.py]\n",
      "[ERROR] CORE(272366,7f4009669740,python):2024-07-04-20:40:13.678.024 [mindspore/core/utils/file_utils.cc:253] GetRealPath] Get realpath failed, path[/tmp/ipykernel_272366/3428476077.py]\n",
      "[ERROR] CORE(272366,7f4009669740,python):2024-07-04-20:40:13.690.520 [mindspore/core/utils/file_utils.cc:253] GetRealPath] Get realpath failed, path[/tmp/ipykernel_272366/1339986826.py]\n",
      "[ERROR] CORE(272366,7f4009669740,python):2024-07-04-20:40:13.692.787 [mindspore/core/utils/file_utils.cc:253] GetRealPath] Get realpath failed, path[/tmp/ipykernel_272366/1339986826.py]\n",
      "[ERROR] CORE(272366,7f4009669740,python):2024-07-04-20:40:13.692.803 [mindspore/core/utils/file_utils.cc:253] GetRealPath] Get realpath failed, path[/tmp/ipykernel_272366/1339986826.py]\n"
     ]
    },
    {
     "name": "stdout",
     "output_type": "stream",
     "text": [
      "weight=\n",
      "(1024,  192,    1)\n",
      "147\n"
     ]
    },
    {
     "name": "stderr",
     "output_type": "stream",
     "text": [
      "[ERROR] CORE(272366,7f4009669740,python):2024-07-04-20:40:14.429.469 [mindspore/core/utils/file_utils.cc:253] GetRealPath] Get realpath failed, path[/tmp/ipykernel_272366/1339986826.py]\n",
      "[ERROR] CORE(272366,7f4009669740,python):2024-07-04-20:40:14.430.531 [mindspore/core/utils/file_utils.cc:253] GetRealPath] Get realpath failed, path[/tmp/ipykernel_272366/1339986826.py]\n",
      "[ERROR] CORE(272366,7f4009669740,python):2024-07-04-20:40:14.434.146 [mindspore/core/utils/file_utils.cc:253] GetRealPath] Get realpath failed, path[/tmp/ipykernel_272366/1339986826.py]\n",
      "[ERROR] CORE(272366,7f4009669740,python):2024-07-04-20:40:15.671.125 [mindspore/core/utils/file_utils.cc:253] GetRealPath] Get realpath failed, path[/tmp/ipykernel_272366/3428476077.py]\n",
      "[ERROR] CORE(272366,7f4009669740,python):2024-07-04-20:40:15.671.196 [mindspore/core/utils/file_utils.cc:253] GetRealPath] Get realpath failed, path[/tmp/ipykernel_272366/3428476077.py]\n",
      "[ERROR] CORE(272366,7f4009669740,python):2024-07-04-20:40:15.671.217 [mindspore/core/utils/file_utils.cc:253] GetRealPath] Get realpath failed, path[/tmp/ipykernel_272366/3428476077.py]\n",
      "[ERROR] CORE(272366,7f4009669740,python):2024-07-04-20:40:15.671.884 [mindspore/core/utils/file_utils.cc:253] GetRealPath] Get realpath failed, path[/tmp/ipykernel_272366/3428476077.py]\n",
      "[ERROR] CORE(272366,7f4009669740,python):2024-07-04-20:40:15.671.923 [mindspore/core/utils/file_utils.cc:253] GetRealPath] Get realpath failed, path[/tmp/ipykernel_272366/3428476077.py]\n",
      "[ERROR] CORE(272366,7f4009669740,python):2024-07-04-20:40:15.672.559 [mindspore/core/utils/file_utils.cc:253] GetRealPath] Get realpath failed, path[/tmp/ipykernel_272366/3428476077.py]\n",
      "[ERROR] CORE(272366,7f4009669740,python):2024-07-04-20:40:15.672.603 [mindspore/core/utils/file_utils.cc:253] GetRealPath] Get realpath failed, path[/tmp/ipykernel_272366/3428476077.py]\n",
      "[ERROR] CORE(272366,7f4009669740,python):2024-07-04-20:40:15.672.623 [mindspore/core/utils/file_utils.cc:253] GetRealPath] Get realpath failed, path[/tmp/ipykernel_272366/3428476077.py]\n",
      "[ERROR] CORE(272366,7f4009669740,python):2024-07-04-20:40:15.672.641 [mindspore/core/utils/file_utils.cc:253] GetRealPath] Get realpath failed, path[/tmp/ipykernel_272366/1339986826.py]\n",
      "[ERROR] CORE(272366,7f4009669740,python):2024-07-04-20:40:15.672.702 [mindspore/core/utils/file_utils.cc:253] GetRealPath] Get realpath failed, path[/tmp/ipykernel_272366/3428476077.py]\n",
      "[ERROR] CORE(272366,7f4009669740,python):2024-07-04-20:40:15.684.381 [mindspore/core/utils/file_utils.cc:253] GetRealPath] Get realpath failed, path[/tmp/ipykernel_272366/1339986826.py]\n",
      "[ERROR] CORE(272366,7f4009669740,python):2024-07-04-20:40:15.687.791 [mindspore/core/utils/file_utils.cc:253] GetRealPath] Get realpath failed, path[/tmp/ipykernel_272366/1339986826.py]\n",
      "[ERROR] CORE(272366,7f4009669740,python):2024-07-04-20:40:15.689.158 [mindspore/core/utils/file_utils.cc:253] GetRealPath] Get realpath failed, path[/tmp/ipykernel_272366/1339986826.py]\n"
     ]
    },
    {
     "name": "stdout",
     "output_type": "stream",
     "text": [
      "weight=\n",
      "(1024,  192,    1)\n",
      "148\n"
     ]
    },
    {
     "name": "stderr",
     "output_type": "stream",
     "text": [
      "[ERROR] CORE(272366,7f4009669740,python):2024-07-04-20:40:16.423.559 [mindspore/core/utils/file_utils.cc:253] GetRealPath] Get realpath failed, path[/tmp/ipykernel_272366/1339986826.py]\n",
      "[ERROR] CORE(272366,7f4009669740,python):2024-07-04-20:40:16.424.593 [mindspore/core/utils/file_utils.cc:253] GetRealPath] Get realpath failed, path[/tmp/ipykernel_272366/1339986826.py]\n",
      "[ERROR] CORE(272366,7f4009669740,python):2024-07-04-20:40:16.428.245 [mindspore/core/utils/file_utils.cc:253] GetRealPath] Get realpath failed, path[/tmp/ipykernel_272366/1339986826.py]\n",
      "[ERROR] CORE(272366,7f4009669740,python):2024-07-04-20:40:17.646.638 [mindspore/core/utils/file_utils.cc:253] GetRealPath] Get realpath failed, path[/tmp/ipykernel_272366/3428476077.py]\n",
      "[ERROR] CORE(272366,7f4009669740,python):2024-07-04-20:40:17.646.697 [mindspore/core/utils/file_utils.cc:253] GetRealPath] Get realpath failed, path[/tmp/ipykernel_272366/3428476077.py]\n",
      "[ERROR] CORE(272366,7f4009669740,python):2024-07-04-20:40:17.646.717 [mindspore/core/utils/file_utils.cc:253] GetRealPath] Get realpath failed, path[/tmp/ipykernel_272366/3428476077.py]\n",
      "[ERROR] CORE(272366,7f4009669740,python):2024-07-04-20:40:17.647.420 [mindspore/core/utils/file_utils.cc:253] GetRealPath] Get realpath failed, path[/tmp/ipykernel_272366/3428476077.py]\n",
      "[ERROR] CORE(272366,7f4009669740,python):2024-07-04-20:40:17.647.461 [mindspore/core/utils/file_utils.cc:253] GetRealPath] Get realpath failed, path[/tmp/ipykernel_272366/3428476077.py]\n",
      "[ERROR] CORE(272366,7f4009669740,python):2024-07-04-20:40:17.648.101 [mindspore/core/utils/file_utils.cc:253] GetRealPath] Get realpath failed, path[/tmp/ipykernel_272366/3428476077.py]\n",
      "[ERROR] CORE(272366,7f4009669740,python):2024-07-04-20:40:17.648.145 [mindspore/core/utils/file_utils.cc:253] GetRealPath] Get realpath failed, path[/tmp/ipykernel_272366/3428476077.py]\n",
      "[ERROR] CORE(272366,7f4009669740,python):2024-07-04-20:40:17.648.165 [mindspore/core/utils/file_utils.cc:253] GetRealPath] Get realpath failed, path[/tmp/ipykernel_272366/3428476077.py]\n",
      "[ERROR] CORE(272366,7f4009669740,python):2024-07-04-20:40:17.648.182 [mindspore/core/utils/file_utils.cc:253] GetRealPath] Get realpath failed, path[/tmp/ipykernel_272366/1339986826.py]\n",
      "[ERROR] CORE(272366,7f4009669740,python):2024-07-04-20:40:17.648.241 [mindspore/core/utils/file_utils.cc:253] GetRealPath] Get realpath failed, path[/tmp/ipykernel_272366/3428476077.py]\n",
      "[ERROR] CORE(272366,7f4009669740,python):2024-07-04-20:40:17.659.629 [mindspore/core/utils/file_utils.cc:253] GetRealPath] Get realpath failed, path[/tmp/ipykernel_272366/1339986826.py]\n",
      "[ERROR] CORE(272366,7f4009669740,python):2024-07-04-20:40:17.659.647 [mindspore/core/utils/file_utils.cc:253] GetRealPath] Get realpath failed, path[/tmp/ipykernel_272366/1339986826.py]\n",
      "[ERROR] CORE(272366,7f4009669740,python):2024-07-04-20:40:17.663.940 [mindspore/core/utils/file_utils.cc:253] GetRealPath] Get realpath failed, path[/tmp/ipykernel_272366/1339986826.py]\n"
     ]
    },
    {
     "name": "stdout",
     "output_type": "stream",
     "text": [
      "weight=\n",
      "(1024,  192,    1)\n",
      "149\n"
     ]
    },
    {
     "name": "stderr",
     "output_type": "stream",
     "text": [
      "[ERROR] CORE(272366,7f4009669740,python):2024-07-04-20:40:18.412.249 [mindspore/core/utils/file_utils.cc:253] GetRealPath] Get realpath failed, path[/tmp/ipykernel_272366/1339986826.py]\n",
      "[ERROR] CORE(272366,7f4009669740,python):2024-07-04-20:40:18.413.358 [mindspore/core/utils/file_utils.cc:253] GetRealPath] Get realpath failed, path[/tmp/ipykernel_272366/1339986826.py]\n",
      "[ERROR] CORE(272366,7f4009669740,python):2024-07-04-20:40:18.416.827 [mindspore/core/utils/file_utils.cc:253] GetRealPath] Get realpath failed, path[/tmp/ipykernel_272366/1339986826.py]\n",
      "[ERROR] CORE(272366,7f4009669740,python):2024-07-04-20:40:19.636.693 [mindspore/core/utils/file_utils.cc:253] GetRealPath] Get realpath failed, path[/tmp/ipykernel_272366/3428476077.py]\n",
      "[ERROR] CORE(272366,7f4009669740,python):2024-07-04-20:40:19.636.751 [mindspore/core/utils/file_utils.cc:253] GetRealPath] Get realpath failed, path[/tmp/ipykernel_272366/3428476077.py]\n",
      "[ERROR] CORE(272366,7f4009669740,python):2024-07-04-20:40:19.636.769 [mindspore/core/utils/file_utils.cc:253] GetRealPath] Get realpath failed, path[/tmp/ipykernel_272366/3428476077.py]\n",
      "[ERROR] CORE(272366,7f4009669740,python):2024-07-04-20:40:19.637.437 [mindspore/core/utils/file_utils.cc:253] GetRealPath] Get realpath failed, path[/tmp/ipykernel_272366/3428476077.py]\n",
      "[ERROR] CORE(272366,7f4009669740,python):2024-07-04-20:40:19.637.474 [mindspore/core/utils/file_utils.cc:253] GetRealPath] Get realpath failed, path[/tmp/ipykernel_272366/3428476077.py]\n",
      "[ERROR] CORE(272366,7f4009669740,python):2024-07-04-20:40:19.638.097 [mindspore/core/utils/file_utils.cc:253] GetRealPath] Get realpath failed, path[/tmp/ipykernel_272366/3428476077.py]\n",
      "[ERROR] CORE(272366,7f4009669740,python):2024-07-04-20:40:19.638.139 [mindspore/core/utils/file_utils.cc:253] GetRealPath] Get realpath failed, path[/tmp/ipykernel_272366/3428476077.py]\n",
      "[ERROR] CORE(272366,7f4009669740,python):2024-07-04-20:40:19.638.159 [mindspore/core/utils/file_utils.cc:253] GetRealPath] Get realpath failed, path[/tmp/ipykernel_272366/3428476077.py]\n",
      "[ERROR] CORE(272366,7f4009669740,python):2024-07-04-20:40:19.638.176 [mindspore/core/utils/file_utils.cc:253] GetRealPath] Get realpath failed, path[/tmp/ipykernel_272366/1339986826.py]\n",
      "[ERROR] CORE(272366,7f4009669740,python):2024-07-04-20:40:19.638.233 [mindspore/core/utils/file_utils.cc:253] GetRealPath] Get realpath failed, path[/tmp/ipykernel_272366/3428476077.py]\n",
      "[ERROR] CORE(272366,7f4009669740,python):2024-07-04-20:40:19.648.947 [mindspore/core/utils/file_utils.cc:253] GetRealPath] Get realpath failed, path[/tmp/ipykernel_272366/1339986826.py]\n",
      "[ERROR] CORE(272366,7f4009669740,python):2024-07-04-20:40:19.651.216 [mindspore/core/utils/file_utils.cc:253] GetRealPath] Get realpath failed, path[/tmp/ipykernel_272366/1339986826.py]\n",
      "[ERROR] CORE(272366,7f4009669740,python):2024-07-04-20:40:19.653.541 [mindspore/core/utils/file_utils.cc:253] GetRealPath] Get realpath failed, path[/tmp/ipykernel_272366/1339986826.py]\n"
     ]
    },
    {
     "name": "stdout",
     "output_type": "stream",
     "text": [
      "weight=\n",
      "(1024,  192,    1)\n",
      "150\n"
     ]
    },
    {
     "name": "stderr",
     "output_type": "stream",
     "text": [
      "[ERROR] CORE(272366,7f4009669740,python):2024-07-04-20:40:20.375.353 [mindspore/core/utils/file_utils.cc:253] GetRealPath] Get realpath failed, path[/tmp/ipykernel_272366/1339986826.py]\n",
      "[ERROR] CORE(272366,7f4009669740,python):2024-07-04-20:40:20.376.366 [mindspore/core/utils/file_utils.cc:253] GetRealPath] Get realpath failed, path[/tmp/ipykernel_272366/1339986826.py]\n",
      "[ERROR] CORE(272366,7f4009669740,python):2024-07-04-20:40:20.379.879 [mindspore/core/utils/file_utils.cc:253] GetRealPath] Get realpath failed, path[/tmp/ipykernel_272366/1339986826.py]\n",
      "[ERROR] CORE(272366,7f4009669740,python):2024-07-04-20:40:21.589.567 [mindspore/core/utils/file_utils.cc:253] GetRealPath] Get realpath failed, path[/tmp/ipykernel_272366/3428476077.py]\n",
      "[ERROR] CORE(272366,7f4009669740,python):2024-07-04-20:40:21.589.629 [mindspore/core/utils/file_utils.cc:253] GetRealPath] Get realpath failed, path[/tmp/ipykernel_272366/3428476077.py]\n",
      "[ERROR] CORE(272366,7f4009669740,python):2024-07-04-20:40:21.589.649 [mindspore/core/utils/file_utils.cc:253] GetRealPath] Get realpath failed, path[/tmp/ipykernel_272366/3428476077.py]\n",
      "[ERROR] CORE(272366,7f4009669740,python):2024-07-04-20:40:21.590.338 [mindspore/core/utils/file_utils.cc:253] GetRealPath] Get realpath failed, path[/tmp/ipykernel_272366/3428476077.py]\n",
      "[ERROR] CORE(272366,7f4009669740,python):2024-07-04-20:40:21.590.387 [mindspore/core/utils/file_utils.cc:253] GetRealPath] Get realpath failed, path[/tmp/ipykernel_272366/3428476077.py]\n",
      "[ERROR] CORE(272366,7f4009669740,python):2024-07-04-20:40:21.591.008 [mindspore/core/utils/file_utils.cc:253] GetRealPath] Get realpath failed, path[/tmp/ipykernel_272366/3428476077.py]\n",
      "[ERROR] CORE(272366,7f4009669740,python):2024-07-04-20:40:21.591.065 [mindspore/core/utils/file_utils.cc:253] GetRealPath] Get realpath failed, path[/tmp/ipykernel_272366/3428476077.py]\n",
      "[ERROR] CORE(272366,7f4009669740,python):2024-07-04-20:40:21.591.086 [mindspore/core/utils/file_utils.cc:253] GetRealPath] Get realpath failed, path[/tmp/ipykernel_272366/3428476077.py]\n",
      "[ERROR] CORE(272366,7f4009669740,python):2024-07-04-20:40:21.591.104 [mindspore/core/utils/file_utils.cc:253] GetRealPath] Get realpath failed, path[/tmp/ipykernel_272366/1339986826.py]\n",
      "[ERROR] CORE(272366,7f4009669740,python):2024-07-04-20:40:21.591.166 [mindspore/core/utils/file_utils.cc:253] GetRealPath] Get realpath failed, path[/tmp/ipykernel_272366/3428476077.py]\n",
      "[ERROR] CORE(272366,7f4009669740,python):2024-07-04-20:40:21.601.984 [mindspore/core/utils/file_utils.cc:253] GetRealPath] Get realpath failed, path[/tmp/ipykernel_272366/1339986826.py]\n",
      "[ERROR] CORE(272366,7f4009669740,python):2024-07-04-20:40:21.607.727 [mindspore/core/utils/file_utils.cc:253] GetRealPath] Get realpath failed, path[/tmp/ipykernel_272366/1339986826.py]\n",
      "[ERROR] CORE(272366,7f4009669740,python):2024-07-04-20:40:21.608.938 [mindspore/core/utils/file_utils.cc:253] GetRealPath] Get realpath failed, path[/tmp/ipykernel_272366/1339986826.py]\n"
     ]
    },
    {
     "name": "stdout",
     "output_type": "stream",
     "text": [
      "weight=\n",
      "(1024,  192,    1)\n",
      "151\n"
     ]
    },
    {
     "name": "stderr",
     "output_type": "stream",
     "text": [
      "[ERROR] CORE(272366,7f4009669740,python):2024-07-04-20:40:22.346.441 [mindspore/core/utils/file_utils.cc:253] GetRealPath] Get realpath failed, path[/tmp/ipykernel_272366/1339986826.py]\n",
      "[ERROR] CORE(272366,7f4009669740,python):2024-07-04-20:40:22.347.730 [mindspore/core/utils/file_utils.cc:253] GetRealPath] Get realpath failed, path[/tmp/ipykernel_272366/1339986826.py]\n",
      "[ERROR] CORE(272366,7f4009669740,python):2024-07-04-20:40:22.351.247 [mindspore/core/utils/file_utils.cc:253] GetRealPath] Get realpath failed, path[/tmp/ipykernel_272366/1339986826.py]\n",
      "[ERROR] CORE(272366,7f4009669740,python):2024-07-04-20:40:23.554.812 [mindspore/core/utils/file_utils.cc:253] GetRealPath] Get realpath failed, path[/tmp/ipykernel_272366/3428476077.py]\n",
      "[ERROR] CORE(272366,7f4009669740,python):2024-07-04-20:40:23.554.885 [mindspore/core/utils/file_utils.cc:253] GetRealPath] Get realpath failed, path[/tmp/ipykernel_272366/3428476077.py]\n",
      "[ERROR] CORE(272366,7f4009669740,python):2024-07-04-20:40:23.554.904 [mindspore/core/utils/file_utils.cc:253] GetRealPath] Get realpath failed, path[/tmp/ipykernel_272366/3428476077.py]\n",
      "[ERROR] CORE(272366,7f4009669740,python):2024-07-04-20:40:23.555.558 [mindspore/core/utils/file_utils.cc:253] GetRealPath] Get realpath failed, path[/tmp/ipykernel_272366/3428476077.py]\n",
      "[ERROR] CORE(272366,7f4009669740,python):2024-07-04-20:40:23.555.598 [mindspore/core/utils/file_utils.cc:253] GetRealPath] Get realpath failed, path[/tmp/ipykernel_272366/3428476077.py]\n",
      "[ERROR] CORE(272366,7f4009669740,python):2024-07-04-20:40:23.556.224 [mindspore/core/utils/file_utils.cc:253] GetRealPath] Get realpath failed, path[/tmp/ipykernel_272366/3428476077.py]\n",
      "[ERROR] CORE(272366,7f4009669740,python):2024-07-04-20:40:23.556.266 [mindspore/core/utils/file_utils.cc:253] GetRealPath] Get realpath failed, path[/tmp/ipykernel_272366/3428476077.py]\n",
      "[ERROR] CORE(272366,7f4009669740,python):2024-07-04-20:40:23.556.285 [mindspore/core/utils/file_utils.cc:253] GetRealPath] Get realpath failed, path[/tmp/ipykernel_272366/3428476077.py]\n",
      "[ERROR] CORE(272366,7f4009669740,python):2024-07-04-20:40:23.556.302 [mindspore/core/utils/file_utils.cc:253] GetRealPath] Get realpath failed, path[/tmp/ipykernel_272366/1339986826.py]\n",
      "[ERROR] CORE(272366,7f4009669740,python):2024-07-04-20:40:23.556.369 [mindspore/core/utils/file_utils.cc:253] GetRealPath] Get realpath failed, path[/tmp/ipykernel_272366/3428476077.py]\n",
      "[ERROR] CORE(272366,7f4009669740,python):2024-07-04-20:40:23.566.516 [mindspore/core/utils/file_utils.cc:253] GetRealPath] Get realpath failed, path[/tmp/ipykernel_272366/1339986826.py]\n",
      "[ERROR] CORE(272366,7f4009669740,python):2024-07-04-20:40:23.568.947 [mindspore/core/utils/file_utils.cc:253] GetRealPath] Get realpath failed, path[/tmp/ipykernel_272366/1339986826.py]\n",
      "[ERROR] CORE(272366,7f4009669740,python):2024-07-04-20:40:23.572.298 [mindspore/core/utils/file_utils.cc:253] GetRealPath] Get realpath failed, path[/tmp/ipykernel_272366/1339986826.py]\n"
     ]
    },
    {
     "name": "stdout",
     "output_type": "stream",
     "text": [
      "weight=\n",
      "(1024,  192,    1)\n",
      "152\n"
     ]
    },
    {
     "name": "stderr",
     "output_type": "stream",
     "text": [
      "[ERROR] CORE(272366,7f4009669740,python):2024-07-04-20:40:24.314.173 [mindspore/core/utils/file_utils.cc:253] GetRealPath] Get realpath failed, path[/tmp/ipykernel_272366/1339986826.py]\n",
      "[ERROR] CORE(272366,7f4009669740,python):2024-07-04-20:40:24.315.234 [mindspore/core/utils/file_utils.cc:253] GetRealPath] Get realpath failed, path[/tmp/ipykernel_272366/1339986826.py]\n",
      "[ERROR] CORE(272366,7f4009669740,python):2024-07-04-20:40:24.318.803 [mindspore/core/utils/file_utils.cc:253] GetRealPath] Get realpath failed, path[/tmp/ipykernel_272366/1339986826.py]\n",
      "[ERROR] CORE(272366,7f4009669740,python):2024-07-04-20:40:25.524.674 [mindspore/core/utils/file_utils.cc:253] GetRealPath] Get realpath failed, path[/tmp/ipykernel_272366/3428476077.py]\n",
      "[ERROR] CORE(272366,7f4009669740,python):2024-07-04-20:40:25.524.735 [mindspore/core/utils/file_utils.cc:253] GetRealPath] Get realpath failed, path[/tmp/ipykernel_272366/3428476077.py]\n",
      "[ERROR] CORE(272366,7f4009669740,python):2024-07-04-20:40:25.524.756 [mindspore/core/utils/file_utils.cc:253] GetRealPath] Get realpath failed, path[/tmp/ipykernel_272366/3428476077.py]\n",
      "[ERROR] CORE(272366,7f4009669740,python):2024-07-04-20:40:25.525.437 [mindspore/core/utils/file_utils.cc:253] GetRealPath] Get realpath failed, path[/tmp/ipykernel_272366/3428476077.py]\n",
      "[ERROR] CORE(272366,7f4009669740,python):2024-07-04-20:40:25.525.476 [mindspore/core/utils/file_utils.cc:253] GetRealPath] Get realpath failed, path[/tmp/ipykernel_272366/3428476077.py]\n",
      "[ERROR] CORE(272366,7f4009669740,python):2024-07-04-20:40:25.526.108 [mindspore/core/utils/file_utils.cc:253] GetRealPath] Get realpath failed, path[/tmp/ipykernel_272366/3428476077.py]\n",
      "[ERROR] CORE(272366,7f4009669740,python):2024-07-04-20:40:25.526.151 [mindspore/core/utils/file_utils.cc:253] GetRealPath] Get realpath failed, path[/tmp/ipykernel_272366/3428476077.py]\n",
      "[ERROR] CORE(272366,7f4009669740,python):2024-07-04-20:40:25.526.169 [mindspore/core/utils/file_utils.cc:253] GetRealPath] Get realpath failed, path[/tmp/ipykernel_272366/3428476077.py]\n",
      "[ERROR] CORE(272366,7f4009669740,python):2024-07-04-20:40:25.526.186 [mindspore/core/utils/file_utils.cc:253] GetRealPath] Get realpath failed, path[/tmp/ipykernel_272366/1339986826.py]\n",
      "[ERROR] CORE(272366,7f4009669740,python):2024-07-04-20:40:25.526.244 [mindspore/core/utils/file_utils.cc:253] GetRealPath] Get realpath failed, path[/tmp/ipykernel_272366/3428476077.py]\n",
      "[ERROR] CORE(272366,7f4009669740,python):2024-07-04-20:40:25.537.609 [mindspore/core/utils/file_utils.cc:253] GetRealPath] Get realpath failed, path[/tmp/ipykernel_272366/1339986826.py]\n",
      "[ERROR] CORE(272366,7f4009669740,python):2024-07-04-20:40:25.538.732 [mindspore/core/utils/file_utils.cc:253] GetRealPath] Get realpath failed, path[/tmp/ipykernel_272366/1339986826.py]\n",
      "[ERROR] CORE(272366,7f4009669740,python):2024-07-04-20:40:25.543.415 [mindspore/core/utils/file_utils.cc:253] GetRealPath] Get realpath failed, path[/tmp/ipykernel_272366/1339986826.py]\n"
     ]
    },
    {
     "name": "stdout",
     "output_type": "stream",
     "text": [
      "weight=\n",
      "(1024,  192,    1)\n",
      "153\n"
     ]
    },
    {
     "name": "stderr",
     "output_type": "stream",
     "text": [
      "[ERROR] CORE(272366,7f4009669740,python):2024-07-04-20:40:26.259.583 [mindspore/core/utils/file_utils.cc:253] GetRealPath] Get realpath failed, path[/tmp/ipykernel_272366/1339986826.py]\n",
      "[ERROR] CORE(272366,7f4009669740,python):2024-07-04-20:40:26.260.671 [mindspore/core/utils/file_utils.cc:253] GetRealPath] Get realpath failed, path[/tmp/ipykernel_272366/1339986826.py]\n",
      "[ERROR] CORE(272366,7f4009669740,python):2024-07-04-20:40:26.264.343 [mindspore/core/utils/file_utils.cc:253] GetRealPath] Get realpath failed, path[/tmp/ipykernel_272366/1339986826.py]\n",
      "[ERROR] CORE(272366,7f4009669740,python):2024-07-04-20:40:27.458.085 [mindspore/core/utils/file_utils.cc:253] GetRealPath] Get realpath failed, path[/tmp/ipykernel_272366/3428476077.py]\n",
      "[ERROR] CORE(272366,7f4009669740,python):2024-07-04-20:40:27.458.147 [mindspore/core/utils/file_utils.cc:253] GetRealPath] Get realpath failed, path[/tmp/ipykernel_272366/3428476077.py]\n",
      "[ERROR] CORE(272366,7f4009669740,python):2024-07-04-20:40:27.458.168 [mindspore/core/utils/file_utils.cc:253] GetRealPath] Get realpath failed, path[/tmp/ipykernel_272366/3428476077.py]\n",
      "[ERROR] CORE(272366,7f4009669740,python):2024-07-04-20:40:27.458.791 [mindspore/core/utils/file_utils.cc:253] GetRealPath] Get realpath failed, path[/tmp/ipykernel_272366/3428476077.py]\n",
      "[ERROR] CORE(272366,7f4009669740,python):2024-07-04-20:40:27.458.827 [mindspore/core/utils/file_utils.cc:253] GetRealPath] Get realpath failed, path[/tmp/ipykernel_272366/3428476077.py]\n",
      "[ERROR] CORE(272366,7f4009669740,python):2024-07-04-20:40:27.459.465 [mindspore/core/utils/file_utils.cc:253] GetRealPath] Get realpath failed, path[/tmp/ipykernel_272366/3428476077.py]\n",
      "[ERROR] CORE(272366,7f4009669740,python):2024-07-04-20:40:27.459.507 [mindspore/core/utils/file_utils.cc:253] GetRealPath] Get realpath failed, path[/tmp/ipykernel_272366/3428476077.py]\n",
      "[ERROR] CORE(272366,7f4009669740,python):2024-07-04-20:40:27.459.526 [mindspore/core/utils/file_utils.cc:253] GetRealPath] Get realpath failed, path[/tmp/ipykernel_272366/3428476077.py]\n",
      "[ERROR] CORE(272366,7f4009669740,python):2024-07-04-20:40:27.459.542 [mindspore/core/utils/file_utils.cc:253] GetRealPath] Get realpath failed, path[/tmp/ipykernel_272366/1339986826.py]\n",
      "[ERROR] CORE(272366,7f4009669740,python):2024-07-04-20:40:27.459.600 [mindspore/core/utils/file_utils.cc:253] GetRealPath] Get realpath failed, path[/tmp/ipykernel_272366/3428476077.py]\n",
      "[ERROR] CORE(272366,7f4009669740,python):2024-07-04-20:40:27.472.522 [mindspore/core/utils/file_utils.cc:253] GetRealPath] Get realpath failed, path[/tmp/ipykernel_272366/1339986826.py]\n",
      "[ERROR] CORE(272366,7f4009669740,python):2024-07-04-20:40:27.476.416 [mindspore/core/utils/file_utils.cc:253] GetRealPath] Get realpath failed, path[/tmp/ipykernel_272366/1339986826.py]\n",
      "[ERROR] CORE(272366,7f4009669740,python):2024-07-04-20:40:27.476.442 [mindspore/core/utils/file_utils.cc:253] GetRealPath] Get realpath failed, path[/tmp/ipykernel_272366/1339986826.py]\n"
     ]
    },
    {
     "name": "stdout",
     "output_type": "stream",
     "text": [
      "weight=\n",
      "(1024,  192,    1)\n",
      "154\n"
     ]
    },
    {
     "name": "stderr",
     "output_type": "stream",
     "text": [
      "[ERROR] CORE(272366,7f4009669740,python):2024-07-04-20:40:28.188.979 [mindspore/core/utils/file_utils.cc:253] GetRealPath] Get realpath failed, path[/tmp/ipykernel_272366/1339986826.py]\n",
      "[ERROR] CORE(272366,7f4009669740,python):2024-07-04-20:40:28.190.008 [mindspore/core/utils/file_utils.cc:253] GetRealPath] Get realpath failed, path[/tmp/ipykernel_272366/1339986826.py]\n",
      "[ERROR] CORE(272366,7f4009669740,python):2024-07-04-20:40:28.193.751 [mindspore/core/utils/file_utils.cc:253] GetRealPath] Get realpath failed, path[/tmp/ipykernel_272366/1339986826.py]\n",
      "[ERROR] CORE(272366,7f4009669740,python):2024-07-04-20:40:29.425.555 [mindspore/core/utils/file_utils.cc:253] GetRealPath] Get realpath failed, path[/tmp/ipykernel_272366/3428476077.py]\n",
      "[ERROR] CORE(272366,7f4009669740,python):2024-07-04-20:40:29.425.613 [mindspore/core/utils/file_utils.cc:253] GetRealPath] Get realpath failed, path[/tmp/ipykernel_272366/3428476077.py]\n",
      "[ERROR] CORE(272366,7f4009669740,python):2024-07-04-20:40:29.425.633 [mindspore/core/utils/file_utils.cc:253] GetRealPath] Get realpath failed, path[/tmp/ipykernel_272366/3428476077.py]\n",
      "[ERROR] CORE(272366,7f4009669740,python):2024-07-04-20:40:29.426.319 [mindspore/core/utils/file_utils.cc:253] GetRealPath] Get realpath failed, path[/tmp/ipykernel_272366/3428476077.py]\n",
      "[ERROR] CORE(272366,7f4009669740,python):2024-07-04-20:40:29.426.359 [mindspore/core/utils/file_utils.cc:253] GetRealPath] Get realpath failed, path[/tmp/ipykernel_272366/3428476077.py]\n",
      "[ERROR] CORE(272366,7f4009669740,python):2024-07-04-20:40:29.426.964 [mindspore/core/utils/file_utils.cc:253] GetRealPath] Get realpath failed, path[/tmp/ipykernel_272366/3428476077.py]\n",
      "[ERROR] CORE(272366,7f4009669740,python):2024-07-04-20:40:29.427.007 [mindspore/core/utils/file_utils.cc:253] GetRealPath] Get realpath failed, path[/tmp/ipykernel_272366/3428476077.py]\n",
      "[ERROR] CORE(272366,7f4009669740,python):2024-07-04-20:40:29.427.027 [mindspore/core/utils/file_utils.cc:253] GetRealPath] Get realpath failed, path[/tmp/ipykernel_272366/3428476077.py]\n",
      "[ERROR] CORE(272366,7f4009669740,python):2024-07-04-20:40:29.427.058 [mindspore/core/utils/file_utils.cc:253] GetRealPath] Get realpath failed, path[/tmp/ipykernel_272366/1339986826.py]\n",
      "[ERROR] CORE(272366,7f4009669740,python):2024-07-04-20:40:29.427.121 [mindspore/core/utils/file_utils.cc:253] GetRealPath] Get realpath failed, path[/tmp/ipykernel_272366/3428476077.py]\n",
      "[ERROR] CORE(272366,7f4009669740,python):2024-07-04-20:40:29.437.890 [mindspore/core/utils/file_utils.cc:253] GetRealPath] Get realpath failed, path[/tmp/ipykernel_272366/1339986826.py]\n",
      "[ERROR] CORE(272366,7f4009669740,python):2024-07-04-20:40:29.440.498 [mindspore/core/utils/file_utils.cc:253] GetRealPath] Get realpath failed, path[/tmp/ipykernel_272366/1339986826.py]\n",
      "[ERROR] CORE(272366,7f4009669740,python):2024-07-04-20:40:29.441.743 [mindspore/core/utils/file_utils.cc:253] GetRealPath] Get realpath failed, path[/tmp/ipykernel_272366/1339986826.py]\n"
     ]
    },
    {
     "name": "stdout",
     "output_type": "stream",
     "text": [
      "weight=\n",
      "(1024,  192,    1)\n",
      "155\n"
     ]
    },
    {
     "name": "stderr",
     "output_type": "stream",
     "text": [
      "[ERROR] CORE(272366,7f4009669740,python):2024-07-04-20:40:30.170.825 [mindspore/core/utils/file_utils.cc:253] GetRealPath] Get realpath failed, path[/tmp/ipykernel_272366/1339986826.py]\n",
      "[ERROR] CORE(272366,7f4009669740,python):2024-07-04-20:40:30.171.883 [mindspore/core/utils/file_utils.cc:253] GetRealPath] Get realpath failed, path[/tmp/ipykernel_272366/1339986826.py]\n",
      "[ERROR] CORE(272366,7f4009669740,python):2024-07-04-20:40:30.175.477 [mindspore/core/utils/file_utils.cc:253] GetRealPath] Get realpath failed, path[/tmp/ipykernel_272366/1339986826.py]\n",
      "[ERROR] CORE(272366,7f4009669740,python):2024-07-04-20:40:31.511.539 [mindspore/core/utils/file_utils.cc:253] GetRealPath] Get realpath failed, path[/tmp/ipykernel_272366/3428476077.py]\n",
      "[ERROR] CORE(272366,7f4009669740,python):2024-07-04-20:40:31.511.613 [mindspore/core/utils/file_utils.cc:253] GetRealPath] Get realpath failed, path[/tmp/ipykernel_272366/3428476077.py]\n",
      "[ERROR] CORE(272366,7f4009669740,python):2024-07-04-20:40:31.511.635 [mindspore/core/utils/file_utils.cc:253] GetRealPath] Get realpath failed, path[/tmp/ipykernel_272366/3428476077.py]\n",
      "[ERROR] CORE(272366,7f4009669740,python):2024-07-04-20:40:31.512.310 [mindspore/core/utils/file_utils.cc:253] GetRealPath] Get realpath failed, path[/tmp/ipykernel_272366/3428476077.py]\n",
      "[ERROR] CORE(272366,7f4009669740,python):2024-07-04-20:40:31.512.349 [mindspore/core/utils/file_utils.cc:253] GetRealPath] Get realpath failed, path[/tmp/ipykernel_272366/3428476077.py]\n",
      "[ERROR] CORE(272366,7f4009669740,python):2024-07-04-20:40:31.512.964 [mindspore/core/utils/file_utils.cc:253] GetRealPath] Get realpath failed, path[/tmp/ipykernel_272366/3428476077.py]\n",
      "[ERROR] CORE(272366,7f4009669740,python):2024-07-04-20:40:31.513.007 [mindspore/core/utils/file_utils.cc:253] GetRealPath] Get realpath failed, path[/tmp/ipykernel_272366/3428476077.py]\n",
      "[ERROR] CORE(272366,7f4009669740,python):2024-07-04-20:40:31.513.025 [mindspore/core/utils/file_utils.cc:253] GetRealPath] Get realpath failed, path[/tmp/ipykernel_272366/3428476077.py]\n",
      "[ERROR] CORE(272366,7f4009669740,python):2024-07-04-20:40:31.513.042 [mindspore/core/utils/file_utils.cc:253] GetRealPath] Get realpath failed, path[/tmp/ipykernel_272366/1339986826.py]\n",
      "[ERROR] CORE(272366,7f4009669740,python):2024-07-04-20:40:31.513.129 [mindspore/core/utils/file_utils.cc:253] GetRealPath] Get realpath failed, path[/tmp/ipykernel_272366/3428476077.py]\n",
      "[ERROR] CORE(272366,7f4009669740,python):2024-07-04-20:40:31.524.732 [mindspore/core/utils/file_utils.cc:253] GetRealPath] Get realpath failed, path[/tmp/ipykernel_272366/1339986826.py]\n",
      "[ERROR] CORE(272366,7f4009669740,python):2024-07-04-20:40:31.527.032 [mindspore/core/utils/file_utils.cc:253] GetRealPath] Get realpath failed, path[/tmp/ipykernel_272366/1339986826.py]\n",
      "[ERROR] CORE(272366,7f4009669740,python):2024-07-04-20:40:31.528.160 [mindspore/core/utils/file_utils.cc:253] GetRealPath] Get realpath failed, path[/tmp/ipykernel_272366/1339986826.py]\n"
     ]
    },
    {
     "name": "stdout",
     "output_type": "stream",
     "text": [
      "weight=\n",
      "(1024,  192,    1)\n",
      "156\n"
     ]
    },
    {
     "name": "stderr",
     "output_type": "stream",
     "text": [
      "[ERROR] CORE(272366,7f4009669740,python):2024-07-04-20:40:32.255.000 [mindspore/core/utils/file_utils.cc:253] GetRealPath] Get realpath failed, path[/tmp/ipykernel_272366/1339986826.py]\n",
      "[ERROR] CORE(272366,7f4009669740,python):2024-07-04-20:40:32.256.038 [mindspore/core/utils/file_utils.cc:253] GetRealPath] Get realpath failed, path[/tmp/ipykernel_272366/1339986826.py]\n",
      "[ERROR] CORE(272366,7f4009669740,python):2024-07-04-20:40:32.259.706 [mindspore/core/utils/file_utils.cc:253] GetRealPath] Get realpath failed, path[/tmp/ipykernel_272366/1339986826.py]\n",
      "[ERROR] CORE(272366,7f4009669740,python):2024-07-04-20:40:33.444.192 [mindspore/core/utils/file_utils.cc:253] GetRealPath] Get realpath failed, path[/tmp/ipykernel_272366/3428476077.py]\n",
      "[ERROR] CORE(272366,7f4009669740,python):2024-07-04-20:40:33.444.274 [mindspore/core/utils/file_utils.cc:253] GetRealPath] Get realpath failed, path[/tmp/ipykernel_272366/3428476077.py]\n",
      "[ERROR] CORE(272366,7f4009669740,python):2024-07-04-20:40:33.444.305 [mindspore/core/utils/file_utils.cc:253] GetRealPath] Get realpath failed, path[/tmp/ipykernel_272366/3428476077.py]\n",
      "[ERROR] CORE(272366,7f4009669740,python):2024-07-04-20:40:33.445.329 [mindspore/core/utils/file_utils.cc:253] GetRealPath] Get realpath failed, path[/tmp/ipykernel_272366/3428476077.py]\n",
      "[ERROR] CORE(272366,7f4009669740,python):2024-07-04-20:40:33.445.396 [mindspore/core/utils/file_utils.cc:253] GetRealPath] Get realpath failed, path[/tmp/ipykernel_272366/3428476077.py]\n",
      "[ERROR] CORE(272366,7f4009669740,python):2024-07-04-20:40:33.446.424 [mindspore/core/utils/file_utils.cc:253] GetRealPath] Get realpath failed, path[/tmp/ipykernel_272366/3428476077.py]\n",
      "[ERROR] CORE(272366,7f4009669740,python):2024-07-04-20:40:33.446.499 [mindspore/core/utils/file_utils.cc:253] GetRealPath] Get realpath failed, path[/tmp/ipykernel_272366/3428476077.py]\n",
      "[ERROR] CORE(272366,7f4009669740,python):2024-07-04-20:40:33.446.533 [mindspore/core/utils/file_utils.cc:253] GetRealPath] Get realpath failed, path[/tmp/ipykernel_272366/3428476077.py]\n",
      "[ERROR] CORE(272366,7f4009669740,python):2024-07-04-20:40:33.446.563 [mindspore/core/utils/file_utils.cc:253] GetRealPath] Get realpath failed, path[/tmp/ipykernel_272366/1339986826.py]\n",
      "[ERROR] CORE(272366,7f4009669740,python):2024-07-04-20:40:33.446.666 [mindspore/core/utils/file_utils.cc:253] GetRealPath] Get realpath failed, path[/tmp/ipykernel_272366/3428476077.py]\n",
      "[ERROR] CORE(272366,7f4009669740,python):2024-07-04-20:40:33.459.003 [mindspore/core/utils/file_utils.cc:253] GetRealPath] Get realpath failed, path[/tmp/ipykernel_272366/1339986826.py]\n",
      "[ERROR] CORE(272366,7f4009669740,python):2024-07-04-20:40:33.459.022 [mindspore/core/utils/file_utils.cc:253] GetRealPath] Get realpath failed, path[/tmp/ipykernel_272366/1339986826.py]\n",
      "[ERROR] CORE(272366,7f4009669740,python):2024-07-04-20:40:33.460.232 [mindspore/core/utils/file_utils.cc:253] GetRealPath] Get realpath failed, path[/tmp/ipykernel_272366/1339986826.py]\n"
     ]
    },
    {
     "name": "stdout",
     "output_type": "stream",
     "text": [
      "weight=\n",
      "(1024,  192,    1)\n",
      "157\n"
     ]
    },
    {
     "name": "stderr",
     "output_type": "stream",
     "text": [
      "[ERROR] CORE(272366,7f4009669740,python):2024-07-04-20:40:34.186.898 [mindspore/core/utils/file_utils.cc:253] GetRealPath] Get realpath failed, path[/tmp/ipykernel_272366/1339986826.py]\n",
      "[ERROR] CORE(272366,7f4009669740,python):2024-07-04-20:40:34.187.919 [mindspore/core/utils/file_utils.cc:253] GetRealPath] Get realpath failed, path[/tmp/ipykernel_272366/1339986826.py]\n",
      "[ERROR] CORE(272366,7f4009669740,python):2024-07-04-20:40:34.191.536 [mindspore/core/utils/file_utils.cc:253] GetRealPath] Get realpath failed, path[/tmp/ipykernel_272366/1339986826.py]\n",
      "[ERROR] CORE(272366,7f4009669740,python):2024-07-04-20:40:35.374.455 [mindspore/core/utils/file_utils.cc:253] GetRealPath] Get realpath failed, path[/tmp/ipykernel_272366/3428476077.py]\n",
      "[ERROR] CORE(272366,7f4009669740,python):2024-07-04-20:40:35.374.519 [mindspore/core/utils/file_utils.cc:253] GetRealPath] Get realpath failed, path[/tmp/ipykernel_272366/3428476077.py]\n",
      "[ERROR] CORE(272366,7f4009669740,python):2024-07-04-20:40:35.374.540 [mindspore/core/utils/file_utils.cc:253] GetRealPath] Get realpath failed, path[/tmp/ipykernel_272366/3428476077.py]\n",
      "[ERROR] CORE(272366,7f4009669740,python):2024-07-04-20:40:35.375.253 [mindspore/core/utils/file_utils.cc:253] GetRealPath] Get realpath failed, path[/tmp/ipykernel_272366/3428476077.py]\n",
      "[ERROR] CORE(272366,7f4009669740,python):2024-07-04-20:40:35.375.295 [mindspore/core/utils/file_utils.cc:253] GetRealPath] Get realpath failed, path[/tmp/ipykernel_272366/3428476077.py]\n",
      "[ERROR] CORE(272366,7f4009669740,python):2024-07-04-20:40:35.375.921 [mindspore/core/utils/file_utils.cc:253] GetRealPath] Get realpath failed, path[/tmp/ipykernel_272366/3428476077.py]\n",
      "[ERROR] CORE(272366,7f4009669740,python):2024-07-04-20:40:35.375.966 [mindspore/core/utils/file_utils.cc:253] GetRealPath] Get realpath failed, path[/tmp/ipykernel_272366/3428476077.py]\n",
      "[ERROR] CORE(272366,7f4009669740,python):2024-07-04-20:40:35.375.987 [mindspore/core/utils/file_utils.cc:253] GetRealPath] Get realpath failed, path[/tmp/ipykernel_272366/3428476077.py]\n",
      "[ERROR] CORE(272366,7f4009669740,python):2024-07-04-20:40:35.376.004 [mindspore/core/utils/file_utils.cc:253] GetRealPath] Get realpath failed, path[/tmp/ipykernel_272366/1339986826.py]\n",
      "[ERROR] CORE(272366,7f4009669740,python):2024-07-04-20:40:35.376.087 [mindspore/core/utils/file_utils.cc:253] GetRealPath] Get realpath failed, path[/tmp/ipykernel_272366/3428476077.py]\n",
      "[ERROR] CORE(272366,7f4009669740,python):2024-07-04-20:40:35.386.467 [mindspore/core/utils/file_utils.cc:253] GetRealPath] Get realpath failed, path[/tmp/ipykernel_272366/1339986826.py]\n",
      "[ERROR] CORE(272366,7f4009669740,python):2024-07-04-20:40:35.389.209 [mindspore/core/utils/file_utils.cc:253] GetRealPath] Get realpath failed, path[/tmp/ipykernel_272366/1339986826.py]\n",
      "[ERROR] CORE(272366,7f4009669740,python):2024-07-04-20:40:35.390.286 [mindspore/core/utils/file_utils.cc:253] GetRealPath] Get realpath failed, path[/tmp/ipykernel_272366/1339986826.py]\n"
     ]
    },
    {
     "name": "stdout",
     "output_type": "stream",
     "text": [
      "weight=\n",
      "(1024,  192,    1)\n",
      "158\n"
     ]
    },
    {
     "name": "stderr",
     "output_type": "stream",
     "text": [
      "[ERROR] CORE(272366,7f4009669740,python):2024-07-04-20:40:36.109.895 [mindspore/core/utils/file_utils.cc:253] GetRealPath] Get realpath failed, path[/tmp/ipykernel_272366/1339986826.py]\n",
      "[ERROR] CORE(272366,7f4009669740,python):2024-07-04-20:40:36.110.946 [mindspore/core/utils/file_utils.cc:253] GetRealPath] Get realpath failed, path[/tmp/ipykernel_272366/1339986826.py]\n",
      "[ERROR] CORE(272366,7f4009669740,python):2024-07-04-20:40:36.114.601 [mindspore/core/utils/file_utils.cc:253] GetRealPath] Get realpath failed, path[/tmp/ipykernel_272366/1339986826.py]\n",
      "[ERROR] CORE(272366,7f4009669740,python):2024-07-04-20:40:37.322.653 [mindspore/core/utils/file_utils.cc:253] GetRealPath] Get realpath failed, path[/tmp/ipykernel_272366/3428476077.py]\n",
      "[ERROR] CORE(272366,7f4009669740,python):2024-07-04-20:40:37.322.712 [mindspore/core/utils/file_utils.cc:253] GetRealPath] Get realpath failed, path[/tmp/ipykernel_272366/3428476077.py]\n",
      "[ERROR] CORE(272366,7f4009669740,python):2024-07-04-20:40:37.322.731 [mindspore/core/utils/file_utils.cc:253] GetRealPath] Get realpath failed, path[/tmp/ipykernel_272366/3428476077.py]\n",
      "[ERROR] CORE(272366,7f4009669740,python):2024-07-04-20:40:37.323.403 [mindspore/core/utils/file_utils.cc:253] GetRealPath] Get realpath failed, path[/tmp/ipykernel_272366/3428476077.py]\n",
      "[ERROR] CORE(272366,7f4009669740,python):2024-07-04-20:40:37.323.454 [mindspore/core/utils/file_utils.cc:253] GetRealPath] Get realpath failed, path[/tmp/ipykernel_272366/3428476077.py]\n",
      "[ERROR] CORE(272366,7f4009669740,python):2024-07-04-20:40:37.324.082 [mindspore/core/utils/file_utils.cc:253] GetRealPath] Get realpath failed, path[/tmp/ipykernel_272366/3428476077.py]\n",
      "[ERROR] CORE(272366,7f4009669740,python):2024-07-04-20:40:37.324.125 [mindspore/core/utils/file_utils.cc:253] GetRealPath] Get realpath failed, path[/tmp/ipykernel_272366/3428476077.py]\n",
      "[ERROR] CORE(272366,7f4009669740,python):2024-07-04-20:40:37.324.144 [mindspore/core/utils/file_utils.cc:253] GetRealPath] Get realpath failed, path[/tmp/ipykernel_272366/3428476077.py]\n",
      "[ERROR] CORE(272366,7f4009669740,python):2024-07-04-20:40:37.324.161 [mindspore/core/utils/file_utils.cc:253] GetRealPath] Get realpath failed, path[/tmp/ipykernel_272366/1339986826.py]\n",
      "[ERROR] CORE(272366,7f4009669740,python):2024-07-04-20:40:37.324.218 [mindspore/core/utils/file_utils.cc:253] GetRealPath] Get realpath failed, path[/tmp/ipykernel_272366/3428476077.py]\n",
      "[ERROR] CORE(272366,7f4009669740,python):2024-07-04-20:40:37.333.780 [mindspore/core/utils/file_utils.cc:253] GetRealPath] Get realpath failed, path[/tmp/ipykernel_272366/1339986826.py]\n",
      "[ERROR] CORE(272366,7f4009669740,python):2024-07-04-20:40:37.338.410 [mindspore/core/utils/file_utils.cc:253] GetRealPath] Get realpath failed, path[/tmp/ipykernel_272366/1339986826.py]\n",
      "[ERROR] CORE(272366,7f4009669740,python):2024-07-04-20:40:37.339.607 [mindspore/core/utils/file_utils.cc:253] GetRealPath] Get realpath failed, path[/tmp/ipykernel_272366/1339986826.py]\n"
     ]
    },
    {
     "name": "stdout",
     "output_type": "stream",
     "text": [
      "weight=\n",
      "(1024,  192,    1)\n",
      "159\n"
     ]
    },
    {
     "name": "stderr",
     "output_type": "stream",
     "text": [
      "[ERROR] CORE(272366,7f4009669740,python):2024-07-04-20:40:38.048.582 [mindspore/core/utils/file_utils.cc:253] GetRealPath] Get realpath failed, path[/tmp/ipykernel_272366/1339986826.py]\n",
      "[ERROR] CORE(272366,7f4009669740,python):2024-07-04-20:40:38.049.651 [mindspore/core/utils/file_utils.cc:253] GetRealPath] Get realpath failed, path[/tmp/ipykernel_272366/1339986826.py]\n",
      "[ERROR] CORE(272366,7f4009669740,python):2024-07-04-20:40:38.053.444 [mindspore/core/utils/file_utils.cc:253] GetRealPath] Get realpath failed, path[/tmp/ipykernel_272366/1339986826.py]\n",
      "[ERROR] CORE(272366,7f4009669740,python):2024-07-04-20:40:39.287.757 [mindspore/core/utils/file_utils.cc:253] GetRealPath] Get realpath failed, path[/tmp/ipykernel_272366/3428476077.py]\n",
      "[ERROR] CORE(272366,7f4009669740,python):2024-07-04-20:40:39.287.828 [mindspore/core/utils/file_utils.cc:253] GetRealPath] Get realpath failed, path[/tmp/ipykernel_272366/3428476077.py]\n",
      "[ERROR] CORE(272366,7f4009669740,python):2024-07-04-20:40:39.287.848 [mindspore/core/utils/file_utils.cc:253] GetRealPath] Get realpath failed, path[/tmp/ipykernel_272366/3428476077.py]\n",
      "[ERROR] CORE(272366,7f4009669740,python):2024-07-04-20:40:39.288.511 [mindspore/core/utils/file_utils.cc:253] GetRealPath] Get realpath failed, path[/tmp/ipykernel_272366/3428476077.py]\n",
      "[ERROR] CORE(272366,7f4009669740,python):2024-07-04-20:40:39.288.551 [mindspore/core/utils/file_utils.cc:253] GetRealPath] Get realpath failed, path[/tmp/ipykernel_272366/3428476077.py]\n",
      "[ERROR] CORE(272366,7f4009669740,python):2024-07-04-20:40:39.289.190 [mindspore/core/utils/file_utils.cc:253] GetRealPath] Get realpath failed, path[/tmp/ipykernel_272366/3428476077.py]\n",
      "[ERROR] CORE(272366,7f4009669740,python):2024-07-04-20:40:39.289.233 [mindspore/core/utils/file_utils.cc:253] GetRealPath] Get realpath failed, path[/tmp/ipykernel_272366/3428476077.py]\n",
      "[ERROR] CORE(272366,7f4009669740,python):2024-07-04-20:40:39.289.263 [mindspore/core/utils/file_utils.cc:253] GetRealPath] Get realpath failed, path[/tmp/ipykernel_272366/3428476077.py]\n",
      "[ERROR] CORE(272366,7f4009669740,python):2024-07-04-20:40:39.289.285 [mindspore/core/utils/file_utils.cc:253] GetRealPath] Get realpath failed, path[/tmp/ipykernel_272366/1339986826.py]\n",
      "[ERROR] CORE(272366,7f4009669740,python):2024-07-04-20:40:39.289.345 [mindspore/core/utils/file_utils.cc:253] GetRealPath] Get realpath failed, path[/tmp/ipykernel_272366/3428476077.py]\n",
      "[ERROR] CORE(272366,7f4009669740,python):2024-07-04-20:40:39.299.205 [mindspore/core/utils/file_utils.cc:253] GetRealPath] Get realpath failed, path[/tmp/ipykernel_272366/1339986826.py]\n",
      "[ERROR] CORE(272366,7f4009669740,python):2024-07-04-20:40:39.302.848 [mindspore/core/utils/file_utils.cc:253] GetRealPath] Get realpath failed, path[/tmp/ipykernel_272366/1339986826.py]\n",
      "[ERROR] CORE(272366,7f4009669740,python):2024-07-04-20:40:39.302.864 [mindspore/core/utils/file_utils.cc:253] GetRealPath] Get realpath failed, path[/tmp/ipykernel_272366/1339986826.py]\n"
     ]
    },
    {
     "name": "stdout",
     "output_type": "stream",
     "text": [
      "weight=\n",
      "(1024,  192,    1)\n",
      "160\n"
     ]
    },
    {
     "name": "stderr",
     "output_type": "stream",
     "text": [
      "[ERROR] CORE(272366,7f4009669740,python):2024-07-04-20:40:40.027.849 [mindspore/core/utils/file_utils.cc:253] GetRealPath] Get realpath failed, path[/tmp/ipykernel_272366/1339986826.py]\n",
      "[ERROR] CORE(272366,7f4009669740,python):2024-07-04-20:40:40.028.914 [mindspore/core/utils/file_utils.cc:253] GetRealPath] Get realpath failed, path[/tmp/ipykernel_272366/1339986826.py]\n",
      "[ERROR] CORE(272366,7f4009669740,python):2024-07-04-20:40:40.032.595 [mindspore/core/utils/file_utils.cc:253] GetRealPath] Get realpath failed, path[/tmp/ipykernel_272366/1339986826.py]\n",
      "[ERROR] CORE(272366,7f4009669740,python):2024-07-04-20:40:41.238.204 [mindspore/core/utils/file_utils.cc:253] GetRealPath] Get realpath failed, path[/tmp/ipykernel_272366/3428476077.py]\n",
      "[ERROR] CORE(272366,7f4009669740,python):2024-07-04-20:40:41.238.266 [mindspore/core/utils/file_utils.cc:253] GetRealPath] Get realpath failed, path[/tmp/ipykernel_272366/3428476077.py]\n",
      "[ERROR] CORE(272366,7f4009669740,python):2024-07-04-20:40:41.238.285 [mindspore/core/utils/file_utils.cc:253] GetRealPath] Get realpath failed, path[/tmp/ipykernel_272366/3428476077.py]\n",
      "[ERROR] CORE(272366,7f4009669740,python):2024-07-04-20:40:41.238.917 [mindspore/core/utils/file_utils.cc:253] GetRealPath] Get realpath failed, path[/tmp/ipykernel_272366/3428476077.py]\n",
      "[ERROR] CORE(272366,7f4009669740,python):2024-07-04-20:40:41.238.953 [mindspore/core/utils/file_utils.cc:253] GetRealPath] Get realpath failed, path[/tmp/ipykernel_272366/3428476077.py]\n",
      "[ERROR] CORE(272366,7f4009669740,python):2024-07-04-20:40:41.239.595 [mindspore/core/utils/file_utils.cc:253] GetRealPath] Get realpath failed, path[/tmp/ipykernel_272366/3428476077.py]\n",
      "[ERROR] CORE(272366,7f4009669740,python):2024-07-04-20:40:41.239.637 [mindspore/core/utils/file_utils.cc:253] GetRealPath] Get realpath failed, path[/tmp/ipykernel_272366/3428476077.py]\n",
      "[ERROR] CORE(272366,7f4009669740,python):2024-07-04-20:40:41.239.666 [mindspore/core/utils/file_utils.cc:253] GetRealPath] Get realpath failed, path[/tmp/ipykernel_272366/3428476077.py]\n",
      "[ERROR] CORE(272366,7f4009669740,python):2024-07-04-20:40:41.239.694 [mindspore/core/utils/file_utils.cc:253] GetRealPath] Get realpath failed, path[/tmp/ipykernel_272366/1339986826.py]\n",
      "[ERROR] CORE(272366,7f4009669740,python):2024-07-04-20:40:41.239.755 [mindspore/core/utils/file_utils.cc:253] GetRealPath] Get realpath failed, path[/tmp/ipykernel_272366/3428476077.py]\n",
      "[ERROR] CORE(272366,7f4009669740,python):2024-07-04-20:40:41.249.718 [mindspore/core/utils/file_utils.cc:253] GetRealPath] Get realpath failed, path[/tmp/ipykernel_272366/1339986826.py]\n",
      "[ERROR] CORE(272366,7f4009669740,python):2024-07-04-20:40:41.253.124 [mindspore/core/utils/file_utils.cc:253] GetRealPath] Get realpath failed, path[/tmp/ipykernel_272366/1339986826.py]\n",
      "[ERROR] CORE(272366,7f4009669740,python):2024-07-04-20:40:41.255.403 [mindspore/core/utils/file_utils.cc:253] GetRealPath] Get realpath failed, path[/tmp/ipykernel_272366/1339986826.py]\n"
     ]
    },
    {
     "name": "stdout",
     "output_type": "stream",
     "text": [
      "weight=\n",
      "(1024,  192,    1)\n",
      "161\n"
     ]
    },
    {
     "name": "stderr",
     "output_type": "stream",
     "text": [
      "[ERROR] CORE(272366,7f4009669740,python):2024-07-04-20:40:41.968.820 [mindspore/core/utils/file_utils.cc:253] GetRealPath] Get realpath failed, path[/tmp/ipykernel_272366/1339986826.py]\n",
      "[ERROR] CORE(272366,7f4009669740,python):2024-07-04-20:40:41.969.885 [mindspore/core/utils/file_utils.cc:253] GetRealPath] Get realpath failed, path[/tmp/ipykernel_272366/1339986826.py]\n",
      "[ERROR] CORE(272366,7f4009669740,python):2024-07-04-20:40:41.973.550 [mindspore/core/utils/file_utils.cc:253] GetRealPath] Get realpath failed, path[/tmp/ipykernel_272366/1339986826.py]\n",
      "[ERROR] CORE(272366,7f4009669740,python):2024-07-04-20:40:43.157.830 [mindspore/core/utils/file_utils.cc:253] GetRealPath] Get realpath failed, path[/tmp/ipykernel_272366/3428476077.py]\n",
      "[ERROR] CORE(272366,7f4009669740,python):2024-07-04-20:40:43.157.890 [mindspore/core/utils/file_utils.cc:253] GetRealPath] Get realpath failed, path[/tmp/ipykernel_272366/3428476077.py]\n",
      "[ERROR] CORE(272366,7f4009669740,python):2024-07-04-20:40:43.157.911 [mindspore/core/utils/file_utils.cc:253] GetRealPath] Get realpath failed, path[/tmp/ipykernel_272366/3428476077.py]\n",
      "[ERROR] CORE(272366,7f4009669740,python):2024-07-04-20:40:43.158.584 [mindspore/core/utils/file_utils.cc:253] GetRealPath] Get realpath failed, path[/tmp/ipykernel_272366/3428476077.py]\n",
      "[ERROR] CORE(272366,7f4009669740,python):2024-07-04-20:40:43.158.622 [mindspore/core/utils/file_utils.cc:253] GetRealPath] Get realpath failed, path[/tmp/ipykernel_272366/3428476077.py]\n",
      "[ERROR] CORE(272366,7f4009669740,python):2024-07-04-20:40:43.159.245 [mindspore/core/utils/file_utils.cc:253] GetRealPath] Get realpath failed, path[/tmp/ipykernel_272366/3428476077.py]\n",
      "[ERROR] CORE(272366,7f4009669740,python):2024-07-04-20:40:43.159.286 [mindspore/core/utils/file_utils.cc:253] GetRealPath] Get realpath failed, path[/tmp/ipykernel_272366/3428476077.py]\n",
      "[ERROR] CORE(272366,7f4009669740,python):2024-07-04-20:40:43.159.305 [mindspore/core/utils/file_utils.cc:253] GetRealPath] Get realpath failed, path[/tmp/ipykernel_272366/3428476077.py]\n",
      "[ERROR] CORE(272366,7f4009669740,python):2024-07-04-20:40:43.159.322 [mindspore/core/utils/file_utils.cc:253] GetRealPath] Get realpath failed, path[/tmp/ipykernel_272366/1339986826.py]\n",
      "[ERROR] CORE(272366,7f4009669740,python):2024-07-04-20:40:43.159.380 [mindspore/core/utils/file_utils.cc:253] GetRealPath] Get realpath failed, path[/tmp/ipykernel_272366/3428476077.py]\n",
      "[ERROR] CORE(272366,7f4009669740,python):2024-07-04-20:40:43.169.121 [mindspore/core/utils/file_utils.cc:253] GetRealPath] Get realpath failed, path[/tmp/ipykernel_272366/1339986826.py]\n",
      "[ERROR] CORE(272366,7f4009669740,python):2024-07-04-20:40:43.169.328 [mindspore/core/utils/file_utils.cc:253] GetRealPath] Get realpath failed, path[/tmp/ipykernel_272366/1339986826.py]\n",
      "[ERROR] CORE(272366,7f4009669740,python):2024-07-04-20:40:43.172.090 [mindspore/core/utils/file_utils.cc:253] GetRealPath] Get realpath failed, path[/tmp/ipykernel_272366/1339986826.py]\n"
     ]
    },
    {
     "name": "stdout",
     "output_type": "stream",
     "text": [
      "weight=\n",
      "(1024,  192,    1)\n",
      "162\n"
     ]
    },
    {
     "name": "stderr",
     "output_type": "stream",
     "text": [
      "[ERROR] CORE(272366,7f4009669740,python):2024-07-04-20:40:43.895.574 [mindspore/core/utils/file_utils.cc:253] GetRealPath] Get realpath failed, path[/tmp/ipykernel_272366/1339986826.py]\n",
      "[ERROR] CORE(272366,7f4009669740,python):2024-07-04-20:40:43.896.592 [mindspore/core/utils/file_utils.cc:253] GetRealPath] Get realpath failed, path[/tmp/ipykernel_272366/1339986826.py]\n",
      "[ERROR] CORE(272366,7f4009669740,python):2024-07-04-20:40:43.900.148 [mindspore/core/utils/file_utils.cc:253] GetRealPath] Get realpath failed, path[/tmp/ipykernel_272366/1339986826.py]\n",
      "[ERROR] CORE(272366,7f4009669740,python):2024-07-04-20:40:45.053.896 [mindspore/core/utils/file_utils.cc:253] GetRealPath] Get realpath failed, path[/tmp/ipykernel_272366/3428476077.py]\n",
      "[ERROR] CORE(272366,7f4009669740,python):2024-07-04-20:40:45.053.956 [mindspore/core/utils/file_utils.cc:253] GetRealPath] Get realpath failed, path[/tmp/ipykernel_272366/3428476077.py]\n",
      "[ERROR] CORE(272366,7f4009669740,python):2024-07-04-20:40:45.053.977 [mindspore/core/utils/file_utils.cc:253] GetRealPath] Get realpath failed, path[/tmp/ipykernel_272366/3428476077.py]\n",
      "[ERROR] CORE(272366,7f4009669740,python):2024-07-04-20:40:45.054.654 [mindspore/core/utils/file_utils.cc:253] GetRealPath] Get realpath failed, path[/tmp/ipykernel_272366/3428476077.py]\n",
      "[ERROR] CORE(272366,7f4009669740,python):2024-07-04-20:40:45.054.696 [mindspore/core/utils/file_utils.cc:253] GetRealPath] Get realpath failed, path[/tmp/ipykernel_272366/3428476077.py]\n",
      "[ERROR] CORE(272366,7f4009669740,python):2024-07-04-20:40:45.055.349 [mindspore/core/utils/file_utils.cc:253] GetRealPath] Get realpath failed, path[/tmp/ipykernel_272366/3428476077.py]\n",
      "[ERROR] CORE(272366,7f4009669740,python):2024-07-04-20:40:45.055.392 [mindspore/core/utils/file_utils.cc:253] GetRealPath] Get realpath failed, path[/tmp/ipykernel_272366/3428476077.py]\n",
      "[ERROR] CORE(272366,7f4009669740,python):2024-07-04-20:40:45.055.411 [mindspore/core/utils/file_utils.cc:253] GetRealPath] Get realpath failed, path[/tmp/ipykernel_272366/3428476077.py]\n",
      "[ERROR] CORE(272366,7f4009669740,python):2024-07-04-20:40:45.055.427 [mindspore/core/utils/file_utils.cc:253] GetRealPath] Get realpath failed, path[/tmp/ipykernel_272366/1339986826.py]\n",
      "[ERROR] CORE(272366,7f4009669740,python):2024-07-04-20:40:45.055.496 [mindspore/core/utils/file_utils.cc:253] GetRealPath] Get realpath failed, path[/tmp/ipykernel_272366/3428476077.py]\n",
      "[ERROR] CORE(272366,7f4009669740,python):2024-07-04-20:40:45.065.237 [mindspore/core/utils/file_utils.cc:253] GetRealPath] Get realpath failed, path[/tmp/ipykernel_272366/1339986826.py]\n",
      "[ERROR] CORE(272366,7f4009669740,python):2024-07-04-20:40:45.069.101 [mindspore/core/utils/file_utils.cc:253] GetRealPath] Get realpath failed, path[/tmp/ipykernel_272366/1339986826.py]\n",
      "[ERROR] CORE(272366,7f4009669740,python):2024-07-04-20:40:45.072.581 [mindspore/core/utils/file_utils.cc:253] GetRealPath] Get realpath failed, path[/tmp/ipykernel_272366/1339986826.py]\n"
     ]
    },
    {
     "name": "stdout",
     "output_type": "stream",
     "text": [
      "weight=\n",
      "(1024,  192,    1)\n",
      "163\n"
     ]
    },
    {
     "name": "stderr",
     "output_type": "stream",
     "text": [
      "[ERROR] CORE(272366,7f4009669740,python):2024-07-04-20:40:45.786.799 [mindspore/core/utils/file_utils.cc:253] GetRealPath] Get realpath failed, path[/tmp/ipykernel_272366/1339986826.py]\n",
      "[ERROR] CORE(272366,7f4009669740,python):2024-07-04-20:40:45.787.830 [mindspore/core/utils/file_utils.cc:253] GetRealPath] Get realpath failed, path[/tmp/ipykernel_272366/1339986826.py]\n",
      "[ERROR] CORE(272366,7f4009669740,python):2024-07-04-20:40:45.791.403 [mindspore/core/utils/file_utils.cc:253] GetRealPath] Get realpath failed, path[/tmp/ipykernel_272366/1339986826.py]\n",
      "[ERROR] CORE(272366,7f4009669740,python):2024-07-04-20:40:47.013.238 [mindspore/core/utils/file_utils.cc:253] GetRealPath] Get realpath failed, path[/tmp/ipykernel_272366/3428476077.py]\n",
      "[ERROR] CORE(272366,7f4009669740,python):2024-07-04-20:40:47.013.316 [mindspore/core/utils/file_utils.cc:253] GetRealPath] Get realpath failed, path[/tmp/ipykernel_272366/3428476077.py]\n",
      "[ERROR] CORE(272366,7f4009669740,python):2024-07-04-20:40:47.013.338 [mindspore/core/utils/file_utils.cc:253] GetRealPath] Get realpath failed, path[/tmp/ipykernel_272366/3428476077.py]\n",
      "[ERROR] CORE(272366,7f4009669740,python):2024-07-04-20:40:47.014.002 [mindspore/core/utils/file_utils.cc:253] GetRealPath] Get realpath failed, path[/tmp/ipykernel_272366/3428476077.py]\n",
      "[ERROR] CORE(272366,7f4009669740,python):2024-07-04-20:40:47.014.041 [mindspore/core/utils/file_utils.cc:253] GetRealPath] Get realpath failed, path[/tmp/ipykernel_272366/3428476077.py]\n",
      "[ERROR] CORE(272366,7f4009669740,python):2024-07-04-20:40:47.014.678 [mindspore/core/utils/file_utils.cc:253] GetRealPath] Get realpath failed, path[/tmp/ipykernel_272366/3428476077.py]\n",
      "[ERROR] CORE(272366,7f4009669740,python):2024-07-04-20:40:47.014.721 [mindspore/core/utils/file_utils.cc:253] GetRealPath] Get realpath failed, path[/tmp/ipykernel_272366/3428476077.py]\n",
      "[ERROR] CORE(272366,7f4009669740,python):2024-07-04-20:40:47.014.739 [mindspore/core/utils/file_utils.cc:253] GetRealPath] Get realpath failed, path[/tmp/ipykernel_272366/3428476077.py]\n",
      "[ERROR] CORE(272366,7f4009669740,python):2024-07-04-20:40:47.014.757 [mindspore/core/utils/file_utils.cc:253] GetRealPath] Get realpath failed, path[/tmp/ipykernel_272366/1339986826.py]\n",
      "[ERROR] CORE(272366,7f4009669740,python):2024-07-04-20:40:47.014.815 [mindspore/core/utils/file_utils.cc:253] GetRealPath] Get realpath failed, path[/tmp/ipykernel_272366/3428476077.py]\n",
      "[ERROR] CORE(272366,7f4009669740,python):2024-07-04-20:40:47.028.267 [mindspore/core/utils/file_utils.cc:253] GetRealPath] Get realpath failed, path[/tmp/ipykernel_272366/1339986826.py]\n",
      "[ERROR] CORE(272366,7f4009669740,python):2024-07-04-20:40:47.030.423 [mindspore/core/utils/file_utils.cc:253] GetRealPath] Get realpath failed, path[/tmp/ipykernel_272366/1339986826.py]\n",
      "[ERROR] CORE(272366,7f4009669740,python):2024-07-04-20:40:47.031.841 [mindspore/core/utils/file_utils.cc:253] GetRealPath] Get realpath failed, path[/tmp/ipykernel_272366/1339986826.py]\n"
     ]
    },
    {
     "name": "stdout",
     "output_type": "stream",
     "text": [
      "weight=\n",
      "(1024,  192,    1)\n",
      "164\n"
     ]
    },
    {
     "name": "stderr",
     "output_type": "stream",
     "text": [
      "[ERROR] CORE(272366,7f4009669740,python):2024-07-04-20:40:47.747.396 [mindspore/core/utils/file_utils.cc:253] GetRealPath] Get realpath failed, path[/tmp/ipykernel_272366/1339986826.py]\n",
      "[ERROR] CORE(272366,7f4009669740,python):2024-07-04-20:40:47.748.506 [mindspore/core/utils/file_utils.cc:253] GetRealPath] Get realpath failed, path[/tmp/ipykernel_272366/1339986826.py]\n",
      "[ERROR] CORE(272366,7f4009669740,python):2024-07-04-20:40:47.752.153 [mindspore/core/utils/file_utils.cc:253] GetRealPath] Get realpath failed, path[/tmp/ipykernel_272366/1339986826.py]\n",
      "[ERROR] CORE(272366,7f4009669740,python):2024-07-04-20:40:49.018.977 [mindspore/core/utils/file_utils.cc:253] GetRealPath] Get realpath failed, path[/tmp/ipykernel_272366/3428476077.py]\n",
      "[ERROR] CORE(272366,7f4009669740,python):2024-07-04-20:40:49.019.068 [mindspore/core/utils/file_utils.cc:253] GetRealPath] Get realpath failed, path[/tmp/ipykernel_272366/3428476077.py]\n",
      "[ERROR] CORE(272366,7f4009669740,python):2024-07-04-20:40:49.019.101 [mindspore/core/utils/file_utils.cc:253] GetRealPath] Get realpath failed, path[/tmp/ipykernel_272366/3428476077.py]\n",
      "[ERROR] CORE(272366,7f4009669740,python):2024-07-04-20:40:49.019.766 [mindspore/core/utils/file_utils.cc:253] GetRealPath] Get realpath failed, path[/tmp/ipykernel_272366/3428476077.py]\n",
      "[ERROR] CORE(272366,7f4009669740,python):2024-07-04-20:40:49.019.805 [mindspore/core/utils/file_utils.cc:253] GetRealPath] Get realpath failed, path[/tmp/ipykernel_272366/3428476077.py]\n",
      "[ERROR] CORE(272366,7f4009669740,python):2024-07-04-20:40:49.020.431 [mindspore/core/utils/file_utils.cc:253] GetRealPath] Get realpath failed, path[/tmp/ipykernel_272366/3428476077.py]\n",
      "[ERROR] CORE(272366,7f4009669740,python):2024-07-04-20:40:49.020.473 [mindspore/core/utils/file_utils.cc:253] GetRealPath] Get realpath failed, path[/tmp/ipykernel_272366/3428476077.py]\n",
      "[ERROR] CORE(272366,7f4009669740,python):2024-07-04-20:40:49.020.502 [mindspore/core/utils/file_utils.cc:253] GetRealPath] Get realpath failed, path[/tmp/ipykernel_272366/3428476077.py]\n",
      "[ERROR] CORE(272366,7f4009669740,python):2024-07-04-20:40:49.020.519 [mindspore/core/utils/file_utils.cc:253] GetRealPath] Get realpath failed, path[/tmp/ipykernel_272366/1339986826.py]\n",
      "[ERROR] CORE(272366,7f4009669740,python):2024-07-04-20:40:49.020.577 [mindspore/core/utils/file_utils.cc:253] GetRealPath] Get realpath failed, path[/tmp/ipykernel_272366/3428476077.py]\n",
      "[ERROR] CORE(272366,7f4009669740,python):2024-07-04-20:40:49.035.456 [mindspore/core/utils/file_utils.cc:253] GetRealPath] Get realpath failed, path[/tmp/ipykernel_272366/1339986826.py]\n",
      "[ERROR] CORE(272366,7f4009669740,python):2024-07-04-20:40:49.035.474 [mindspore/core/utils/file_utils.cc:253] GetRealPath] Get realpath failed, path[/tmp/ipykernel_272366/1339986826.py]\n",
      "[ERROR] CORE(272366,7f4009669740,python):2024-07-04-20:40:49.036.694 [mindspore/core/utils/file_utils.cc:253] GetRealPath] Get realpath failed, path[/tmp/ipykernel_272366/1339986826.py]\n"
     ]
    },
    {
     "name": "stdout",
     "output_type": "stream",
     "text": [
      "weight=\n",
      "(1024,  192,    1)\n",
      "165\n"
     ]
    },
    {
     "name": "stderr",
     "output_type": "stream",
     "text": [
      "[ERROR] CORE(272366,7f4009669740,python):2024-07-04-20:40:49.765.575 [mindspore/core/utils/file_utils.cc:253] GetRealPath] Get realpath failed, path[/tmp/ipykernel_272366/1339986826.py]\n",
      "[ERROR] CORE(272366,7f4009669740,python):2024-07-04-20:40:49.766.653 [mindspore/core/utils/file_utils.cc:253] GetRealPath] Get realpath failed, path[/tmp/ipykernel_272366/1339986826.py]\n",
      "[ERROR] CORE(272366,7f4009669740,python):2024-07-04-20:40:49.770.212 [mindspore/core/utils/file_utils.cc:253] GetRealPath] Get realpath failed, path[/tmp/ipykernel_272366/1339986826.py]\n"
     ]
    }
   ],
   "source": [
    "import mindspore as ms\n",
    "from mindspore import context\n",
    "from mindspore.train import Model\n",
    "from mindspore.train.callback import LossMonitor\n",
    "from mindspore.dataset import GeneratorDataset\n",
    "import numpy\n",
    "\n",
    "if __name__ == '__main__':\n",
    "    context.set_context(mode=context.GRAPH_MODE, device_target='GPU')\n",
    "    device = 'cuda'\n",
    "    \n",
    "    training_dataset = numpy.load('training_data.pkl', allow_pickle=True)\n",
    "    testing_dataset = numpy.load('testing_data.pkl', allow_pickle=True)\n",
    "    \n",
    "    model = NerfModel(hidden_dim=256)\n",
    "    model_optimizer = nn.Adam(model.trainable_params(), learning_rate=5e-4)\n",
    "    scheduler = nn.ExponentialDecayLR(5e-4, decay_rate=0.5, decay_steps=2)\n",
    "    data_loader = GeneratorDataset(training_dataset, column_names=[\"data\"], shuffle=True).batch(1024)\n",
    "    print(data_loader)\n",
    "    train(model, model_optimizer, scheduler, data_loader, nb_epochs=3, device=device,  nb_bins=192, H=400, W=400)\n",
    "    for img_index in range(10):\n",
    "        test(hn=2, hf=6, dataset=testing_dataset, img_index=img_index, nb_bins=192, H=400, W=400)"
   ]
  },
  {
   "cell_type": "code",
   "execution_count": null,
   "id": "8663e1ab-2fa5-4127-889e-63e75db74f11",
   "metadata": {},
   "outputs": [],
   "source": []
  }
 ],
 "metadata": {
  "kernelspec": {
   "display_name": "python-3.9.0",
   "language": "python",
   "name": "python-3.9.0"
  },
  "language_info": {
   "codemirror_mode": {
    "name": "ipython",
    "version": 3
   },
   "file_extension": ".py",
   "mimetype": "text/x-python",
   "name": "python",
   "nbconvert_exporter": "python",
   "pygments_lexer": "ipython3",
   "version": "3.9.0"
  }
 },
 "nbformat": 4,
 "nbformat_minor": 5
}
